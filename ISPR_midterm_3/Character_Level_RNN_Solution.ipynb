{
 "cells": [
  {
   "cell_type": "markdown",
   "metadata": {},
   "source": [
    "# Character-Level LSTM in PyTorch\n",
    "\n",
    "In this notebook, I'll construct a character-level LSTM with PyTorch. The network will train character by character on some text, then generate new text character by character. As an example, I will train on Anna Karenina. **This model will be able to generate new text based on the text from the book!**\n",
    "\n",
    "This network is based off of Andrej Karpathy's [post on RNNs](http://karpathy.github.io/2015/05/21/rnn-effectiveness/) and [implementation in Torch](https://github.com/karpathy/char-rnn). Below is the general architecture of the character-wise RNN.\n",
    "\n",
    "<img src=\"assets/charseq.jpeg\" width=\"500\">"
   ]
  },
  {
   "cell_type": "markdown",
   "metadata": {},
   "source": [
    "First let's load in our required resources for data loading and model creation."
   ]
  },
  {
   "cell_type": "code",
   "execution_count": 1,
   "metadata": {
    "collapsed": true
   },
   "outputs": [],
   "source": [
    "import numpy as np\n",
    "import torch\n",
    "from torch import nn\n",
    "import torch.nn.functional as F\n",
    "from tqdm import tqdm\n",
    "import matplotlib.pyplot as plt\n",
    "import pandas as pd"
   ]
  },
  {
   "cell_type": "markdown",
   "metadata": {},
   "source": [
    "## Load in Data\n",
    "\n"
   ]
  },
  {
   "cell_type": "code",
   "execution_count": 2,
   "metadata": {
    "collapsed": true
   },
   "outputs": [],
   "source": [
    "# isolating the review column and saving it to a text file\n",
    "data = pd.read_csv('./data/Airline_Reviews.csv', encoding='utf-8')\n",
    "data = data['Review']\n",
    "data.to_csv('./data/reviews.txt', index=False, header=False, sep='\\n')\n",
    "\n",
    "# open text file and read in data as `text`\n",
    "with open('data/reviews.txt', 'r') as f:\n",
    "    text = f.read()"
   ]
  },
  {
   "cell_type": "markdown",
   "metadata": {},
   "source": [
    "### Tokenization\n",
    "\n",
    "In the cells, below, I'm creating a couple **dictionaries** to convert the characters to and from integers. Encoding the characters as integers makes it easier to use as input in the network."
   ]
  },
  {
   "cell_type": "code",
   "execution_count": 3,
   "metadata": {
    "collapsed": true,
    "metadata": {}
   },
   "outputs": [],
   "source": [
    "# encode the text and map each character to an integer and vice versa\n",
    "\n",
    "# we create two dictionaries:\n",
    "# 1. int2char, which maps integers to characters\n",
    "# 2. char2int, which maps characters to unique integers\n",
    "chars = tuple(set(text))\n",
    "int2char = dict(enumerate(chars))\n",
    "char2int = {ch: ii for ii, ch in int2char.items()}\n",
    "\n",
    "# encode the text\n",
    "encoded = np.array([char2int[ch] for ch in text])"
   ]
  },
  {
   "cell_type": "markdown",
   "metadata": {},
   "source": [
    "And we can see those same characters from above, encoded as integers."
   ]
  },
  {
   "cell_type": "markdown",
   "metadata": {},
   "source": [
    "## Pre-processing the data\n",
    "\n",
    "As you can see in our char-RNN image above, our LSTM expects an input that is **one-hot encoded** meaning that each character is converted into an integer (via our created dictionary) and *then* converted into a column vector where only it's corresponding integer index will have the value of 1 and the rest of the vector will be filled with 0's. Since we're one-hot encoding the data, let's make a function to do that!\n"
   ]
  },
  {
   "cell_type": "code",
   "execution_count": 4,
   "metadata": {
    "collapsed": true,
    "metadata": {}
   },
   "outputs": [],
   "source": [
    "def one_hot_encode(arr, n_labels):\n",
    "    \n",
    "    # Initialize the the encoded array\n",
    "    one_hot = np.zeros((arr.size, n_labels), dtype=np.float32)\n",
    "    \n",
    "    # Fill the appropriate elements with ones\n",
    "    one_hot[np.arange(one_hot.shape[0]), arr.flatten()] = 1.\n",
    "    \n",
    "    # Finally reshape it to get back to the original array\n",
    "    one_hot = one_hot.reshape((*arr.shape, n_labels))\n",
    "    \n",
    "    return one_hot"
   ]
  },
  {
   "cell_type": "markdown",
   "metadata": {},
   "source": [
    "## Making training mini-batches\n",
    "\n",
    "\n",
    "To train on this data, we also want to create mini-batches for training. Remember that we want our batches to be multiple sequences of some desired number of sequence steps. \n",
    "\n",
    "In this example, we'll take the encoded characters (passed in as the `arr` parameter) and split them into multiple sequences, given by `batch_size`. Each of our sequences will be `seq_length` long.\n",
    "\n",
    "### Creating Batches\n",
    "\n",
    "**1. The first thing we need to do is discard some of the text so we only have completely full mini-batches. **\n",
    "\n",
    "Each batch contains $N \\times M$ characters, where $N$ is the batch size (the number of sequences in a batch) and $M$ is the seq_length or number of time steps in a sequence. Then, to get the total number of batches, $K$, that we can make from the array `arr`, you divide the length of `arr` by the number of characters per batch. Once you know the number of batches, you can get the total number of characters to keep from `arr`, $N * M * K$.\n",
    "\n",
    "**2. After that, we need to split `arr` into $N$ batches. ** \n",
    "\n",
    "You can do this using `arr.reshape(size)` where `size` is a tuple containing the dimensions sizes of the reshaped array. We know we want $N$ sequences in a batch, so let's make that the size of the first dimension. For the second dimension, you can use `-1` as a placeholder in the size, it'll fill up the array with the appropriate data for you. After this, you should have an array that is $N \\times (M * K)$.\n",
    "\n",
    "**3. Now that we have this array, we can iterate through it to get our mini-batches. **\n",
    "\n",
    "The idea is each batch is a $N \\times M$ window on the $N \\times (M * K)$ array. For each subsequent batch, the window moves over by `seq_length`. We also want to create both the input and target arrays. Remember that the targets are just the inputs shifted over by one character. The way I like to do this window is use `range` to take steps of size `n_steps` from $0$ to `arr.shape[1]`, the total number of tokens in each sequence. That way, the integers you get from `range` always point to the start of a batch, and each window is `seq_length` wide.\n"
   ]
  },
  {
   "cell_type": "code",
   "execution_count": 5,
   "metadata": {
    "collapsed": true,
    "metadata": {}
   },
   "outputs": [],
   "source": [
    "def get_batches(arr, batch_size, seq_length):\n",
    "    '''Create a generator that returns batches of size\n",
    "       batch_size x seq_length from arr.\n",
    "       \n",
    "       Arguments\n",
    "       ---------\n",
    "       arr: Array you want to make batches from\n",
    "       batch_size: Batch size, the number of sequences per batch\n",
    "       seq_length: Number of encoded chars in a sequence\n",
    "    '''\n",
    "    \n",
    "    batch_size_total = batch_size * seq_length\n",
    "    # total number of batches we can make\n",
    "    n_batches = len(arr)//batch_size_total\n",
    "    \n",
    "    # Keep only enough characters to make full batches\n",
    "    arr = arr[:n_batches * batch_size_total]\n",
    "    # Reshape into batch_size rows\n",
    "    arr = arr.reshape((batch_size, -1))\n",
    "    \n",
    "    # iterate through the array, one sequence at a time\n",
    "    for n in range(0, arr.shape[1], seq_length):\n",
    "        # The features\n",
    "        x = arr[:, n:n+seq_length]\n",
    "        # The targets, shifted by one\n",
    "        y = np.zeros_like(x)\n",
    "        try:\n",
    "            y[:, :-1], y[:, -1] = x[:, 1:], arr[:, n+seq_length]\n",
    "        except IndexError:\n",
    "            y[:, :-1], y[:, -1] = x[:, 1:], arr[:, 0]\n",
    "        yield x, y"
   ]
  },
  {
   "cell_type": "markdown",
   "metadata": {},
   "source": [
    "### Testing Implementation\n",
    "\n",
    "Now I'll make some data sets and we can check out what's going on as we batch data. Here, as an example, I'm going to use a batch size of 8 and 50 sequence steps."
   ]
  },
  {
   "cell_type": "markdown",
   "metadata": {},
   "source": [
    "The data is shifted over one step for `y`."
   ]
  },
  {
   "cell_type": "markdown",
   "metadata": {},
   "source": [
    "---\n",
    "## Defining the network with PyTorch"
   ]
  },
  {
   "cell_type": "markdown",
   "metadata": {},
   "source": [
    "### Model Structure\n",
    "\n",
    "In `__init__` the suggested structure is as follows:\n",
    "* Create and store the necessary dictionaries (this has been done for you)\n",
    "* Define an LSTM layer that takes as params: an input size (the number of characters), a hidden layer size `n_hidden`, a number of layers `n_layers`, a dropout probability `drop_prob`, and a batch_first boolean (True, since we are batching)\n",
    "* Define a dropout layer with `drop_prob`\n",
    "* Define a fully-connected layer with params: input size `n_hidden` and output size (the number of characters)\n",
    "* Finally, initialize the weights (again, this has been given)\n",
    "\n",
    "Note that some parameters have been named and given in the `__init__` function, and we use them and store them by doing something like `self.drop_prob = drop_prob`."
   ]
  },
  {
   "cell_type": "markdown",
   "metadata": {},
   "source": [
    "---\n",
    "### LSTM Inputs/Outputs\n",
    "\n",
    "You can create a basic [LSTM layer](https://pytorch.org/docs/stable/nn.html#lstm) as follows\n",
    "\n",
    "```python\n",
    "self.lstm = nn.LSTM(input_size, n_hidden, n_layers, \n",
    "                            dropout=drop_prob, batch_first=True)\n",
    "```\n",
    "\n",
    "where `input_size` is the number of characters this cell expects to see as sequential input, and `n_hidden` is the number of units in the hidden layers in the cell. And we can add dropout by adding a dropout parameter with a specified probability; this will automatically add dropout to the inputs or outputs. Finally, in the `forward` function, we can stack up the LSTM cells into layers using `.view`. With this, you pass in a list of cells and it will send the output of one cell into the next cell.\n",
    "\n",
    "We also need to create an initial hidden state of all zeros. This is done like so\n",
    "\n",
    "```python\n",
    "self.init_hidden()\n",
    "```"
   ]
  },
  {
   "cell_type": "code",
   "execution_count": 6,
   "metadata": {
    "metadata": {}
   },
   "outputs": [
    {
     "name": "stdout",
     "output_type": "stream",
     "text": [
      "Training on GPU!\n"
     ]
    }
   ],
   "source": [
    "# check if GPU is available\n",
    "train_on_gpu = torch.cuda.is_available()\n",
    "if(train_on_gpu):\n",
    "    print('Training on GPU!')\n",
    "else: \n",
    "    print('No GPU available, training on CPU; consider making n_epochs very small.')"
   ]
  },
  {
   "cell_type": "code",
   "execution_count": 13,
   "metadata": {
    "collapsed": true,
    "metadata": {}
   },
   "outputs": [],
   "source": [
    "class CharRNN(nn.Module):\n",
    "    \n",
    "    def __init__(self, tokens, n_hidden=256, n_layers=2,\n",
    "                               drop_prob=0.1, lr=0.001):\n",
    "        super().__init__()\n",
    "        self.drop_prob = drop_prob\n",
    "        self.n_layers = n_layers\n",
    "        self.n_hidden = n_hidden\n",
    "        self.lr = lr\n",
    "        self.save_path = \"./preTrained/\" + str(self.n_layers) + \"_\" + str(self.n_hidden) + \"_\" + str(self.drop_prob) + \".net\"\n",
    "\n",
    "        # creating character dictionaries\n",
    "        self.chars = tokens\n",
    "        self.int2char = dict(enumerate(self.chars))\n",
    "        self.char2int = {ch: ii for ii, ch in self.int2char.items()}\n",
    "        \n",
    "        ## TODO: define the LSTM\n",
    "        self.lstm = nn.LSTM(len(self.chars), n_hidden, n_layers, \n",
    "                            dropout=drop_prob, batch_first=True)\n",
    "        \n",
    "        ## TODO: define a dropout layer\n",
    "        self.dropout = nn.Dropout(drop_prob)\n",
    "        \n",
    "        ## TODO: define the final, fully-connected output layer\n",
    "        self.fc = nn.Linear(n_hidden, len(self.chars))\n",
    "      \n",
    "    \n",
    "    def forward(self, x, hidden):\n",
    "        ''' Forward pass through the network. \n",
    "            These inputs are x, and the hidden/cell state `hidden`. '''\n",
    "                \n",
    "        ## TODO: Get the outputs and the new hidden state from the lstm\n",
    "        r_output, hidden = self.lstm(x, hidden)\n",
    "        \n",
    "        ## TODO: pass through a dropout layer\n",
    "        out = self.dropout(r_output)\n",
    "        \n",
    "        # Stack up LSTM outputs using view\n",
    "        # you may need to use contiguous to reshape the output\n",
    "        out = out.contiguous().view(-1, self.n_hidden)\n",
    "        \n",
    "        ## TODO: put x through the fully-connected layer\n",
    "        out = self.fc(out)\n",
    "        \n",
    "        # return the final output and the hidden state\n",
    "        return out, hidden\n",
    "    \n",
    "    \n",
    "    def init_hidden(self, batch_size):\n",
    "        ''' Initializes hidden state '''\n",
    "        # Create two new tensors with sizes n_layers x batch_size x n_hidden,\n",
    "        # initialized to zero, for hidden state and cell state of LSTM\n",
    "        weight = next(self.parameters()).data\n",
    "        \n",
    "        if (train_on_gpu):\n",
    "            hidden = (weight.new(self.n_layers, batch_size, self.n_hidden).zero_().cuda(),\n",
    "                  weight.new(self.n_layers, batch_size, self.n_hidden).zero_().cuda())\n",
    "        else:\n",
    "            hidden = (weight.new(self.n_layers, batch_size, self.n_hidden).zero_(),\n",
    "                      weight.new(self.n_layers, batch_size, self.n_hidden).zero_())\n",
    "        \n",
    "        return hidden\n",
    "        "
   ]
  },
  {
   "cell_type": "markdown",
   "metadata": {},
   "source": [
    "## Time to train\n",
    "\n",
    "The train function gives us the ability to set the number of epochs, the learning rate, and other parameters.\n",
    "\n",
    "Below we're using an Adam optimizer and cross entropy loss since we are looking at character class scores as output. We calculate the loss and perform backpropagation, as usual!\n",
    "\n",
    "A couple of details about training: \n",
    ">* Within the batch loop, we detach the hidden state from its history; this time setting it equal to a new *tuple* variable because an LSTM has a hidden state that is a tuple of the hidden and cell states.\n",
    "* We use [`clip_grad_norm_`](https://pytorch.org/docs/stable/_modules/torch/nn/utils/clip_grad.html) to help prevent exploding gradients."
   ]
  },
  {
   "cell_type": "code",
   "execution_count": 15,
   "metadata": {
    "collapsed": true,
    "metadata": {}
   },
   "outputs": [],
   "source": [
    "def plot_loss(train, ax, val):\n",
    "    iterations = np.arange(len(train))\n",
    "    ax.set_ylabel(\"Loss\")\n",
    "    ax.set_title(\"Learning Curve\")\n",
    "    t_loss = ax.plot(iterations, train, color=\"black\", label = \"train loss\")\n",
    "    v_loss = ax.plot(iterations, val, color=\"red\",linestyle='--',label= \"val loss\")\n",
    "    ax.legend()\n",
    "\n",
    "# change the name, for saving multiple files\n",
    "def save(net):\n",
    "\n",
    "    checkpoint = {'n_hidden': net.n_hidden,\n",
    "                'n_layers': net.n_layers,\n",
    "                'drop_prob': net.drop_prob,\n",
    "                'state_dict': net.state_dict(),\n",
    "                'tokens': net.chars}\n",
    "\n",
    "    with open(net.save_path, 'wb') as f:\n",
    "        torch.save(checkpoint, f)\n",
    "\n",
    "# loads the model from a file\n",
    "def load(name):\n",
    "    with open(name, 'rb') as f:\n",
    "        checkpoint = torch.load(f)\n",
    "        \n",
    "    loaded = CharRNN(checkpoint['tokens'], n_hidden=checkpoint['n_hidden'], n_layers=checkpoint['n_layers'], drop_prob = checkpoint['drop_prob']\n",
    "    )\n",
    "    loaded.load_state_dict(checkpoint['state_dict'])\n",
    "    return loaded\n",
    "\n",
    "def train(net, data, epochs=10, batch_size=128, seq_length=100, lr=0.001, clip=5, val_frac=0.2, print_every=10):\n",
    "    ''' Training a network \n",
    "    \n",
    "        Arguments\n",
    "        ---------\n",
    "        \n",
    "        net: CharRNN network\n",
    "        data: text data to train the network\n",
    "        epochs: Number of epochs to train\n",
    "        batch_size: Number of mini-sequences per mini-batch, aka batch size\n",
    "        seq_length: Number of character steps per mini-batch\n",
    "        lr: learning rate\n",
    "        clip: gradient clipping\n",
    "        val_frac: Fraction of data to hold out for validation\n",
    "        print_every: Number of steps for printing training and validation loss\n",
    "    \n",
    "    '''\n",
    "    net.train()\n",
    "    \n",
    "    opt = torch.optim.Adam(net.parameters(), lr=lr)\n",
    "    criterion = nn.CrossEntropyLoss()\n",
    "    \n",
    "    # create training and validation data\n",
    "    val_idx = int(len(data)*(1-val_frac))\n",
    "    data, val_data = data[:val_idx], data[val_idx:]\n",
    "    \n",
    "    if(train_on_gpu):\n",
    "        net.cuda()\n",
    "    \n",
    "    counter = 0\n",
    "    loss_acc = 0\n",
    "    n_chars = len(net.chars)\n",
    "    total_val_losses = []\n",
    "    total_train_losses = []\n",
    "    for e in tqdm(range(epochs)):\n",
    "        # initialize hidden state\n",
    "        h = net.init_hidden(batch_size)\n",
    "        \n",
    "        for x, y in get_batches(data, batch_size, seq_length):\n",
    "            counter += 1\n",
    "            \n",
    "            # One-hot encode our data and make them Torch tensors\n",
    "            x = one_hot_encode(x, n_chars)\n",
    "            inputs, targets = torch.from_numpy(x), torch.from_numpy(y)\n",
    "            \n",
    "            if(train_on_gpu):\n",
    "                inputs, targets = inputs.cuda(), targets.cuda()\n",
    "\n",
    "            # Creating new variables for the hidden state, otherwise\n",
    "            # we'd backprop through the entire training history\n",
    "            h = tuple([each.data for each in h])\n",
    "\n",
    "            # zero accumulated gradients\n",
    "            net.zero_grad()\n",
    "            \n",
    "            # get the output from the model\n",
    "            output, h = net(inputs, h)\n",
    "            \n",
    "            # calculate the loss and perform backprop\n",
    "            loss = criterion(output, targets.view(batch_size*seq_length).long())\n",
    "            loss_acc += loss.item()\n",
    "            loss.backward()\n",
    "            # `clip_grad_norm` helps prevent the exploding gradient problem in RNNs / LSTMs.\n",
    "            nn.utils.clip_grad_norm_(net.parameters(), clip)\n",
    "            opt.step()\n",
    "            \n",
    "            # loss stats\n",
    "            if counter % print_every == 0:\n",
    "                # Get validation loss\n",
    "                val_h = net.init_hidden(batch_size)\n",
    "                val_losses = []\n",
    "                net.eval()\n",
    "                for x, y in get_batches(val_data, batch_size, seq_length):\n",
    "                    # One-hot encode our data and make them Torch tensors\n",
    "                    x = one_hot_encode(x, n_chars)\n",
    "                    x, y = torch.from_numpy(x), torch.from_numpy(y)\n",
    "                    \n",
    "                    # Creating new variables for the hidden state, otherwise\n",
    "                    # we'd backprop through the entire training history\n",
    "                    val_h = tuple([each.data for each in val_h])\n",
    "                    \n",
    "                    inputs, targets = x, y\n",
    "                    if(train_on_gpu):\n",
    "                        inputs, targets = inputs.cuda(), targets.cuda()\n",
    "\n",
    "                    output, val_h = net(inputs, val_h)\n",
    "                    val_loss = criterion(output, targets.view(batch_size*seq_length).long())\n",
    "                \n",
    "                    val_losses.append(val_loss.item())\n",
    "                \n",
    "                net.train() # reset to train mode after iterationg through validation data\n",
    "                \n",
    "                print(\"Epoch: {}/{}...\".format(e+1, epochs),\n",
    "                      \"Step: {}...\".format(counter),\n",
    "                      \"Loss: {:.4f}...\".format(loss.item()),\n",
    "                      \"Val Loss: {:.4f}\".format(np.mean(val_losses)))\n",
    "\n",
    "                total_val_losses.append(np.mean(val_losses))\n",
    "                total_train_losses.append(loss_acc / counter)\n",
    "    fig,axs = plt.subplots(1,1,figsize=(7,5))\n",
    "    plot_loss(total_train_losses, axs, total_val_losses)\n",
    "    np.save(\"./losses/CharRNN_air_reviews_train_\" + str(net.n_layers) + \"_\" + str(net.n_hidden) + \".npy\", np.array(total_train_losses))\n",
    "    np.save(\"./losses/CharRNN_air_reviews_val_\" + str(net.n_layers) + \"_\" + str(net.n_hidden) + \".npy\", np.array(total_val_losses))\n",
    "    save(net)\n"
   ]
  },
  {
   "cell_type": "code",
   "execution_count": 9,
   "metadata": {
    "metadata": {}
   },
   "outputs": [],
   "source": [
    "def predict(net, char, h=None, top_k=None):\n",
    "        ''' Given a character, predict the next character.\n",
    "            Returns the predicted character and the hidden state.\n",
    "        '''\n",
    "        \n",
    "        # tensor inputs\n",
    "        x = np.array([[net.char2int[char]]])\n",
    "        x = one_hot_encode(x, len(net.chars))\n",
    "        inputs = torch.from_numpy(x)\n",
    "        \n",
    "        if(train_on_gpu):\n",
    "            inputs = inputs.cuda()\n",
    "        \n",
    "        # detach hidden state from history\n",
    "        h = tuple([each.data for each in h])\n",
    "        # get the output of the model\n",
    "        out, h = net(inputs, h)\n",
    "\n",
    "        # get the character probabilities\n",
    "        p = F.softmax(out, dim=1).data\n",
    "        if(train_on_gpu):\n",
    "            p = p.cpu() # move to cpu\n",
    "        \n",
    "        # get top characters\n",
    "        if top_k is None:\n",
    "            top_ch = np.arange(len(net.chars))\n",
    "        else:\n",
    "            p, top_ch = p.topk(top_k)\n",
    "            top_ch = top_ch.numpy().squeeze()\n",
    "        \n",
    "        # select the likely next character with some element of randomness\n",
    "        p = p.numpy().squeeze()\n",
    "        char = np.random.choice(top_ch, p=p/p.sum())\n",
    "        \n",
    "        # return the encoded value of the predicted char and the hidden state\n",
    "        return net.int2char[char], h"
   ]
  },
  {
   "cell_type": "code",
   "execution_count": 10,
   "metadata": {
    "metadata": {}
   },
   "outputs": [],
   "source": [
    "def sample(net, size, prime='The', top_k=None):\n",
    "        \n",
    "    if(train_on_gpu):\n",
    "        net.cuda()\n",
    "    else:\n",
    "        net.cpu()\n",
    "    \n",
    "    net.eval() # eval mode\n",
    "    \n",
    "    # First off, run through the prime characters\n",
    "    chars = [ch for ch in prime]\n",
    "    h = net.init_hidden(1)\n",
    "    for ch in prime:\n",
    "        char, h = predict(net, ch, h, top_k=top_k)\n",
    "\n",
    "    chars.append(char)\n",
    "    \n",
    "    # Now pass in the previous character and get a new one\n",
    "    for ii in range(size):\n",
    "        char, h = predict(net, chars[-1], h, top_k=top_k)\n",
    "        chars.append(char)\n",
    "\n",
    "    return ''.join(chars)"
   ]
  },
  {
   "cell_type": "markdown",
   "metadata": {},
   "source": [
    "## Instantiating the model\n",
    "\n",
    "Now we can actually train the network. First we'll create the network itself, with some given hyperparameters. Then, define the mini-batches sizes, and start training!"
   ]
  },
  {
   "cell_type": "code",
   "execution_count": 14,
   "metadata": {
    "metadata": {}
   },
   "outputs": [
    {
     "name": "stdout",
     "output_type": "stream",
     "text": [
      "CharRNN(\n",
      "  (lstm): LSTM(474, 512, num_layers=2, batch_first=True)\n",
      "  (dropout): Dropout(p=0, inplace=False)\n",
      "  (fc): Linear(in_features=512, out_features=474, bias=True)\n",
      ")\n"
     ]
    }
   ],
   "source": [
    "# define and print the net\n",
    "n_hidden=512\n",
    "n_layers=2\n",
    "net = CharRNN(chars, n_hidden, n_layers, drop_prob = 0)\n",
    "print(net)"
   ]
  },
  {
   "cell_type": "code",
   "execution_count": 15,
   "metadata": {
    "metadata": {},
    "scrolled": true
   },
   "outputs": [
    {
     "name": "stderr",
     "output_type": "stream",
     "text": [
      "  0%|          | 0/10 [00:00<?, ?it/s]"
     ]
    },
    {
     "name": "stdout",
     "output_type": "stream",
     "text": [
      "Epoch: 1/10... Step: 100... Loss: 3.1141... Val Loss: 3.0864\n",
      "Epoch: 1/10... Step: 200... Loss: 3.0673... Val Loss: 3.0628\n",
      "Epoch: 1/10... Step: 300... Loss: 2.8159... Val Loss: 2.7921\n",
      "Epoch: 1/10... Step: 400... Loss: 2.6041... Val Loss: 2.5860\n",
      "Epoch: 1/10... Step: 500... Loss: 2.4318... Val Loss: 2.4643\n",
      "Epoch: 1/10... Step: 600... Loss: 2.3305... Val Loss: 2.3172\n",
      "Epoch: 1/10... Step: 700... Loss: 2.2065... Val Loss: 2.2004\n",
      "Epoch: 1/10... Step: 800... Loss: 2.1787... Val Loss: 2.1085\n",
      "Epoch: 1/10... Step: 900... Loss: 2.0395... Val Loss: 2.0627\n",
      "Epoch: 1/10... Step: 1000... Loss: 1.9839... Val Loss: 1.9690\n"
     ]
    },
    {
     "name": "stderr",
     "output_type": "stream",
     "text": [
      " 10%|█         | 1/10 [08:51<1:19:45, 531.68s/it]"
     ]
    },
    {
     "name": "stdout",
     "output_type": "stream",
     "text": [
      "Epoch: 2/10... Step: 1100... Loss: 1.9060... Val Loss: 1.9136\n",
      "Epoch: 2/10... Step: 1200... Loss: 1.8814... Val Loss: 1.8562\n",
      "Epoch: 2/10... Step: 1300... Loss: 1.7770... Val Loss: 1.8059\n",
      "Epoch: 2/10... Step: 1400... Loss: 1.7633... Val Loss: 1.7628\n",
      "Epoch: 2/10... Step: 1500... Loss: 1.7004... Val Loss: 1.7284\n",
      "Epoch: 2/10... Step: 1600... Loss: 1.6751... Val Loss: 1.6898\n",
      "Epoch: 2/10... Step: 1700... Loss: 1.6710... Val Loss: 1.6582\n",
      "Epoch: 2/10... Step: 1800... Loss: 1.5959... Val Loss: 1.6240\n",
      "Epoch: 2/10... Step: 1900... Loss: 1.6282... Val Loss: 1.5973\n",
      "Epoch: 2/10... Step: 2000... Loss: 1.5360... Val Loss: 1.5719\n"
     ]
    },
    {
     "name": "stderr",
     "output_type": "stream",
     "text": [
      " 20%|██        | 2/10 [19:25<1:18:52, 591.57s/it]"
     ]
    },
    {
     "name": "stdout",
     "output_type": "stream",
     "text": [
      "Epoch: 3/10... Step: 2100... Loss: 1.5568... Val Loss: 1.5510\n",
      "Epoch: 3/10... Step: 2200... Loss: 1.5136... Val Loss: 1.5287\n",
      "Epoch: 3/10... Step: 2300... Loss: 1.5167... Val Loss: 1.5114\n",
      "Epoch: 3/10... Step: 2400... Loss: 1.4874... Val Loss: 1.4906\n",
      "Epoch: 3/10... Step: 2500... Loss: 1.5080... Val Loss: 1.4757\n",
      "Epoch: 3/10... Step: 2600... Loss: 1.4404... Val Loss: 1.4586\n",
      "Epoch: 3/10... Step: 2700... Loss: 1.4527... Val Loss: 1.4491\n",
      "Epoch: 3/10... Step: 2800... Loss: 1.4404... Val Loss: 1.4296\n",
      "Epoch: 3/10... Step: 2900... Loss: 1.4530... Val Loss: 1.4231\n",
      "Epoch: 3/10... Step: 3000... Loss: 1.3783... Val Loss: 1.4091\n",
      "Epoch: 3/10... Step: 3100... Loss: 1.4320... Val Loss: 1.4011\n"
     ]
    },
    {
     "name": "stderr",
     "output_type": "stream",
     "text": [
      " 30%|███       | 3/10 [29:02<1:08:15, 585.13s/it]"
     ]
    },
    {
     "name": "stdout",
     "output_type": "stream",
     "text": [
      "Epoch: 4/10... Step: 3200... Loss: 1.3445... Val Loss: 1.3899\n",
      "Epoch: 4/10... Step: 3300... Loss: 1.3927... Val Loss: 1.3827\n",
      "Epoch: 4/10... Step: 3400... Loss: 1.3468... Val Loss: 1.3696\n",
      "Epoch: 4/10... Step: 3500... Loss: 1.3380... Val Loss: 1.3637\n",
      "Epoch: 4/10... Step: 3600... Loss: 1.3561... Val Loss: 1.3547\n",
      "Epoch: 4/10... Step: 3700... Loss: 1.3193... Val Loss: 1.3459\n",
      "Epoch: 4/10... Step: 3800... Loss: 1.3824... Val Loss: 1.3411\n",
      "Epoch: 4/10... Step: 3900... Loss: 1.3190... Val Loss: 1.3335\n",
      "Epoch: 4/10... Step: 4000... Loss: 1.2991... Val Loss: 1.3287\n",
      "Epoch: 4/10... Step: 4100... Loss: 1.2837... Val Loss: 1.3216\n"
     ]
    },
    {
     "name": "stderr",
     "output_type": "stream",
     "text": [
      " 40%|████      | 4/10 [38:19<57:22, 573.79s/it]  "
     ]
    },
    {
     "name": "stdout",
     "output_type": "stream",
     "text": [
      "Epoch: 5/10... Step: 4200... Loss: 1.3137... Val Loss: 1.3201\n",
      "Epoch: 5/10... Step: 4300... Loss: 1.3288... Val Loss: 1.3108\n",
      "Epoch: 5/10... Step: 4400... Loss: 1.2852... Val Loss: 1.3041\n",
      "Epoch: 5/10... Step: 4500... Loss: 1.2737... Val Loss: 1.3031\n",
      "Epoch: 5/10... Step: 4600... Loss: 1.2646... Val Loss: 1.2955\n",
      "Epoch: 5/10... Step: 4700... Loss: 1.2730... Val Loss: 1.2923\n",
      "Epoch: 5/10... Step: 4800... Loss: 1.2940... Val Loss: 1.2867\n",
      "Epoch: 5/10... Step: 4900... Loss: 1.2584... Val Loss: 1.2814\n",
      "Epoch: 5/10... Step: 5000... Loss: 1.2617... Val Loss: 1.2820\n",
      "Epoch: 5/10... Step: 5100... Loss: 1.2355... Val Loss: 1.2770\n",
      "Epoch: 5/10... Step: 5200... Loss: 1.2803... Val Loss: 1.2701\n"
     ]
    },
    {
     "name": "stderr",
     "output_type": "stream",
     "text": [
      " 50%|█████     | 5/10 [47:56<47:55, 575.15s/it]"
     ]
    },
    {
     "name": "stdout",
     "output_type": "stream",
     "text": [
      "Epoch: 6/10... Step: 5300... Loss: 1.2241... Val Loss: 1.2651\n",
      "Epoch: 6/10... Step: 5400... Loss: 1.2288... Val Loss: 1.2650\n",
      "Epoch: 6/10... Step: 5500... Loss: 1.2341... Val Loss: 1.2618\n",
      "Epoch: 6/10... Step: 5600... Loss: 1.2191... Val Loss: 1.2593\n",
      "Epoch: 6/10... Step: 5700... Loss: 1.2472... Val Loss: 1.2528\n",
      "Epoch: 6/10... Step: 5800... Loss: 1.2401... Val Loss: 1.2494\n",
      "Epoch: 6/10... Step: 5900... Loss: 1.2385... Val Loss: 1.2491\n",
      "Epoch: 6/10... Step: 6000... Loss: 1.2116... Val Loss: 1.2417\n",
      "Epoch: 6/10... Step: 6100... Loss: 1.1823... Val Loss: 1.2393\n",
      "Epoch: 6/10... Step: 6200... Loss: 1.2034... Val Loss: 1.2398\n"
     ]
    },
    {
     "name": "stderr",
     "output_type": "stream",
     "text": [
      " 60%|██████    | 6/10 [57:05<37:45, 566.30s/it]"
     ]
    },
    {
     "name": "stdout",
     "output_type": "stream",
     "text": [
      "Epoch: 7/10... Step: 6300... Loss: 1.2284... Val Loss: 1.2419\n",
      "Epoch: 7/10... Step: 6400... Loss: 1.2505... Val Loss: 1.2455\n",
      "Epoch: 7/10... Step: 6500... Loss: 1.1809... Val Loss: 1.2360\n",
      "Epoch: 7/10... Step: 6600... Loss: 1.2086... Val Loss: 1.2322\n",
      "Epoch: 7/10... Step: 6700... Loss: 1.2324... Val Loss: 1.2322\n",
      "Epoch: 7/10... Step: 6800... Loss: 1.2283... Val Loss: 1.2261\n",
      "Epoch: 7/10... Step: 6900... Loss: 1.1976... Val Loss: 1.2249\n",
      "Epoch: 7/10... Step: 7000... Loss: 1.2137... Val Loss: 1.2234\n",
      "Epoch: 7/10... Step: 7100... Loss: 1.1606... Val Loss: 1.2211\n",
      "Epoch: 7/10... Step: 7200... Loss: 1.1678... Val Loss: 1.2194\n",
      "Epoch: 7/10... Step: 7300... Loss: 1.1820... Val Loss: 1.2154\n"
     ]
    },
    {
     "name": "stderr",
     "output_type": "stream",
     "text": [
      " 70%|███████   | 7/10 [1:06:42<28:29, 569.85s/it]"
     ]
    },
    {
     "name": "stdout",
     "output_type": "stream",
     "text": [
      "Epoch: 8/10... Step: 7400... Loss: 1.1744... Val Loss: 1.2105\n",
      "Epoch: 8/10... Step: 7500... Loss: 1.1631... Val Loss: 1.2081\n",
      "Epoch: 8/10... Step: 7600... Loss: 1.1712... Val Loss: 1.2071\n",
      "Epoch: 8/10... Step: 7700... Loss: 1.1790... Val Loss: 1.2058\n",
      "Epoch: 8/10... Step: 7800... Loss: 1.1359... Val Loss: 1.2140\n",
      "Epoch: 8/10... Step: 7900... Loss: 1.1952... Val Loss: 1.2038\n",
      "Epoch: 8/10... Step: 8000... Loss: 1.1764... Val Loss: 1.2049\n",
      "Epoch: 8/10... Step: 8100... Loss: 1.1948... Val Loss: 1.1977\n",
      "Epoch: 8/10... Step: 8200... Loss: 1.1808... Val Loss: 1.2005\n",
      "Epoch: 8/10... Step: 8300... Loss: 1.1796... Val Loss: 1.1941\n"
     ]
    },
    {
     "name": "stderr",
     "output_type": "stream",
     "text": [
      " 80%|████████  | 8/10 [1:15:51<18:46, 563.24s/it]"
     ]
    },
    {
     "name": "stdout",
     "output_type": "stream",
     "text": [
      "Epoch: 9/10... Step: 8400... Loss: 1.1660... Val Loss: 1.2139\n",
      "Epoch: 9/10... Step: 8500... Loss: 1.1690... Val Loss: 1.1970\n",
      "Epoch: 9/10... Step: 8600... Loss: 1.1885... Val Loss: 1.1933\n",
      "Epoch: 9/10... Step: 8700... Loss: 1.1714... Val Loss: 1.1919\n",
      "Epoch: 9/10... Step: 8800... Loss: 1.1688... Val Loss: 1.1890\n",
      "Epoch: 9/10... Step: 8900... Loss: 1.1367... Val Loss: 1.1914\n",
      "Epoch: 9/10... Step: 9000... Loss: 1.1087... Val Loss: 1.1867\n",
      "Epoch: 9/10... Step: 9100... Loss: 1.1577... Val Loss: 1.1888\n",
      "Epoch: 9/10... Step: 9200... Loss: 1.1496... Val Loss: 1.1832\n",
      "Epoch: 9/10... Step: 9300... Loss: 1.1948... Val Loss: 1.1833\n",
      "Epoch: 9/10... Step: 9400... Loss: 1.1459... Val Loss: 1.1835\n"
     ]
    },
    {
     "name": "stderr",
     "output_type": "stream",
     "text": [
      " 90%|█████████ | 9/10 [1:25:28<09:27, 567.39s/it]"
     ]
    },
    {
     "name": "stdout",
     "output_type": "stream",
     "text": [
      "Epoch: 10/10... Step: 9500... Loss: 1.1539... Val Loss: 1.1774\n",
      "Epoch: 10/10... Step: 9600... Loss: 1.1541... Val Loss: 1.1784\n",
      "Epoch: 10/10... Step: 9700... Loss: 1.1678... Val Loss: 1.1793\n",
      "Epoch: 10/10... Step: 9800... Loss: 1.1691... Val Loss: 1.1740\n",
      "Epoch: 10/10... Step: 9900... Loss: 1.1154... Val Loss: 1.1764\n",
      "Epoch: 10/10... Step: 10000... Loss: 1.1690... Val Loss: 1.1726\n",
      "Epoch: 10/10... Step: 10100... Loss: 1.1309... Val Loss: 1.1753\n",
      "Epoch: 10/10... Step: 10200... Loss: 1.1177... Val Loss: 1.1703\n",
      "Epoch: 10/10... Step: 10300... Loss: 1.1454... Val Loss: 1.1707\n",
      "Epoch: 10/10... Step: 10400... Loss: 1.1952... Val Loss: 1.1686\n"
     ]
    },
    {
     "name": "stderr",
     "output_type": "stream",
     "text": [
      "100%|██████████| 10/10 [1:34:37<00:00, 567.72s/it]\n"
     ]
    },
    {
     "data": {
      "image/png": "[encoded data removed]",
      "text/plain": [
       "<Figure size 700x500 with 1 Axes>"
      ]
     },
     "metadata": {},
     "output_type": "display_data"
    }
   ],
   "source": [
    "# train the model\n",
    "train(net, encoded, lr=0.001, print_every=100)"
   ]
  },
  {
   "cell_type": "markdown",
   "metadata": {},
   "source": [
    "We might observe that the training error is higher than the validation error, presumably because of the use of dropout."
   ]
  },
  {
   "cell_type": "markdown",
   "metadata": {},
   "source": [
    "### Priming and generating text \n",
    "\n",
    "Typically you'll want to prime the network so you can build up a hidden state. Otherwise the network will start out generating characters at random. In general the first bunch of characters will be a little rough since it hasn't built up a long history of characters to predict from."
   ]
  },
  {
   "cell_type": "code",
   "execution_count": 19,
   "metadata": {
    "metadata": {}
   },
   "outputs": [
    {
     "name": "stdout",
     "output_type": "stream",
     "text": [
      "The flight was delayed. I was a little either. All in a seat was served on the first flight attendants which was overboard, and I conslice was ok. We flew with Canada to Beijing, treat the flight on the same airlines asked for two flights which was one of the trip from Baggage to Mumbai to Man with an airport they were taking the phone to tell you the same airline. I was on a regional flight attendant were then too small. Then the staff were then check-on which I would be during already announcement to me and the food. They said I was told any cheap shors.\n",
      "  This was ok, always also the passengers will be able to get our change the checking on the service onboard condition in the same flight.\"\n",
      "\"  This was okay and they didn't already free well.\n",
      " Friends arrival at all. I am a lot of the airline would not access. The seats were telling me. I would never happen for a bit my his and to the plannes and stewer they are suppond out of anyone.\n",
      "  After that was a bus to the touch with them again without \n"
     ]
    }
   ],
   "source": [
    "print(sample(net, 1000, prime='The flight', top_k=5))"
   ]
  },
  {
   "cell_type": "markdown",
   "metadata": {},
   "source": [
    "#### Word construction looks okay but sentences not at all."
   ]
  },
  {
   "cell_type": "markdown",
   "metadata": {},
   "source": [
    "Since validation was still decreasing, let's reload the model and train it for another 10 epochs. Let's see if the generation improves."
   ]
  },
  {
   "cell_type": "code",
   "execution_count": 21,
   "metadata": {
    "metadata": {}
   },
   "outputs": [
    {
     "name": "stderr",
     "output_type": "stream",
     "text": [
      "  0%|          | 0/10 [00:00<?, ?it/s]"
     ]
    },
    {
     "name": "stdout",
     "output_type": "stream",
     "text": [
      "Epoch: 1/10... Step: 100... Loss: 1.1339... Val Loss: 1.1610\n",
      "Epoch: 1/10... Step: 200... Loss: 1.1144... Val Loss: 1.1645\n",
      "Epoch: 1/10... Step: 300... Loss: 1.1276... Val Loss: 1.1650\n",
      "Epoch: 1/10... Step: 400... Loss: 1.1367... Val Loss: 1.1629\n",
      "Epoch: 1/10... Step: 500... Loss: 1.1243... Val Loss: 1.1608\n",
      "Epoch: 1/10... Step: 600... Loss: 1.1073... Val Loss: 1.1675\n",
      "Epoch: 1/10... Step: 700... Loss: 1.1332... Val Loss: 1.1583\n",
      "Epoch: 1/10... Step: 800... Loss: 1.2048... Val Loss: 1.1563\n",
      "Epoch: 1/10... Step: 900... Loss: 1.1102... Val Loss: 1.1590\n",
      "Epoch: 1/10... Step: 1000... Loss: 1.0969... Val Loss: 1.1563\n"
     ]
    },
    {
     "name": "stderr",
     "output_type": "stream",
     "text": [
      " 10%|█         | 1/10 [09:07<1:22:08, 547.58s/it]"
     ]
    },
    {
     "name": "stdout",
     "output_type": "stream",
     "text": [
      "Epoch: 2/10... Step: 1100... Loss: 1.1279... Val Loss: 1.1929\n",
      "Epoch: 2/10... Step: 1200... Loss: 1.1113... Val Loss: 1.1815\n",
      "Epoch: 2/10... Step: 1300... Loss: 1.0822... Val Loss: 1.1573\n",
      "Epoch: 2/10... Step: 1400... Loss: 1.1123... Val Loss: 1.1590\n",
      "Epoch: 2/10... Step: 1500... Loss: 1.1181... Val Loss: 1.1624\n",
      "Epoch: 2/10... Step: 1600... Loss: 1.1018... Val Loss: 1.1559\n",
      "Epoch: 2/10... Step: 1700... Loss: 1.1401... Val Loss: 1.1523\n",
      "Epoch: 2/10... Step: 1800... Loss: 1.1034... Val Loss: 1.1511\n",
      "Epoch: 2/10... Step: 1900... Loss: 1.1484... Val Loss: 1.1501\n",
      "Epoch: 2/10... Step: 2000... Loss: 1.0769... Val Loss: 1.1531\n"
     ]
    },
    {
     "name": "stderr",
     "output_type": "stream",
     "text": [
      " 20%|██        | 2/10 [18:14<1:12:57, 547.24s/it]"
     ]
    },
    {
     "name": "stdout",
     "output_type": "stream",
     "text": [
      "Epoch: 3/10... Step: 2100... Loss: 1.1577... Val Loss: 1.2013\n",
      "Epoch: 3/10... Step: 2200... Loss: 1.1018... Val Loss: 1.1734\n",
      "Epoch: 3/10... Step: 2300... Loss: 1.1337... Val Loss: 1.1897\n",
      "Epoch: 3/10... Step: 2400... Loss: 1.1123... Val Loss: 1.1864\n",
      "Epoch: 3/10... Step: 2500... Loss: 1.1404... Val Loss: 1.1781\n",
      "Epoch: 3/10... Step: 2600... Loss: 1.0943... Val Loss: 1.1796\n",
      "Epoch: 3/10... Step: 2700... Loss: 1.1132... Val Loss: 1.1801\n",
      "Epoch: 3/10... Step: 2800... Loss: 1.1298... Val Loss: 1.1810\n",
      "Epoch: 3/10... Step: 2900... Loss: 1.1492... Val Loss: 1.1841\n",
      "Epoch: 3/10... Step: 3000... Loss: 1.0810... Val Loss: 1.1763\n",
      "Epoch: 3/10... Step: 3100... Loss: 1.1490... Val Loss: 1.1824\n"
     ]
    },
    {
     "name": "stderr",
     "output_type": "stream",
     "text": [
      " 30%|███       | 3/10 [27:48<1:05:17, 559.62s/it]"
     ]
    },
    {
     "name": "stdout",
     "output_type": "stream",
     "text": [
      "Epoch: 4/10... Step: 3200... Loss: 1.0932... Val Loss: 1.2962\n",
      "Epoch: 4/10... Step: 3300... Loss: 1.1337... Val Loss: 1.2660\n",
      "Epoch: 4/10... Step: 3400... Loss: 1.0906... Val Loss: 1.1566\n",
      "Epoch: 4/10... Step: 3500... Loss: 1.0865... Val Loss: 1.1544\n",
      "Epoch: 4/10... Step: 3600... Loss: 1.1154... Val Loss: 1.1592\n",
      "Epoch: 4/10... Step: 3700... Loss: 1.0864... Val Loss: 1.1585\n",
      "Epoch: 4/10... Step: 3800... Loss: 1.1383... Val Loss: 1.1518\n",
      "Epoch: 4/10... Step: 3900... Loss: 1.0982... Val Loss: 1.1576\n",
      "Epoch: 4/10... Step: 4000... Loss: 1.0736... Val Loss: 1.1531\n",
      "Epoch: 4/10... Step: 4100... Loss: 1.0673... Val Loss: 1.1508\n"
     ]
    },
    {
     "name": "stderr",
     "output_type": "stream",
     "text": [
      " 40%|████      | 4/10 [36:55<55:26, 554.49s/it]  "
     ]
    },
    {
     "name": "stdout",
     "output_type": "stream",
     "text": [
      "Epoch: 5/10... Step: 4200... Loss: 1.1073... Val Loss: 1.2345\n",
      "Epoch: 5/10... Step: 4300... Loss: 1.1190... Val Loss: 1.1375\n",
      "Epoch: 5/10... Step: 4400... Loss: 1.0963... Val Loss: 1.1464\n",
      "Epoch: 5/10... Step: 4500... Loss: 1.0879... Val Loss: 1.1409\n",
      "Epoch: 5/10... Step: 4600... Loss: 1.0810... Val Loss: 1.1370\n",
      "Epoch: 5/10... Step: 4700... Loss: 1.1031... Val Loss: 1.1401\n",
      "Epoch: 5/10... Step: 4800... Loss: 1.1065... Val Loss: 1.1342\n",
      "Epoch: 5/10... Step: 4900... Loss: 1.0824... Val Loss: 1.1380\n",
      "Epoch: 5/10... Step: 5000... Loss: 1.0785... Val Loss: 1.1397\n",
      "Epoch: 5/10... Step: 5100... Loss: 1.0686... Val Loss: 1.1340\n",
      "Epoch: 5/10... Step: 5200... Loss: 1.1007... Val Loss: 1.1336\n"
     ]
    },
    {
     "name": "stderr",
     "output_type": "stream",
     "text": [
      " 50%|█████     | 5/10 [46:32<46:52, 562.54s/it]"
     ]
    },
    {
     "name": "stdout",
     "output_type": "stream",
     "text": [
      "Epoch: 6/10... Step: 5300... Loss: 1.0654... Val Loss: 1.1243\n",
      "Epoch: 6/10... Step: 5400... Loss: 1.0675... Val Loss: 1.1260\n",
      "Epoch: 6/10... Step: 5500... Loss: 1.0856... Val Loss: 1.1234\n",
      "Epoch: 6/10... Step: 5600... Loss: 1.0533... Val Loss: 1.1226\n",
      "Epoch: 6/10... Step: 5700... Loss: 1.0974... Val Loss: 1.1254\n",
      "Epoch: 6/10... Step: 5800... Loss: 1.0969... Val Loss: 1.1257\n",
      "Epoch: 6/10... Step: 5900... Loss: 1.0936... Val Loss: 1.1257\n",
      "Epoch: 6/10... Step: 6000... Loss: 1.0737... Val Loss: 1.1231\n",
      "Epoch: 6/10... Step: 6100... Loss: 1.0502... Val Loss: 1.1221\n",
      "Epoch: 6/10... Step: 6200... Loss: 1.0731... Val Loss: 1.1235\n"
     ]
    },
    {
     "name": "stderr",
     "output_type": "stream",
     "text": [
      " 60%|██████    | 6/10 [55:41<37:11, 557.85s/it]"
     ]
    },
    {
     "name": "stdout",
     "output_type": "stream",
     "text": [
      "Epoch: 7/10... Step: 6300... Loss: 1.1229... Val Loss: 1.1967\n",
      "Epoch: 7/10... Step: 6400... Loss: 1.1121... Val Loss: 1.1164\n",
      "Epoch: 7/10... Step: 6500... Loss: 1.0615... Val Loss: 1.1146\n",
      "Epoch: 7/10... Step: 6600... Loss: 1.0759... Val Loss: 1.1159\n",
      "Epoch: 7/10... Step: 6700... Loss: 1.0794... Val Loss: 1.1180\n",
      "Epoch: 7/10... Step: 6800... Loss: 1.0984... Val Loss: 1.1173\n",
      "Epoch: 7/10... Step: 6900... Loss: 1.0661... Val Loss: 1.1168\n",
      "Epoch: 7/10... Step: 7000... Loss: 1.0897... Val Loss: 1.1155\n",
      "Epoch: 7/10... Step: 7100... Loss: 1.0467... Val Loss: 1.1167\n",
      "Epoch: 7/10... Step: 7200... Loss: 1.0585... Val Loss: 1.1172\n",
      "Epoch: 7/10... Step: 7300... Loss: 1.0707... Val Loss: 1.1173\n"
     ]
    },
    {
     "name": "stderr",
     "output_type": "stream",
     "text": [
      " 70%|███████   | 7/10 [1:05:16<28:10, 563.58s/it]"
     ]
    },
    {
     "name": "stdout",
     "output_type": "stream",
     "text": [
      "Epoch: 8/10... Step: 7400... Loss: 1.0591... Val Loss: 1.1211\n",
      "Epoch: 8/10... Step: 7500... Loss: 1.0549... Val Loss: 1.1209\n",
      "Epoch: 8/10... Step: 7600... Loss: 1.0612... Val Loss: 1.1104\n",
      "Epoch: 8/10... Step: 7700... Loss: 1.0617... Val Loss: 1.1091\n",
      "Epoch: 8/10... Step: 7800... Loss: 1.0255... Val Loss: 1.1163\n",
      "Epoch: 8/10... Step: 7900... Loss: 1.0751... Val Loss: 1.1151\n",
      "Epoch: 8/10... Step: 8000... Loss: 1.0703... Val Loss: 1.1121\n",
      "Epoch: 8/10... Step: 8100... Loss: 1.0858... Val Loss: 1.1132\n",
      "Epoch: 8/10... Step: 8200... Loss: 1.0706... Val Loss: 1.1121\n",
      "Epoch: 8/10... Step: 8300... Loss: 1.0700... Val Loss: 1.1086\n"
     ]
    },
    {
     "name": "stderr",
     "output_type": "stream",
     "text": [
      " 80%|████████  | 8/10 [1:14:28<18:39, 559.78s/it]"
     ]
    },
    {
     "name": "stdout",
     "output_type": "stream",
     "text": [
      "Epoch: 9/10... Step: 8400... Loss: 1.0615... Val Loss: 1.1365\n",
      "Epoch: 9/10... Step: 8500... Loss: 1.0656... Val Loss: 1.1446\n",
      "Epoch: 9/10... Step: 8600... Loss: 1.0871... Val Loss: 1.1126\n",
      "Epoch: 9/10... Step: 8700... Loss: 1.0733... Val Loss: 1.1144\n",
      "Epoch: 9/10... Step: 8800... Loss: 1.0604... Val Loss: 1.1108\n",
      "Epoch: 9/10... Step: 8900... Loss: 1.0482... Val Loss: 1.1140\n",
      "Epoch: 9/10... Step: 9000... Loss: 1.0139... Val Loss: 1.1069\n",
      "Epoch: 9/10... Step: 9100... Loss: 1.0584... Val Loss: 1.1103\n",
      "Epoch: 9/10... Step: 9200... Loss: 1.0583... Val Loss: 1.1070\n",
      "Epoch: 9/10... Step: 9300... Loss: 1.0997... Val Loss: 1.1134\n",
      "Epoch: 9/10... Step: 9400... Loss: 1.0588... Val Loss: 1.1079\n"
     ]
    },
    {
     "name": "stderr",
     "output_type": "stream",
     "text": [
      " 90%|█████████ | 9/10 [1:24:14<09:28, 568.01s/it]"
     ]
    },
    {
     "name": "stdout",
     "output_type": "stream",
     "text": [
      "Epoch: 10/10... Step: 9500... Loss: 1.0630... Val Loss: 1.1179\n",
      "Epoch: 10/10... Step: 9600... Loss: 1.0574... Val Loss: 1.1077\n",
      "Epoch: 10/10... Step: 9700... Loss: 1.0753... Val Loss: 1.1090\n",
      "Epoch: 10/10... Step: 9800... Loss: 1.0765... Val Loss: 1.1107\n",
      "Epoch: 10/10... Step: 9900... Loss: 1.0250... Val Loss: 1.1115\n",
      "Epoch: 10/10... Step: 10000... Loss: 1.0803... Val Loss: 1.1081\n",
      "Epoch: 10/10... Step: 10100... Loss: 1.0471... Val Loss: 1.1131\n",
      "Epoch: 10/10... Step: 10200... Loss: 1.0301... Val Loss: 1.1064\n",
      "Epoch: 10/10... Step: 10300... Loss: 1.0515... Val Loss: 1.1106\n",
      "Epoch: 10/10... Step: 10400... Loss: 1.1035... Val Loss: 1.1010\n"
     ]
    },
    {
     "name": "stderr",
     "output_type": "stream",
     "text": [
      "100%|██████████| 10/10 [1:33:30<00:00, 561.02s/it]\n"
     ]
    },
    {
     "data": {
      "image/png": "[encoded data removed]",
      "text/plain": [
       "<Figure size 700x500 with 1 Axes>"
      ]
     },
     "metadata": {},
     "output_type": "display_data"
    }
   ],
   "source": [
    "train(loaded, encoded, epochs=n_epochs, batch_size=batch_size, seq_length=seq_length, lr=0.001, print_every=100)"
   ]
  },
  {
   "cell_type": "code",
   "execution_count": 22,
   "metadata": {
    "metadata": {}
   },
   "outputs": [
    {
     "name": "stdout",
     "output_type": "stream",
     "text": [
      "The flight would be my bags for our suitcade and they told me two and a seat which will be the medication.\n",
      "  I will never fly Air Namibia with an emerged one way.\n",
      "\"\n",
      "\"  Bristow to Tokyo and one way. I have everything above this to the first time we were asked to take you flying to a lot of the flight to Bangkok and the plane was almost the staff to the time I went to the flight to Manila. Then to the front decided to top it at me with a ticket for the aircraft to the plane. They don't expect the flight without and seess to be a case. The first flight was on other flight we didn't canceled my trip from Lufthansa. They still have to see is the worst.\n",
      "  I had a supervisor friendly booking a single times. I am always facilities to the airport we were stort to finish wheels in the aisle and ours which we can defore we were taken out of the time of they could hell taste on the flight with the front to me, at the carousel. The flight was cancelled. The attendant would have to pay the flight. The people was at the airport to take out ticket at 6am and we've experienced they seem to the plane to the airport, we had to be seen about this airline for an interesting the plane, with an exit seat and attempt to be their customer service. We had to buy a freel who did the cabin attendants. The airline we found out to because of they had no apology and they will be there for a flight tickets for more than on the future.\n",
      "  If they wanted to check out with the cabin crew, we were able airline, but it was notification to my second tickets. Its about the flight attendant and the cabin crew, the food and snacks were offented. We have to pay at the airport to fly. The check on area and I called the flight to Taipue i would think that I will fly with Chile. They claim tea and miserable and closed for an internal pretty confirmation and went on. It’s been at the early to the plane with another flight from Los Angeles. We were told to cancel. All this without ter staff. In this product it was trouble a\n"
     ]
    }
   ],
   "source": [
    "# Sample using a loaded model\n",
    "print(sample(loaded, 2000, top_k=5, prime=\"The flight\"))"
   ]
  },
  {
   "cell_type": "markdown",
   "metadata": {},
   "source": [
    "#### Not much of an improvement"
   ]
  },
  {
   "cell_type": "code",
   "execution_count": 24,
   "metadata": {
    "metadata": {}
   },
   "outputs": [
    {
     "name": "stderr",
     "output_type": "stream",
     "text": [
      "  0%|          | 0/15 [00:00<?, ?it/s]"
     ]
    },
    {
     "name": "stdout",
     "output_type": "stream",
     "text": [
      "Epoch: 1/15... Step: 100... Loss: 3.1138... Val Loss: 3.0865\n",
      "Epoch: 1/15... Step: 200... Loss: 2.7124... Val Loss: 2.7114\n",
      "Epoch: 1/15... Step: 300... Loss: 2.4416... Val Loss: 2.4269\n",
      "Epoch: 1/15... Step: 400... Loss: 2.1882... Val Loss: 2.1852\n",
      "Epoch: 1/15... Step: 500... Loss: 1.9891... Val Loss: 1.9897\n",
      "Epoch: 1/15... Step: 600... Loss: 1.8313... Val Loss: 1.8249\n",
      "Epoch: 1/15... Step: 700... Loss: 1.6944... Val Loss: 1.6949\n",
      "Epoch: 1/15... Step: 800... Loss: 1.6687... Val Loss: 1.5881\n",
      "Epoch: 1/15... Step: 900... Loss: 1.4972... Val Loss: 1.5167\n",
      "Epoch: 1/15... Step: 1000... Loss: 1.4144... Val Loss: 1.4480\n"
     ]
    },
    {
     "name": "stderr",
     "output_type": "stream",
     "text": [
      "  7%|▋         | 1/15 [21:54<5:06:39, 1314.25s/it]"
     ]
    },
    {
     "name": "stdout",
     "output_type": "stream",
     "text": [
      "Epoch: 2/15... Step: 1100... Loss: 1.3726... Val Loss: 1.4024\n",
      "Epoch: 2/15... Step: 1200... Loss: 1.3566... Val Loss: 1.3654\n",
      "Epoch: 2/15... Step: 1300... Loss: 1.2792... Val Loss: 1.3316\n",
      "Epoch: 2/15... Step: 1400... Loss: 1.2913... Val Loss: 1.3120\n",
      "Epoch: 2/15... Step: 1500... Loss: 1.2574... Val Loss: 1.2855\n",
      "Epoch: 2/15... Step: 1600... Loss: 1.2248... Val Loss: 1.2676\n",
      "Epoch: 2/15... Step: 1700... Loss: 1.2502... Val Loss: 1.2527\n",
      "Epoch: 2/15... Step: 1800... Loss: 1.1972... Val Loss: 1.2365\n",
      "Epoch: 2/15... Step: 1900... Loss: 1.2298... Val Loss: 1.2221\n",
      "Epoch: 2/15... Step: 2000... Loss: 1.1446... Val Loss: 1.2135\n"
     ]
    },
    {
     "name": "stderr",
     "output_type": "stream",
     "text": [
      " 13%|█▎        | 2/15 [43:44<4:44:17, 1312.11s/it]"
     ]
    },
    {
     "name": "stdout",
     "output_type": "stream",
     "text": [
      "Epoch: 3/15... Step: 2100... Loss: 1.1884... Val Loss: 1.2035\n",
      "Epoch: 3/15... Step: 2200... Loss: 1.1538... Val Loss: 1.1912\n",
      "Epoch: 3/15... Step: 2300... Loss: 1.1755... Val Loss: 1.1817\n",
      "Epoch: 3/15... Step: 2400... Loss: 1.1530... Val Loss: 1.1781\n",
      "Epoch: 3/15... Step: 2500... Loss: 1.1734... Val Loss: 1.1682\n",
      "Epoch: 3/15... Step: 2600... Loss: 1.1145... Val Loss: 1.1598\n",
      "Epoch: 3/15... Step: 2700... Loss: 1.1298... Val Loss: 1.1556\n",
      "Epoch: 3/15... Step: 2800... Loss: 1.1380... Val Loss: 1.1441\n",
      "Epoch: 3/15... Step: 2900... Loss: 1.1498... Val Loss: 1.1423\n",
      "Epoch: 3/15... Step: 3000... Loss: 1.0824... Val Loss: 1.1359\n",
      "Epoch: 3/15... Step: 3100... Loss: 1.1479... Val Loss: 1.1309\n"
     ]
    },
    {
     "name": "stderr",
     "output_type": "stream",
     "text": [
      " 20%|██        | 3/15 [1:06:31<4:27:26, 1337.23s/it]"
     ]
    },
    {
     "name": "stdout",
     "output_type": "stream",
     "text": [
      "Epoch: 4/15... Step: 3200... Loss: 1.0577... Val Loss: 1.1236\n",
      "Epoch: 4/15... Step: 3300... Loss: 1.1165... Val Loss: 1.1198\n",
      "Epoch: 4/15... Step: 3400... Loss: 1.0687... Val Loss: 1.1149\n",
      "Epoch: 4/15... Step: 3500... Loss: 1.0689... Val Loss: 1.1116\n",
      "Epoch: 4/15... Step: 3600... Loss: 1.0737... Val Loss: 1.1097\n",
      "Epoch: 4/15... Step: 3700... Loss: 1.0506... Val Loss: 1.1028\n",
      "Epoch: 4/15... Step: 3800... Loss: 1.1050... Val Loss: 1.1005\n",
      "Epoch: 4/15... Step: 3900... Loss: 1.0533... Val Loss: 1.0951\n",
      "Epoch: 4/15... Step: 4000... Loss: 1.0311... Val Loss: 1.0916\n",
      "Epoch: 4/15... Step: 4100... Loss: 1.0170... Val Loss: 1.0894\n"
     ]
    },
    {
     "name": "stderr",
     "output_type": "stream",
     "text": [
      " 27%|██▋       | 4/15 [1:28:17<4:02:53, 1324.86s/it]"
     ]
    },
    {
     "name": "stdout",
     "output_type": "stream",
     "text": [
      "Epoch: 5/15... Step: 4200... Loss: 1.0326... Val Loss: 1.0877\n",
      "Epoch: 5/15... Step: 4300... Loss: 1.0599... Val Loss: 1.0772\n",
      "Epoch: 5/15... Step: 4400... Loss: 1.0399... Val Loss: 1.0750\n",
      "Epoch: 5/15... Step: 4500... Loss: 1.0277... Val Loss: 1.0792\n",
      "Epoch: 5/15... Step: 4600... Loss: 1.0131... Val Loss: 1.0725\n",
      "Epoch: 5/15... Step: 4700... Loss: 1.0368... Val Loss: 1.0690\n",
      "Epoch: 5/15... Step: 4800... Loss: 1.0337... Val Loss: 1.0702\n",
      "Epoch: 5/15... Step: 4900... Loss: 1.0123... Val Loss: 1.0633\n",
      "Epoch: 5/15... Step: 5000... Loss: 1.0132... Val Loss: 1.0599\n",
      "Epoch: 5/15... Step: 5100... Loss: 0.9859... Val Loss: 1.0554\n",
      "Epoch: 5/15... Step: 5200... Loss: 1.0166... Val Loss: 1.0551\n"
     ]
    },
    {
     "name": "stderr",
     "output_type": "stream",
     "text": [
      " 33%|███▎      | 5/15 [1:50:55<3:42:46, 1336.64s/it]"
     ]
    },
    {
     "name": "stdout",
     "output_type": "stream",
     "text": [
      "Epoch: 6/15... Step: 5300... Loss: 0.9814... Val Loss: 1.0496\n",
      "Epoch: 6/15... Step: 5400... Loss: 0.9914... Val Loss: 1.0474\n",
      "Epoch: 6/15... Step: 5500... Loss: 1.0183... Val Loss: 1.0472\n",
      "Epoch: 6/15... Step: 5600... Loss: 0.9674... Val Loss: 1.0429\n",
      "Epoch: 6/15... Step: 5700... Loss: 0.9983... Val Loss: 1.0437\n",
      "Epoch: 6/15... Step: 5800... Loss: 0.9974... Val Loss: 1.0443\n",
      "Epoch: 6/15... Step: 5900... Loss: 1.0013... Val Loss: 1.0372\n",
      "Epoch: 6/15... Step: 6000... Loss: 0.9792... Val Loss: 1.0355\n",
      "Epoch: 6/15... Step: 6100... Loss: 0.9594... Val Loss: 1.0334\n",
      "Epoch: 6/15... Step: 6200... Loss: 0.9795... Val Loss: 1.0328\n"
     ]
    },
    {
     "name": "stderr",
     "output_type": "stream",
     "text": [
      " 40%|████      | 6/15 [2:12:36<3:18:41, 1324.65s/it]"
     ]
    },
    {
     "name": "stdout",
     "output_type": "stream",
     "text": [
      "Epoch: 7/15... Step: 6300... Loss: 0.9955... Val Loss: 1.0338\n",
      "Epoch: 7/15... Step: 6400... Loss: 0.9991... Val Loss: 1.0295\n",
      "Epoch: 7/15... Step: 6500... Loss: 0.9640... Val Loss: 1.0244\n",
      "Epoch: 7/15... Step: 6600... Loss: 0.9601... Val Loss: 1.0256\n",
      "Epoch: 7/15... Step: 6700... Loss: 0.9761... Val Loss: 1.0293\n",
      "Epoch: 7/15... Step: 6800... Loss: 0.9854... Val Loss: 1.0233\n",
      "Epoch: 7/15... Step: 6900... Loss: 0.9575... Val Loss: 1.0209\n",
      "Epoch: 7/15... Step: 7000... Loss: 0.9794... Val Loss: 1.0164\n",
      "Epoch: 7/15... Step: 7100... Loss: 0.9250... Val Loss: 1.0181\n",
      "Epoch: 7/15... Step: 7200... Loss: 0.9333... Val Loss: 1.0158\n",
      "Epoch: 7/15... Step: 7300... Loss: 0.9406... Val Loss: 1.0154\n"
     ]
    },
    {
     "name": "stderr",
     "output_type": "stream",
     "text": [
      " 47%|████▋     | 7/15 [2:35:25<2:58:33, 1339.22s/it]"
     ]
    },
    {
     "name": "stdout",
     "output_type": "stream",
     "text": [
      "Epoch: 8/15... Step: 7400... Loss: 0.9495... Val Loss: 1.0133\n",
      "Epoch: 8/15... Step: 7500... Loss: 0.9409... Val Loss: 1.0118\n",
      "Epoch: 8/15... Step: 7600... Loss: 0.9410... Val Loss: 1.0145\n",
      "Epoch: 8/15... Step: 7700... Loss: 0.9310... Val Loss: 1.0097\n",
      "Epoch: 8/15... Step: 7800... Loss: 0.9006... Val Loss: 1.0096\n",
      "Epoch: 8/15... Step: 7900... Loss: 0.9504... Val Loss: 1.0099\n",
      "Epoch: 8/15... Step: 8000... Loss: 0.9393... Val Loss: 1.0088\n",
      "Epoch: 8/15... Step: 8100... Loss: 0.9518... Val Loss: 1.0091\n",
      "Epoch: 8/15... Step: 8200... Loss: 0.9214... Val Loss: 1.0064\n",
      "Epoch: 8/15... Step: 8300... Loss: 0.9358... Val Loss: 1.0060\n"
     ]
    },
    {
     "name": "stderr",
     "output_type": "stream",
     "text": [
      " 53%|█████▎    | 8/15 [2:57:18<2:35:14, 1330.59s/it]"
     ]
    },
    {
     "name": "stdout",
     "output_type": "stream",
     "text": [
      "Epoch: 9/15... Step: 8400... Loss: 0.9252... Val Loss: 1.0112\n",
      "Epoch: 9/15... Step: 8500... Loss: 0.9319... Val Loss: 1.0044\n",
      "Epoch: 9/15... Step: 8600... Loss: 0.9477... Val Loss: 1.0043\n",
      "Epoch: 9/15... Step: 8700... Loss: 0.9401... Val Loss: 1.0013\n",
      "Epoch: 9/15... Step: 8800... Loss: 0.9152... Val Loss: 1.0051\n",
      "Epoch: 9/15... Step: 8900... Loss: 0.9062... Val Loss: 1.0031\n",
      "Epoch: 9/15... Step: 9000... Loss: 0.8714... Val Loss: 1.0019\n",
      "Epoch: 9/15... Step: 9100... Loss: 0.9126... Val Loss: 1.0047\n",
      "Epoch: 9/15... Step: 9200... Loss: 0.9218... Val Loss: 1.0047\n",
      "Epoch: 9/15... Step: 9300... Loss: 0.9447... Val Loss: 0.9974\n",
      "Epoch: 9/15... Step: 9400... Loss: 0.9104... Val Loss: 0.9988\n"
     ]
    },
    {
     "name": "stderr",
     "output_type": "stream",
     "text": [
      " 60%|██████    | 9/15 [3:20:06<2:14:13, 1342.31s/it]"
     ]
    },
    {
     "name": "stdout",
     "output_type": "stream",
     "text": [
      "Epoch: 10/15... Step: 9500... Loss: 0.9115... Val Loss: 1.0019\n",
      "Epoch: 10/15... Step: 9600... Loss: 0.9091... Val Loss: 0.9996\n",
      "Epoch: 10/15... Step: 9700... Loss: 0.9261... Val Loss: 0.9967\n",
      "Epoch: 10/15... Step: 9800... Loss: 0.9092... Val Loss: 1.0000\n",
      "Epoch: 10/15... Step: 9900... Loss: 0.8724... Val Loss: 0.9978\n",
      "Epoch: 10/15... Step: 10000... Loss: 0.9094... Val Loss: 0.9994\n",
      "Epoch: 10/15... Step: 10100... Loss: 0.8998... Val Loss: 1.0031\n",
      "Epoch: 10/15... Step: 10200... Loss: 0.8798... Val Loss: 0.9964\n",
      "Epoch: 10/15... Step: 10300... Loss: 0.8866... Val Loss: 0.9983\n",
      "Epoch: 10/15... Step: 10400... Loss: 0.9487... Val Loss: 1.0015\n"
     ]
    },
    {
     "name": "stderr",
     "output_type": "stream",
     "text": [
      " 67%|██████▋   | 10/15 [3:41:48<1:50:49, 1329.84s/it]"
     ]
    },
    {
     "name": "stdout",
     "output_type": "stream",
     "text": [
      "Epoch: 11/15... Step: 10500... Loss: 0.9018... Val Loss: 1.0064\n",
      "Epoch: 11/15... Step: 10600... Loss: 0.8641... Val Loss: 0.9981\n",
      "Epoch: 11/15... Step: 10700... Loss: 0.8745... Val Loss: 0.9993\n",
      "Epoch: 11/15... Step: 10800... Loss: 0.8730... Val Loss: 0.9983\n",
      "Epoch: 11/15... Step: 10900... Loss: 0.8807... Val Loss: 0.9987\n",
      "Epoch: 11/15... Step: 11000... Loss: 0.8783... Val Loss: 0.9991\n",
      "Epoch: 11/15... Step: 11100... Loss: 0.9000... Val Loss: 0.9989\n",
      "Epoch: 11/15... Step: 11200... Loss: 0.8743... Val Loss: 0.9988\n",
      "Epoch: 11/15... Step: 11300... Loss: 0.8977... Val Loss: 0.9989\n",
      "Epoch: 11/15... Step: 11400... Loss: 0.8824... Val Loss: 0.9975\n",
      "Epoch: 11/15... Step: 11500... Loss: 0.9109... Val Loss: 0.9967\n"
     ]
    },
    {
     "name": "stderr",
     "output_type": "stream",
     "text": [
      " 73%|███████▎  | 11/15 [4:04:13<1:28:57, 1334.48s/it]"
     ]
    },
    {
     "name": "stdout",
     "output_type": "stream",
     "text": [
      "Epoch: 12/15... Step: 11600... Loss: 0.8924... Val Loss: 1.2450\n",
      "Epoch: 12/15... Step: 11700... Loss: 0.9198... Val Loss: 1.2473\n",
      "Epoch: 12/15... Step: 11800... Loss: 0.8960... Val Loss: 1.2370\n",
      "Epoch: 12/15... Step: 11900... Loss: 0.8865... Val Loss: 1.2406\n",
      "Epoch: 12/15... Step: 12000... Loss: 0.8486... Val Loss: 1.2440\n",
      "Epoch: 12/15... Step: 12100... Loss: 0.8698... Val Loss: 1.2513\n",
      "Epoch: 12/15... Step: 12200... Loss: 0.8792... Val Loss: 1.2477\n",
      "Epoch: 12/15... Step: 12300... Loss: 0.8757... Val Loss: 1.2579\n",
      "Epoch: 12/15... Step: 12400... Loss: 0.8687... Val Loss: 1.2637\n",
      "Epoch: 12/15... Step: 12500... Loss: 0.8950... Val Loss: 1.2527\n"
     ]
    },
    {
     "name": "stderr",
     "output_type": "stream",
     "text": [
      " 80%|████████  | 12/15 [4:28:08<1:08:15, 1365.08s/it]"
     ]
    },
    {
     "name": "stdout",
     "output_type": "stream",
     "text": [
      "Epoch: 13/15... Step: 12600... Loss: 0.8744... Val Loss: 1.0128\n",
      "Epoch: 13/15... Step: 12700... Loss: 0.8767... Val Loss: 0.9994\n",
      "Epoch: 13/15... Step: 12800... Loss: 0.8650... Val Loss: 1.0048\n",
      "Epoch: 13/15... Step: 12900... Loss: 0.8726... Val Loss: 1.0006\n",
      "Epoch: 13/15... Step: 13000... Loss: 0.8873... Val Loss: 0.9998\n",
      "Epoch: 13/15... Step: 13100... Loss: 0.8661... Val Loss: 1.0055\n",
      "Epoch: 13/15... Step: 13200... Loss: 0.9020... Val Loss: 1.0047\n",
      "Epoch: 13/15... Step: 13300... Loss: 0.8428... Val Loss: 1.0043\n",
      "Epoch: 13/15... Step: 13400... Loss: 0.8597... Val Loss: 1.0030\n",
      "Epoch: 13/15... Step: 13500... Loss: 0.8805... Val Loss: 1.0043\n",
      "Epoch: 13/15... Step: 13600... Loss: 0.8855... Val Loss: 1.0008\n"
     ]
    },
    {
     "name": "stderr",
     "output_type": "stream",
     "text": [
      " 87%|████████▋ | 13/15 [4:51:46<46:02, 1381.27s/it]  "
     ]
    },
    {
     "name": "stdout",
     "output_type": "stream",
     "text": [
      "Epoch: 14/15... Step: 13700... Loss: 0.8606... Val Loss: 1.0060\n",
      "Epoch: 14/15... Step: 13800... Loss: 0.8543... Val Loss: 1.0026\n",
      "Epoch: 14/15... Step: 13900... Loss: 0.8542... Val Loss: 0.9999\n",
      "Epoch: 14/15... Step: 14000... Loss: 0.8696... Val Loss: 1.0039\n",
      "Epoch: 14/15... Step: 14100... Loss: 0.8417... Val Loss: 1.0097\n",
      "Epoch: 14/15... Step: 14200... Loss: 0.8251... Val Loss: 1.0062\n",
      "Epoch: 14/15... Step: 14300... Loss: 0.8570... Val Loss: 1.0063\n",
      "Epoch: 14/15... Step: 14400... Loss: 0.8482... Val Loss: 1.0065\n",
      "Epoch: 14/15... Step: 14500... Loss: 0.8551... Val Loss: 1.0108\n",
      "Epoch: 14/15... Step: 14600... Loss: 0.8543... Val Loss: 1.0030\n"
     ]
    },
    {
     "name": "stderr",
     "output_type": "stream",
     "text": [
      " 93%|█████████▎| 14/15 [5:13:18<22:34, 1354.17s/it]"
     ]
    },
    {
     "name": "stdout",
     "output_type": "stream",
     "text": [
      "Epoch: 15/15... Step: 14700... Loss: 0.8241... Val Loss: 1.0138\n",
      "Epoch: 15/15... Step: 14800... Loss: 0.8322... Val Loss: 1.0028\n",
      "Epoch: 15/15... Step: 14900... Loss: 0.8488... Val Loss: 1.0078\n",
      "Epoch: 15/15... Step: 15000... Loss: 0.8140... Val Loss: 1.0104\n",
      "Epoch: 15/15... Step: 15100... Loss: 0.8309... Val Loss: 1.0098\n",
      "Epoch: 15/15... Step: 15200... Loss: 0.8209... Val Loss: 1.0086\n",
      "Epoch: 15/15... Step: 15300... Loss: 0.8490... Val Loss: 1.0123\n",
      "Epoch: 15/15... Step: 15400... Loss: 0.8255... Val Loss: 1.0086\n",
      "Epoch: 15/15... Step: 15500... Loss: 0.8282... Val Loss: 1.0065\n",
      "Epoch: 15/15... Step: 15600... Loss: 0.8142... Val Loss: 1.0153\n",
      "Epoch: 15/15... Step: 15700... Loss: 0.8067... Val Loss: 1.0082\n"
     ]
    },
    {
     "name": "stderr",
     "output_type": "stream",
     "text": [
      "100%|██████████| 15/15 [5:36:01<00:00, 1344.11s/it]\n"
     ]
    },
    {
     "data": {
      "image/png": "[encoded data removed]",
      "text/plain": [
       "<Figure size 700x500 with 1 Axes>"
      ]
     },
     "metadata": {},
     "output_type": "display_data"
    }
   ],
   "source": [
    "n_hidden=1024\n",
    "n_layers=2\n",
    "net = CharRNN(chars, n_hidden, n_layers, drop_prob = 0)\n",
    "train(net, encoded, epochs=15, lr=0.001, print_every=100)"
   ]
  },
  {
   "cell_type": "markdown",
   "metadata": {},
   "source": [
    "#### The sudden spike is strange: looks like it starts an overfitting trend (validation error went from roughly 0.99 to 1.01). "
   ]
  },
  {
   "cell_type": "code",
   "execution_count": 26,
   "metadata": {
    "metadata": {}
   },
   "outputs": [
    {
     "name": "stdout",
     "output_type": "stream",
     "text": [
      "The flight was delayed. Then, the customer service representative spoke to us was telling me they were going to discost us and she walked away. I had to book all of two extra bagh on our vacation. As sitting at the airport and will never at lease think this is the only responsibility to tell you what the airline has sent one. I have always been denied this review at the airport when they are a lie flying in a ridiculous experience. The contacting from the airline would not offer her and a carry on was to check if an interconnecting flight was allowed to accommodate them, as it was a connecting flight which is too big at this situation and then told escort and looking for a refund of my bank still they say it was necessary in there when we alerted our ticket with an agent in the airport. The plane was delayed by 40 minutes, a car tinted saying that they didn't eat for a cancellation or arrival time. Then we were told we would be gaibing and didn't see the call convenience that they had been able to get off. We had to be a newighar bank in degrously to get home as well as departure at 6 pm we were delayed by 1.5 hours.\n",
      " The flight was delayed by 2 hours without any notice. And we went to the gate at 15.15 and take a bum to tell us they could not allow to put it in the connection flight. We had our seats available on the flight for the delayed flight. The checkin agent told that we were not entitled to any other airline. Any other airline is to fly because of the commitment of the customers in those side, the airline will be at least compensated. They couldn’t do it with this. They are no longer flying for the next available flights without a poor review on their website and they can take the time of our flight in a rude. And this airline had technical issues with the customer, when we were trying to cancel and rebook us on another flight about our flight within 54 days of our first flight on the 29th Auguat and they were not able to accommodate me, nor could help us with a seat \n"
     ]
    }
   ],
   "source": [
    "print(sample(net, 2000, prime='The flight', top_k=5))"
   ]
  },
  {
   "cell_type": "markdown",
   "metadata": {},
   "source": [
    "#### Looks like a bigger percentage of the sentences start to make sense. But we can notice some error in word construction (\"to discost\", \"bagh\" instead of \"bags\", \"at lease\",...). Effects of overfitting?"
   ]
  },
  {
   "cell_type": "code",
   "execution_count": 24,
   "metadata": {
    "metadata": {}
   },
   "outputs": [
    {
     "name": "stderr",
     "output_type": "stream",
     "text": [
      "  0%|          | 0/15 [00:00<?, ?it/s]"
     ]
    },
    {
     "name": "stdout",
     "output_type": "stream",
     "text": [
      "Epoch: 1/15... Step: 100... Loss: 3.1298... Val Loss: 3.0871\n",
      "Epoch: 1/15... Step: 200... Loss: 3.1031... Val Loss: 3.0894\n",
      "Epoch: 1/15... Step: 300... Loss: 3.1142... Val Loss: 3.0890\n",
      "Epoch: 1/15... Step: 400... Loss: 3.0989... Val Loss: 3.0880\n",
      "Epoch: 1/15... Step: 500... Loss: 3.0801... Val Loss: 3.0871\n",
      "Epoch: 1/15... Step: 600... Loss: 2.9360... Val Loss: 2.8982\n",
      "Epoch: 1/15... Step: 700... Loss: 2.6120... Val Loss: 2.6066\n",
      "Epoch: 1/15... Step: 800... Loss: 2.5201... Val Loss: 2.4213\n",
      "Epoch: 1/15... Step: 900... Loss: 2.2572... Val Loss: 2.2092\n",
      "Epoch: 1/15... Step: 1000... Loss: 2.0727... Val Loss: 2.0042\n"
     ]
    },
    {
     "name": "stderr",
     "output_type": "stream",
     "text": [
      "  7%|▋         | 1/15 [52:32<12:15:41, 3152.98s/it]"
     ]
    },
    {
     "name": "stdout",
     "output_type": "stream",
     "text": [
      "Epoch: 2/15... Step: 1100... Loss: 1.9023... Val Loss: 1.8247\n",
      "Epoch: 2/15... Step: 1200... Loss: 1.7777... Val Loss: 1.6773\n",
      "Epoch: 2/15... Step: 1300... Loss: 1.6076... Val Loss: 1.5679\n",
      "Epoch: 2/15... Step: 1400... Loss: 1.5594... Val Loss: 1.4897\n",
      "Epoch: 2/15... Step: 1500... Loss: 1.4855... Val Loss: 1.4327\n",
      "Epoch: 2/15... Step: 1600... Loss: 1.4422... Val Loss: 1.3882\n",
      "Epoch: 2/15... Step: 1700... Loss: 1.4453... Val Loss: 1.3561\n",
      "Epoch: 2/15... Step: 1800... Loss: 1.3828... Val Loss: 1.3271\n",
      "Epoch: 2/15... Step: 1900... Loss: 1.4032... Val Loss: 1.3036\n",
      "Epoch: 2/15... Step: 2000... Loss: 1.3076... Val Loss: 1.2836\n"
     ]
    },
    {
     "name": "stderr",
     "output_type": "stream",
     "text": [
      " 13%|█▎        | 2/15 [1:41:57<10:59:04, 3041.89s/it]"
     ]
    },
    {
     "name": "stdout",
     "output_type": "stream",
     "text": [
      "Epoch: 3/15... Step: 2100... Loss: 1.3341... Val Loss: 1.2662\n",
      "Epoch: 3/15... Step: 2200... Loss: 1.3011... Val Loss: 1.2519\n",
      "Epoch: 3/15... Step: 2300... Loss: 1.3117... Val Loss: 1.2366\n",
      "Epoch: 3/15... Step: 2400... Loss: 1.2708... Val Loss: 1.2276\n",
      "Epoch: 3/15... Step: 2500... Loss: 1.3107... Val Loss: 1.2158\n",
      "Epoch: 3/15... Step: 2600... Loss: 1.2394... Val Loss: 1.2049\n",
      "Epoch: 3/15... Step: 2700... Loss: 1.2545... Val Loss: 1.1963\n",
      "Epoch: 3/15... Step: 2800... Loss: 1.2550... Val Loss: 1.1869\n",
      "Epoch: 3/15... Step: 2900... Loss: 1.2674... Val Loss: 1.1809\n",
      "Epoch: 3/15... Step: 3000... Loss: 1.1967... Val Loss: 1.1744\n",
      "Epoch: 3/15... Step: 3100... Loss: 1.2512... Val Loss: 1.1660\n"
     ]
    },
    {
     "name": "stderr",
     "output_type": "stream",
     "text": [
      " 20%|██        | 3/15 [2:33:41<10:14:05, 3070.45s/it]"
     ]
    },
    {
     "name": "stdout",
     "output_type": "stream",
     "text": [
      "Epoch: 4/15... Step: 3200... Loss: 1.1714... Val Loss: 1.1606\n",
      "Epoch: 4/15... Step: 3300... Loss: 1.2170... Val Loss: 1.1537\n",
      "Epoch: 4/15... Step: 3400... Loss: 1.1690... Val Loss: 1.1491\n",
      "Epoch: 4/15... Step: 3500... Loss: 1.1699... Val Loss: 1.1413\n",
      "Epoch: 4/15... Step: 3600... Loss: 1.1832... Val Loss: 1.1385\n",
      "Epoch: 4/15... Step: 3700... Loss: 1.1510... Val Loss: 1.1322\n",
      "Epoch: 4/15... Step: 3800... Loss: 1.1966... Val Loss: 1.1281\n",
      "Epoch: 4/15... Step: 3900... Loss: 1.1585... Val Loss: 1.1228\n",
      "Epoch: 4/15... Step: 4000... Loss: 1.1280... Val Loss: 1.1183\n",
      "Epoch: 4/15... Step: 4100... Loss: 1.1204... Val Loss: 1.1149\n"
     ]
    },
    {
     "name": "stderr",
     "output_type": "stream",
     "text": [
      " 27%|██▋       | 4/15 [3:23:06<9:15:17, 3028.84s/it] "
     ]
    },
    {
     "name": "stdout",
     "output_type": "stream",
     "text": [
      "Epoch: 5/15... Step: 4200... Loss: 1.1363... Val Loss: 1.1105\n",
      "Epoch: 5/15... Step: 4300... Loss: 1.1593... Val Loss: 1.1063\n",
      "Epoch: 5/15... Step: 4400... Loss: 1.1369... Val Loss: 1.1026\n",
      "Epoch: 5/15... Step: 4500... Loss: 1.1155... Val Loss: 1.1008\n",
      "Epoch: 5/15... Step: 4600... Loss: 1.1055... Val Loss: 1.0955\n",
      "Epoch: 5/15... Step: 4700... Loss: 1.1255... Val Loss: 1.0931\n",
      "Epoch: 5/15... Step: 4800... Loss: 1.1281... Val Loss: 1.0895\n",
      "Epoch: 5/15... Step: 4900... Loss: 1.1018... Val Loss: 1.0853\n",
      "Epoch: 5/15... Step: 5000... Loss: 1.0955... Val Loss: 1.0844\n",
      "Epoch: 5/15... Step: 5100... Loss: 1.0775... Val Loss: 1.0788\n",
      "Epoch: 5/15... Step: 5200... Loss: 1.1176... Val Loss: 1.0772\n"
     ]
    },
    {
     "name": "stderr",
     "output_type": "stream",
     "text": [
      " 33%|███▎      | 5/15 [4:14:45<8:29:02, 3054.28s/it]"
     ]
    },
    {
     "name": "stdout",
     "output_type": "stream",
     "text": [
      "Epoch: 6/15... Step: 5300... Loss: 1.0678... Val Loss: 1.0737\n",
      "Epoch: 6/15... Step: 5400... Loss: 1.0770... Val Loss: 1.0694\n",
      "Epoch: 6/15... Step: 5500... Loss: 1.0975... Val Loss: 1.0692\n",
      "Epoch: 6/15... Step: 5600... Loss: 1.0484... Val Loss: 1.0655\n",
      "Epoch: 6/15... Step: 5700... Loss: 1.0819... Val Loss: 1.0633\n",
      "Epoch: 6/15... Step: 5800... Loss: 1.0928... Val Loss: 1.0600\n",
      "Epoch: 6/15... Step: 5900... Loss: 1.0922... Val Loss: 1.0585\n",
      "Epoch: 6/15... Step: 6000... Loss: 1.0658... Val Loss: 1.0570\n",
      "Epoch: 6/15... Step: 6100... Loss: 1.0422... Val Loss: 1.0531\n",
      "Epoch: 6/15... Step: 6200... Loss: 1.0599... Val Loss: 1.0522\n"
     ]
    },
    {
     "name": "stderr",
     "output_type": "stream",
     "text": [
      " 40%|████      | 6/15 [5:28:05<8:46:45, 3511.68s/it]"
     ]
    },
    {
     "name": "stdout",
     "output_type": "stream",
     "text": [
      "Epoch: 7/15... Step: 6300... Loss: 1.0856... Val Loss: 1.0493\n",
      "Epoch: 7/15... Step: 6400... Loss: 1.0917... Val Loss: 1.0447\n",
      "Epoch: 7/15... Step: 6500... Loss: 1.0453... Val Loss: 1.0428\n",
      "Epoch: 7/15... Step: 6600... Loss: 1.0369... Val Loss: 1.0432\n",
      "Epoch: 7/15... Step: 6700... Loss: 1.0617... Val Loss: 1.0407\n",
      "Epoch: 7/15... Step: 6800... Loss: 1.0707... Val Loss: 1.0387\n",
      "Epoch: 7/15... Step: 6900... Loss: 1.0410... Val Loss: 1.0379\n",
      "Epoch: 7/15... Step: 7000... Loss: 1.0506... Val Loss: 1.0308\n",
      "Epoch: 7/15... Step: 7100... Loss: 1.0090... Val Loss: 1.0343\n",
      "Epoch: 7/15... Step: 7200... Loss: 1.0106... Val Loss: 1.0283\n",
      "Epoch: 7/15... Step: 7300... Loss: 1.0309... Val Loss: 1.0242\n"
     ]
    },
    {
     "name": "stderr",
     "output_type": "stream",
     "text": [
      " 47%|████▋     | 7/15 [6:23:03<7:38:55, 3441.90s/it]"
     ]
    },
    {
     "name": "stdout",
     "output_type": "stream",
     "text": [
      "Epoch: 8/15... Step: 7400... Loss: 1.0316... Val Loss: 1.0225\n",
      "Epoch: 8/15... Step: 7500... Loss: 1.0247... Val Loss: 1.0198\n",
      "Epoch: 8/15... Step: 7600... Loss: 1.0260... Val Loss: 1.0195\n",
      "Epoch: 8/15... Step: 7700... Loss: 1.0141... Val Loss: 1.0170\n",
      "Epoch: 8/15... Step: 7800... Loss: 0.9903... Val Loss: 1.0157\n",
      "Epoch: 8/15... Step: 7900... Loss: 1.0298... Val Loss: 1.0151\n",
      "Epoch: 8/15... Step: 8000... Loss: 1.0212... Val Loss: 1.0149\n",
      "Epoch: 8/15... Step: 8100... Loss: 1.0286... Val Loss: 1.0111\n",
      "Epoch: 8/15... Step: 8200... Loss: 1.0176... Val Loss: 1.0095\n",
      "Epoch: 8/15... Step: 8300... Loss: 1.0208... Val Loss: 1.0082\n"
     ]
    },
    {
     "name": "stderr",
     "output_type": "stream",
     "text": [
      " 53%|█████▎    | 8/15 [7:12:34<6:24:04, 3292.05s/it]"
     ]
    },
    {
     "name": "stdout",
     "output_type": "stream",
     "text": [
      "Epoch: 9/15... Step: 8400... Loss: 1.0094... Val Loss: 1.0071\n",
      "Epoch: 9/15... Step: 8500... Loss: 1.0096... Val Loss: 1.0038\n",
      "Epoch: 9/15... Step: 8600... Loss: 1.0316... Val Loss: 1.0052\n",
      "Epoch: 9/15... Step: 8700... Loss: 1.0114... Val Loss: 1.0028\n",
      "Epoch: 9/15... Step: 8800... Loss: 1.0098... Val Loss: 1.0018\n",
      "Epoch: 9/15... Step: 8900... Loss: 0.9872... Val Loss: 1.0006\n",
      "Epoch: 9/15... Step: 9000... Loss: 0.9449... Val Loss: 1.0003\n",
      "Epoch: 9/15... Step: 9100... Loss: 0.9900... Val Loss: 0.9978\n",
      "Epoch: 9/15... Step: 9200... Loss: 1.0067... Val Loss: 0.9953\n",
      "Epoch: 9/15... Step: 9300... Loss: 1.0358... Val Loss: 0.9948\n",
      "Epoch: 9/15... Step: 9400... Loss: 0.9878... Val Loss: 0.9934\n"
     ]
    },
    {
     "name": "stderr",
     "output_type": "stream",
     "text": [
      " 60%|██████    | 9/15 [8:06:30<5:27:26, 3274.35s/it]"
     ]
    },
    {
     "name": "stdout",
     "output_type": "stream",
     "text": [
      "Epoch: 10/15... Step: 9500... Loss: 1.0035... Val Loss: 0.9930\n",
      "Epoch: 10/15... Step: 9600... Loss: 0.9962... Val Loss: 0.9906\n",
      "Epoch: 10/15... Step: 9700... Loss: 1.0192... Val Loss: 0.9903\n",
      "Epoch: 10/15... Step: 9800... Loss: 1.0064... Val Loss: 0.9901\n",
      "Epoch: 10/15... Step: 9900... Loss: 0.9517... Val Loss: 0.9876\n",
      "Epoch: 10/15... Step: 10000... Loss: 1.0046... Val Loss: 0.9880\n",
      "Epoch: 10/15... Step: 10100... Loss: 0.9774... Val Loss: 0.9872\n",
      "Epoch: 10/15... Step: 10200... Loss: 0.9664... Val Loss: 0.9874\n",
      "Epoch: 10/15... Step: 10300... Loss: 0.9677... Val Loss: 0.9843\n",
      "Epoch: 10/15... Step: 10400... Loss: 1.0348... Val Loss: 0.9824\n"
     ]
    },
    {
     "name": "stderr",
     "output_type": "stream",
     "text": [
      " 67%|██████▋   | 10/15 [8:44:26<4:07:10, 2966.01s/it]"
     ]
    },
    {
     "name": "stdout",
     "output_type": "stream",
     "text": [
      "Epoch: 11/15... Step: 10500... Loss: 0.9899... Val Loss: 0.9829\n",
      "Epoch: 11/15... Step: 10600... Loss: 0.9496... Val Loss: 0.9807\n",
      "Epoch: 11/15... Step: 10700... Loss: 0.9576... Val Loss: 0.9814\n",
      "Epoch: 11/15... Step: 10800... Loss: 0.9524... Val Loss: 0.9800\n",
      "Epoch: 11/15... Step: 10900... Loss: 0.9713... Val Loss: 0.9784\n",
      "Epoch: 11/15... Step: 11000... Loss: 0.9588... Val Loss: 0.9780\n",
      "Epoch: 11/15... Step: 11100... Loss: 0.9848... Val Loss: 0.9780\n",
      "Epoch: 11/15... Step: 11200... Loss: 0.9615... Val Loss: 0.9781\n",
      "Epoch: 11/15... Step: 11300... Loss: 0.9813... Val Loss: 0.9774\n",
      "Epoch: 11/15... Step: 11400... Loss: 0.9780... Val Loss: 0.9749\n",
      "Epoch: 11/15... Step: 11500... Loss: 0.9955... Val Loss: 0.9743\n"
     ]
    },
    {
     "name": "stderr",
     "output_type": "stream",
     "text": [
      " 73%|███████▎  | 11/15 [9:18:43<2:59:11, 2687.89s/it]"
     ]
    },
    {
     "name": "stdout",
     "output_type": "stream",
     "text": [
      "Epoch: 12/15... Step: 11600... Loss: 0.9784... Val Loss: 0.9744\n",
      "Epoch: 12/15... Step: 11700... Loss: 1.0008... Val Loss: 0.9729\n",
      "Epoch: 12/15... Step: 11800... Loss: 0.9657... Val Loss: 0.9715\n",
      "Epoch: 12/15... Step: 11900... Loss: 0.9822... Val Loss: 0.9724\n",
      "Epoch: 12/15... Step: 12000... Loss: 0.9422... Val Loss: 0.9719\n",
      "Epoch: 12/15... Step: 12100... Loss: 0.9497... Val Loss: 0.9694\n",
      "Epoch: 12/15... Step: 12200... Loss: 0.9587... Val Loss: 0.9707\n",
      "Epoch: 12/15... Step: 12300... Loss: 0.9540... Val Loss: 0.9688\n",
      "Epoch: 12/15... Step: 12400... Loss: 0.9473... Val Loss: 0.9675\n",
      "Epoch: 12/15... Step: 12500... Loss: 0.9801... Val Loss: 0.9687\n"
     ]
    },
    {
     "name": "stderr",
     "output_type": "stream",
     "text": [
      " 80%|████████  | 12/15 [9:51:37<2:03:32, 2470.68s/it]"
     ]
    },
    {
     "name": "stdout",
     "output_type": "stream",
     "text": [
      "Epoch: 13/15... Step: 12600... Loss: 0.9449... Val Loss: 0.9695\n",
      "Epoch: 13/15... Step: 12700... Loss: 0.9478... Val Loss: 0.9671\n",
      "Epoch: 13/15... Step: 12800... Loss: 0.9319... Val Loss: 0.9651\n",
      "Epoch: 13/15... Step: 12900... Loss: 0.9590... Val Loss: 0.9646\n",
      "Epoch: 13/15... Step: 13000... Loss: 0.9624... Val Loss: 0.9648\n",
      "Epoch: 13/15... Step: 13100... Loss: 0.9433... Val Loss: 0.9644\n",
      "Epoch: 13/15... Step: 13200... Loss: 0.9797... Val Loss: 0.9647\n",
      "Epoch: 13/15... Step: 13300... Loss: 0.9012... Val Loss: 0.9626\n",
      "Epoch: 13/15... Step: 13400... Loss: 0.9226... Val Loss: 0.9626\n",
      "Epoch: 13/15... Step: 13500... Loss: 0.9514... Val Loss: 0.9621\n",
      "Epoch: 13/15... Step: 13600... Loss: 0.9571... Val Loss: 0.9640\n"
     ]
    },
    {
     "name": "stderr",
     "output_type": "stream",
     "text": [
      " 87%|████████▋ | 13/15 [10:25:58<1:18:13, 2346.69s/it]"
     ]
    },
    {
     "name": "stdout",
     "output_type": "stream",
     "text": [
      "Epoch: 14/15... Step: 13700... Loss: 0.9451... Val Loss: 0.9633\n",
      "Epoch: 14/15... Step: 13800... Loss: 0.9444... Val Loss: 0.9606\n",
      "Epoch: 14/15... Step: 13900... Loss: 0.9453... Val Loss: 0.9613\n",
      "Epoch: 14/15... Step: 14000... Loss: 0.9671... Val Loss: 0.9628\n",
      "Epoch: 14/15... Step: 14100... Loss: 0.9286... Val Loss: 0.9606\n",
      "Epoch: 14/15... Step: 14200... Loss: 0.9069... Val Loss: 0.9593\n",
      "Epoch: 14/15... Step: 14300... Loss: 0.9337... Val Loss: 0.9588\n",
      "Epoch: 14/15... Step: 14400... Loss: 0.9224... Val Loss: 0.9613\n",
      "Epoch: 14/15... Step: 14500... Loss: 0.9381... Val Loss: 0.9594\n",
      "Epoch: 14/15... Step: 14600... Loss: 0.9243... Val Loss: 0.9581\n"
     ]
    },
    {
     "name": "stderr",
     "output_type": "stream",
     "text": [
      " 93%|█████████▎| 14/15 [10:59:27<37:24, 2244.56s/it]  "
     ]
    },
    {
     "name": "stdout",
     "output_type": "stream",
     "text": [
      "Epoch: 15/15... Step: 14700... Loss: 0.9169... Val Loss: 0.9570\n",
      "Epoch: 15/15... Step: 14800... Loss: 0.9138... Val Loss: 0.9575\n",
      "Epoch: 15/15... Step: 14900... Loss: 0.9250... Val Loss: 0.9556\n",
      "Epoch: 15/15... Step: 15000... Loss: 0.8965... Val Loss: 0.9563\n",
      "Epoch: 15/15... Step: 15100... Loss: 0.9219... Val Loss: 0.9582\n",
      "Epoch: 15/15... Step: 15200... Loss: 0.9169... Val Loss: 0.9589\n",
      "Epoch: 15/15... Step: 15300... Loss: 0.9300... Val Loss: 0.9558\n",
      "Epoch: 15/15... Step: 15400... Loss: 0.9072... Val Loss: 0.9574\n",
      "Epoch: 15/15... Step: 15500... Loss: 0.9106... Val Loss: 0.9538\n",
      "Epoch: 15/15... Step: 15600... Loss: 0.9001... Val Loss: 0.9537\n",
      "Epoch: 15/15... Step: 15700... Loss: 0.9032... Val Loss: 0.9556\n"
     ]
    },
    {
     "name": "stderr",
     "output_type": "stream",
     "text": [
      "100%|██████████| 15/15 [11:34:22<00:00, 2777.52s/it]\n"
     ]
    },
    {
     "data": {
      "image/png": "[encoded data removed]",
      "text/plain": [
       "<Figure size 700x500 with 1 Axes>"
      ]
     },
     "metadata": {},
     "output_type": "display_data"
    }
   ],
   "source": [
    "n_hidden=1024\n",
    "n_layers=3\n",
    "net = CharRNN(chars, n_hidden, n_layers, drop_prob = 0.2)\n",
    "train(net, encoded, epochs=15, batch_size=batch_size, seq_length=seq_length, lr=0.001, print_every=100)"
   ]
  },
  {
   "cell_type": "code",
   "execution_count": 31,
   "metadata": {
    "metadata": {}
   },
   "outputs": [
    {
     "name": "stdout",
     "output_type": "stream",
     "text": [
      "The flight was supposed to be an emergency exit row before departure. An overnight flight from Saogano to Bonaire had no choice of drinks. It is a lot of serving a free seat, which are not easy and not served out of the airplane with a lot to be served for a bus ticket. I would like to fly them again.\n",
      "  I wasn't able to stay two delays or two finally booked in the next flight because of an intercontinental problem. So we called and asked who had already been trying to get to the airport which was not the airline for me to buy another ticket and they told me that it was disconnected but they were still waiting for me to sit together in my original flight. They sent them two months this week before I call the flight attendant faces on an earlier flight but it was not enough! They do not ruin the phone the problem and they could not speak with any other option and was told the pandemic claim they went on time for the next morning flight back through Seaborne. At the check-in counter the flight attendant then asked if we cannot get to the gates and there were no suitcases then and she was able to check the lady for the passengers or countless the call. After waiting to check in we got on online for another 15 minutes for the flight from Boston to Beijing. The agents have consistently didn’t even have a second carrier that doesn't have the cost of the refund which is already allowed. No choice but to pay extra for the extra space. Wasn’t all they charged for as well. Then the sanitizer and a basic complaint was asked to say the least. The service on this flight was good. The aircraft was an excellent airline that were cheap and attractive and control of the airline. I was traveling from London to Lima on the flight to Taikan. The service was friendly and helpful while on arrival in Taipei was a personal experience, but when I was seated with the carpet they were sore as they charged me $80 for me from buses and and when I got to the door is not working the seats. I was so competiti\n"
     ]
    }
   ],
   "source": [
    "print(sample(net, 2000, prime='The flight', top_k=5))"
   ]
  },
  {
   "cell_type": "markdown",
   "metadata": {},
   "source": [
    "Words look all correct: that reinforces the \"overfitting\" theory of the previous model. But sentence construction looks a little bit worse, even though \"An overnight flight from Saogano to Bonaire had no choice of drinks.\" is a valid one."
   ]
  },
  {
   "cell_type": "code",
   "execution_count": 17,
   "metadata": {
    "metadata": {}
   },
   "outputs": [
    {
     "name": "stderr",
     "output_type": "stream",
     "text": [
      "  0%|          | 0/3 [00:00<?, ?it/s]"
     ]
    },
    {
     "name": "stdout",
     "output_type": "stream",
     "text": [
      "Epoch: 1/3... Step: 100... Loss: 3.1243... Val Loss: 3.0866\n",
      "Epoch: 1/3... Step: 200... Loss: 3.1027... Val Loss: 3.0876\n",
      "Epoch: 1/3... Step: 300... Loss: 3.1174... Val Loss: 3.0890\n",
      "Epoch: 1/3... Step: 400... Loss: 3.0988... Val Loss: 3.0871\n",
      "Epoch: 1/3... Step: 500... Loss: 3.0839... Val Loss: 3.0874\n",
      "Epoch: 1/3... Step: 600... Loss: 3.1046... Val Loss: 3.0880\n",
      "Epoch: 1/3... Step: 700... Loss: 3.0835... Val Loss: 3.0872\n",
      "Epoch: 1/3... Step: 800... Loss: 3.1177... Val Loss: 3.0870\n",
      "Epoch: 1/3... Step: 900... Loss: 3.0947... Val Loss: 3.0886\n",
      "Epoch: 1/3... Step: 1000... Loss: 3.0827... Val Loss: 3.0877\n"
     ]
    },
    {
     "name": "stderr",
     "output_type": "stream",
     "text": [
      " 33%|███▎      | 1/3 [17:15<34:30, 1035.41s/it]"
     ]
    },
    {
     "name": "stdout",
     "output_type": "stream",
     "text": [
      "Epoch: 2/3... Step: 1100... Loss: 3.0869... Val Loss: 3.0866\n",
      "Epoch: 2/3... Step: 1200... Loss: 3.0939... Val Loss: 3.0875\n",
      "Epoch: 2/3... Step: 1300... Loss: 3.0780... Val Loss: 3.0862\n",
      "Epoch: 2/3... Step: 1400... Loss: 3.0867... Val Loss: 3.0863\n",
      "Epoch: 2/3... Step: 1500... Loss: 3.0691... Val Loss: 3.0871\n",
      "Epoch: 2/3... Step: 1600... Loss: 3.0947... Val Loss: 3.0867\n",
      "Epoch: 2/3... Step: 1700... Loss: 3.0807... Val Loss: 3.0864\n",
      "Epoch: 2/3... Step: 1800... Loss: 3.0885... Val Loss: 3.0868\n",
      "Epoch: 2/3... Step: 1900... Loss: 3.0843... Val Loss: 3.0865\n",
      "Epoch: 2/3... Step: 2000... Loss: 3.0877... Val Loss: 3.0873\n"
     ]
    },
    {
     "name": "stderr",
     "output_type": "stream",
     "text": [
      " 67%|██████▋   | 2/3 [34:30<17:15, 1035.12s/it]"
     ]
    },
    {
     "name": "stdout",
     "output_type": "stream",
     "text": [
      "Epoch: 3/3... Step: 2100... Loss: 3.0917... Val Loss: 3.0864\n",
      "Epoch: 3/3... Step: 2200... Loss: 3.0848... Val Loss: 3.0860\n",
      "Epoch: 3/3... Step: 2300... Loss: 3.0968... Val Loss: 3.0867\n",
      "Epoch: 3/3... Step: 2400... Loss: 3.1021... Val Loss: 3.0868\n",
      "Epoch: 3/3... Step: 2500... Loss: 3.1130... Val Loss: 3.0865\n",
      "Epoch: 3/3... Step: 2600... Loss: 3.0811... Val Loss: 3.0863\n",
      "Epoch: 3/3... Step: 2700... Loss: 3.0914... Val Loss: 3.0867\n",
      "Epoch: 3/3... Step: 2800... Loss: 3.1070... Val Loss: 3.0860\n",
      "Epoch: 3/3... Step: 2900... Loss: 3.1216... Val Loss: 3.0864\n",
      "Epoch: 3/3... Step: 3000... Loss: 3.0874... Val Loss: 3.0869\n",
      "Epoch: 3/3... Step: 3100... Loss: 3.1073... Val Loss: 3.0870\n"
     ]
    },
    {
     "name": "stderr",
     "output_type": "stream",
     "text": [
      "100%|██████████| 3/3 [52:36<00:00, 1052.05s/it]\n"
     ]
    },
    {
     "data": {
      "image/png": "[encoded data removed]",
      "text/plain": [
       "<Figure size 700x500 with 1 Axes>"
      ]
     },
     "metadata": {},
     "output_type": "display_data"
    }
   ],
   "source": [
    "net = CharRNN(chars, n_hidden = 512, n_layers = 4, drop_prob = 0.1)\n",
    "train(net, encoded, epochs=3, lr=0.001, print_every=100)"
   ]
  },
  {
   "cell_type": "code",
   "execution_count": 18,
   "metadata": {
    "metadata": {}
   },
   "outputs": [
    {
     "name": "stderr",
     "output_type": "stream",
     "text": [
      "  0%|          | 0/3 [00:00<?, ?it/s]"
     ]
    },
    {
     "name": "stdout",
     "output_type": "stream",
     "text": [
      "Epoch: 1/3... Step: 100... Loss: 3.1312... Val Loss: 3.0869\n",
      "Epoch: 1/3... Step: 200... Loss: 3.1043... Val Loss: 3.0892\n",
      "Epoch: 1/3... Step: 300... Loss: 3.1156... Val Loss: 3.0891\n",
      "Epoch: 1/3... Step: 400... Loss: 3.1003... Val Loss: 3.0877\n",
      "Epoch: 1/3... Step: 500... Loss: 3.0817... Val Loss: 3.0873\n",
      "Epoch: 1/3... Step: 600... Loss: 3.1018... Val Loss: 3.0878\n",
      "Epoch: 1/3... Step: 700... Loss: 3.0829... Val Loss: 3.0869\n",
      "Epoch: 1/3... Step: 800... Loss: 3.1182... Val Loss: 3.0875\n",
      "Epoch: 1/3... Step: 900... Loss: 3.0927... Val Loss: 3.0885\n",
      "Epoch: 1/3... Step: 1000... Loss: 3.0815... Val Loss: 3.0875\n"
     ]
    },
    {
     "name": "stderr",
     "output_type": "stream",
     "text": [
      " 33%|███▎      | 1/3 [46:13<1:32:27, 2773.51s/it]"
     ]
    },
    {
     "name": "stdout",
     "output_type": "stream",
     "text": [
      "Epoch: 2/3... Step: 1100... Loss: 3.0867... Val Loss: 3.0866\n",
      "Epoch: 2/3... Step: 1200... Loss: 3.0944... Val Loss: 3.0877\n",
      "Epoch: 2/3... Step: 1300... Loss: 3.0766... Val Loss: 3.0863\n",
      "Epoch: 2/3... Step: 1400... Loss: 3.0862... Val Loss: 3.0856\n",
      "Epoch: 2/3... Step: 1500... Loss: 3.0696... Val Loss: 3.0865\n",
      "Epoch: 2/3... Step: 1600... Loss: 3.0946... Val Loss: 3.0866\n",
      "Epoch: 2/3... Step: 1700... Loss: 3.0814... Val Loss: 3.0858\n",
      "Epoch: 2/3... Step: 1800... Loss: 3.0886... Val Loss: 3.0863\n",
      "Epoch: 2/3... Step: 1900... Loss: 3.0834... Val Loss: 3.0860\n",
      "Epoch: 2/3... Step: 2000... Loss: 3.0873... Val Loss: 3.0863\n"
     ]
    },
    {
     "name": "stderr",
     "output_type": "stream",
     "text": [
      " 67%|██████▋   | 2/3 [1:33:18<46:43, 2803.96s/it]"
     ]
    },
    {
     "name": "stdout",
     "output_type": "stream",
     "text": [
      "Epoch: 3/3... Step: 2100... Loss: 3.0932... Val Loss: 3.0867\n",
      "Epoch: 3/3... Step: 2200... Loss: 3.0855... Val Loss: 3.0860\n",
      "Epoch: 3/3... Step: 2300... Loss: 3.0968... Val Loss: 3.0860\n",
      "Epoch: 3/3... Step: 2400... Loss: 3.1020... Val Loss: 3.0868\n",
      "Epoch: 3/3... Step: 2500... Loss: 3.1136... Val Loss: 3.0864\n",
      "Epoch: 3/3... Step: 2600... Loss: 3.0820... Val Loss: 3.0862\n",
      "Epoch: 3/3... Step: 2700... Loss: 3.0913... Val Loss: 3.0864\n",
      "Epoch: 3/3... Step: 2800... Loss: 3.1070... Val Loss: 3.0854\n",
      "Epoch: 3/3... Step: 2900... Loss: 2.6734... Val Loss: 2.5709\n",
      "Epoch: 3/3... Step: 3000... Loss: 2.2258... Val Loss: 2.1864\n",
      "Epoch: 3/3... Step: 3100... Loss: 2.0288... Val Loss: 1.8934\n"
     ]
    },
    {
     "name": "stderr",
     "output_type": "stream",
     "text": [
      "100%|██████████| 3/3 [2:23:31<00:00, 2870.43s/it]\n"
     ]
    },
    {
     "data": {
      "image/png": "[encoded data removed]",
      "text/plain": [
       "<Figure size 700x500 with 1 Axes>"
      ]
     },
     "metadata": {},
     "output_type": "display_data"
    }
   ],
   "source": [
    "net = CharRNN(chars, n_hidden = 1024, n_layers = 4, drop_prob = 0.2)\n",
    "train(net, encoded, epochs=3, lr=0.001, print_every=100)"
   ]
  },
  {
   "cell_type": "code",
   "execution_count": 22,
   "metadata": {
    "metadata": {}
   },
   "outputs": [
    {
     "name": "stdout",
     "output_type": "stream",
     "text": [
      "The flight was disgusting choices. Totally task as they would be checked in our bag on them as there was no infant another cabin crew asked to spot back. Was on another two flights from Belta. The airline she traveller there was on the flight attendants weren’t that they wouldn't even another ticket would be allowed boarding took off and a good flights are not a seat in but that’s a few handling to the part from the airport it’s not a cup of seats for all the flight from this airline in the airport and at a cabin crowd and well was the following day of a bridge, this flight went the finally at a check in and was clean. The problem and thinker company of the planes are such a later they checking a seat attendant. They can’t check my chinger than this flight from Lakarto and was travelling and the service is on hit my last regularly so I cannot having an overnight attendants took over.\n",
      "  The airport the plane was still. The service on both of one warmed and then will never been a little of the airport are next monne. The plane was a canceled for the airline but not this travelent. I have already bought an email santwich and called as it service was clearly for the safely, but the selected that the plight was offer as well as about an emeat changed another destern times. Itstaul airlines. The flight attendants was offered by those staff and cheapes were on their flight, and I was told I went to my friend and wait in any other from the connecting flight on the airport flight, and would have been on time. The flights we could hear that the flight was decend. The flight was closed all the tooth trip from the good airline. The plane. Our flight the pasta was clean at the airport through this flight, I was only without any second flight.\n",
      "It was the follow without any company. I have no refund, without international aircraft is a baggage and will be played by the paying and there was no official another day because the seats and will never fly again.\n",
      "  After 12/11 and I had to go back \n"
     ]
    }
   ],
   "source": [
    "net = load(\"./preTrained/2_512_0.net\")\n",
    "print(sample(net, 2000, top_k=5, prime=\"The flight\"))"
   ]
  },
  {
   "cell_type": "markdown",
   "metadata": {},
   "source": [
    "increase batch?"
   ]
  },
  {
   "cell_type": "markdown",
   "metadata": {},
   "source": [
    "Final considerations\n",
    "\n",
    "Should be improved by constructing a proper grid search, with early stopping techniques, also varying the other parameters, like batch size, learning rate etc. Also implementing checkpointing at every epoch. The problem is the really slow training: training for a bigger number of epochs (especially on the bigger models) would have probably yielded more diverse results and would have allowed us to really capture the behavioural differences.\n",
    "Apparently, there was no need for dropout, at least for the amount of training that was done: validation error never rose. Anyway I still \"instinctively\" added it on more parametrised models (again, of course a proper grid search would be more appropriate).\n",
    "\n",
    "Strange behaviours during training (validation spike and plateau in the last, more complex models -> implementation errors / numerical instability (gradient explosion)?)"
   ]
  }
 ],
 "metadata": {
  "kernelspec": {
   "display_name": "Python [default]",
   "language": "python",
   "name": "python3"
  },
  "language_info": {
   "codemirror_mode": {
    "name": "ipython",
    "version": 3
   },
   "file_extension": ".py",
   "mimetype": "text/x-python",
   "name": "python",
   "nbconvert_exporter": "python",
   "pygments_lexer": "ipython3",
   "version": "3.8.10"
  }
 },
 "nbformat": 4,
 "nbformat_minor": 2
}

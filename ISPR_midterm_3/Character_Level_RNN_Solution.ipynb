{
 "cells": [
  {
   "cell_type": "markdown",
   "metadata": {},
   "source": [
    "# Character-Level LSTM in PyTorch\n",
    "\n",
    "In this notebook, I'll construct a character-level LSTM with PyTorch. The network will train character by character on some text, then generate new text character by character. As an example, I will train on Anna Karenina. **This model will be able to generate new text based on the text from the book!**\n",
    "\n",
    "This network is based off of Andrej Karpathy's [post on RNNs](http://karpathy.github.io/2015/05/21/rnn-effectiveness/) and [implementation in Torch](https://github.com/karpathy/char-rnn). Below is the general architecture of the character-wise RNN.\n",
    "\n",
    "<img src=\"assets/charseq.jpeg\" width=\"500\">"
   ]
  },
  {
   "cell_type": "markdown",
   "metadata": {},
   "source": [
    "First let's load in our required resources for data loading and model creation."
   ]
  },
  {
   "cell_type": "code",
   "execution_count": 1,
   "metadata": {
    "collapsed": true
   },
   "outputs": [],
   "source": [
    "import numpy as np\n",
    "import torch\n",
    "from torch import nn\n",
    "import torch.nn.functional as F\n",
    "from tqdm import tqdm\n",
    "import matplotlib.pyplot as plt\n",
    "import pandas as pd"
   ]
  },
  {
   "cell_type": "markdown",
   "metadata": {},
   "source": [
    "## Load in Data\n",
    "\n"
   ]
  },
  {
   "cell_type": "code",
   "execution_count": 2,
   "metadata": {
    "collapsed": true
   },
   "outputs": [],
   "source": [
    "# isolating the review column and saving it to a text file\n",
    "data = pd.read_csv('./data/Airline_Reviews.csv', encoding='utf-8')\n",
    "data = data['Review']\n",
    "data.to_csv('./data/reviews.txt', index=False, header=False, sep='\\n')\n",
    "\n",
    "# open text file and read in data as `text`\n",
    "with open('data/reviews.txt', 'r') as f:\n",
    "    text = f.read()"
   ]
  },
  {
   "cell_type": "markdown",
   "metadata": {},
   "source": [
    "Let's check out the first 100 characters."
   ]
  },
  {
   "cell_type": "code",
   "execution_count": 3,
   "metadata": {},
   "outputs": [
    {
     "data": {
      "text/plain": [
       "'  Moroni to Moheli. Turned out to be a pretty decent airline. Online booking worked well, checkin an'"
      ]
     },
     "execution_count": 3,
     "metadata": {},
     "output_type": "execute_result"
    }
   ],
   "source": [
    "text[:100]"
   ]
  },
  {
   "cell_type": "markdown",
   "metadata": {},
   "source": [
    "### Tokenization\n",
    "\n",
    "In the cells, below, I'm creating a couple **dictionaries** to convert the characters to and from integers. Encoding the characters as integers makes it easier to use as input in the network."
   ]
  },
  {
   "cell_type": "code",
   "execution_count": 4,
   "metadata": {
    "collapsed": true
   },
   "outputs": [],
   "source": [
    "# encode the text and map each character to an integer and vice versa\n",
    "\n",
    "# we create two dictionaries:\n",
    "# 1. int2char, which maps integers to characters\n",
    "# 2. char2int, which maps characters to unique integers\n",
    "chars = tuple(set(text))\n",
    "int2char = dict(enumerate(chars))\n",
    "char2int = {ch: ii for ii, ch in int2char.items()}\n",
    "\n",
    "# encode the text\n",
    "encoded = np.array([char2int[ch] for ch in text])"
   ]
  },
  {
   "cell_type": "markdown",
   "metadata": {},
   "source": [
    "And we can see those same characters from above, encoded as integers."
   ]
  },
  {
   "cell_type": "code",
   "execution_count": 5,
   "metadata": {},
   "outputs": [
    {
     "data": {
      "text/plain": [
       "array([339, 339, 397, 148, 464, 148, 164, 418, 339,  62, 148, 339, 397,\n",
       "       148, 381, 224,  29, 418, 461, 339, 442, 251, 464, 164, 224, 114,\n",
       "       339, 148, 251,  62, 339,  62, 148, 339, 258, 224, 339, 424, 339,\n",
       "       465, 464, 224,  62,  62, 297, 339, 114, 224, 135, 224, 164,  62,\n",
       "       339, 424, 418, 464,  29, 418, 164, 224, 461, 339,  92, 164,  29,\n",
       "       418, 164, 224, 339, 258, 148, 148, 259, 418, 164, 115, 339, 312,\n",
       "       148, 464, 259, 224, 114, 339, 312, 224,  29,  29,  36, 339, 135,\n",
       "       381, 224, 135, 259, 418, 164, 339, 424, 164])"
      ]
     },
     "execution_count": 5,
     "metadata": {},
     "output_type": "execute_result"
    }
   ],
   "source": [
    "encoded[:100]"
   ]
  },
  {
   "cell_type": "markdown",
   "metadata": {},
   "source": [
    "## Pre-processing the data\n",
    "\n",
    "As you can see in our char-RNN image above, our LSTM expects an input that is **one-hot encoded** meaning that each character is converted into an integer (via our created dictionary) and *then* converted into a column vector where only it's corresponding integer index will have the value of 1 and the rest of the vector will be filled with 0's. Since we're one-hot encoding the data, let's make a function to do that!\n"
   ]
  },
  {
   "cell_type": "code",
   "execution_count": 6,
   "metadata": {
    "collapsed": true
   },
   "outputs": [],
   "source": [
    "def one_hot_encode(arr, n_labels):\n",
    "    \n",
    "    # Initialize the the encoded array\n",
    "    one_hot = np.zeros((arr.size, n_labels), dtype=np.float32)\n",
    "    \n",
    "    # Fill the appropriate elements with ones\n",
    "    one_hot[np.arange(one_hot.shape[0]), arr.flatten()] = 1.\n",
    "    \n",
    "    # Finally reshape it to get back to the original array\n",
    "    one_hot = one_hot.reshape((*arr.shape, n_labels))\n",
    "    \n",
    "    return one_hot"
   ]
  },
  {
   "cell_type": "code",
   "execution_count": 7,
   "metadata": {},
   "outputs": [
    {
     "name": "stdout",
     "output_type": "stream",
     "text": [
      "[[[0. 0. 0. 1. 0. 0. 0. 0.]\n",
      "  [0. 0. 0. 0. 0. 1. 0. 0.]\n",
      "  [0. 1. 0. 0. 0. 0. 0. 0.]]]\n"
     ]
    }
   ],
   "source": [
    "# check that the function works as expected\n",
    "test_seq = np.array([[3, 5, 1]])\n",
    "one_hot = one_hot_encode(test_seq, 8)\n",
    "\n",
    "print(one_hot)"
   ]
  },
  {
   "cell_type": "markdown",
   "metadata": {},
   "source": [
    "## Making training mini-batches\n",
    "\n",
    "\n",
    "To train on this data, we also want to create mini-batches for training. Remember that we want our batches to be multiple sequences of some desired number of sequence steps. \n",
    "\n",
    "In this example, we'll take the encoded characters (passed in as the `arr` parameter) and split them into multiple sequences, given by `batch_size`. Each of our sequences will be `seq_length` long.\n",
    "\n",
    "### Creating Batches\n",
    "\n",
    "**1. The first thing we need to do is discard some of the text so we only have completely full mini-batches. **\n",
    "\n",
    "Each batch contains $N \\times M$ characters, where $N$ is the batch size (the number of sequences in a batch) and $M$ is the seq_length or number of time steps in a sequence. Then, to get the total number of batches, $K$, that we can make from the array `arr`, you divide the length of `arr` by the number of characters per batch. Once you know the number of batches, you can get the total number of characters to keep from `arr`, $N * M * K$.\n",
    "\n",
    "**2. After that, we need to split `arr` into $N$ batches. ** \n",
    "\n",
    "You can do this using `arr.reshape(size)` where `size` is a tuple containing the dimensions sizes of the reshaped array. We know we want $N$ sequences in a batch, so let's make that the size of the first dimension. For the second dimension, you can use `-1` as a placeholder in the size, it'll fill up the array with the appropriate data for you. After this, you should have an array that is $N \\times (M * K)$.\n",
    "\n",
    "**3. Now that we have this array, we can iterate through it to get our mini-batches. **\n",
    "\n",
    "The idea is each batch is a $N \\times M$ window on the $N \\times (M * K)$ array. For each subsequent batch, the window moves over by `seq_length`. We also want to create both the input and target arrays. Remember that the targets are just the inputs shifted over by one character. The way I like to do this window is use `range` to take steps of size `n_steps` from $0$ to `arr.shape[1]`, the total number of tokens in each sequence. That way, the integers you get from `range` always point to the start of a batch, and each window is `seq_length` wide.\n"
   ]
  },
  {
   "cell_type": "code",
   "execution_count": 8,
   "metadata": {
    "collapsed": true
   },
   "outputs": [],
   "source": [
    "def get_batches(arr, batch_size, seq_length):\n",
    "    '''Create a generator that returns batches of size\n",
    "       batch_size x seq_length from arr.\n",
    "       \n",
    "       Arguments\n",
    "       ---------\n",
    "       arr: Array you want to make batches from\n",
    "       batch_size: Batch size, the number of sequences per batch\n",
    "       seq_length: Number of encoded chars in a sequence\n",
    "    '''\n",
    "    \n",
    "    batch_size_total = batch_size * seq_length\n",
    "    # total number of batches we can make\n",
    "    n_batches = len(arr)//batch_size_total\n",
    "    \n",
    "    # Keep only enough characters to make full batches\n",
    "    arr = arr[:n_batches * batch_size_total]\n",
    "    # Reshape into batch_size rows\n",
    "    arr = arr.reshape((batch_size, -1))\n",
    "    \n",
    "    # iterate through the array, one sequence at a time\n",
    "    for n in range(0, arr.shape[1], seq_length):\n",
    "        # The features\n",
    "        x = arr[:, n:n+seq_length]\n",
    "        # The targets, shifted by one\n",
    "        y = np.zeros_like(x)\n",
    "        try:\n",
    "            y[:, :-1], y[:, -1] = x[:, 1:], arr[:, n+seq_length]\n",
    "        except IndexError:\n",
    "            y[:, :-1], y[:, -1] = x[:, 1:], arr[:, 0]\n",
    "        yield x, y"
   ]
  },
  {
   "cell_type": "markdown",
   "metadata": {},
   "source": [
    "### Testing Implementation\n",
    "\n",
    "Now I'll make some data sets and we can check out what's going on as we batch data. Here, as an example, I'm going to use a batch size of 8 and 50 sequence steps."
   ]
  },
  {
   "cell_type": "code",
   "execution_count": 9,
   "metadata": {
    "collapsed": true
   },
   "outputs": [],
   "source": [
    "batches = get_batches(encoded, 8, 50)\n",
    "x, y = next(batches)"
   ]
  },
  {
   "cell_type": "code",
   "execution_count": 10,
   "metadata": {},
   "outputs": [
    {
     "name": "stdout",
     "output_type": "stream",
     "text": [
      "x\n",
      " [[339 339 397 148 464 148 164 418 339  62]\n",
      " [418  62 339 469 148 464 339 251 396 461]\n",
      " [224 135 424 251 396 224 339  62 381 224]\n",
      " [258 148 148 259 224 114 339 312 418  62]\n",
      " [224  36 339  62 381 224 297 339 469 148]\n",
      " [339 424 418 464  29 418 164 224 339  62]\n",
      " [ 29  29 339 258 224 339 396 135 464 424]\n",
      " [424 396 339 162 148 148 259 339 312 424]]\n",
      "\n",
      "y\n",
      " [[339 397 148 464 148 164 418 339  62 148]\n",
      " [ 62 339 469 148 464 339 251 396 461 339]\n",
      " [135 424 251 396 224 339  62 381 224 297]\n",
      " [148 148 259 224 114 339 312 418  62 381]\n",
      " [ 36 339  62 381 224 297 339 469 148 464]\n",
      " [424 418 464  29 418 164 224 339  62 381]\n",
      " [ 29 339 258 224 339 396 135 464 424 465]\n",
      " [396 339 162 148 148 259 339 312 424 396]]\n"
     ]
    }
   ],
   "source": [
    "# printing out the first 10 items in a sequence\n",
    "print('x\\n', x[:10, :10])\n",
    "print('\\ny\\n', y[:10, :10])"
   ]
  },
  {
   "cell_type": "markdown",
   "metadata": {},
   "source": [
    "The data is shifted over one step for `y`."
   ]
  },
  {
   "cell_type": "markdown",
   "metadata": {},
   "source": [
    "---\n",
    "## Defining the network with PyTorch"
   ]
  },
  {
   "cell_type": "markdown",
   "metadata": {},
   "source": [
    "### Model Structure\n",
    "\n",
    "In `__init__` the suggested structure is as follows:\n",
    "* Create and store the necessary dictionaries (this has been done for you)\n",
    "* Define an LSTM layer that takes as params: an input size (the number of characters), a hidden layer size `n_hidden`, a number of layers `n_layers`, a dropout probability `drop_prob`, and a batch_first boolean (True, since we are batching)\n",
    "* Define a dropout layer with `drop_prob`\n",
    "* Define a fully-connected layer with params: input size `n_hidden` and output size (the number of characters)\n",
    "* Finally, initialize the weights (again, this has been given)\n",
    "\n",
    "Note that some parameters have been named and given in the `__init__` function, and we use them and store them by doing something like `self.drop_prob = drop_prob`."
   ]
  },
  {
   "cell_type": "markdown",
   "metadata": {},
   "source": [
    "---\n",
    "### LSTM Inputs/Outputs\n",
    "\n",
    "You can create a basic [LSTM layer](https://pytorch.org/docs/stable/nn.html#lstm) as follows\n",
    "\n",
    "```python\n",
    "self.lstm = nn.LSTM(input_size, n_hidden, n_layers, \n",
    "                            dropout=drop_prob, batch_first=True)\n",
    "```\n",
    "\n",
    "where `input_size` is the number of characters this cell expects to see as sequential input, and `n_hidden` is the number of units in the hidden layers in the cell. And we can add dropout by adding a dropout parameter with a specified probability; this will automatically add dropout to the inputs or outputs. Finally, in the `forward` function, we can stack up the LSTM cells into layers using `.view`. With this, you pass in a list of cells and it will send the output of one cell into the next cell.\n",
    "\n",
    "We also need to create an initial hidden state of all zeros. This is done like so\n",
    "\n",
    "```python\n",
    "self.init_hidden()\n",
    "```"
   ]
  },
  {
   "cell_type": "code",
   "execution_count": 11,
   "metadata": {},
   "outputs": [
    {
     "name": "stdout",
     "output_type": "stream",
     "text": [
      "Training on GPU!\n"
     ]
    }
   ],
   "source": [
    "# check if GPU is available\n",
    "train_on_gpu = torch.cuda.is_available()\n",
    "if(train_on_gpu):\n",
    "    print('Training on GPU!')\n",
    "else: \n",
    "    print('No GPU available, training on CPU; consider making n_epochs very small.')"
   ]
  },
  {
   "cell_type": "code",
   "execution_count": 12,
   "metadata": {
    "collapsed": true
   },
   "outputs": [],
   "source": [
    "class CharRNN(nn.Module):\n",
    "    \n",
    "    def __init__(self, tokens, n_hidden=256, n_layers=2,\n",
    "                               drop_prob=0.1, lr=0.001):\n",
    "        super().__init__()\n",
    "        self.drop_prob = drop_prob\n",
    "        self.n_layers = n_layers\n",
    "        self.n_hidden = n_hidden\n",
    "        self.lr = lr\n",
    "        \n",
    "        # creating character dictionaries\n",
    "        self.chars = tokens\n",
    "        self.int2char = dict(enumerate(self.chars))\n",
    "        self.char2int = {ch: ii for ii, ch in self.int2char.items()}\n",
    "        \n",
    "        ## TODO: define the LSTM\n",
    "        self.lstm = nn.LSTM(len(self.chars), n_hidden, n_layers, \n",
    "                            dropout=drop_prob, batch_first=True)\n",
    "        \n",
    "        ## TODO: define a dropout layer\n",
    "        self.dropout = nn.Dropout(drop_prob)\n",
    "        \n",
    "        ## TODO: define the final, fully-connected output layer\n",
    "        self.fc = nn.Linear(n_hidden, len(self.chars))\n",
    "      \n",
    "    \n",
    "    def forward(self, x, hidden):\n",
    "        ''' Forward pass through the network. \n",
    "            These inputs are x, and the hidden/cell state `hidden`. '''\n",
    "                \n",
    "        ## TODO: Get the outputs and the new hidden state from the lstm\n",
    "        r_output, hidden = self.lstm(x, hidden)\n",
    "        \n",
    "        ## TODO: pass through a dropout layer\n",
    "        out = self.dropout(r_output)\n",
    "        \n",
    "        # Stack up LSTM outputs using view\n",
    "        # you may need to use contiguous to reshape the output\n",
    "        out = out.contiguous().view(-1, self.n_hidden)\n",
    "        \n",
    "        ## TODO: put x through the fully-connected layer\n",
    "        out = self.fc(out)\n",
    "        \n",
    "        # return the final output and the hidden state\n",
    "        return out, hidden\n",
    "    \n",
    "    \n",
    "    def init_hidden(self, batch_size):\n",
    "        ''' Initializes hidden state '''\n",
    "        # Create two new tensors with sizes n_layers x batch_size x n_hidden,\n",
    "        # initialized to zero, for hidden state and cell state of LSTM\n",
    "        weight = next(self.parameters()).data\n",
    "        \n",
    "        if (train_on_gpu):\n",
    "            hidden = (weight.new(self.n_layers, batch_size, self.n_hidden).zero_().cuda(),\n",
    "                  weight.new(self.n_layers, batch_size, self.n_hidden).zero_().cuda())\n",
    "        else:\n",
    "            hidden = (weight.new(self.n_layers, batch_size, self.n_hidden).zero_(),\n",
    "                      weight.new(self.n_layers, batch_size, self.n_hidden).zero_())\n",
    "        \n",
    "        return hidden\n",
    "        "
   ]
  },
  {
   "cell_type": "markdown",
   "metadata": {},
   "source": [
    "## Time to train\n",
    "\n",
    "The train function gives us the ability to set the number of epochs, the learning rate, and other parameters.\n",
    "\n",
    "Below we're using an Adam optimizer and cross entropy loss since we are looking at character class scores as output. We calculate the loss and perform backpropagation, as usual!\n",
    "\n",
    "A couple of details about training: \n",
    ">* Within the batch loop, we detach the hidden state from its history; this time setting it equal to a new *tuple* variable because an LSTM has a hidden state that is a tuple of the hidden and cell states.\n",
    "* We use [`clip_grad_norm_`](https://pytorch.org/docs/stable/_modules/torch/nn/utils/clip_grad.html) to help prevent exploding gradients."
   ]
  },
  {
   "cell_type": "code",
   "execution_count": 13,
   "metadata": {
    "collapsed": true,
    "metadata": {}
   },
   "outputs": [],
   "source": [
    "def plot_loss(train, ax, val):\n",
    "    iterations = np.arange(len(train))\n",
    "    ax.set_ylabel(\"Loss\")\n",
    "    ax.set_title(\"Learning Curve\")\n",
    "    t_loss = ax.plot(iterations, train, color=\"black\", label = \"train loss\")\n",
    "    v_loss = ax.plot(iterations, val, color=\"red\",linestyle='--',label= \"val loss\")\n",
    "    ax.legend()\n",
    "\n",
    "def train(net, data, epochs=10, batch_size=10, seq_length=50, lr=0.001, clip=5, val_frac=0.2, print_every=10):\n",
    "    ''' Training a network \n",
    "    \n",
    "        Arguments\n",
    "        ---------\n",
    "        \n",
    "        net: CharRNN network\n",
    "        data: text data to train the network\n",
    "        epochs: Number of epochs to train\n",
    "        batch_size: Number of mini-sequences per mini-batch, aka batch size\n",
    "        seq_length: Number of character steps per mini-batch\n",
    "        lr: learning rate\n",
    "        clip: gradient clipping\n",
    "        val_frac: Fraction of data to hold out for validation\n",
    "        print_every: Number of steps for printing training and validation loss\n",
    "    \n",
    "    '''\n",
    "    net.train()\n",
    "    \n",
    "    opt = torch.optim.Adam(net.parameters(), lr=lr)\n",
    "    criterion = nn.CrossEntropyLoss()\n",
    "    \n",
    "    # create training and validation data\n",
    "    val_idx = int(len(data)*(1-val_frac))\n",
    "    data, val_data = data[:val_idx], data[val_idx:]\n",
    "    \n",
    "    if(train_on_gpu):\n",
    "        net.cuda()\n",
    "    \n",
    "    counter = 0\n",
    "    loss_acc = 0\n",
    "    n_chars = len(net.chars)\n",
    "    total_val_losses = []\n",
    "    total_train_losses = []\n",
    "    for e in tqdm(range(epochs)):\n",
    "        # initialize hidden state\n",
    "        h = net.init_hidden(batch_size)\n",
    "        \n",
    "        for x, y in get_batches(data, batch_size, seq_length):\n",
    "            counter += 1\n",
    "            \n",
    "            # One-hot encode our data and make them Torch tensors\n",
    "            x = one_hot_encode(x, n_chars)\n",
    "            inputs, targets = torch.from_numpy(x), torch.from_numpy(y)\n",
    "            \n",
    "            if(train_on_gpu):\n",
    "                inputs, targets = inputs.cuda(), targets.cuda()\n",
    "\n",
    "            # Creating new variables for the hidden state, otherwise\n",
    "            # we'd backprop through the entire training history\n",
    "            h = tuple([each.data for each in h])\n",
    "\n",
    "            # zero accumulated gradients\n",
    "            net.zero_grad()\n",
    "            \n",
    "            # get the output from the model\n",
    "            output, h = net(inputs, h)\n",
    "            \n",
    "            # calculate the loss and perform backprop\n",
    "            loss = criterion(output, targets.view(batch_size*seq_length).long())\n",
    "            loss_acc += loss.item()\n",
    "            loss.backward()\n",
    "            # `clip_grad_norm` helps prevent the exploding gradient problem in RNNs / LSTMs.\n",
    "            nn.utils.clip_grad_norm_(net.parameters(), clip)\n",
    "            opt.step()\n",
    "            \n",
    "            # loss stats\n",
    "            if counter % print_every == 0:\n",
    "                # Get validation loss\n",
    "                val_h = net.init_hidden(batch_size)\n",
    "                val_losses = []\n",
    "                net.eval()\n",
    "                for x, y in get_batches(val_data, batch_size, seq_length):\n",
    "                    # One-hot encode our data and make them Torch tensors\n",
    "                    x = one_hot_encode(x, n_chars)\n",
    "                    x, y = torch.from_numpy(x), torch.from_numpy(y)\n",
    "                    \n",
    "                    # Creating new variables for the hidden state, otherwise\n",
    "                    # we'd backprop through the entire training history\n",
    "                    val_h = tuple([each.data for each in val_h])\n",
    "                    \n",
    "                    inputs, targets = x, y\n",
    "                    if(train_on_gpu):\n",
    "                        inputs, targets = inputs.cuda(), targets.cuda()\n",
    "\n",
    "                    output, val_h = net(inputs, val_h)\n",
    "                    val_loss = criterion(output, targets.view(batch_size*seq_length).long())\n",
    "                \n",
    "                    val_losses.append(val_loss.item())\n",
    "                \n",
    "                net.train() # reset to train mode after iterationg through validation data\n",
    "                \n",
    "                print(\"Epoch: {}/{}...\".format(e+1, epochs),\n",
    "                      \"Step: {}...\".format(counter),\n",
    "                      \"Loss: {:.4f}...\".format(loss.item()),\n",
    "                      \"Val Loss: {:.4f}\".format(np.mean(val_losses)))\n",
    "\n",
    "                total_val_losses.append(np.mean(val_losses))\n",
    "                total_train_losses.append(loss_acc / counter)\n",
    "    fig,axs = plt.subplots(1,1,figsize=(7,5))\n",
    "    plot_loss(total_train_losses, axs, total_val_losses)\n",
    "    np.save(\"./losses/CharRNN_air_reviews_train_\" + str(net.n_layers) + \"_\" + str(net.n_hidden) + \".npy\", np.array(total_train_losses))\n",
    "    np.save(\"./losses/CharRNN_air_reviews_val_\" + str(net.n_layers) + \"_\" + str(net.n_hidden) + \".npy\", np.array(total_val_losses))\n",
    "\n"
   ]
  },
  {
   "cell_type": "markdown",
   "metadata": {},
   "source": [
    "## Instantiating the model\n",
    "\n",
    "Now we can actually train the network. First we'll create the network itself, with some given hyperparameters. Then, define the mini-batches sizes, and start training!"
   ]
  },
  {
   "cell_type": "code",
   "execution_count": 14,
   "metadata": {
    "metadata": {}
   },
   "outputs": [
    {
     "name": "stdout",
     "output_type": "stream",
     "text": [
      "CharRNN(\n",
      "  (lstm): LSTM(474, 512, num_layers=2, batch_first=True)\n",
      "  (dropout): Dropout(p=0, inplace=False)\n",
      "  (fc): Linear(in_features=512, out_features=474, bias=True)\n",
      ")\n"
     ]
    }
   ],
   "source": [
    "# define and print the net\n",
    "n_hidden=512\n",
    "n_layers=2\n",
    "net = CharRNN(chars, n_hidden, n_layers, drop_prob = 0)\n",
    "print(net)"
   ]
  },
  {
   "cell_type": "code",
   "execution_count": 15,
   "metadata": {
    "metadata": {},
    "scrolled": true
   },
   "outputs": [
    {
     "name": "stderr",
     "output_type": "stream",
     "text": [
      "  0%|          | 0/10 [00:00<?, ?it/s]"
     ]
    },
    {
     "name": "stdout",
     "output_type": "stream",
     "text": [
      "Epoch: 1/10... Step: 100... Loss: 3.1141... Val Loss: 3.0864\n",
      "Epoch: 1/10... Step: 200... Loss: 3.0673... Val Loss: 3.0628\n",
      "Epoch: 1/10... Step: 300... Loss: 2.8159... Val Loss: 2.7921\n",
      "Epoch: 1/10... Step: 400... Loss: 2.6041... Val Loss: 2.5860\n",
      "Epoch: 1/10... Step: 500... Loss: 2.4318... Val Loss: 2.4643\n",
      "Epoch: 1/10... Step: 600... Loss: 2.3305... Val Loss: 2.3172\n",
      "Epoch: 1/10... Step: 700... Loss: 2.2065... Val Loss: 2.2004\n",
      "Epoch: 1/10... Step: 800... Loss: 2.1787... Val Loss: 2.1085\n",
      "Epoch: 1/10... Step: 900... Loss: 2.0395... Val Loss: 2.0627\n",
      "Epoch: 1/10... Step: 1000... Loss: 1.9839... Val Loss: 1.9690\n"
     ]
    },
    {
     "name": "stderr",
     "output_type": "stream",
     "text": [
      " 10%|█         | 1/10 [08:51<1:19:45, 531.68s/it]"
     ]
    },
    {
     "name": "stdout",
     "output_type": "stream",
     "text": [
      "Epoch: 2/10... Step: 1100... Loss: 1.9060... Val Loss: 1.9136\n",
      "Epoch: 2/10... Step: 1200... Loss: 1.8814... Val Loss: 1.8562\n",
      "Epoch: 2/10... Step: 1300... Loss: 1.7770... Val Loss: 1.8059\n",
      "Epoch: 2/10... Step: 1400... Loss: 1.7633... Val Loss: 1.7628\n",
      "Epoch: 2/10... Step: 1500... Loss: 1.7004... Val Loss: 1.7284\n",
      "Epoch: 2/10... Step: 1600... Loss: 1.6751... Val Loss: 1.6898\n",
      "Epoch: 2/10... Step: 1700... Loss: 1.6710... Val Loss: 1.6582\n",
      "Epoch: 2/10... Step: 1800... Loss: 1.5959... Val Loss: 1.6240\n",
      "Epoch: 2/10... Step: 1900... Loss: 1.6282... Val Loss: 1.5973\n",
      "Epoch: 2/10... Step: 2000... Loss: 1.5360... Val Loss: 1.5719\n"
     ]
    },
    {
     "name": "stderr",
     "output_type": "stream",
     "text": [
      " 20%|██        | 2/10 [19:25<1:18:52, 591.57s/it]"
     ]
    },
    {
     "name": "stdout",
     "output_type": "stream",
     "text": [
      "Epoch: 3/10... Step: 2100... Loss: 1.5568... Val Loss: 1.5510\n",
      "Epoch: 3/10... Step: 2200... Loss: 1.5136... Val Loss: 1.5287\n",
      "Epoch: 3/10... Step: 2300... Loss: 1.5167... Val Loss: 1.5114\n",
      "Epoch: 3/10... Step: 2400... Loss: 1.4874... Val Loss: 1.4906\n",
      "Epoch: 3/10... Step: 2500... Loss: 1.5080... Val Loss: 1.4757\n",
      "Epoch: 3/10... Step: 2600... Loss: 1.4404... Val Loss: 1.4586\n",
      "Epoch: 3/10... Step: 2700... Loss: 1.4527... Val Loss: 1.4491\n",
      "Epoch: 3/10... Step: 2800... Loss: 1.4404... Val Loss: 1.4296\n",
      "Epoch: 3/10... Step: 2900... Loss: 1.4530... Val Loss: 1.4231\n",
      "Epoch: 3/10... Step: 3000... Loss: 1.3783... Val Loss: 1.4091\n",
      "Epoch: 3/10... Step: 3100... Loss: 1.4320... Val Loss: 1.4011\n"
     ]
    },
    {
     "name": "stderr",
     "output_type": "stream",
     "text": [
      " 30%|███       | 3/10 [29:02<1:08:15, 585.13s/it]"
     ]
    },
    {
     "name": "stdout",
     "output_type": "stream",
     "text": [
      "Epoch: 4/10... Step: 3200... Loss: 1.3445... Val Loss: 1.3899\n",
      "Epoch: 4/10... Step: 3300... Loss: 1.3927... Val Loss: 1.3827\n",
      "Epoch: 4/10... Step: 3400... Loss: 1.3468... Val Loss: 1.3696\n",
      "Epoch: 4/10... Step: 3500... Loss: 1.3380... Val Loss: 1.3637\n",
      "Epoch: 4/10... Step: 3600... Loss: 1.3561... Val Loss: 1.3547\n",
      "Epoch: 4/10... Step: 3700... Loss: 1.3193... Val Loss: 1.3459\n",
      "Epoch: 4/10... Step: 3800... Loss: 1.3824... Val Loss: 1.3411\n",
      "Epoch: 4/10... Step: 3900... Loss: 1.3190... Val Loss: 1.3335\n",
      "Epoch: 4/10... Step: 4000... Loss: 1.2991... Val Loss: 1.3287\n",
      "Epoch: 4/10... Step: 4100... Loss: 1.2837... Val Loss: 1.3216\n"
     ]
    },
    {
     "name": "stderr",
     "output_type": "stream",
     "text": [
      " 40%|████      | 4/10 [38:19<57:22, 573.79s/it]  "
     ]
    },
    {
     "name": "stdout",
     "output_type": "stream",
     "text": [
      "Epoch: 5/10... Step: 4200... Loss: 1.3137... Val Loss: 1.3201\n",
      "Epoch: 5/10... Step: 4300... Loss: 1.3288... Val Loss: 1.3108\n",
      "Epoch: 5/10... Step: 4400... Loss: 1.2852... Val Loss: 1.3041\n",
      "Epoch: 5/10... Step: 4500... Loss: 1.2737... Val Loss: 1.3031\n",
      "Epoch: 5/10... Step: 4600... Loss: 1.2646... Val Loss: 1.2955\n",
      "Epoch: 5/10... Step: 4700... Loss: 1.2730... Val Loss: 1.2923\n",
      "Epoch: 5/10... Step: 4800... Loss: 1.2940... Val Loss: 1.2867\n",
      "Epoch: 5/10... Step: 4900... Loss: 1.2584... Val Loss: 1.2814\n",
      "Epoch: 5/10... Step: 5000... Loss: 1.2617... Val Loss: 1.2820\n",
      "Epoch: 5/10... Step: 5100... Loss: 1.2355... Val Loss: 1.2770\n",
      "Epoch: 5/10... Step: 5200... Loss: 1.2803... Val Loss: 1.2701\n"
     ]
    },
    {
     "name": "stderr",
     "output_type": "stream",
     "text": [
      " 50%|█████     | 5/10 [47:56<47:55, 575.15s/it]"
     ]
    },
    {
     "name": "stdout",
     "output_type": "stream",
     "text": [
      "Epoch: 6/10... Step: 5300... Loss: 1.2241... Val Loss: 1.2651\n",
      "Epoch: 6/10... Step: 5400... Loss: 1.2288... Val Loss: 1.2650\n",
      "Epoch: 6/10... Step: 5500... Loss: 1.2341... Val Loss: 1.2618\n",
      "Epoch: 6/10... Step: 5600... Loss: 1.2191... Val Loss: 1.2593\n",
      "Epoch: 6/10... Step: 5700... Loss: 1.2472... Val Loss: 1.2528\n",
      "Epoch: 6/10... Step: 5800... Loss: 1.2401... Val Loss: 1.2494\n",
      "Epoch: 6/10... Step: 5900... Loss: 1.2385... Val Loss: 1.2491\n",
      "Epoch: 6/10... Step: 6000... Loss: 1.2116... Val Loss: 1.2417\n",
      "Epoch: 6/10... Step: 6100... Loss: 1.1823... Val Loss: 1.2393\n",
      "Epoch: 6/10... Step: 6200... Loss: 1.2034... Val Loss: 1.2398\n"
     ]
    },
    {
     "name": "stderr",
     "output_type": "stream",
     "text": [
      " 60%|██████    | 6/10 [57:05<37:45, 566.30s/it]"
     ]
    },
    {
     "name": "stdout",
     "output_type": "stream",
     "text": [
      "Epoch: 7/10... Step: 6300... Loss: 1.2284... Val Loss: 1.2419\n",
      "Epoch: 7/10... Step: 6400... Loss: 1.2505... Val Loss: 1.2455\n",
      "Epoch: 7/10... Step: 6500... Loss: 1.1809... Val Loss: 1.2360\n",
      "Epoch: 7/10... Step: 6600... Loss: 1.2086... Val Loss: 1.2322\n",
      "Epoch: 7/10... Step: 6700... Loss: 1.2324... Val Loss: 1.2322\n",
      "Epoch: 7/10... Step: 6800... Loss: 1.2283... Val Loss: 1.2261\n",
      "Epoch: 7/10... Step: 6900... Loss: 1.1976... Val Loss: 1.2249\n",
      "Epoch: 7/10... Step: 7000... Loss: 1.2137... Val Loss: 1.2234\n",
      "Epoch: 7/10... Step: 7100... Loss: 1.1606... Val Loss: 1.2211\n",
      "Epoch: 7/10... Step: 7200... Loss: 1.1678... Val Loss: 1.2194\n",
      "Epoch: 7/10... Step: 7300... Loss: 1.1820... Val Loss: 1.2154\n"
     ]
    },
    {
     "name": "stderr",
     "output_type": "stream",
     "text": [
      " 70%|███████   | 7/10 [1:06:42<28:29, 569.85s/it]"
     ]
    },
    {
     "name": "stdout",
     "output_type": "stream",
     "text": [
      "Epoch: 8/10... Step: 7400... Loss: 1.1744... Val Loss: 1.2105\n",
      "Epoch: 8/10... Step: 7500... Loss: 1.1631... Val Loss: 1.2081\n",
      "Epoch: 8/10... Step: 7600... Loss: 1.1712... Val Loss: 1.2071\n",
      "Epoch: 8/10... Step: 7700... Loss: 1.1790... Val Loss: 1.2058\n",
      "Epoch: 8/10... Step: 7800... Loss: 1.1359... Val Loss: 1.2140\n",
      "Epoch: 8/10... Step: 7900... Loss: 1.1952... Val Loss: 1.2038\n",
      "Epoch: 8/10... Step: 8000... Loss: 1.1764... Val Loss: 1.2049\n",
      "Epoch: 8/10... Step: 8100... Loss: 1.1948... Val Loss: 1.1977\n",
      "Epoch: 8/10... Step: 8200... Loss: 1.1808... Val Loss: 1.2005\n",
      "Epoch: 8/10... Step: 8300... Loss: 1.1796... Val Loss: 1.1941\n"
     ]
    },
    {
     "name": "stderr",
     "output_type": "stream",
     "text": [
      " 80%|████████  | 8/10 [1:15:51<18:46, 563.24s/it]"
     ]
    },
    {
     "name": "stdout",
     "output_type": "stream",
     "text": [
      "Epoch: 9/10... Step: 8400... Loss: 1.1660... Val Loss: 1.2139\n",
      "Epoch: 9/10... Step: 8500... Loss: 1.1690... Val Loss: 1.1970\n",
      "Epoch: 9/10... Step: 8600... Loss: 1.1885... Val Loss: 1.1933\n",
      "Epoch: 9/10... Step: 8700... Loss: 1.1714... Val Loss: 1.1919\n",
      "Epoch: 9/10... Step: 8800... Loss: 1.1688... Val Loss: 1.1890\n",
      "Epoch: 9/10... Step: 8900... Loss: 1.1367... Val Loss: 1.1914\n",
      "Epoch: 9/10... Step: 9000... Loss: 1.1087... Val Loss: 1.1867\n",
      "Epoch: 9/10... Step: 9100... Loss: 1.1577... Val Loss: 1.1888\n",
      "Epoch: 9/10... Step: 9200... Loss: 1.1496... Val Loss: 1.1832\n",
      "Epoch: 9/10... Step: 9300... Loss: 1.1948... Val Loss: 1.1833\n",
      "Epoch: 9/10... Step: 9400... Loss: 1.1459... Val Loss: 1.1835\n"
     ]
    },
    {
     "name": "stderr",
     "output_type": "stream",
     "text": [
      " 90%|█████████ | 9/10 [1:25:28<09:27, 567.39s/it]"
     ]
    },
    {
     "name": "stdout",
     "output_type": "stream",
     "text": [
      "Epoch: 10/10... Step: 9500... Loss: 1.1539... Val Loss: 1.1774\n",
      "Epoch: 10/10... Step: 9600... Loss: 1.1541... Val Loss: 1.1784\n",
      "Epoch: 10/10... Step: 9700... Loss: 1.1678... Val Loss: 1.1793\n",
      "Epoch: 10/10... Step: 9800... Loss: 1.1691... Val Loss: 1.1740\n",
      "Epoch: 10/10... Step: 9900... Loss: 1.1154... Val Loss: 1.1764\n",
      "Epoch: 10/10... Step: 10000... Loss: 1.1690... Val Loss: 1.1726\n",
      "Epoch: 10/10... Step: 10100... Loss: 1.1309... Val Loss: 1.1753\n",
      "Epoch: 10/10... Step: 10200... Loss: 1.1177... Val Loss: 1.1703\n",
      "Epoch: 10/10... Step: 10300... Loss: 1.1454... Val Loss: 1.1707\n",
      "Epoch: 10/10... Step: 10400... Loss: 1.1952... Val Loss: 1.1686\n"
     ]
    },
    {
     "name": "stderr",
     "output_type": "stream",
     "text": [
      "100%|██████████| 10/10 [1:34:37<00:00, 567.72s/it]\n"
     ]
    },
    {
     "data": {
      "image/png": "[encoded data removed]",
      "text/plain": [
       "<Figure size 700x500 with 1 Axes>"
      ]
     },
     "metadata": {},
     "output_type": "display_data"
    }
   ],
   "source": [
    "batch_size = 128\n",
    "seq_length = 100\n",
    "n_epochs = 10\n",
    "\n",
    "# train the model\n",
    "train(net, encoded, epochs=n_epochs, batch_size=batch_size, seq_length=seq_length, lr=0.001, print_every=100)"
   ]
  },
  {
   "cell_type": "markdown",
   "metadata": {},
   "source": [
    "We might observe that the training error is higher than the validation error, presumably because of the use of dropout."
   ]
  },
  {
   "cell_type": "markdown",
   "metadata": {},
   "source": []
  },
  {
   "cell_type": "markdown",
   "metadata": {},
   "source": [
    "## Getting the best model\n",
    "\n",
    "To set your hyperparameters to get the best performance, you'll want to watch the training and validation losses. If your training loss is much lower than the validation loss, you're overfitting. Increase regularization (more dropout) or use a smaller network. If the training and validation losses are close, you're underfitting so you can increase the size of the network."
   ]
  },
  {
   "cell_type": "markdown",
   "metadata": {},
   "source": [
    "## Hyperparameters\n",
    "\n",
    "Here are the hyperparameters for the network.\n",
    "\n",
    "In defining the model:\n",
    "* `n_hidden` - The number of units in the hidden layers.\n",
    "* `n_layers` - Number of hidden LSTM layers to use.\n",
    "\n",
    "We assume that dropout probability and learning rate will be kept at the default, in this example.\n",
    "\n",
    "And in training:\n",
    "* `batch_size` - Number of sequences running through the network in one pass.\n",
    "* `seq_length` - Number of characters in the sequence the network is trained on. Larger is better typically, the network will learn more long range dependencies. But it takes longer to train. 100 is typically a good number here.\n",
    "* `lr` - Learning rate for training\n",
    "\n",
    "Here's some good advice from Andrej Karpathy on training the network. I'm going to copy it in here for your benefit, but also link to [where it originally came from](https://github.com/karpathy/char-rnn#tips-and-tricks).\n",
    "\n",
    "> ## Tips and Tricks\n",
    "\n",
    ">### Monitoring Validation Loss vs. Training Loss\n",
    ">If you're somewhat new to Machine Learning or Neural Networks it can take a bit of expertise to get good models. The most important quantity to keep track of is the difference between your training loss (printed during training) and the validation loss (printed once in a while when the RNN is run on the validation data (by default every 1000 iterations)). In particular:\n",
    "\n",
    "> - If your training loss is much lower than validation loss then this means the network might be **overfitting**. Solutions to this are to decrease your network size, or to increase dropout. For example you could try dropout of 0.5 and so on.\n",
    "> - If your training/validation loss are about equal then your model is **underfitting**. Increase the size of your model (either number of layers or the raw number of neurons per layer)\n",
    "\n",
    "> ### Approximate number of parameters\n",
    "\n",
    "> The two most important parameters that control the model are `n_hidden` and `n_layers`. I would advise that you always use `n_layers` of either 2/3. The `n_hidden` can be adjusted based on how much data you have. The two important quantities to keep track of here are:\n",
    "\n",
    "> - The number of parameters in your model. This is printed when you start training.\n",
    "> - The size of your dataset. 1MB file is approximately 1 million characters.\n",
    "\n",
    ">These two should be about the same order of magnitude. It's a little tricky to tell. Here are some examples:\n",
    "\n",
    "> - I have a 100MB dataset and I'm using the default parameter settings (which currently print 150K parameters). My data size is significantly larger (100 mil >> 0.15 mil), so I expect to heavily underfit. I am thinking I can comfortably afford to make `n_hidden` larger.\n",
    "> - I have a 10MB dataset and running a 10 million parameter model. I'm slightly nervous and I'm carefully monitoring my validation loss. If it's larger than my training loss then I may want to try to increase dropout a bit and see if that helps the validation loss.\n",
    "\n",
    "> ### Best models strategy\n",
    "\n",
    ">The winning strategy to obtaining very good models (if you have the compute time) is to always err on making the network larger (as large as you're willing to wait for it to compute) and then try different dropout values (between 0,1). Whatever model has the best validation performance (the loss, written in the checkpoint filename, low is good) is the one you should use in the end.\n",
    "\n",
    ">It is very common in deep learning to run many different models with many different hyperparameter settings, and in the end take whatever checkpoint gave the best validation performance.\n",
    "\n",
    ">By the way, the size of your training and validation splits are also parameters. Make sure you have a decent amount of data in your validation set or otherwise the validation performance will be noisy and not very informative."
   ]
  },
  {
   "cell_type": "markdown",
   "metadata": {},
   "source": [
    "## Checkpoint\n",
    "\n",
    "After training, we'll save the model so we can load it again later if we need too. Here I'm saving the parameters needed to create the same architecture, the hidden layer hyperparameters and the text characters."
   ]
  },
  {
   "cell_type": "code",
   "execution_count": 16,
   "metadata": {
    "collapsed": true,
    "metadata": {}
   },
   "outputs": [],
   "source": [
    "# change the name, for saving multiple files\n",
    "save_path = \"./preTrained/\" + str(net.n_layers) + \"_\" + str(net.n_hidden) + \"_\" + str(net.drop_prob) + \".net\"\n",
    "\n",
    "checkpoint = {'n_hidden': net.n_hidden,\n",
    "              'n_layers': net.n_layers,\n",
    "              'drop_prob': net.drop_prob,\n",
    "              'state_dict': net.state_dict(),\n",
    "              'tokens': net.chars}\n",
    "\n",
    "with open(save_path, 'wb') as f:\n",
    "    torch.save(checkpoint, f)"
   ]
  },
  {
   "cell_type": "markdown",
   "metadata": {},
   "source": [
    "---\n",
    "## Making Predictions\n",
    "\n",
    "Now that the model is trained, we'll want to sample from it and make predictions about next characters! To sample, we pass in a character and have the network predict the next character. Then we take that character, pass it back in, and get another predicted character. Just keep doing this and you'll generate a bunch of text!\n",
    "\n",
    "### A note on the `predict`  function\n",
    "\n",
    "The output of our RNN is from a fully-connected layer and it outputs a **distribution of next-character scores**.\n",
    "\n",
    "> To actually get the next character, we apply a softmax function, which gives us a *probability* distribution that we can then sample to predict the next character.\n",
    "\n",
    "### Top K sampling\n",
    "\n",
    "Our predictions come from a categorical probability distribution over all the possible characters. We can make the sample text and make it more reasonable to handle (with less variables) by only considering some $K$ most probable characters. This will prevent the network from giving us completely absurd characters while allowing it to introduce some noise and randomness into the sampled text. Read more about [topk, here](https://pytorch.org/docs/stable/torch.html#torch.topk).\n"
   ]
  },
  {
   "cell_type": "code",
   "execution_count": 17,
   "metadata": {
    "collapsed": true,
    "metadata": {}
   },
   "outputs": [],
   "source": [
    "def predict(net, char, h=None, top_k=None):\n",
    "        ''' Given a character, predict the next character.\n",
    "            Returns the predicted character and the hidden state.\n",
    "        '''\n",
    "        \n",
    "        # tensor inputs\n",
    "        x = np.array([[net.char2int[char]]])\n",
    "        x = one_hot_encode(x, len(net.chars))\n",
    "        inputs = torch.from_numpy(x)\n",
    "        \n",
    "        if(train_on_gpu):\n",
    "            inputs = inputs.cuda()\n",
    "        \n",
    "        # detach hidden state from history\n",
    "        h = tuple([each.data for each in h])\n",
    "        # get the output of the model\n",
    "        out, h = net(inputs, h)\n",
    "\n",
    "        # get the character probabilities\n",
    "        p = F.softmax(out, dim=1).data\n",
    "        if(train_on_gpu):\n",
    "            p = p.cpu() # move to cpu\n",
    "        \n",
    "        # get top characters\n",
    "        if top_k is None:\n",
    "            top_ch = np.arange(len(net.chars))\n",
    "        else:\n",
    "            p, top_ch = p.topk(top_k)\n",
    "            top_ch = top_ch.numpy().squeeze()\n",
    "        \n",
    "        # select the likely next character with some element of randomness\n",
    "        p = p.numpy().squeeze()\n",
    "        char = np.random.choice(top_ch, p=p/p.sum())\n",
    "        \n",
    "        # return the encoded value of the predicted char and the hidden state\n",
    "        return net.int2char[char], h"
   ]
  },
  {
   "cell_type": "markdown",
   "metadata": {},
   "source": [
    "### Priming and generating text \n",
    "\n",
    "Typically you'll want to prime the network so you can build up a hidden state. Otherwise the network will start out generating characters at random. In general the first bunch of characters will be a little rough since it hasn't built up a long history of characters to predict from."
   ]
  },
  {
   "cell_type": "code",
   "execution_count": 18,
   "metadata": {
    "collapsed": true,
    "metadata": {}
   },
   "outputs": [],
   "source": [
    "def sample(net, size, prime='The', top_k=None):\n",
    "        \n",
    "    if(train_on_gpu):\n",
    "        net.cuda()\n",
    "    else:\n",
    "        net.cpu()\n",
    "    \n",
    "    net.eval() # eval mode\n",
    "    \n",
    "    # First off, run through the prime characters\n",
    "    chars = [ch for ch in prime]\n",
    "    h = net.init_hidden(1)\n",
    "    for ch in prime:\n",
    "        char, h = predict(net, ch, h, top_k=top_k)\n",
    "\n",
    "    chars.append(char)\n",
    "    \n",
    "    # Now pass in the previous character and get a new one\n",
    "    for ii in range(size):\n",
    "        char, h = predict(net, chars[-1], h, top_k=top_k)\n",
    "        chars.append(char)\n",
    "\n",
    "    return ''.join(chars)"
   ]
  },
  {
   "cell_type": "code",
   "execution_count": 19,
   "metadata": {
    "metadata": {}
   },
   "outputs": [
    {
     "name": "stdout",
     "output_type": "stream",
     "text": [
      "The flight was delayed. I was a little either. All in a seat was served on the first flight attendants which was overboard, and I conslice was ok. We flew with Canada to Beijing, treat the flight on the same airlines asked for two flights which was one of the trip from Baggage to Mumbai to Man with an airport they were taking the phone to tell you the same airline. I was on a regional flight attendant were then too small. Then the staff were then check-on which I would be during already announcement to me and the food. They said I was told any cheap shors.\n",
      "  This was ok, always also the passengers will be able to get our change the checking on the service onboard condition in the same flight.\"\n",
      "\"  This was okay and they didn't already free well.\n",
      " Friends arrival at all. I am a lot of the airline would not access. The seats were telling me. I would never happen for a bit my his and to the plannes and stewer they are suppond out of anyone.\n",
      "  After that was a bus to the touch with them again without \n"
     ]
    }
   ],
   "source": [
    "print(sample(net, 1000, prime='The flight', top_k=5))"
   ]
  },
  {
   "cell_type": "markdown",
   "metadata": {},
   "source": [
    "## Loading a checkpoint"
   ]
  },
  {
   "cell_type": "code",
   "execution_count": 20,
   "metadata": {
    "collapsed": true,
    "metadata": {}
   },
   "outputs": [
    {
     "data": {
      "text/plain": [
       "<All keys matched successfully>"
      ]
     },
     "execution_count": 20,
     "metadata": {},
     "output_type": "execute_result"
    }
   ],
   "source": [
    "with open(save_path, 'rb') as f:\n",
    "    checkpoint = torch.load(f)\n",
    "    \n",
    "loaded = CharRNN(checkpoint['tokens'], n_hidden=checkpoint['n_hidden'], n_layers=checkpoint['n_layers'], drop_prob = checkpoint['drop_prob']\n",
    ")\n",
    "loaded.load_state_dict(checkpoint['state_dict'])"
   ]
  },
  {
   "cell_type": "markdown",
   "metadata": {},
   "source": [
    "Since validation was still decreasing, let's reload the model and train it for another 10 epochs. Let's see if the generation improves."
   ]
  },
  {
   "cell_type": "code",
   "execution_count": 21,
   "metadata": {
    "metadata": {}
   },
   "outputs": [
    {
     "name": "stderr",
     "output_type": "stream",
     "text": [
      "  0%|          | 0/10 [00:00<?, ?it/s]"
     ]
    },
    {
     "name": "stdout",
     "output_type": "stream",
     "text": [
      "Epoch: 1/10... Step: 100... Loss: 1.1339... Val Loss: 1.1610\n",
      "Epoch: 1/10... Step: 200... Loss: 1.1144... Val Loss: 1.1645\n",
      "Epoch: 1/10... Step: 300... Loss: 1.1276... Val Loss: 1.1650\n",
      "Epoch: 1/10... Step: 400... Loss: 1.1367... Val Loss: 1.1629\n",
      "Epoch: 1/10... Step: 500... Loss: 1.1243... Val Loss: 1.1608\n",
      "Epoch: 1/10... Step: 600... Loss: 1.1073... Val Loss: 1.1675\n",
      "Epoch: 1/10... Step: 700... Loss: 1.1332... Val Loss: 1.1583\n",
      "Epoch: 1/10... Step: 800... Loss: 1.2048... Val Loss: 1.1563\n",
      "Epoch: 1/10... Step: 900... Loss: 1.1102... Val Loss: 1.1590\n",
      "Epoch: 1/10... Step: 1000... Loss: 1.0969... Val Loss: 1.1563\n"
     ]
    },
    {
     "name": "stderr",
     "output_type": "stream",
     "text": [
      " 10%|█         | 1/10 [09:07<1:22:08, 547.58s/it]"
     ]
    },
    {
     "name": "stdout",
     "output_type": "stream",
     "text": [
      "Epoch: 2/10... Step: 1100... Loss: 1.1279... Val Loss: 1.1929\n",
      "Epoch: 2/10... Step: 1200... Loss: 1.1113... Val Loss: 1.1815\n",
      "Epoch: 2/10... Step: 1300... Loss: 1.0822... Val Loss: 1.1573\n",
      "Epoch: 2/10... Step: 1400... Loss: 1.1123... Val Loss: 1.1590\n",
      "Epoch: 2/10... Step: 1500... Loss: 1.1181... Val Loss: 1.1624\n",
      "Epoch: 2/10... Step: 1600... Loss: 1.1018... Val Loss: 1.1559\n",
      "Epoch: 2/10... Step: 1700... Loss: 1.1401... Val Loss: 1.1523\n",
      "Epoch: 2/10... Step: 1800... Loss: 1.1034... Val Loss: 1.1511\n",
      "Epoch: 2/10... Step: 1900... Loss: 1.1484... Val Loss: 1.1501\n",
      "Epoch: 2/10... Step: 2000... Loss: 1.0769... Val Loss: 1.1531\n"
     ]
    },
    {
     "name": "stderr",
     "output_type": "stream",
     "text": [
      " 20%|██        | 2/10 [18:14<1:12:57, 547.24s/it]"
     ]
    },
    {
     "name": "stdout",
     "output_type": "stream",
     "text": [
      "Epoch: 3/10... Step: 2100... Loss: 1.1577... Val Loss: 1.2013\n",
      "Epoch: 3/10... Step: 2200... Loss: 1.1018... Val Loss: 1.1734\n",
      "Epoch: 3/10... Step: 2300... Loss: 1.1337... Val Loss: 1.1897\n",
      "Epoch: 3/10... Step: 2400... Loss: 1.1123... Val Loss: 1.1864\n",
      "Epoch: 3/10... Step: 2500... Loss: 1.1404... Val Loss: 1.1781\n",
      "Epoch: 3/10... Step: 2600... Loss: 1.0943... Val Loss: 1.1796\n",
      "Epoch: 3/10... Step: 2700... Loss: 1.1132... Val Loss: 1.1801\n",
      "Epoch: 3/10... Step: 2800... Loss: 1.1298... Val Loss: 1.1810\n",
      "Epoch: 3/10... Step: 2900... Loss: 1.1492... Val Loss: 1.1841\n",
      "Epoch: 3/10... Step: 3000... Loss: 1.0810... Val Loss: 1.1763\n",
      "Epoch: 3/10... Step: 3100... Loss: 1.1490... Val Loss: 1.1824\n"
     ]
    },
    {
     "name": "stderr",
     "output_type": "stream",
     "text": [
      " 30%|███       | 3/10 [27:48<1:05:17, 559.62s/it]"
     ]
    },
    {
     "name": "stdout",
     "output_type": "stream",
     "text": [
      "Epoch: 4/10... Step: 3200... Loss: 1.0932... Val Loss: 1.2962\n",
      "Epoch: 4/10... Step: 3300... Loss: 1.1337... Val Loss: 1.2660\n",
      "Epoch: 4/10... Step: 3400... Loss: 1.0906... Val Loss: 1.1566\n",
      "Epoch: 4/10... Step: 3500... Loss: 1.0865... Val Loss: 1.1544\n",
      "Epoch: 4/10... Step: 3600... Loss: 1.1154... Val Loss: 1.1592\n",
      "Epoch: 4/10... Step: 3700... Loss: 1.0864... Val Loss: 1.1585\n",
      "Epoch: 4/10... Step: 3800... Loss: 1.1383... Val Loss: 1.1518\n",
      "Epoch: 4/10... Step: 3900... Loss: 1.0982... Val Loss: 1.1576\n",
      "Epoch: 4/10... Step: 4000... Loss: 1.0736... Val Loss: 1.1531\n",
      "Epoch: 4/10... Step: 4100... Loss: 1.0673... Val Loss: 1.1508\n"
     ]
    },
    {
     "name": "stderr",
     "output_type": "stream",
     "text": [
      " 40%|████      | 4/10 [36:55<55:26, 554.49s/it]  "
     ]
    },
    {
     "name": "stdout",
     "output_type": "stream",
     "text": [
      "Epoch: 5/10... Step: 4200... Loss: 1.1073... Val Loss: 1.2345\n",
      "Epoch: 5/10... Step: 4300... Loss: 1.1190... Val Loss: 1.1375\n",
      "Epoch: 5/10... Step: 4400... Loss: 1.0963... Val Loss: 1.1464\n",
      "Epoch: 5/10... Step: 4500... Loss: 1.0879... Val Loss: 1.1409\n",
      "Epoch: 5/10... Step: 4600... Loss: 1.0810... Val Loss: 1.1370\n",
      "Epoch: 5/10... Step: 4700... Loss: 1.1031... Val Loss: 1.1401\n",
      "Epoch: 5/10... Step: 4800... Loss: 1.1065... Val Loss: 1.1342\n",
      "Epoch: 5/10... Step: 4900... Loss: 1.0824... Val Loss: 1.1380\n",
      "Epoch: 5/10... Step: 5000... Loss: 1.0785... Val Loss: 1.1397\n",
      "Epoch: 5/10... Step: 5100... Loss: 1.0686... Val Loss: 1.1340\n",
      "Epoch: 5/10... Step: 5200... Loss: 1.1007... Val Loss: 1.1336\n"
     ]
    },
    {
     "name": "stderr",
     "output_type": "stream",
     "text": [
      " 50%|█████     | 5/10 [46:32<46:52, 562.54s/it]"
     ]
    },
    {
     "name": "stdout",
     "output_type": "stream",
     "text": [
      "Epoch: 6/10... Step: 5300... Loss: 1.0654... Val Loss: 1.1243\n",
      "Epoch: 6/10... Step: 5400... Loss: 1.0675... Val Loss: 1.1260\n",
      "Epoch: 6/10... Step: 5500... Loss: 1.0856... Val Loss: 1.1234\n",
      "Epoch: 6/10... Step: 5600... Loss: 1.0533... Val Loss: 1.1226\n",
      "Epoch: 6/10... Step: 5700... Loss: 1.0974... Val Loss: 1.1254\n",
      "Epoch: 6/10... Step: 5800... Loss: 1.0969... Val Loss: 1.1257\n",
      "Epoch: 6/10... Step: 5900... Loss: 1.0936... Val Loss: 1.1257\n",
      "Epoch: 6/10... Step: 6000... Loss: 1.0737... Val Loss: 1.1231\n",
      "Epoch: 6/10... Step: 6100... Loss: 1.0502... Val Loss: 1.1221\n",
      "Epoch: 6/10... Step: 6200... Loss: 1.0731... Val Loss: 1.1235\n"
     ]
    },
    {
     "name": "stderr",
     "output_type": "stream",
     "text": [
      " 60%|██████    | 6/10 [55:41<37:11, 557.85s/it]"
     ]
    },
    {
     "name": "stdout",
     "output_type": "stream",
     "text": [
      "Epoch: 7/10... Step: 6300... Loss: 1.1229... Val Loss: 1.1967\n",
      "Epoch: 7/10... Step: 6400... Loss: 1.1121... Val Loss: 1.1164\n",
      "Epoch: 7/10... Step: 6500... Loss: 1.0615... Val Loss: 1.1146\n",
      "Epoch: 7/10... Step: 6600... Loss: 1.0759... Val Loss: 1.1159\n",
      "Epoch: 7/10... Step: 6700... Loss: 1.0794... Val Loss: 1.1180\n",
      "Epoch: 7/10... Step: 6800... Loss: 1.0984... Val Loss: 1.1173\n",
      "Epoch: 7/10... Step: 6900... Loss: 1.0661... Val Loss: 1.1168\n",
      "Epoch: 7/10... Step: 7000... Loss: 1.0897... Val Loss: 1.1155\n",
      "Epoch: 7/10... Step: 7100... Loss: 1.0467... Val Loss: 1.1167\n",
      "Epoch: 7/10... Step: 7200... Loss: 1.0585... Val Loss: 1.1172\n",
      "Epoch: 7/10... Step: 7300... Loss: 1.0707... Val Loss: 1.1173\n"
     ]
    },
    {
     "name": "stderr",
     "output_type": "stream",
     "text": [
      " 70%|███████   | 7/10 [1:05:16<28:10, 563.58s/it]"
     ]
    },
    {
     "name": "stdout",
     "output_type": "stream",
     "text": [
      "Epoch: 8/10... Step: 7400... Loss: 1.0591... Val Loss: 1.1211\n",
      "Epoch: 8/10... Step: 7500... Loss: 1.0549... Val Loss: 1.1209\n",
      "Epoch: 8/10... Step: 7600... Loss: 1.0612... Val Loss: 1.1104\n",
      "Epoch: 8/10... Step: 7700... Loss: 1.0617... Val Loss: 1.1091\n",
      "Epoch: 8/10... Step: 7800... Loss: 1.0255... Val Loss: 1.1163\n",
      "Epoch: 8/10... Step: 7900... Loss: 1.0751... Val Loss: 1.1151\n",
      "Epoch: 8/10... Step: 8000... Loss: 1.0703... Val Loss: 1.1121\n",
      "Epoch: 8/10... Step: 8100... Loss: 1.0858... Val Loss: 1.1132\n",
      "Epoch: 8/10... Step: 8200... Loss: 1.0706... Val Loss: 1.1121\n",
      "Epoch: 8/10... Step: 8300... Loss: 1.0700... Val Loss: 1.1086\n"
     ]
    },
    {
     "name": "stderr",
     "output_type": "stream",
     "text": [
      " 80%|████████  | 8/10 [1:14:28<18:39, 559.78s/it]"
     ]
    },
    {
     "name": "stdout",
     "output_type": "stream",
     "text": [
      "Epoch: 9/10... Step: 8400... Loss: 1.0615... Val Loss: 1.1365\n",
      "Epoch: 9/10... Step: 8500... Loss: 1.0656... Val Loss: 1.1446\n",
      "Epoch: 9/10... Step: 8600... Loss: 1.0871... Val Loss: 1.1126\n",
      "Epoch: 9/10... Step: 8700... Loss: 1.0733... Val Loss: 1.1144\n",
      "Epoch: 9/10... Step: 8800... Loss: 1.0604... Val Loss: 1.1108\n",
      "Epoch: 9/10... Step: 8900... Loss: 1.0482... Val Loss: 1.1140\n",
      "Epoch: 9/10... Step: 9000... Loss: 1.0139... Val Loss: 1.1069\n",
      "Epoch: 9/10... Step: 9100... Loss: 1.0584... Val Loss: 1.1103\n",
      "Epoch: 9/10... Step: 9200... Loss: 1.0583... Val Loss: 1.1070\n",
      "Epoch: 9/10... Step: 9300... Loss: 1.0997... Val Loss: 1.1134\n",
      "Epoch: 9/10... Step: 9400... Loss: 1.0588... Val Loss: 1.1079\n"
     ]
    },
    {
     "name": "stderr",
     "output_type": "stream",
     "text": [
      " 90%|█████████ | 9/10 [1:24:14<09:28, 568.01s/it]"
     ]
    },
    {
     "name": "stdout",
     "output_type": "stream",
     "text": [
      "Epoch: 10/10... Step: 9500... Loss: 1.0630... Val Loss: 1.1179\n",
      "Epoch: 10/10... Step: 9600... Loss: 1.0574... Val Loss: 1.1077\n",
      "Epoch: 10/10... Step: 9700... Loss: 1.0753... Val Loss: 1.1090\n",
      "Epoch: 10/10... Step: 9800... Loss: 1.0765... Val Loss: 1.1107\n",
      "Epoch: 10/10... Step: 9900... Loss: 1.0250... Val Loss: 1.1115\n",
      "Epoch: 10/10... Step: 10000... Loss: 1.0803... Val Loss: 1.1081\n",
      "Epoch: 10/10... Step: 10100... Loss: 1.0471... Val Loss: 1.1131\n",
      "Epoch: 10/10... Step: 10200... Loss: 1.0301... Val Loss: 1.1064\n",
      "Epoch: 10/10... Step: 10300... Loss: 1.0515... Val Loss: 1.1106\n",
      "Epoch: 10/10... Step: 10400... Loss: 1.1035... Val Loss: 1.1010\n"
     ]
    },
    {
     "name": "stderr",
     "output_type": "stream",
     "text": [
      "100%|██████████| 10/10 [1:33:30<00:00, 561.02s/it]\n"
     ]
    },
    {
     "data": {
      "image/png": "[encoded data removed]",
      "text/plain": [
       "<Figure size 700x500 with 1 Axes>"
      ]
     },
     "metadata": {},
     "output_type": "display_data"
    }
   ],
   "source": [
    "train(loaded, encoded, epochs=n_epochs, batch_size=batch_size, seq_length=seq_length, lr=0.001, print_every=100)"
   ]
  },
  {
   "cell_type": "code",
   "execution_count": 22,
   "metadata": {
    "metadata": {}
   },
   "outputs": [
    {
     "name": "stdout",
     "output_type": "stream",
     "text": [
      "The flight would be my bags for our suitcade and they told me two and a seat which will be the medication.\n",
      "  I will never fly Air Namibia with an emerged one way.\n",
      "\"\n",
      "\"  Bristow to Tokyo and one way. I have everything above this to the first time we were asked to take you flying to a lot of the flight to Bangkok and the plane was almost the staff to the time I went to the flight to Manila. Then to the front decided to top it at me with a ticket for the aircraft to the plane. They don't expect the flight without and seess to be a case. The first flight was on other flight we didn't canceled my trip from Lufthansa. They still have to see is the worst.\n",
      "  I had a supervisor friendly booking a single times. I am always facilities to the airport we were stort to finish wheels in the aisle and ours which we can defore we were taken out of the time of they could hell taste on the flight with the front to me, at the carousel. The flight was cancelled. The attendant would have to pay the flight. The people was at the airport to take out ticket at 6am and we've experienced they seem to the plane to the airport, we had to be seen about this airline for an interesting the plane, with an exit seat and attempt to be their customer service. We had to buy a freel who did the cabin attendants. The airline we found out to because of they had no apology and they will be there for a flight tickets for more than on the future.\n",
      "  If they wanted to check out with the cabin crew, we were able airline, but it was notification to my second tickets. Its about the flight attendant and the cabin crew, the food and snacks were offented. We have to pay at the airport to fly. The check on area and I called the flight to Taipue i would think that I will fly with Chile. They claim tea and miserable and closed for an internal pretty confirmation and went on. It’s been at the early to the plane with another flight from Los Angeles. We were told to cancel. All this without ter staff. In this product it was trouble a\n"
     ]
    }
   ],
   "source": [
    "# Sample using a loaded model\n",
    "print(sample(loaded, 2000, top_k=5, prime=\"The flight\"))"
   ]
  },
  {
   "cell_type": "code",
   "execution_count": null,
   "metadata": {},
   "outputs": [],
   "source": []
  }
 ],
 "metadata": {
  "kernelspec": {
   "display_name": "Python [default]",
   "language": "python",
   "name": "python3"
  },
  "language_info": {
   "codemirror_mode": {
    "name": "ipython",
    "version": 3
   },
   "file_extension": ".py",
   "mimetype": "text/x-python",
   "name": "python",
   "nbconvert_exporter": "python",
   "pygments_lexer": "ipython3",
   "version": "3.8.10"
  }
 },
 "nbformat": 4,
 "nbformat_minor": 2
}

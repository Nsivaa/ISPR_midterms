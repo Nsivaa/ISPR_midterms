{
 "cells": [
  {
   "cell_type": "code",
   "execution_count": 1,
   "metadata": {
    "metadata": {}
   },
   "outputs": [],
   "source": [
    "import pandas as pd\n",
    "import CharRNN"
   ]
  },
  {
   "cell_type": "markdown",
   "metadata": {},
   "source": [
    "## Creating the data for training"
   ]
  },
  {
   "cell_type": "code",
   "execution_count": 2,
   "metadata": {
    "metadata": {}
   },
   "outputs": [],
   "source": [
    "# isolating the review column and saving it to a text file\n",
    "data = pd.read_csv('./data/Airline_Reviews.csv', encoding='utf-8')\n",
    "data = data['Review']\n",
    "data.to_csv('./data/reviews.txt', index=False, header=False, sep='\\n')"
   ]
  },
  {
   "cell_type": "markdown",
   "metadata": {
    "metadata": {}
   },
   "source": [
    "## Small tweaks to the code\n",
    "\n",
    "I changed the \"train()\" method to accept parameters, since we are gonna be varying some of them, also enabling the possibility to add dropout layers. I also added the progress bar, the plots, and added sporadic loss prints: since the training is very slow on RNNs, being able to look at the loss only after every epoch would not be enough. I also added the possibility to save loss vectors: I can load a saved model and continue training it, without losing the previous loss plot."
   ]
  },
  {
   "cell_type": "markdown",
   "metadata": {},
   "source": [
    "## Training"
   ]
  },
  {
   "cell_type": "code",
   "execution_count": 3,
   "metadata": {
    "metadata": {}
   },
   "outputs": [
    {
     "name": "stdout",
     "output_type": "stream",
     "text": [
      "----------------------------------------\n",
      "Data has 16757789 characters, 474 unique\n",
      "----------------------------------------\n"
     ]
    },
    {
     "name": "stderr",
     "output_type": "stream",
     "text": [
      "  0%|          | 0/3 [00:00<?, ?it/s]"
     ]
    },
    {
     "name": "stdout",
     "output_type": "stream",
     "text": [
      "loss at 10000: 1.817388777422905\n",
      "loss at 20000: 1.688859518018365\n",
      "loss at 30000: 1.613512082986037\n",
      "loss at 40000: 1.571564673961699\n",
      "loss at 50000: 1.5375249155282975\n",
      "loss at 60000: 1.5152407150993745\n",
      "loss at 70000: 1.4973360826143196\n",
      "loss at 80000: 1.4787690468125045\n",
      "loss at 90000: 1.4667598178929753\n",
      "loss at 100000: 1.4572446189820767\n",
      "loss at 110000: 1.4483899030577052\n",
      "loss at 120000: 1.4400993242348235\n",
      "loss at 130000: 1.4338003428289523\n",
      "loss at 140000: 1.4272934275201388\n",
      "loss at 150000: 1.4218349126915137\n",
      "loss at 160000: 1.4170927281089127\n",
      "Epoch: 1 \t Loss: 1.41420501\n",
      "----------------------------------------\n",
      "a).  Zoupry.\n",
      " SCDG due, baggage echeched the passport at it free luggage and you have been asked. In an heads, (three no staff cards dep"
     ]
    },
    {
     "name": "stderr",
     "output_type": "stream",
     "text": [
      " 33%|███▎      | 1/3 [12:00<24:00, 720.14s/it]"
     ]
    },
    {
     "name": "stdout",
     "output_type": "stream",
     "text": [
      "arture (the same airline. Sanghipa indubsy not a being overhead s\n",
      "----------------------------------------\n",
      "loss at 10000: 1.3593169447541238\n",
      "loss at 20000: 1.3565603398770094\n",
      "loss at 30000: 1.3479760777433714\n",
      "loss at 40000: 1.3481639471128584\n",
      "loss at 50000: 1.3439615300107002\n",
      "loss at 60000: 1.343178108002742\n",
      "loss at 70000: 1.3429755392645086\n",
      "loss at 80000: 1.3395981129296124\n",
      "loss at 90000: 1.3388450160980225\n",
      "loss at 100000: 1.3376527197486163\n",
      "loss at 110000: 1.3367141268654303\n",
      "loss at 120000: 1.3359502796699603\n",
      "loss at 130000: 1.3363001824149718\n",
      "loss at 140000: 1.336106941493494\n",
      "loss at 150000: 1.3365851792033514\n",
      "loss at 160000: 1.3361549846250564\n",
      "Epoch: 2 \t Loss: 1.33672750\n",
      "----------------------------------------\n",
      "August us Jore had supposed up to all home!\n",
      "  The oncempt because again to make of a before drinks (usinic"
     ]
    },
    {
     "name": "stderr",
     "output_type": "stream",
     "text": [
      " 67%|██████▋   | 2/3 [23:21<11:37, 697.38s/it]"
     ]
    },
    {
     "name": "stdout",
     "output_type": "stream",
     "text": [
      "al to cabin for some cost first screens boarding and scheduled baggage of A. Ye luggages and an\n",
      "----------------------------------------\n",
      "loss at 10000: 1.354231292772293\n",
      "loss at 20000: 1.3500323344767093\n",
      "loss at 30000: 1.342311476045847\n",
      "loss at 40000: 1.3440236688241363\n",
      "loss at 50000: 1.3402220726251601\n",
      "loss at 60000: 1.3392016270577907\n",
      "loss at 70000: 1.338589813198362\n",
      "loss at 80000: 1.3366556636951863\n",
      "loss at 90000: 1.3369386293166214\n",
      "loss at 100000: 1.3370291907984018\n",
      "loss at 110000: 1.3349467464251952\n",
      "loss at 120000: 1.3333234022791187\n",
      "loss at 130000: 1.3340898822087508\n",
      "loss at 140000: 1.334094323986343\n",
      "loss at 150000: 1.3357561715137958\n",
      "loss at 160000: 1.3362914898552\n",
      "Epoch: 3 \t Loss: 1.33628982\n",
      "----------------------------------------\n",
      " but I had holsinge to be rude medubberly even some oblet thoses couple busingin was to requardipo behind. Pay, I was to help flight. The Airlines buses/right inflowary busic landed. Th"
     ]
    },
    {
     "name": "stderr",
     "output_type": "stream",
     "text": [
      "100%|██████████| 3/3 [34:38<00:00, 692.67s/it]"
     ]
    },
    {
     "name": "stdout",
     "output_type": "stream",
     "text": [
      "r 220 un higher \n",
      "----------------------------------------\n"
     ]
    },
    {
     "name": "stderr",
     "output_type": "stream",
     "text": [
      "\n"
     ]
    },
    {
     "data": {
      "image/png": "[encoded data removed]",
      "text/plain": [
       "<Figure size 640x480 with 1 Axes>"
      ]
     },
     "metadata": {},
     "output_type": "display_data"
    }
   ],
   "source": [
    "# let's try with a very simple model first\n",
    "\n",
    "CharRNN.train(num_layers=1, hidden_size=128, epochs = 3)"
   ]
  },
  {
   "cell_type": "code",
   "execution_count": 4,
   "metadata": {
    "metadata": {}
   },
   "outputs": [
    {
     "name": "stdout",
     "output_type": "stream",
     "text": [
      "----------------------------------------\n",
      "Data has 16757789 characters, 474 unique\n",
      "----------------------------------------\n"
     ]
    },
    {
     "name": "stderr",
     "output_type": "stream",
     "text": [
      "  0%|          | 0/3 [00:00<?, ?it/s]"
     ]
    },
    {
     "name": "stdout",
     "output_type": "stream",
     "text": [
      "loss at 10000: 1.6789430319428444\n",
      "loss at 20000: 1.5481338195830583\n",
      "loss at 30000: 1.480127250635624\n",
      "loss at 40000: 1.4441871571868659\n",
      "loss at 50000: 1.4148848354887962\n",
      "loss at 60000: 1.396461858738462\n",
      "loss at 70000: 1.3823850161101137\n",
      "loss at 80000: 1.3672227396771313\n",
      "loss at 90000: 1.3579693731698725\n",
      "loss at 100000: 1.350085675022006\n",
      "loss at 110000: 1.342983058344776\n",
      "loss at 120000: 1.3362969619313876\n",
      "loss at 130000: 1.3313386253462387\n",
      "loss at 140000: 1.326746480930703\n",
      "loss at 150000: 1.3225484156143665\n",
      "loss at 160000: 1.319099893766269\n",
      "Epoch: 1 \t Loss: 1.31727865\n",
      "----------------------------------------\n",
      "adred be connected business, are, extealsabe 24 of change. Chenngy behg. Emails as to over the airline, so to L"
     ]
    },
    {
     "name": "stderr",
     "output_type": "stream",
     "text": [
      " 33%|███▎      | 1/3 [44:30<1:29:00, 2670.08s/it]"
     ]
    },
    {
     "name": "stdout",
     "output_type": "stream",
     "text": [
      "AXs airline passengers a cablet to the seat was belamst it are not hope in advance. Clay. \n",
      "----------------------------------------\n",
      "loss at 10000: 1.2806737935900687\n",
      "loss at 20000: 1.278985007429123\n",
      "loss at 30000: 1.2717976925214132\n",
      "loss at 40000: 1.2715664221212268\n",
      "loss at 50000: 1.2670797805571556\n",
      "loss at 60000: 1.268358560833335\n",
      "loss at 70000: 1.2691886654734612\n",
      "loss at 80000: 1.2664469734169543\n",
      "loss at 90000: 1.267190420112345\n",
      "loss at 100000: 1.2677589338105917\n",
      "loss at 110000: 1.2677733498248187\n",
      "loss at 120000: 1.267291308831672\n",
      "loss at 130000: 1.2676886122061657\n",
      "loss at 140000: 1.2680046735197306\n",
      "loss at 150000: 1.267876331834793\n",
      "loss at 160000: 1.2680828263685107\n",
      "Epoch: 2 \t Loss: 1.26893634\n",
      "----------------------------------------\n",
      "Boeing 767-300 TV and poving it. They do not when travel by two 7kg of baggage. I do not pack at all flew Aviara, "
     ]
    },
    {
     "name": "stderr",
     "output_type": "stream",
     "text": [
      " 67%|██████▋   | 2/3 [1:25:34<42:29, 2549.37s/it]"
     ]
    },
    {
     "name": "stdout",
     "output_type": "stream",
     "text": [
      "counter for makes for usually procedunding flight with boarding that they can be sure i\n",
      "----------------------------------------\n",
      "loss at 10000: 1.2862453183472156\n",
      "loss at 20000: 1.2861566720277071\n",
      "loss at 30000: 1.2802156146168708\n",
      "loss at 40000: 1.281043652793765\n",
      "loss at 50000: 1.2771221935760975\n",
      "loss at 60000: 1.278422700915734\n",
      "loss at 70000: 1.2787618666086877\n",
      "loss at 80000: 1.275493189844489\n",
      "loss at 90000: 1.2764223281092113\n",
      "loss at 100000: 1.2769540364986658\n",
      "loss at 110000: 1.276761971314387\n",
      "loss at 120000: 1.2764014885157347\n",
      "loss at 130000: 1.2769728738280444\n",
      "loss at 140000: 1.277274275665198\n",
      "loss at 150000: 1.2768260665822029\n",
      "loss at 160000: 1.2769980010330677\n",
      "Epoch: 3 \t Loss: 1.27785437\n",
      "----------------------------------------\n",
      " book of Sanco - creaming check-oble to Seash attendant before kept in order but was the child of English). We don’t go water cabin bung shows denoan same a"
     ]
    },
    {
     "name": "stderr",
     "output_type": "stream",
     "text": [
      "100%|██████████| 3/3 [2:15:23<00:00, 2707.85s/it]"
     ]
    },
    {
     "name": "stdout",
     "output_type": "stream",
     "text": [
      "t least, there is that it including at get ba\n",
      "----------------------------------------\n"
     ]
    },
    {
     "name": "stderr",
     "output_type": "stream",
     "text": [
      "\n"
     ]
    },
    {
     "data": {
      "image/png": "[encoded data removed]",
      "text/plain": [
       "<Figure size 640x480 with 1 Axes>"
      ]
     },
     "metadata": {},
     "output_type": "display_data"
    }
   ],
   "source": [
    "# Let's try with more parameters\n",
    "\n",
    "CharRNN.train(num_layers=2, hidden_size=256, epochs = 3)"
   ]
  },
  {
   "cell_type": "code",
   "execution_count": 5,
   "metadata": {
    "metadata": {}
   },
   "outputs": [
    {
     "name": "stdout",
     "output_type": "stream",
     "text": [
      "----------------------------------------\n",
      "Data has 16757789 characters, 474 unique\n",
      "----------------------------------------\n"
     ]
    },
    {
     "name": "stderr",
     "output_type": "stream",
     "text": [
      "  0%|          | 0/3 [00:00<?, ?it/s]"
     ]
    },
    {
     "name": "stdout",
     "output_type": "stream",
     "text": [
      "loss at 10000: 1.6871532031357288\n",
      "loss at 20000: 1.556951253196597\n",
      "loss at 30000: 1.487891623075803\n",
      "loss at 40000: 1.4515133368834854\n",
      "loss at 50000: 1.4222865797400475\n",
      "loss at 60000: 1.4047762132197619\n",
      "loss at 70000: 1.3912674912665572\n",
      "loss at 80000: 1.3765517021924256\n",
      "loss at 90000: 1.3673307163702118\n",
      "loss at 100000: 1.359923864082098\n",
      "loss at 110000: 1.3528290765019981\n",
      "loss at 120000: 1.346285129840672\n",
      "loss at 130000: 1.3411225261642383\n",
      "loss at 140000: 1.336428209103431\n",
      "loss at 150000: 1.3321099933290481\n",
      "loss at 160000: 1.328514935523644\n",
      "Epoch: 1 \t Loss: 1.32662536\n",
      "----------------------------------------\n",
      "pretty sense\n",
      "  New You was the seat completely low crew to pay out to speaking in 2 hon) (erm 18-could be shortines were never been boarding website it’s as one sensibilll because you were sappited"
     ]
    },
    {
     "name": "stderr",
     "output_type": "stream",
     "text": [
      " 33%|███▎      | 1/3 [39:56<1:19:52, 2396.22s/it]"
     ]
    },
    {
     "name": "stdout",
     "output_type": "stream",
     "text": [
      ". Co\n",
      "----------------------------------------\n",
      "loss at 10000: 1.2875770282149315\n",
      "loss at 20000: 1.2860410643845797\n",
      "loss at 30000: 1.278914065003395\n",
      "loss at 40000: 1.2785825109943747\n",
      "loss at 50000: 1.2744175279521943\n",
      "loss at 60000: 1.2752522740880647\n",
      "loss at 70000: 1.27586189274277\n",
      "loss at 80000: 1.272734471181035\n",
      "loss at 90000: 1.2734584423091677\n",
      "loss at 100000: 1.274142275543809\n",
      "loss at 110000: 1.2737435507113284\n",
      "loss at 120000: 1.2729091074724992\n",
      "loss at 130000: 1.2729137480854988\n",
      "loss at 140000: 1.2732387209168503\n",
      "loss at 150000: 1.2729602546211083\n",
      "loss at 160000: 1.2731583908949047\n",
      "Epoch: 2 \t Loss: 1.27395521\n",
      "----------------------------------------\n",
      "e baggage around 3kgsher trip. We booked on tax ZIK Asideal at cost food (12. The children’s further story pleasant"
     ]
    },
    {
     "name": "stderr",
     "output_type": "stream",
     "text": [
      " 67%|██████▋   | 2/3 [1:20:52<40:31, 2431.49s/it]"
     ]
    },
    {
     "name": "stdout",
     "output_type": "stream",
     "text": [
      " flight.\n",
      "  Very notice in a but not such several of all my family so iner econod at Th\n",
      "----------------------------------------\n",
      "loss at 10000: 1.2923456024050712\n",
      "loss at 20000: 1.291426708701253\n",
      "loss at 30000: 1.2853794586082299\n",
      "loss at 40000: 1.2858035651043058\n",
      "loss at 50000: 1.2806822389936448\n",
      "loss at 60000: 1.2815955838511388\n",
      "loss at 70000: 1.2817506964717593\n",
      "loss at 80000: 1.2786123018972575\n",
      "loss at 90000: 1.279782800390323\n",
      "loss at 100000: 1.280580864391923\n",
      "loss at 110000: 1.280301263852011\n",
      "loss at 120000: 1.2798117985760171\n",
      "loss at 130000: 1.2803351008108028\n",
      "loss at 140000: 1.2809062504845006\n",
      "loss at 150000: 1.2807100992973646\n",
      "loss at 160000: 1.2810513810690491\n",
      "Epoch: 3 \t Loss: 1.28204822\n",
      "----------------------------------------\n",
      "vale, the dence which booked beverage. Hn Jued mach spacement website. I had sea a values for other comp"
     ]
    },
    {
     "name": "stderr",
     "output_type": "stream",
     "text": [
      "100%|██████████| 3/3 [2:02:36<00:00, 2452.25s/it]"
     ]
    },
    {
     "name": "stdout",
     "output_type": "stream",
     "text": [
      "any Inmical pre-so nothing frame, trained, but exit during want to help and by just excellent and\n",
      "----------------------------------------\n"
     ]
    },
    {
     "name": "stderr",
     "output_type": "stream",
     "text": [
      "\n"
     ]
    },
    {
     "data": {
      "image/png": "[encoded data removed]",
      "text/plain": [
       "<Figure size 640x480 with 1 Axes>"
      ]
     },
     "metadata": {},
     "output_type": "display_data"
    }
   ],
   "source": [
    "CharRNN.train(num_layers=2, hidden_size=256, epochs = 3)"
   ]
  },
  {
   "cell_type": "code",
   "execution_count": 6,
   "metadata": {
    "metadata": {}
   },
   "outputs": [
    {
     "name": "stdout",
     "output_type": "stream",
     "text": [
      "----------------------------------------\n",
      "Data has 16757789 characters, 474 unique\n",
      "----------------------------------------\n"
     ]
    },
    {
     "name": "stderr",
     "output_type": "stream",
     "text": [
      "  0%|          | 0/2 [00:00<?, ?it/s]"
     ]
    },
    {
     "name": "stdout",
     "output_type": "stream",
     "text": [
      "loss at 10000: 1.8898917061328888\n",
      "loss at 20000: 1.7028681853979826\n",
      "loss at 30000: 1.607133083230257\n",
      "loss at 40000: 1.5563591961592436\n",
      "loss at 50000: 1.516500250632763\n",
      "loss at 60000: 1.4904065259913604\n",
      "loss at 70000: 1.4705929704563958\n",
      "loss at 80000: 1.450609283350408\n",
      "loss at 90000: 1.437668766250213\n",
      "loss at 100000: 1.4269041952031851\n",
      "loss at 110000: 1.4169194496003064\n",
      "loss at 120000: 1.4074094679599007\n",
      "loss at 130000: 1.3996211229420625\n",
      "loss at 140000: 1.3922170787142856\n",
      "loss at 150000: 1.385562611186107\n",
      "loss at 160000: 1.3800313173495233\n",
      "Epoch: 1 \t Loss: 1.37662393\n",
      "----------------------------------------\n",
      "r business from an airlines agrevidue a decided hit many and the offer for that is plus saving and Weal airport opens. Ton's pressions, not reasons.  The seats. Whs to clean"
     ]
    },
    {
     "name": "stderr",
     "output_type": "stream",
     "text": [
      " 50%|█████     | 1/2 [32:36<32:36, 1956.33s/it]"
     ]
    },
    {
     "name": "stdout",
     "output_type": "stream",
     "text": [
      " has living a business durin\n",
      "----------------------------------------\n",
      "loss at 10000: 1.3129104894280434\n",
      "loss at 20000: 1.309221909466386\n",
      "loss at 30000: 1.299054597904285\n",
      "loss at 40000: 1.2982121482864022\n",
      "loss at 50000: 1.2928256951081754\n",
      "loss at 60000: 1.2927833960562944\n",
      "loss at 70000: 1.2925714766689709\n",
      "loss at 80000: 1.2889386536061764\n",
      "loss at 90000: 1.2890493130763372\n",
      "loss at 100000: 1.2886740940344334\n",
      "loss at 110000: 1.2876281407144936\n",
      "loss at 120000: 1.2862155841136973\n",
      "loss at 130000: 1.285649914782781\n",
      "loss at 140000: 1.284725411656499\n",
      "loss at 150000: 1.2839688456662497\n",
      "loss at 160000: 1.2835563849095255\n",
      "Epoch: 2 \t Loss: 1.28384901\n",
      "----------------------------------------\n",
      "i buggage with allowed. Customer including me and also both my seats are just blow. If you travel of my luggage to the thought 200 booked to the times for your option of the new"
     ]
    },
    {
     "name": "stderr",
     "output_type": "stream",
     "text": [
      "100%|██████████| 2/2 [51:48<00:00, 1554.23s/it]"
     ]
    },
    {
     "name": "stdout",
     "output_type": "stream",
     "text": [
      " put 8.14 to Spost (soon\n",
      "----------------------------------------\n"
     ]
    },
    {
     "name": "stderr",
     "output_type": "stream",
     "text": [
      "\n"
     ]
    },
    {
     "data": {
      "image/png": "[encoded data removed]",
      "text/plain": [
       "<Figure size 640x480 with 1 Axes>"
      ]
     },
     "metadata": {},
     "output_type": "display_data"
    }
   ],
   "source": [
    "# these are the standard parameters put in the train function by the author, but he trains on a smaller corpus (3,6 MB vs 16 MB), so I expect\n",
    "# it to still not be enough\n",
    "\n",
    "CharRNN.train(num_layers=3, hidden_size=128, epochs = 2)"
   ]
  },
  {
   "cell_type": "code",
   "execution_count": 7,
   "metadata": {
    "metadata": {}
   },
   "outputs": [
    {
     "name": "stdout",
     "output_type": "stream",
     "text": [
      "----------------------------------------\n",
      "Data has 16757789 characters, 474 unique\n",
      "----------------------------------------\n"
     ]
    },
    {
     "name": "stderr",
     "output_type": "stream",
     "text": [
      "  0%|          | 0/2 [00:00<?, ?it/s]"
     ]
    },
    {
     "name": "stdout",
     "output_type": "stream",
     "text": [
      "loss at 10000: 1.7739972515642644\n",
      "loss at 20000: 1.6088549003362655\n",
      "loss at 30000: 1.526035189018647\n",
      "loss at 40000: 1.4820146030455827\n",
      "loss at 50000: 1.4475943068373203\n",
      "loss at 60000: 1.4257853864202896\n",
      "loss at 70000: 1.4087767381438188\n",
      "loss at 80000: 1.3914244699902834\n",
      "loss at 90000: 1.3802418311754863\n",
      "loss at 100000: 1.3708295791625977\n",
      "loss at 110000: 1.3620059478152882\n",
      "loss at 120000: 1.3538561540395022\n",
      "loss at 130000: 1.3474907970057084\n",
      "loss at 140000: 1.3413970659196377\n",
      "loss at 150000: 1.3361992200569313\n",
      "loss at 160000: 1.3319722152203322\n",
      "Epoch: 1 \t Loss: 1.32955746\n",
      "----------------------------------------\n",
      "ambic is just to purchased at 17.15kg process, booked in Sheach to JFK-Salaivos/)é7000 and I went outson at refund ra"
     ]
    },
    {
     "name": "stderr",
     "output_type": "stream",
     "text": [
      " 50%|█████     | 1/2 [1:00:25<1:00:25, 3625.76s/it]"
     ]
    },
    {
     "name": "stdout",
     "output_type": "stream",
     "text": [
      "dmeager 3 infosity: CDGs before efficienced voice considered meal situation to respo\n",
      "----------------------------------------\n",
      "loss at 10000: 1.281200639551878\n",
      "loss at 20000: 1.2784425455540418\n",
      "loss at 30000: 1.2697567032972972\n",
      "loss at 40000: 1.2692296287834643\n",
      "loss at 50000: 1.264522335487604\n",
      "loss at 60000: 1.2651706368943056\n",
      "loss at 70000: 1.2646224479198456\n",
      "loss at 80000: 1.2610025781519711\n",
      "loss at 90000: 1.261353333634138\n",
      "loss at 100000: 1.2614441545927524\n",
      "loss at 110000: 1.260557590481368\n",
      "loss at 120000: 1.259372056081891\n",
      "loss at 130000: 1.2591436640863236\n",
      "loss at 140000: 1.258371231747525\n",
      "loss at 150000: 1.257651975098451\n",
      "loss at 160000: 1.257478446247056\n",
      "Epoch: 2 \t Loss: 1.25794073\n",
      "----------------------------------------\n",
      "hos advance counter, my nights, at the cancellet and class with Joviaas Airlines or to go for the worst ai"
     ]
    },
    {
     "name": "stderr",
     "output_type": "stream",
     "text": [
      "100%|██████████| 2/2 [1:56:25<00:00, 3492.92s/it]  "
     ]
    },
    {
     "name": "stdout",
     "output_type": "stream",
     "text": [
      "rlines cancellation was boarding it seat, but I landed once dakently to the pass. Tlought for 1\n",
      "----------------------------------------\n"
     ]
    },
    {
     "name": "stderr",
     "output_type": "stream",
     "text": [
      "\n"
     ]
    },
    {
     "data": {
      "image/png": "[encoded data removed]",
      "text/plain": [
       "<Figure size 640x480 with 1 Axes>"
      ]
     },
     "metadata": {},
     "output_type": "display_data"
    }
   ],
   "source": [
    "CharRNN.train(num_layers=3, hidden_size=256, epochs = 2, dropout = 0.1)"
   ]
  },
  {
   "cell_type": "code",
   "execution_count": 8,
   "metadata": {
    "metadata": {}
   },
   "outputs": [
    {
     "name": "stdout",
     "output_type": "stream",
     "text": [
      "----------------------------------------\n",
      "Data has 16757789 characters, 474 unique\n",
      "----------------------------------------\n"
     ]
    },
    {
     "name": "stderr",
     "output_type": "stream",
     "text": [
      "  0%|          | 0/2 [00:00<?, ?it/s]"
     ]
    },
    {
     "name": "stdout",
     "output_type": "stream",
     "text": [
      "loss at 10000: 1.9908738958120347\n",
      "loss at 20000: 1.74942589995265\n",
      "loss at 30000: 1.631856934293111\n",
      "loss at 40000: 1.5684793884143233\n",
      "loss at 50000: 1.5213489685702324\n",
      "loss at 60000: 1.4903452385226885\n",
      "loss at 70000: 1.4664166035166808\n",
      "loss at 80000: 1.4437384622067213\n",
      "loss at 90000: 1.4284997484882673\n",
      "loss at 100000: 1.4158387775415182\n",
      "loss at 110000: 1.4042265266272154\n",
      "loss at 120000: 1.3935224362517398\n",
      "loss at 130000: 1.384711465886006\n",
      "loss at 140000: 1.3765522006664956\n",
      "loss at 150000: 1.3694134645589193\n",
      "loss at 160000: 1.3631638359241187\n",
      "Epoch: 1 \t Loss: 1.35949303\n",
      "----------------------------------------\n",
      "ver for means. Inlosfress going before passport for advite a her off bags. Jumblies to assia allow me before a plane (and "
     ]
    },
    {
     "name": "stderr",
     "output_type": "stream",
     "text": [
      " 50%|█████     | 1/2 [20:01<20:01, 1201.73s/it]"
     ]
    },
    {
     "name": "stdout",
     "output_type": "stream",
     "text": [
      "of nostaru\" for bus of four any of the food joiled.\n",
      "  Cabi for roam in so we co\n",
      "----------------------------------------\n",
      "loss at 10000: 1.2821514614284037\n",
      "loss at 20000: 1.2787924960196018\n",
      "loss at 30000: 1.2696514948725701\n",
      "loss at 40000: 1.2689902091383933\n",
      "loss at 50000: 1.2642717878055572\n",
      "loss at 60000: 1.2648064262628556\n",
      "loss at 70000: 1.2641665145260947\n",
      "loss at 80000: 1.2603873705230653\n",
      "loss at 90000: 1.2605675533910592\n",
      "loss at 100000: 1.2607752099627256\n",
      "loss at 110000: 1.259891811373017\n",
      "loss at 120000: 1.258455095331371\n",
      "loss at 130000: 1.2576717592954636\n",
      "loss at 140000: 1.2567313603835446\n",
      "loss at 150000: 1.2559075596872966\n",
      "loss at 160000: 1.2555771423600615\n",
      "Epoch: 2 \t Loss: 1.25590375\n",
      "----------------------------------------\n",
      "risticallanded as it was policy for taste. We are transit cleanlet tocake business baggrate is even brin"
     ]
    },
    {
     "name": "stderr",
     "output_type": "stream",
     "text": [
      "100%|██████████| 2/2 [40:06<00:00, 1203.17s/it]"
     ]
    },
    {
     "name": "stdout",
     "output_type": "stream",
     "text": [
      "gly lapours.  Pay on yourn's bags under that the wrong on flying for metains I class will be a ho\n",
      "----------------------------------------\n"
     ]
    },
    {
     "name": "stderr",
     "output_type": "stream",
     "text": [
      "\n"
     ]
    },
    {
     "data": {
      "image/png": "[encoded data removed]",
      "text/plain": [
       "<Figure size 640x480 with 1 Axes>"
      ]
     },
     "metadata": {},
     "output_type": "display_data"
    }
   ],
   "source": [
    "CharRNN.train(num_layers=4, hidden_size=128, epochs=2)"
   ]
  },
  {
   "cell_type": "code",
   "execution_count": 9,
   "metadata": {
    "metadata": {}
   },
   "outputs": [
    {
     "name": "stdout",
     "output_type": "stream",
     "text": [
      "----------------------------------------\n",
      "Data has 16757789 characters, 474 unique\n",
      "----------------------------------------\n"
     ]
    },
    {
     "name": "stderr",
     "output_type": "stream",
     "text": [
      "  0%|          | 0/2 [00:00<?, ?it/s]"
     ]
    },
    {
     "name": "stdout",
     "output_type": "stream",
     "text": [
      "loss at 10000: 2.2887549038648607\n",
      "loss at 20000: 1.8884655223280191\n",
      "loss at 30000: 1.7175555893401304\n",
      "loss at 40000: 1.628130961690843\n",
      "loss at 50000: 1.565989868247509\n",
      "loss at 60000: 1.5253028333793084\n",
      "loss at 70000: 1.4949663281755787\n",
      "loss at 80000: 1.4673556644007564\n",
      "loss at 90000: 1.447923829876052\n",
      "loss at 100000: 1.4318273368138075\n",
      "loss at 110000: 1.4175245134380732\n",
      "loss at 120000: 1.4048107904563347\n",
      "loss at 130000: 1.394509661769867\n",
      "loss at 140000: 1.38498182555948\n",
      "loss at 150000: 1.3768824543480078\n",
      "loss at 160000: 1.3699986451845616\n",
      "Epoch: 1 \t Loss: 1.36565260\n",
      "----------------------------------------\n",
      "e.\n",
      "  Sanada-LAX to Cejuish. There went Nownay for at departuries line)).\n",
      " Thoo flights to check untisater castos snacks if you booked but not probably as fooded. I had. I wa"
     ]
    },
    {
     "name": "stderr",
     "output_type": "stream",
     "text": [
      " 50%|█████     | 1/2 [1:11:42<1:11:42, 4302.85s/it]"
     ]
    },
    {
     "name": "stdout",
     "output_type": "stream",
     "text": [
      "s out 2010, not entertainmen\n",
      "----------------------------------------\n",
      "loss at 10000: 1.279726966279745\n",
      "loss at 20000: 1.2752623819947242\n",
      "loss at 30000: 1.2660967854996523\n",
      "loss at 40000: 1.2660348923116922\n",
      "loss at 50000: 1.2616721357250213\n",
      "loss at 60000: 1.262394368899862\n",
      "loss at 70000: 1.26310976470794\n",
      "loss at 80000: 1.259888650854677\n",
      "loss at 90000: 1.2598786282307572\n",
      "loss at 100000: 1.25992444599092\n"
     ]
    },
    {
     "name": "stderr",
     "output_type": "stream",
     "text": [
      " 50%|█████     | 1/2 [2:03:30<2:03:30, 7410.63s/it]\n"
     ]
    },
    {
     "ename": "KeyboardInterrupt",
     "evalue": "",
     "output_type": "error",
     "traceback": [
      "\u001b[0;31m---------------------------------------------------------------------------\u001b[0m",
      "\u001b[0;31mKeyboardInterrupt\u001b[0m                         Traceback (most recent call last)",
      "Cell \u001b[0;32mIn[9], line 1\u001b[0m\n\u001b[0;32m----> 1\u001b[0m \u001b[43mCharRNN\u001b[49m\u001b[38;5;241;43m.\u001b[39;49m\u001b[43mtrain\u001b[49m\u001b[43m(\u001b[49m\u001b[43mnum_layers\u001b[49m\u001b[38;5;241;43m=\u001b[39;49m\u001b[38;5;241;43m4\u001b[39;49m\u001b[43m,\u001b[49m\u001b[43m \u001b[49m\u001b[43mhidden_size\u001b[49m\u001b[38;5;241;43m=\u001b[39;49m\u001b[38;5;241;43m256\u001b[39;49m\u001b[43m,\u001b[49m\u001b[43m \u001b[49m\u001b[43mepochs\u001b[49m\u001b[38;5;241;43m=\u001b[39;49m\u001b[38;5;241;43m2\u001b[39;49m\u001b[43m,\u001b[49m\u001b[43m \u001b[49m\u001b[43mdropout\u001b[49m\u001b[43m \u001b[49m\u001b[38;5;241;43m=\u001b[39;49m\u001b[43m \u001b[49m\u001b[38;5;241;43m0.2\u001b[39;49m\u001b[43m)\u001b[49m\n",
      "File \u001b[0;32m~/ISPR_midterms/ISPR_midterm_3/CharRNN.py:99\u001b[0m, in \u001b[0;36mtrain\u001b[0;34m(hidden_size, num_layers, epochs, dropout, load_chk, save_path, plot)\u001b[0m\n\u001b[1;32m     97\u001b[0m \u001b[38;5;66;03m# compute gradients and take optimizer step\u001b[39;00m\n\u001b[1;32m     98\u001b[0m optimizer\u001b[38;5;241m.\u001b[39mzero_grad()\n\u001b[0;32m---> 99\u001b[0m \u001b[43mloss\u001b[49m\u001b[38;5;241;43m.\u001b[39;49m\u001b[43mbackward\u001b[49m\u001b[43m(\u001b[49m\u001b[43m)\u001b[49m\n\u001b[1;32m    100\u001b[0m optimizer\u001b[38;5;241m.\u001b[39mstep()\n\u001b[1;32m    102\u001b[0m \u001b[38;5;66;03m# update the data pointer\u001b[39;00m\n",
      "File \u001b[0;32m~/.local/lib/python3.8/site-packages/torch/_tensor.py:525\u001b[0m, in \u001b[0;36mTensor.backward\u001b[0;34m(self, gradient, retain_graph, create_graph, inputs)\u001b[0m\n\u001b[1;32m    515\u001b[0m \u001b[38;5;28;01mif\u001b[39;00m has_torch_function_unary(\u001b[38;5;28mself\u001b[39m):\n\u001b[1;32m    516\u001b[0m     \u001b[38;5;28;01mreturn\u001b[39;00m handle_torch_function(\n\u001b[1;32m    517\u001b[0m         Tensor\u001b[38;5;241m.\u001b[39mbackward,\n\u001b[1;32m    518\u001b[0m         (\u001b[38;5;28mself\u001b[39m,),\n\u001b[0;32m   (...)\u001b[0m\n\u001b[1;32m    523\u001b[0m         inputs\u001b[38;5;241m=\u001b[39minputs,\n\u001b[1;32m    524\u001b[0m     )\n\u001b[0;32m--> 525\u001b[0m \u001b[43mtorch\u001b[49m\u001b[38;5;241;43m.\u001b[39;49m\u001b[43mautograd\u001b[49m\u001b[38;5;241;43m.\u001b[39;49m\u001b[43mbackward\u001b[49m\u001b[43m(\u001b[49m\n\u001b[1;32m    526\u001b[0m \u001b[43m    \u001b[49m\u001b[38;5;28;43mself\u001b[39;49m\u001b[43m,\u001b[49m\u001b[43m \u001b[49m\u001b[43mgradient\u001b[49m\u001b[43m,\u001b[49m\u001b[43m \u001b[49m\u001b[43mretain_graph\u001b[49m\u001b[43m,\u001b[49m\u001b[43m \u001b[49m\u001b[43mcreate_graph\u001b[49m\u001b[43m,\u001b[49m\u001b[43m \u001b[49m\u001b[43minputs\u001b[49m\u001b[38;5;241;43m=\u001b[39;49m\u001b[43minputs\u001b[49m\n\u001b[1;32m    527\u001b[0m \u001b[43m\u001b[49m\u001b[43m)\u001b[49m\n",
      "File \u001b[0;32m~/.local/lib/python3.8/site-packages/torch/autograd/__init__.py:267\u001b[0m, in \u001b[0;36mbackward\u001b[0;34m(tensors, grad_tensors, retain_graph, create_graph, grad_variables, inputs)\u001b[0m\n\u001b[1;32m    262\u001b[0m     retain_graph \u001b[38;5;241m=\u001b[39m create_graph\n\u001b[1;32m    264\u001b[0m \u001b[38;5;66;03m# The reason we repeat the same comment below is that\u001b[39;00m\n\u001b[1;32m    265\u001b[0m \u001b[38;5;66;03m# some Python versions print out the first line of a multi-line function\u001b[39;00m\n\u001b[1;32m    266\u001b[0m \u001b[38;5;66;03m# calls in the traceback and some print out the last line\u001b[39;00m\n\u001b[0;32m--> 267\u001b[0m \u001b[43m_engine_run_backward\u001b[49m\u001b[43m(\u001b[49m\n\u001b[1;32m    268\u001b[0m \u001b[43m    \u001b[49m\u001b[43mtensors\u001b[49m\u001b[43m,\u001b[49m\n\u001b[1;32m    269\u001b[0m \u001b[43m    \u001b[49m\u001b[43mgrad_tensors_\u001b[49m\u001b[43m,\u001b[49m\n\u001b[1;32m    270\u001b[0m \u001b[43m    \u001b[49m\u001b[43mretain_graph\u001b[49m\u001b[43m,\u001b[49m\n\u001b[1;32m    271\u001b[0m \u001b[43m    \u001b[49m\u001b[43mcreate_graph\u001b[49m\u001b[43m,\u001b[49m\n\u001b[1;32m    272\u001b[0m \u001b[43m    \u001b[49m\u001b[43minputs\u001b[49m\u001b[43m,\u001b[49m\n\u001b[1;32m    273\u001b[0m \u001b[43m    \u001b[49m\u001b[43mallow_unreachable\u001b[49m\u001b[38;5;241;43m=\u001b[39;49m\u001b[38;5;28;43;01mTrue\u001b[39;49;00m\u001b[43m,\u001b[49m\n\u001b[1;32m    274\u001b[0m \u001b[43m    \u001b[49m\u001b[43maccumulate_grad\u001b[49m\u001b[38;5;241;43m=\u001b[39;49m\u001b[38;5;28;43;01mTrue\u001b[39;49;00m\u001b[43m,\u001b[49m\n\u001b[1;32m    275\u001b[0m \u001b[43m\u001b[49m\u001b[43m)\u001b[49m\n",
      "File \u001b[0;32m~/.local/lib/python3.8/site-packages/torch/autograd/graph.py:744\u001b[0m, in \u001b[0;36m_engine_run_backward\u001b[0;34m(t_outputs, *args, **kwargs)\u001b[0m\n\u001b[1;32m    742\u001b[0m     unregister_hooks \u001b[38;5;241m=\u001b[39m _register_logging_hooks_on_whole_graph(t_outputs)\n\u001b[1;32m    743\u001b[0m \u001b[38;5;28;01mtry\u001b[39;00m:\n\u001b[0;32m--> 744\u001b[0m     \u001b[38;5;28;01mreturn\u001b[39;00m \u001b[43mVariable\u001b[49m\u001b[38;5;241;43m.\u001b[39;49m\u001b[43m_execution_engine\u001b[49m\u001b[38;5;241;43m.\u001b[39;49m\u001b[43mrun_backward\u001b[49m\u001b[43m(\u001b[49m\u001b[43m  \u001b[49m\u001b[38;5;66;43;03m# Calls into the C++ engine to run the backward pass\u001b[39;49;00m\n\u001b[1;32m    745\u001b[0m \u001b[43m        \u001b[49m\u001b[43mt_outputs\u001b[49m\u001b[43m,\u001b[49m\u001b[43m \u001b[49m\u001b[38;5;241;43m*\u001b[39;49m\u001b[43margs\u001b[49m\u001b[43m,\u001b[49m\u001b[43m \u001b[49m\u001b[38;5;241;43m*\u001b[39;49m\u001b[38;5;241;43m*\u001b[39;49m\u001b[43mkwargs\u001b[49m\n\u001b[1;32m    746\u001b[0m \u001b[43m    \u001b[49m\u001b[43m)\u001b[49m  \u001b[38;5;66;03m# Calls into the C++ engine to run the backward pass\u001b[39;00m\n\u001b[1;32m    747\u001b[0m \u001b[38;5;28;01mfinally\u001b[39;00m:\n\u001b[1;32m    748\u001b[0m     \u001b[38;5;28;01mif\u001b[39;00m attach_logging_hooks:\n",
      "\u001b[0;31mKeyboardInterrupt\u001b[0m: "
     ]
    }
   ],
   "source": [
    "CharRNN.train(num_layers=4, hidden_size=256, epochs=2, dropout = 0.2)"
   ]
  },
  {
   "cell_type": "code",
   "execution_count": null,
   "metadata": {},
   "outputs": [],
   "source": [
    "CharRNN.train(num_layers=5, hidden_size=128, epochs=2)"
   ]
  },
  {
   "cell_type": "code",
   "execution_count": null,
   "metadata": {},
   "outputs": [],
   "source": [
    "CharRNN.train(num_layers=4, hidden_size=256, epochs=2, dropout = 0.1)"
   ]
  }
 ],
 "metadata": {
  "kernelspec": {
   "display_name": "Python 3",
   "language": "python",
   "name": "python3"
  },
  "language_info": {
   "codemirror_mode": {
    "name": "ipython",
    "version": 3
   },
   "file_extension": ".py",
   "mimetype": "text/x-python",
   "name": "python",
   "nbconvert_exporter": "python",
   "pygments_lexer": "ipython3",
   "version": "3.8.10"
  }
 },
 "nbformat": 4,
 "nbformat_minor": 2
}

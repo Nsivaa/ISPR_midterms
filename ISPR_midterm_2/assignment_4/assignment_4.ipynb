{
 "cells": [
  {
   "cell_type": "code",
   "execution_count": 1,
   "metadata": {},
   "outputs": [],
   "source": [
    "from bayesian_network import BayesianNetwork \n",
    "import numpy as np"
   ]
  },
  {
   "cell_type": "code",
   "execution_count": 2,
   "metadata": {},
   "outputs": [],
   "source": [
    "net = BayesianNetwork(values=[\"True\", \"False\"]) \n",
    "\n",
    "\n",
    "net.add_node(\"A\")\n",
    "net.add_node(\"B\")\n",
    "net.add_node(\"C\")\n",
    "net.add_edge(\"A\", [\"B\"])"
   ]
  },
  {
   "cell_type": "code",
   "execution_count": 3,
   "metadata": {},
   "outputs": [
    {
     "name": "stdout",
     "output_type": "stream",
     "text": [
      "Nodes: dict_keys(['A', 'B', 'C']), Edges: {'A': ['B']}\n",
      "probabilities do not match number of parents of node A\n",
      "probabilities do not match number of parents of node B\n",
      "probabilities do not match number of parents of node C\n"
     ]
    },
    {
     "data": {
      "text/plain": [
       "'\\nWAKE UP ANGRY:\\nnoisy neighbours\\ncall from callcenter\\n'"
      ]
     },
     "execution_count": 3,
     "metadata": {},
     "output_type": "execute_result"
    }
   ],
   "source": [
    "print(net)\n",
    "net.check_valid()\n",
    "'''\n",
    "WAKE UP ANGRY:\n",
    "noisy neighbours\n",
    "call from callcenter\n",
    "'''"
   ]
  }
 ],
 "metadata": {
  "kernelspec": {
   "display_name": "ispr",
   "language": "python",
   "name": "python3"
  },
  "language_info": {
   "codemirror_mode": {
    "name": "ipython",
    "version": 3
   },
   "file_extension": ".py",
   "mimetype": "text/x-python",
   "name": "python",
   "nbconvert_exporter": "python",
   "pygments_lexer": "ipython3",
   "version": "3.10.12"
  }
 },
 "nbformat": 4,
 "nbformat_minor": 2
}

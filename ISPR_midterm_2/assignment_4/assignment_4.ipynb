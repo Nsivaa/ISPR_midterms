{
 "cells": [
  {
   "cell_type": "markdown",
   "metadata": {},
   "source": [
    "# Alberto Dicembre, Assignment #4"
   ]
  },
  {
   "cell_type": "code",
   "execution_count": 1,
   "metadata": {},
   "outputs": [],
   "source": [
    "from bayesian_network import BayesianNetwork \n"
   ]
  },
  {
   "cell_type": "markdown",
   "metadata": {},
   "source": [
    "## Testing the Network"
   ]
  },
  {
   "cell_type": "code",
   "execution_count": 2,
   "metadata": {},
   "outputs": [],
   "source": [
    "net = BayesianNetwork(values=[\"True\", \"False\"]) \n",
    "net.add_node(\"A\")\n",
    "net.add_node(\"B\")\n",
    "net.add_node(\"C\")\n"
   ]
  },
  {
   "cell_type": "code",
   "execution_count": 3,
   "metadata": {},
   "outputs": [
    {
     "name": "stdout",
     "output_type": "stream",
     "text": [
      "Nodes: dict_keys(['A', 'B', 'C']), Edges: {}, Tables: {'A': {'Prior': (0.5, 0.5)}, 'B': {'Prior': (0.5, 0.5)}, 'C': {'Prior': (0.5, 0.5)}}\n"
     ]
    },
    {
     "data": {
      "text/plain": [
       "True"
      ]
     },
     "execution_count": 3,
     "metadata": {},
     "output_type": "execute_result"
    }
   ],
   "source": [
    "print(net)\n",
    "net.check_valid()"
   ]
  },
  {
   "cell_type": "code",
   "execution_count": 4,
   "metadata": {},
   "outputs": [
    {
     "name": "stdout",
     "output_type": "stream",
     "text": [
      "Nodes: dict_keys(['A', 'B', 'C']), Edges: {'A': ['B'], 'B': ['C']}, Tables: {'A': {'Prior': (0.5, 0.5)}, 'B': {'Prior': (0.5, 0.5)}, 'C': {'Prior': (0.5, 0.5)}}\n"
     ]
    }
   ],
   "source": [
    "net.add_edge(\"A\", [\"B\"])\n",
    "net.add_edge(\"B\", [\"C\"])\n",
    "print(net)\n"
   ]
  },
  {
   "cell_type": "code",
   "execution_count": 5,
   "metadata": {},
   "outputs": [
    {
     "name": "stdout",
     "output_type": "stream",
     "text": [
      "Node B probability table doesn't match parents' number of values\n",
      "Node C probability table doesn't match parents' number of values\n"
     ]
    },
    {
     "data": {
      "text/plain": [
       "False"
      ]
     },
     "execution_count": 5,
     "metadata": {},
     "output_type": "execute_result"
    }
   ],
   "source": [
    "net.check_valid()"
   ]
  },
  {
   "cell_type": "markdown",
   "metadata": {},
   "source": [
    "#### Checking Topological Sort"
   ]
  },
  {
   "cell_type": "code",
   "execution_count": 6,
   "metadata": {},
   "outputs": [
    {
     "name": "stdout",
     "output_type": "stream",
     "text": [
      "['A', 'B', 'C']\n"
     ]
    }
   ],
   "source": [
    "print(net.topo_sort())"
   ]
  },
  {
   "cell_type": "code",
   "execution_count": 7,
   "metadata": {},
   "outputs": [],
   "source": [
    "net.add_prob_table(\"A\", {\"Prior\" : (0.9, 0.1)})\n",
    "net.add_prob_table(\"B\", {\"True\" : (0.8, 0.2), \"False\" : (0.2, 0.8)})"
   ]
  },
  {
   "cell_type": "markdown",
   "metadata": {},
   "source": [
    "#### Trying to add a probability table for a node not in the network"
   ]
  },
  {
   "cell_type": "code",
   "execution_count": 8,
   "metadata": {},
   "outputs": [
    {
     "name": "stdout",
     "output_type": "stream",
     "text": [
      "Node not in network\n"
     ]
    }
   ],
   "source": [
    "net.add_prob_table(\"D\", {\"Prior\" : (0.9, 0.1)})"
   ]
  },
  {
   "cell_type": "markdown",
   "metadata": {},
   "source": [
    "### Now we create a valid network"
   ]
  },
  {
   "cell_type": "code",
   "execution_count": 9,
   "metadata": {},
   "outputs": [
    {
     "name": "stdout",
     "output_type": "stream",
     "text": [
      "Nodes: dict_keys(['A', 'B', 'C', 'D']), Edges: {'A': ['B'], 'B': ['C'], 'D': ['C']}, Tables: {'A': {'Prior': (0.9, 0.1)}, 'B': {'True': (0.8, 0.2), 'False': (0.2, 0.8)}, 'C': {('True', 'True'): (0.95, 0.05), ('True', 'False'): (0.7, 0.3), ('False', 'True'): (0.7, 0.3), ('False', 'False'): (0.1, 0.9)}, 'D': {'Prior': (0.9, 0.1)}}\n"
     ]
    },
    {
     "data": {
      "text/plain": [
       "True"
      ]
     },
     "execution_count": 9,
     "metadata": {},
     "output_type": "execute_result"
    }
   ],
   "source": [
    "net.add_node(\"D\")\n",
    "net.add_edge(\"D\", [\"C\"])\n",
    "net.add_prob_table(\"C\", {(\"True\", \"True\") : (0.95, 0.05),\n",
    "                          (\"True\", \"False\") : (0.7, 0.3),\n",
    "                            (\"False\", \"True\") : (0.7, 0.3),\n",
    "                            (\"False\", \"False\") : (0.1, 0.9)})\n",
    "net.add_prob_table(\"D\", {\"Prior\" : (0.9, 0.1)})\n",
    "                          \n",
    "print(net)\n",
    "net.check_valid()"
   ]
  },
  {
   "cell_type": "markdown",
   "metadata": {},
   "source": [
    "#### Let's try some single node sampling"
   ]
  },
  {
   "cell_type": "code",
   "execution_count": 10,
   "metadata": {},
   "outputs": [
    {
     "name": "stdout",
     "output_type": "stream",
     "text": [
      "(0.9, 0.1)\n",
      "True\n",
      "True\n",
      "True\n",
      "True\n",
      "True\n",
      "True\n",
      "False\n",
      "True\n",
      "True\n",
      "True\n",
      "True\n",
      "True\n",
      "True\n",
      "True\n",
      "True\n",
      "True\n",
      "True\n",
      "True\n",
      "True\n",
      "True\n"
     ]
    }
   ],
   "source": [
    "probs = net.get_probabilities(\"A\") # remember, we gave A probabilities of 0.9 for True, 0.1 for False\n",
    "print(probs)\n",
    "for i in range(20):\n",
    "    print(net.sample(probs))"
   ]
  },
  {
   "cell_type": "markdown",
   "metadata": {},
   "source": [
    "### Now we try Ancestral Sampling"
   ]
  },
  {
   "cell_type": "code",
   "execution_count": 11,
   "metadata": {},
   "outputs": [
    {
     "name": "stdout",
     "output_type": "stream",
     "text": [
      "Topological sort: ['D', 'A', 'B', 'C']\n",
      "0: {'D': 'True', 'A': 'True', 'B': 'True', 'C': 'True'}\n",
      "1: {'D': 'True', 'A': 'True', 'B': 'True', 'C': 'True'}\n",
      "2: {'D': 'True', 'A': 'True', 'B': 'True', 'C': 'True'}\n",
      "3: {'D': 'True', 'A': 'True', 'B': 'True', 'C': 'True'}\n",
      "4: {'D': 'True', 'A': 'True', 'B': 'True', 'C': 'True'}\n",
      "5: {'D': 'True', 'A': 'True', 'B': 'True', 'C': 'True'}\n",
      "6: {'D': 'True', 'A': 'True', 'B': 'True', 'C': 'True'}\n",
      "7: {'D': 'True', 'A': 'True', 'B': 'False', 'C': 'True'}\n",
      "8: {'D': 'True', 'A': 'True', 'B': 'True', 'C': 'True'}\n",
      "9: {'D': 'False', 'A': 'True', 'B': 'False', 'C': 'False'}\n"
     ]
    }
   ],
   "source": [
    "samples = net.ancestral_sampling(10)\n",
    "for i, sample in enumerate(samples):\n",
    "    print(f\"{i}: {sample}\")"
   ]
  },
  {
   "cell_type": "markdown",
   "metadata": {},
   "source": [
    "# Modeling (some aspects of) my morning routine "
   ]
  },
  {
   "cell_type": "markdown",
   "metadata": {},
   "source": [
    "The network will represent the following structure:"
   ]
  },
  {
   "cell_type": "code",
   "execution_count": 12,
   "metadata": {},
   "outputs": [],
   "source": [
    "daily_net = BayesianNetwork(nodes = {}, edges= {}, ordering= {}, values=[\"True\", \"False\"])\n",
    "daily_net.add_node(\"Noisy neighbors\")\n",
    "daily_net.add_node(\"Exams incoming\")\n",
    "daily_net.add_node(\"Bad day start\")\n",
    "daily_net.add_node(\"Call center call\")\n",
    "daily_net.add_node(\"Slept bad\")\n",
    "daily_net.add_node(\"Gig incoming\")\n",
    "daily_net.add_node(\"Sunny weather\")\n",
    "daily_net.add_node(\"Study\")\n",
    "daily_net.add_node(\"Play guitar\")\n",
    "daily_net.add_node(\"Clean\")\n",
    "daily_net.add_node(\"Gym\")"
   ]
  },
  {
   "cell_type": "code",
   "execution_count": 13,
   "metadata": {},
   "outputs": [],
   "source": [
    "daily_net.add_edge(\"Exams incoming\", [\"Gig incoming\", \"Study\"])\n",
    "daily_net.add_edge(\"Slept bad\", [\"Bad day start\"])\n",
    "daily_net.add_edge(\"Noisy neighbors\", [\"Bad day start\"])\n",
    "daily_net.add_edge(\"Call center call\", [\"Bad day start\"])\n",
    "daily_net.add_edge(\"Sunny weather\", [\"Bad day start\"])\n",
    "daily_net.add_edge(\"Bad day start\", [\"Play guitar\", \"Clean\", \"Gym\"])\n",
    "daily_net.add_edge(\"Gig incoming\", [\"Play guitar\"])"
   ]
  },
  {
   "cell_type": "code",
   "execution_count": 14,
   "metadata": {},
   "outputs": [],
   "source": [
    "# Determining prior probabilities\n",
    "daily_net.add_prob_table(\"Exams incoming\", {\"Prior\" : (0.1, 0.9)})\n",
    "daily_net.add_prob_table(\"Noisy neighbors\", {\"Prior\" : (0.3, 0.7)})\n",
    "daily_net.add_prob_table(\"Slept bad\", {\"Prior\" : (0.2, 0.8)})\n",
    "daily_net.add_prob_table(\"Call center call\", {\"Prior\" : (0.2, 0.8)})\n",
    "daily_net.add_prob_table(\"Sunny weather\", {\"Prior\" : (0.5, 0.5)})"
   ]
  },
  {
   "cell_type": "code",
   "execution_count": 15,
   "metadata": {},
   "outputs": [],
   "source": [
    "daily_net.add_prob_table(\"Gig incoming\", {\"True\" : (0.05, 0.95), \"False\" : (0.1, 0.9)}) # P(Gig incoming | Exams incoming)\n",
    "\n",
    "daily_net.add_prob_table(\"Bad day start\", {(\"True\", \"True\", \"True\", \"True\") : (0.95, 0.05), # P(Bad day start | Slept bad, Noisy neighbors, Call center call, Sunny)\n",
    "                                            (\"False\", \"True\", \"True\", \"True\") : (0.9, 0.1),\n",
    "                                            (\"True\", \"False\", \"True\", \"True\") : (0.85, 0.15),\n",
    "                                            (\"True\", \"True\", \"False\", \"True\") : (0.8, 0.2),\n",
    "                                            (\"True\", \"True\", \"True\", \"False\") : (0.99, 0.01),\n",
    "                                            (\"False\", \"False\", \"True\", \"True\") : (0.6, 0.4),\n",
    "                                            (\"True\", \"False\", \"False\", \"True\") : (0.4, 0.6),\n",
    "                                            (\"True\", \"True\", \"False\", \"False\") : (0.6, 0.4),\n",
    "                                            (\"False\", \"True\", \"False\", \"True\") : (0.4, 0.6),\n",
    "                                            (\"True\", \"False\", \"True\", \"False\") : (0.7, 0.3),\n",
    "                                            (\"False\", \"True\", \"True\", \"False\") : (0.9, 0.1),\n",
    "                                            (\"False\", \"False\", \"False\", \"True\") : (0.05, 0.95),\n",
    "                                            (\"True\", \"False\", \"False\", \"False\") : (0.2, 0.8),\n",
    "                                            (\"False\", \"True\", \"False\", \"False\") : (0.3, 0.7),\n",
    "                                            (\"False\", \"False\", \"True\", \"False\") : (0.3, 0.7),\n",
    "                                            (\"False\", \"False\", \"False\", \"False\") : (0.1, 0.9),    \n",
    "                                            }) \n",
    "\n",
    "daily_net.add_prob_table(\"Study\", {\"True\" : (0.9, 0.1), \"False\" : (0.2, 0.8)}) # P(Study | Exams incoming)\n",
    "\n",
    "daily_net.add_prob_table(\"Play guitar\", {(\"True\", \"True\") : (0.7, 0.3), # P(Play guitar | Gig incoming, Bad day start)\n",
    "                                          (\"True\", \"False\") : (0.9, 0.1),\n",
    "                                          (\"False\", \"True\") : (0.2, 0.8),\n",
    "                                          (\"False\", \"False\") : (0.6, 0.4)}) \n",
    "daily_net.add_prob_table(\"Clean\", {\"True\" : (0.3, 0.7), \"False\" : (0.5, 0.5)}) # P(Clean | Bad day start)\n",
    "\n",
    "daily_net.add_prob_table(\"Gym\", {(\"True\") : (0.3, 0.7), # P(Gym | Bad day start\n",
    "                                 (\"False\") : (0.6, 0.4)})"
   ]
  },
  {
   "cell_type": "code",
   "execution_count": 16,
   "metadata": {},
   "outputs": [],
   "source": [
    "# define ordering of parents for conditioned nodes wrt probability tables. Very dirty, should be done in a better way\n",
    "\n",
    "daily_net.add_ordering({\"Bad day start\" : (\"Slept bad\", \"Noisy neighbors\", \"Call center call\", \"Sunny weather\"),\n",
    "                        \"Play guitar\" : (\"Gig incoming\", \"Bad day start\")})"
   ]
  },
  {
   "cell_type": "code",
   "execution_count": 17,
   "metadata": {},
   "outputs": [
    {
     "name": "stdout",
     "output_type": "stream",
     "text": [
      "Topological sort: ['Sunny weather', 'Slept bad', 'Call center call', 'Exams incoming', 'Study', 'Gig incoming', 'Noisy neighbors', 'Bad day start', 'Gym', 'Clean', 'Play guitar']\n",
      "0: {'Sunny weather': 'True', 'Slept bad': 'False', 'Call center call': 'True', 'Exams incoming': 'False', 'Study': 'False', 'Gig incoming': 'False', 'Noisy neighbors': 'False', 'Bad day start': 'True', 'Gym': 'False', 'Clean': 'False', 'Play guitar': 'False'}\n",
      "1: {'Sunny weather': 'False', 'Slept bad': 'True', 'Call center call': 'False', 'Exams incoming': 'True', 'Study': 'True', 'Gig incoming': 'False', 'Noisy neighbors': 'True', 'Bad day start': 'False', 'Gym': 'False', 'Clean': 'True', 'Play guitar': 'True'}\n",
      "2: {'Sunny weather': 'True', 'Slept bad': 'False', 'Call center call': 'False', 'Exams incoming': 'False', 'Study': 'False', 'Gig incoming': 'False', 'Noisy neighbors': 'False', 'Bad day start': 'False', 'Gym': 'False', 'Clean': 'True', 'Play guitar': 'True'}\n",
      "3: {'Sunny weather': 'True', 'Slept bad': 'False', 'Call center call': 'False', 'Exams incoming': 'False', 'Study': 'False', 'Gig incoming': 'True', 'Noisy neighbors': 'True', 'Bad day start': 'True', 'Gym': 'True', 'Clean': 'False', 'Play guitar': 'False'}\n",
      "4: {'Sunny weather': 'False', 'Slept bad': 'True', 'Call center call': 'False', 'Exams incoming': 'False', 'Study': 'False', 'Gig incoming': 'False', 'Noisy neighbors': 'True', 'Bad day start': 'False', 'Gym': 'True', 'Clean': 'False', 'Play guitar': 'True'}\n",
      "5: {'Sunny weather': 'True', 'Slept bad': 'False', 'Call center call': 'False', 'Exams incoming': 'False', 'Study': 'False', 'Gig incoming': 'False', 'Noisy neighbors': 'False', 'Bad day start': 'False', 'Gym': 'True', 'Clean': 'False', 'Play guitar': 'False'}\n",
      "6: {'Sunny weather': 'False', 'Slept bad': 'True', 'Call center call': 'False', 'Exams incoming': 'False', 'Study': 'False', 'Gig incoming': 'False', 'Noisy neighbors': 'True', 'Bad day start': 'True', 'Gym': 'False', 'Clean': 'True', 'Play guitar': 'False'}\n",
      "7: {'Sunny weather': 'True', 'Slept bad': 'False', 'Call center call': 'False', 'Exams incoming': 'False', 'Study': 'False', 'Gig incoming': 'False', 'Noisy neighbors': 'True', 'Bad day start': 'False', 'Gym': 'True', 'Clean': 'True', 'Play guitar': 'False'}\n",
      "8: {'Sunny weather': 'True', 'Slept bad': 'False', 'Call center call': 'False', 'Exams incoming': 'True', 'Study': 'True', 'Gig incoming': 'False', 'Noisy neighbors': 'False', 'Bad day start': 'False', 'Gym': 'True', 'Clean': 'True', 'Play guitar': 'True'}\n",
      "9: {'Sunny weather': 'True', 'Slept bad': 'False', 'Call center call': 'False', 'Exams incoming': 'False', 'Study': 'False', 'Gig incoming': 'True', 'Noisy neighbors': 'False', 'Bad day start': 'False', 'Gym': 'False', 'Clean': 'True', 'Play guitar': 'True'}\n",
      "10: {'Sunny weather': 'False', 'Slept bad': 'False', 'Call center call': 'False', 'Exams incoming': 'False', 'Study': 'False', 'Gig incoming': 'False', 'Noisy neighbors': 'False', 'Bad day start': 'False', 'Gym': 'True', 'Clean': 'False', 'Play guitar': 'False'}\n",
      "11: {'Sunny weather': 'False', 'Slept bad': 'False', 'Call center call': 'False', 'Exams incoming': 'False', 'Study': 'False', 'Gig incoming': 'False', 'Noisy neighbors': 'False', 'Bad day start': 'False', 'Gym': 'True', 'Clean': 'False', 'Play guitar': 'True'}\n",
      "12: {'Sunny weather': 'True', 'Slept bad': 'False', 'Call center call': 'False', 'Exams incoming': 'False', 'Study': 'False', 'Gig incoming': 'False', 'Noisy neighbors': 'False', 'Bad day start': 'False', 'Gym': 'False', 'Clean': 'True', 'Play guitar': 'True'}\n",
      "13: {'Sunny weather': 'True', 'Slept bad': 'False', 'Call center call': 'False', 'Exams incoming': 'False', 'Study': 'False', 'Gig incoming': 'False', 'Noisy neighbors': 'True', 'Bad day start': 'False', 'Gym': 'True', 'Clean': 'True', 'Play guitar': 'True'}\n",
      "14: {'Sunny weather': 'False', 'Slept bad': 'False', 'Call center call': 'False', 'Exams incoming': 'False', 'Study': 'False', 'Gig incoming': 'False', 'Noisy neighbors': 'False', 'Bad day start': 'False', 'Gym': 'False', 'Clean': 'False', 'Play guitar': 'True'}\n",
      "15: {'Sunny weather': 'True', 'Slept bad': 'False', 'Call center call': 'True', 'Exams incoming': 'False', 'Study': 'False', 'Gig incoming': 'False', 'Noisy neighbors': 'False', 'Bad day start': 'True', 'Gym': 'False', 'Clean': 'False', 'Play guitar': 'False'}\n",
      "16: {'Sunny weather': 'False', 'Slept bad': 'True', 'Call center call': 'False', 'Exams incoming': 'True', 'Study': 'True', 'Gig incoming': 'False', 'Noisy neighbors': 'True', 'Bad day start': 'False', 'Gym': 'False', 'Clean': 'True', 'Play guitar': 'False'}\n",
      "17: {'Sunny weather': 'False', 'Slept bad': 'True', 'Call center call': 'False', 'Exams incoming': 'False', 'Study': 'False', 'Gig incoming': 'False', 'Noisy neighbors': 'False', 'Bad day start': 'False', 'Gym': 'False', 'Clean': 'True', 'Play guitar': 'False'}\n",
      "18: {'Sunny weather': 'True', 'Slept bad': 'False', 'Call center call': 'False', 'Exams incoming': 'False', 'Study': 'False', 'Gig incoming': 'False', 'Noisy neighbors': 'False', 'Bad day start': 'False', 'Gym': 'True', 'Clean': 'False', 'Play guitar': 'True'}\n",
      "19: {'Sunny weather': 'False', 'Slept bad': 'False', 'Call center call': 'False', 'Exams incoming': 'False', 'Study': 'False', 'Gig incoming': 'False', 'Noisy neighbors': 'False', 'Bad day start': 'False', 'Gym': 'False', 'Clean': 'False', 'Play guitar': 'True'}\n",
      "20: {'Sunny weather': 'True', 'Slept bad': 'False', 'Call center call': 'True', 'Exams incoming': 'False', 'Study': 'False', 'Gig incoming': 'False', 'Noisy neighbors': 'False', 'Bad day start': 'True', 'Gym': 'True', 'Clean': 'False', 'Play guitar': 'False'}\n",
      "21: {'Sunny weather': 'False', 'Slept bad': 'False', 'Call center call': 'True', 'Exams incoming': 'False', 'Study': 'False', 'Gig incoming': 'False', 'Noisy neighbors': 'False', 'Bad day start': 'False', 'Gym': 'True', 'Clean': 'False', 'Play guitar': 'False'}\n",
      "22: {'Sunny weather': 'False', 'Slept bad': 'False', 'Call center call': 'False', 'Exams incoming': 'False', 'Study': 'False', 'Gig incoming': 'False', 'Noisy neighbors': 'False', 'Bad day start': 'False', 'Gym': 'False', 'Clean': 'False', 'Play guitar': 'True'}\n",
      "23: {'Sunny weather': 'False', 'Slept bad': 'False', 'Call center call': 'False', 'Exams incoming': 'False', 'Study': 'False', 'Gig incoming': 'False', 'Noisy neighbors': 'False', 'Bad day start': 'False', 'Gym': 'False', 'Clean': 'False', 'Play guitar': 'True'}\n",
      "24: {'Sunny weather': 'False', 'Slept bad': 'True', 'Call center call': 'False', 'Exams incoming': 'False', 'Study': 'False', 'Gig incoming': 'False', 'Noisy neighbors': 'True', 'Bad day start': 'False', 'Gym': 'True', 'Clean': 'True', 'Play guitar': 'False'}\n",
      "25: {'Sunny weather': 'False', 'Slept bad': 'False', 'Call center call': 'False', 'Exams incoming': 'False', 'Study': 'False', 'Gig incoming': 'False', 'Noisy neighbors': 'False', 'Bad day start': 'False', 'Gym': 'False', 'Clean': 'False', 'Play guitar': 'False'}\n",
      "26: {'Sunny weather': 'True', 'Slept bad': 'False', 'Call center call': 'False', 'Exams incoming': 'False', 'Study': 'False', 'Gig incoming': 'False', 'Noisy neighbors': 'False', 'Bad day start': 'False', 'Gym': 'True', 'Clean': 'False', 'Play guitar': 'True'}\n",
      "27: {'Sunny weather': 'True', 'Slept bad': 'False', 'Call center call': 'False', 'Exams incoming': 'False', 'Study': 'True', 'Gig incoming': 'False', 'Noisy neighbors': 'False', 'Bad day start': 'False', 'Gym': 'True', 'Clean': 'False', 'Play guitar': 'True'}\n",
      "28: {'Sunny weather': 'False', 'Slept bad': 'False', 'Call center call': 'False', 'Exams incoming': 'False', 'Study': 'False', 'Gig incoming': 'True', 'Noisy neighbors': 'False', 'Bad day start': 'False', 'Gym': 'False', 'Clean': 'False', 'Play guitar': 'True'}\n",
      "29: {'Sunny weather': 'True', 'Slept bad': 'True', 'Call center call': 'False', 'Exams incoming': 'True', 'Study': 'True', 'Gig incoming': 'False', 'Noisy neighbors': 'False', 'Bad day start': 'False', 'Gym': 'True', 'Clean': 'True', 'Play guitar': 'True'}\n",
      "30: {'Sunny weather': 'True', 'Slept bad': 'True', 'Call center call': 'False', 'Exams incoming': 'False', 'Study': 'False', 'Gig incoming': 'False', 'Noisy neighbors': 'False', 'Bad day start': 'False', 'Gym': 'False', 'Clean': 'False', 'Play guitar': 'False'}\n",
      "31: {'Sunny weather': 'False', 'Slept bad': 'False', 'Call center call': 'False', 'Exams incoming': 'False', 'Study': 'False', 'Gig incoming': 'False', 'Noisy neighbors': 'False', 'Bad day start': 'False', 'Gym': 'False', 'Clean': 'True', 'Play guitar': 'True'}\n",
      "32: {'Sunny weather': 'False', 'Slept bad': 'False', 'Call center call': 'False', 'Exams incoming': 'True', 'Study': 'True', 'Gig incoming': 'False', 'Noisy neighbors': 'False', 'Bad day start': 'False', 'Gym': 'True', 'Clean': 'False', 'Play guitar': 'True'}\n",
      "33: {'Sunny weather': 'False', 'Slept bad': 'False', 'Call center call': 'False', 'Exams incoming': 'False', 'Study': 'False', 'Gig incoming': 'False', 'Noisy neighbors': 'False', 'Bad day start': 'False', 'Gym': 'True', 'Clean': 'False', 'Play guitar': 'True'}\n",
      "34: {'Sunny weather': 'False', 'Slept bad': 'False', 'Call center call': 'True', 'Exams incoming': 'False', 'Study': 'False', 'Gig incoming': 'False', 'Noisy neighbors': 'False', 'Bad day start': 'False', 'Gym': 'True', 'Clean': 'True', 'Play guitar': 'True'}\n",
      "35: {'Sunny weather': 'True', 'Slept bad': 'False', 'Call center call': 'False', 'Exams incoming': 'False', 'Study': 'False', 'Gig incoming': 'False', 'Noisy neighbors': 'True', 'Bad day start': 'False', 'Gym': 'False', 'Clean': 'True', 'Play guitar': 'True'}\n",
      "36: {'Sunny weather': 'True', 'Slept bad': 'False', 'Call center call': 'False', 'Exams incoming': 'False', 'Study': 'False', 'Gig incoming': 'False', 'Noisy neighbors': 'False', 'Bad day start': 'False', 'Gym': 'True', 'Clean': 'True', 'Play guitar': 'False'}\n",
      "37: {'Sunny weather': 'True', 'Slept bad': 'False', 'Call center call': 'False', 'Exams incoming': 'True', 'Study': 'True', 'Gig incoming': 'False', 'Noisy neighbors': 'False', 'Bad day start': 'False', 'Gym': 'False', 'Clean': 'False', 'Play guitar': 'False'}\n",
      "38: {'Sunny weather': 'False', 'Slept bad': 'False', 'Call center call': 'True', 'Exams incoming': 'False', 'Study': 'False', 'Gig incoming': 'True', 'Noisy neighbors': 'False', 'Bad day start': 'False', 'Gym': 'True', 'Clean': 'True', 'Play guitar': 'True'}\n",
      "39: {'Sunny weather': 'False', 'Slept bad': 'True', 'Call center call': 'True', 'Exams incoming': 'False', 'Study': 'False', 'Gig incoming': 'False', 'Noisy neighbors': 'True', 'Bad day start': 'True', 'Gym': 'False', 'Clean': 'True', 'Play guitar': 'True'}\n",
      "40: {'Sunny weather': 'True', 'Slept bad': 'False', 'Call center call': 'False', 'Exams incoming': 'False', 'Study': 'False', 'Gig incoming': 'True', 'Noisy neighbors': 'True', 'Bad day start': 'False', 'Gym': 'True', 'Clean': 'True', 'Play guitar': 'False'}\n",
      "41: {'Sunny weather': 'False', 'Slept bad': 'True', 'Call center call': 'True', 'Exams incoming': 'False', 'Study': 'False', 'Gig incoming': 'False', 'Noisy neighbors': 'False', 'Bad day start': 'True', 'Gym': 'False', 'Clean': 'True', 'Play guitar': 'False'}\n",
      "42: {'Sunny weather': 'True', 'Slept bad': 'False', 'Call center call': 'False', 'Exams incoming': 'False', 'Study': 'False', 'Gig incoming': 'False', 'Noisy neighbors': 'True', 'Bad day start': 'False', 'Gym': 'True', 'Clean': 'True', 'Play guitar': 'True'}\n",
      "43: {'Sunny weather': 'True', 'Slept bad': 'False', 'Call center call': 'False', 'Exams incoming': 'False', 'Study': 'False', 'Gig incoming': 'False', 'Noisy neighbors': 'True', 'Bad day start': 'False', 'Gym': 'True', 'Clean': 'True', 'Play guitar': 'True'}\n",
      "44: {'Sunny weather': 'True', 'Slept bad': 'False', 'Call center call': 'False', 'Exams incoming': 'False', 'Study': 'False', 'Gig incoming': 'False', 'Noisy neighbors': 'False', 'Bad day start': 'True', 'Gym': 'False', 'Clean': 'False', 'Play guitar': 'False'}\n",
      "45: {'Sunny weather': 'False', 'Slept bad': 'False', 'Call center call': 'True', 'Exams incoming': 'False', 'Study': 'False', 'Gig incoming': 'False', 'Noisy neighbors': 'False', 'Bad day start': 'False', 'Gym': 'False', 'Clean': 'True', 'Play guitar': 'True'}\n",
      "46: {'Sunny weather': 'False', 'Slept bad': 'True', 'Call center call': 'False', 'Exams incoming': 'False', 'Study': 'False', 'Gig incoming': 'False', 'Noisy neighbors': 'False', 'Bad day start': 'False', 'Gym': 'True', 'Clean': 'True', 'Play guitar': 'True'}\n",
      "47: {'Sunny weather': 'True', 'Slept bad': 'False', 'Call center call': 'False', 'Exams incoming': 'False', 'Study': 'False', 'Gig incoming': 'False', 'Noisy neighbors': 'False', 'Bad day start': 'False', 'Gym': 'True', 'Clean': 'True', 'Play guitar': 'False'}\n",
      "48: {'Sunny weather': 'True', 'Slept bad': 'False', 'Call center call': 'True', 'Exams incoming': 'False', 'Study': 'False', 'Gig incoming': 'False', 'Noisy neighbors': 'True', 'Bad day start': 'True', 'Gym': 'False', 'Clean': 'False', 'Play guitar': 'True'}\n",
      "49: {'Sunny weather': 'False', 'Slept bad': 'False', 'Call center call': 'False', 'Exams incoming': 'False', 'Study': 'False', 'Gig incoming': 'False', 'Noisy neighbors': 'True', 'Bad day start': 'False', 'Gym': 'False', 'Clean': 'True', 'Play guitar': 'False'}\n",
      "50: {'Sunny weather': 'False', 'Slept bad': 'False', 'Call center call': 'True', 'Exams incoming': 'False', 'Study': 'False', 'Gig incoming': 'False', 'Noisy neighbors': 'False', 'Bad day start': 'False', 'Gym': 'True', 'Clean': 'False', 'Play guitar': 'True'}\n",
      "51: {'Sunny weather': 'False', 'Slept bad': 'False', 'Call center call': 'False', 'Exams incoming': 'False', 'Study': 'False', 'Gig incoming': 'False', 'Noisy neighbors': 'False', 'Bad day start': 'False', 'Gym': 'False', 'Clean': 'False', 'Play guitar': 'False'}\n",
      "52: {'Sunny weather': 'False', 'Slept bad': 'False', 'Call center call': 'False', 'Exams incoming': 'True', 'Study': 'True', 'Gig incoming': 'False', 'Noisy neighbors': 'False', 'Bad day start': 'False', 'Gym': 'True', 'Clean': 'False', 'Play guitar': 'True'}\n",
      "53: {'Sunny weather': 'False', 'Slept bad': 'True', 'Call center call': 'False', 'Exams incoming': 'False', 'Study': 'False', 'Gig incoming': 'False', 'Noisy neighbors': 'False', 'Bad day start': 'False', 'Gym': 'False', 'Clean': 'False', 'Play guitar': 'False'}\n",
      "54: {'Sunny weather': 'False', 'Slept bad': 'False', 'Call center call': 'False', 'Exams incoming': 'False', 'Study': 'False', 'Gig incoming': 'False', 'Noisy neighbors': 'False', 'Bad day start': 'False', 'Gym': 'True', 'Clean': 'True', 'Play guitar': 'True'}\n",
      "55: {'Sunny weather': 'True', 'Slept bad': 'False', 'Call center call': 'True', 'Exams incoming': 'False', 'Study': 'False', 'Gig incoming': 'False', 'Noisy neighbors': 'True', 'Bad day start': 'False', 'Gym': 'False', 'Clean': 'True', 'Play guitar': 'True'}\n",
      "56: {'Sunny weather': 'True', 'Slept bad': 'False', 'Call center call': 'True', 'Exams incoming': 'False', 'Study': 'False', 'Gig incoming': 'False', 'Noisy neighbors': 'False', 'Bad day start': 'False', 'Gym': 'True', 'Clean': 'False', 'Play guitar': 'True'}\n",
      "57: {'Sunny weather': 'False', 'Slept bad': 'False', 'Call center call': 'False', 'Exams incoming': 'False', 'Study': 'False', 'Gig incoming': 'False', 'Noisy neighbors': 'False', 'Bad day start': 'False', 'Gym': 'False', 'Clean': 'False', 'Play guitar': 'True'}\n",
      "58: {'Sunny weather': 'False', 'Slept bad': 'False', 'Call center call': 'False', 'Exams incoming': 'False', 'Study': 'False', 'Gig incoming': 'False', 'Noisy neighbors': 'True', 'Bad day start': 'True', 'Gym': 'False', 'Clean': 'False', 'Play guitar': 'False'}\n",
      "59: {'Sunny weather': 'False', 'Slept bad': 'True', 'Call center call': 'False', 'Exams incoming': 'False', 'Study': 'False', 'Gig incoming': 'False', 'Noisy neighbors': 'False', 'Bad day start': 'False', 'Gym': 'True', 'Clean': 'True', 'Play guitar': 'False'}\n",
      "60: {'Sunny weather': 'False', 'Slept bad': 'False', 'Call center call': 'False', 'Exams incoming': 'False', 'Study': 'False', 'Gig incoming': 'False', 'Noisy neighbors': 'True', 'Bad day start': 'False', 'Gym': 'True', 'Clean': 'False', 'Play guitar': 'True'}\n",
      "61: {'Sunny weather': 'True', 'Slept bad': 'False', 'Call center call': 'False', 'Exams incoming': 'False', 'Study': 'False', 'Gig incoming': 'False', 'Noisy neighbors': 'False', 'Bad day start': 'False', 'Gym': 'True', 'Clean': 'True', 'Play guitar': 'True'}\n",
      "62: {'Sunny weather': 'False', 'Slept bad': 'False', 'Call center call': 'False', 'Exams incoming': 'False', 'Study': 'False', 'Gig incoming': 'False', 'Noisy neighbors': 'False', 'Bad day start': 'False', 'Gym': 'True', 'Clean': 'False', 'Play guitar': 'False'}\n",
      "63: {'Sunny weather': 'False', 'Slept bad': 'False', 'Call center call': 'False', 'Exams incoming': 'False', 'Study': 'False', 'Gig incoming': 'False', 'Noisy neighbors': 'False', 'Bad day start': 'False', 'Gym': 'True', 'Clean': 'False', 'Play guitar': 'False'}\n",
      "64: {'Sunny weather': 'False', 'Slept bad': 'False', 'Call center call': 'False', 'Exams incoming': 'False', 'Study': 'False', 'Gig incoming': 'False', 'Noisy neighbors': 'False', 'Bad day start': 'False', 'Gym': 'True', 'Clean': 'False', 'Play guitar': 'True'}\n",
      "65: {'Sunny weather': 'False', 'Slept bad': 'False', 'Call center call': 'False', 'Exams incoming': 'False', 'Study': 'False', 'Gig incoming': 'False', 'Noisy neighbors': 'False', 'Bad day start': 'False', 'Gym': 'True', 'Clean': 'False', 'Play guitar': 'True'}\n",
      "66: {'Sunny weather': 'False', 'Slept bad': 'True', 'Call center call': 'False', 'Exams incoming': 'False', 'Study': 'False', 'Gig incoming': 'False', 'Noisy neighbors': 'False', 'Bad day start': 'False', 'Gym': 'True', 'Clean': 'False', 'Play guitar': 'True'}\n",
      "67: {'Sunny weather': 'True', 'Slept bad': 'False', 'Call center call': 'False', 'Exams incoming': 'False', 'Study': 'False', 'Gig incoming': 'False', 'Noisy neighbors': 'False', 'Bad day start': 'False', 'Gym': 'True', 'Clean': 'False', 'Play guitar': 'True'}\n",
      "68: {'Sunny weather': 'True', 'Slept bad': 'False', 'Call center call': 'False', 'Exams incoming': 'False', 'Study': 'False', 'Gig incoming': 'True', 'Noisy neighbors': 'False', 'Bad day start': 'False', 'Gym': 'True', 'Clean': 'False', 'Play guitar': 'True'}\n",
      "69: {'Sunny weather': 'False', 'Slept bad': 'False', 'Call center call': 'False', 'Exams incoming': 'False', 'Study': 'True', 'Gig incoming': 'False', 'Noisy neighbors': 'False', 'Bad day start': 'False', 'Gym': 'False', 'Clean': 'False', 'Play guitar': 'True'}\n",
      "70: {'Sunny weather': 'True', 'Slept bad': 'True', 'Call center call': 'False', 'Exams incoming': 'True', 'Study': 'True', 'Gig incoming': 'False', 'Noisy neighbors': 'False', 'Bad day start': 'True', 'Gym': 'False', 'Clean': 'True', 'Play guitar': 'False'}\n",
      "71: {'Sunny weather': 'False', 'Slept bad': 'False', 'Call center call': 'False', 'Exams incoming': 'False', 'Study': 'False', 'Gig incoming': 'True', 'Noisy neighbors': 'False', 'Bad day start': 'False', 'Gym': 'True', 'Clean': 'True', 'Play guitar': 'True'}\n",
      "72: {'Sunny weather': 'True', 'Slept bad': 'False', 'Call center call': 'False', 'Exams incoming': 'False', 'Study': 'False', 'Gig incoming': 'False', 'Noisy neighbors': 'False', 'Bad day start': 'False', 'Gym': 'True', 'Clean': 'False', 'Play guitar': 'True'}\n",
      "73: {'Sunny weather': 'True', 'Slept bad': 'True', 'Call center call': 'True', 'Exams incoming': 'True', 'Study': 'True', 'Gig incoming': 'False', 'Noisy neighbors': 'False', 'Bad day start': 'False', 'Gym': 'True', 'Clean': 'True', 'Play guitar': 'True'}\n",
      "74: {'Sunny weather': 'True', 'Slept bad': 'True', 'Call center call': 'True', 'Exams incoming': 'False', 'Study': 'False', 'Gig incoming': 'False', 'Noisy neighbors': 'False', 'Bad day start': 'True', 'Gym': 'False', 'Clean': 'True', 'Play guitar': 'False'}\n",
      "75: {'Sunny weather': 'True', 'Slept bad': 'False', 'Call center call': 'True', 'Exams incoming': 'False', 'Study': 'True', 'Gig incoming': 'False', 'Noisy neighbors': 'True', 'Bad day start': 'True', 'Gym': 'False', 'Clean': 'False', 'Play guitar': 'True'}\n",
      "76: {'Sunny weather': 'False', 'Slept bad': 'False', 'Call center call': 'False', 'Exams incoming': 'False', 'Study': 'False', 'Gig incoming': 'False', 'Noisy neighbors': 'False', 'Bad day start': 'False', 'Gym': 'True', 'Clean': 'False', 'Play guitar': 'True'}\n",
      "77: {'Sunny weather': 'True', 'Slept bad': 'True', 'Call center call': 'False', 'Exams incoming': 'False', 'Study': 'False', 'Gig incoming': 'False', 'Noisy neighbors': 'False', 'Bad day start': 'True', 'Gym': 'False', 'Clean': 'True', 'Play guitar': 'False'}\n",
      "78: {'Sunny weather': 'True', 'Slept bad': 'False', 'Call center call': 'False', 'Exams incoming': 'False', 'Study': 'False', 'Gig incoming': 'False', 'Noisy neighbors': 'False', 'Bad day start': 'False', 'Gym': 'False', 'Clean': 'False', 'Play guitar': 'True'}\n",
      "79: {'Sunny weather': 'False', 'Slept bad': 'False', 'Call center call': 'True', 'Exams incoming': 'False', 'Study': 'False', 'Gig incoming': 'False', 'Noisy neighbors': 'True', 'Bad day start': 'True', 'Gym': 'False', 'Clean': 'False', 'Play guitar': 'True'}\n",
      "80: {'Sunny weather': 'False', 'Slept bad': 'False', 'Call center call': 'False', 'Exams incoming': 'False', 'Study': 'False', 'Gig incoming': 'False', 'Noisy neighbors': 'True', 'Bad day start': 'True', 'Gym': 'False', 'Clean': 'False', 'Play guitar': 'False'}\n",
      "81: {'Sunny weather': 'True', 'Slept bad': 'False', 'Call center call': 'False', 'Exams incoming': 'False', 'Study': 'False', 'Gig incoming': 'False', 'Noisy neighbors': 'False', 'Bad day start': 'False', 'Gym': 'True', 'Clean': 'False', 'Play guitar': 'True'}\n",
      "82: {'Sunny weather': 'False', 'Slept bad': 'False', 'Call center call': 'False', 'Exams incoming': 'False', 'Study': 'False', 'Gig incoming': 'False', 'Noisy neighbors': 'True', 'Bad day start': 'True', 'Gym': 'False', 'Clean': 'False', 'Play guitar': 'True'}\n",
      "83: {'Sunny weather': 'False', 'Slept bad': 'False', 'Call center call': 'False', 'Exams incoming': 'False', 'Study': 'False', 'Gig incoming': 'False', 'Noisy neighbors': 'True', 'Bad day start': 'False', 'Gym': 'True', 'Clean': 'True', 'Play guitar': 'True'}\n",
      "84: {'Sunny weather': 'True', 'Slept bad': 'False', 'Call center call': 'False', 'Exams incoming': 'False', 'Study': 'False', 'Gig incoming': 'False', 'Noisy neighbors': 'False', 'Bad day start': 'False', 'Gym': 'True', 'Clean': 'True', 'Play guitar': 'False'}\n",
      "85: {'Sunny weather': 'True', 'Slept bad': 'True', 'Call center call': 'True', 'Exams incoming': 'False', 'Study': 'False', 'Gig incoming': 'False', 'Noisy neighbors': 'False', 'Bad day start': 'True', 'Gym': 'False', 'Clean': 'False', 'Play guitar': 'False'}\n",
      "86: {'Sunny weather': 'False', 'Slept bad': 'False', 'Call center call': 'True', 'Exams incoming': 'False', 'Study': 'False', 'Gig incoming': 'False', 'Noisy neighbors': 'False', 'Bad day start': 'False', 'Gym': 'False', 'Clean': 'False', 'Play guitar': 'True'}\n",
      "87: {'Sunny weather': 'False', 'Slept bad': 'False', 'Call center call': 'False', 'Exams incoming': 'False', 'Study': 'True', 'Gig incoming': 'False', 'Noisy neighbors': 'False', 'Bad day start': 'False', 'Gym': 'True', 'Clean': 'True', 'Play guitar': 'False'}\n",
      "88: {'Sunny weather': 'True', 'Slept bad': 'False', 'Call center call': 'False', 'Exams incoming': 'False', 'Study': 'False', 'Gig incoming': 'False', 'Noisy neighbors': 'False', 'Bad day start': 'False', 'Gym': 'True', 'Clean': 'False', 'Play guitar': 'False'}\n",
      "89: {'Sunny weather': 'True', 'Slept bad': 'False', 'Call center call': 'False', 'Exams incoming': 'False', 'Study': 'True', 'Gig incoming': 'False', 'Noisy neighbors': 'False', 'Bad day start': 'False', 'Gym': 'False', 'Clean': 'False', 'Play guitar': 'False'}\n",
      "90: {'Sunny weather': 'True', 'Slept bad': 'False', 'Call center call': 'False', 'Exams incoming': 'True', 'Study': 'True', 'Gig incoming': 'False', 'Noisy neighbors': 'False', 'Bad day start': 'False', 'Gym': 'True', 'Clean': 'False', 'Play guitar': 'True'}\n",
      "91: {'Sunny weather': 'True', 'Slept bad': 'False', 'Call center call': 'True', 'Exams incoming': 'False', 'Study': 'False', 'Gig incoming': 'False', 'Noisy neighbors': 'False', 'Bad day start': 'True', 'Gym': 'False', 'Clean': 'True', 'Play guitar': 'False'}\n",
      "92: {'Sunny weather': 'False', 'Slept bad': 'False', 'Call center call': 'False', 'Exams incoming': 'False', 'Study': 'False', 'Gig incoming': 'False', 'Noisy neighbors': 'False', 'Bad day start': 'False', 'Gym': 'True', 'Clean': 'False', 'Play guitar': 'True'}\n",
      "93: {'Sunny weather': 'True', 'Slept bad': 'False', 'Call center call': 'False', 'Exams incoming': 'False', 'Study': 'False', 'Gig incoming': 'True', 'Noisy neighbors': 'False', 'Bad day start': 'False', 'Gym': 'False', 'Clean': 'False', 'Play guitar': 'True'}\n",
      "94: {'Sunny weather': 'True', 'Slept bad': 'True', 'Call center call': 'False', 'Exams incoming': 'False', 'Study': 'False', 'Gig incoming': 'False', 'Noisy neighbors': 'False', 'Bad day start': 'False', 'Gym': 'True', 'Clean': 'False', 'Play guitar': 'True'}\n",
      "95: {'Sunny weather': 'True', 'Slept bad': 'False', 'Call center call': 'False', 'Exams incoming': 'False', 'Study': 'False', 'Gig incoming': 'True', 'Noisy neighbors': 'False', 'Bad day start': 'False', 'Gym': 'True', 'Clean': 'True', 'Play guitar': 'True'}\n",
      "96: {'Sunny weather': 'True', 'Slept bad': 'True', 'Call center call': 'True', 'Exams incoming': 'True', 'Study': 'True', 'Gig incoming': 'False', 'Noisy neighbors': 'True', 'Bad day start': 'True', 'Gym': 'False', 'Clean': 'False', 'Play guitar': 'False'}\n",
      "97: {'Sunny weather': 'False', 'Slept bad': 'False', 'Call center call': 'True', 'Exams incoming': 'False', 'Study': 'False', 'Gig incoming': 'False', 'Noisy neighbors': 'False', 'Bad day start': 'False', 'Gym': 'False', 'Clean': 'True', 'Play guitar': 'True'}\n",
      "98: {'Sunny weather': 'False', 'Slept bad': 'False', 'Call center call': 'False', 'Exams incoming': 'False', 'Study': 'True', 'Gig incoming': 'False', 'Noisy neighbors': 'True', 'Bad day start': 'True', 'Gym': 'True', 'Clean': 'False', 'Play guitar': 'False'}\n",
      "99: {'Sunny weather': 'False', 'Slept bad': 'False', 'Call center call': 'False', 'Exams incoming': 'False', 'Study': 'True', 'Gig incoming': 'False', 'Noisy neighbors': 'True', 'Bad day start': 'True', 'Gym': 'False', 'Clean': 'False', 'Play guitar': 'False'}\n"
     ]
    }
   ],
   "source": [
    "samples = daily_net.ancestral_sampling(100)\n",
    "for i, sample in enumerate(samples):\n",
    "    print(f\"{i}: {sample}\")"
   ]
  }
 ],
 "metadata": {
  "kernelspec": {
   "display_name": "ispr",
   "language": "python",
   "name": "python3"
  },
  "language_info": {
   "codemirror_mode": {
    "name": "ipython",
    "version": 3
   },
   "file_extension": ".py",
   "mimetype": "text/x-python",
   "name": "python",
   "nbconvert_exporter": "python",
   "pygments_lexer": "ipython3",
   "version": "3.10.12"
  }
 },
 "nbformat": 4,
 "nbformat_minor": 2
}

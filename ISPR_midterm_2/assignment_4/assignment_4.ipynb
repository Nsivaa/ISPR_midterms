{
  "cells": [
    {
      "cell_type": "markdown",
      "metadata": {
        "id": "rqLy-XyaILVg"
      },
      "source": [
        "# Alberto Dicembre, Assignment #4"
      ]
    },
    {
      "cell_type": "markdown",
      "metadata": {
        "id": "p14Ou-pgILVi"
      },
      "source": [
        "This is my (very) dirty but working implementation of a Bayesian Network. I decided to model my typical morning (in a day with no lectures), after some testing of the functionalities. All variables have a binomial distribution (values \"True\" or \"False\"). Then I performed some Ancestral Sampling and took a look at the results."
      ]
    },
    {
      "cell_type": "code",
      "execution_count": null,
      "metadata": {
        "id": "EfovKJjWILVi"
      },
      "outputs": [],
      "source": [
        "from bayesian_network import BayesianNetwork"
      ]
    },
    {
      "cell_type": "markdown",
      "metadata": {
        "id": "f-CjMj_KILVj"
      },
      "source": [
        "## Testing the Network"
      ]
    },
    {
      "cell_type": "code",
      "execution_count": null,
      "metadata": {
        "id": "eTPimsS7ILVj"
      },
      "outputs": [],
      "source": [
        "net = BayesianNetwork(values=[\"True\", \"False\"])\n",
        "net.add_node(\"A\")\n",
        "net.add_node(\"B\")\n",
        "net.add_node(\"C\")"
      ]
    },
    {
      "cell_type": "code",
      "execution_count": null,
      "metadata": {
        "colab": {
          "base_uri": "https://localhost:8080/"
        },
        "id": "psqc1sJJILVj",
        "outputId": "e298c549-a75e-487c-c45d-df96a7030609"
      },
      "outputs": [
        {
          "output_type": "stream",
          "name": "stdout",
          "text": [
            "Nodes: dict_keys(['A', 'B', 'C', 'D']), Edges: {'A': ['B'], 'B': ['C'], 'D': ['C']}, Tables: {'A': {'Prior': (0.5, 0.5)}, 'B': {'Prior': (0.5, 0.5)}, 'C': {'Prior': (0.5, 0.5)}, 'D': {'Prior': (0.9, 0.1)}}\n",
            "Node B probability table doesn't match parents' number of values\n",
            "Node C probability table doesn't match parents' number of values\n"
          ]
        },
        {
          "output_type": "execute_result",
          "data": {
            "text/plain": [
              "False"
            ]
          },
          "metadata": {},
          "execution_count": 41
        }
      ],
      "source": [
        "print(net)\n",
        "net.check_valid()"
      ]
    },
    {
      "cell_type": "code",
      "execution_count": null,
      "metadata": {
        "colab": {
          "base_uri": "https://localhost:8080/"
        },
        "id": "xzkcqSiTILVk",
        "outputId": "38cdfe95-7fac-4f80-d50e-bc8e45981680"
      },
      "outputs": [
        {
          "output_type": "stream",
          "name": "stdout",
          "text": [
            "Nodes: dict_keys(['A', 'B', 'C', 'D']), Edges: {'A': ['B'], 'B': ['C'], 'D': ['C']}, Tables: {'A': {'Prior': (0.5, 0.5)}, 'B': {'Prior': (0.5, 0.5)}, 'C': {'Prior': (0.5, 0.5)}, 'D': {'Prior': (0.9, 0.1)}}\n"
          ]
        }
      ],
      "source": [
        "net.add_edge(\"A\", [\"B\"])\n",
        "net.add_edge(\"B\", [\"C\"])\n",
        "print(net)"
      ]
    },
    {
      "cell_type": "code",
      "execution_count": null,
      "metadata": {
        "colab": {
          "base_uri": "https://localhost:8080/"
        },
        "id": "B8_3VGCBILVk",
        "outputId": "ac8f0efd-1a8a-4997-f090-caa109a68e85"
      },
      "outputs": [
        {
          "output_type": "stream",
          "name": "stdout",
          "text": [
            "Node B probability table doesn't match parents' number of values\n",
            "Node C probability table doesn't match parents' number of values\n"
          ]
        },
        {
          "output_type": "execute_result",
          "data": {
            "text/plain": [
              "False"
            ]
          },
          "metadata": {},
          "execution_count": 43
        }
      ],
      "source": [
        "net.check_valid()"
      ]
    },
    {
      "cell_type": "markdown",
      "metadata": {
        "id": "9w1ztPfhILVk"
      },
      "source": [
        "#### Checking Topological Sort"
      ]
    },
    {
      "cell_type": "code",
      "execution_count": null,
      "metadata": {
        "colab": {
          "base_uri": "https://localhost:8080/"
        },
        "id": "ttni3BGnILVk",
        "outputId": "503b1e7a-5b6d-4763-8107-dc1d000cba76"
      },
      "outputs": [
        {
          "output_type": "stream",
          "name": "stdout",
          "text": [
            "['A', 'D', 'B', 'C']\n"
          ]
        }
      ],
      "source": [
        "print(net.topo_sort())"
      ]
    },
    {
      "cell_type": "code",
      "execution_count": null,
      "metadata": {
        "id": "laVDbR-FILVk"
      },
      "outputs": [],
      "source": [
        "net.add_prob_table(\"A\", {\"Prior\" : (0.9, 0.1)})\n",
        "net.add_prob_table(\"B\", {\"True\" : (0.8, 0.2), \"False\" : (0.2, 0.8)})"
      ]
    },
    {
      "cell_type": "markdown",
      "metadata": {
        "id": "jSuHyRzgILVl"
      },
      "source": [
        "#### Trying to add a probability table for a node not in the network"
      ]
    },
    {
      "cell_type": "code",
      "execution_count": null,
      "metadata": {
        "id": "oSU-CJBFILVl"
      },
      "outputs": [],
      "source": [
        "net.add_prob_table(\"D\", {\"Prior\" : (0.9, 0.1)})"
      ]
    },
    {
      "cell_type": "markdown",
      "metadata": {
        "id": "s7-OHsGlILVl"
      },
      "source": [
        "### Now we create a valid network"
      ]
    },
    {
      "cell_type": "code",
      "execution_count": null,
      "metadata": {
        "colab": {
          "base_uri": "https://localhost:8080/"
        },
        "id": "Q8vvTRChILVl",
        "outputId": "bdca0afb-70c8-4a61-d98c-57b2e5f57527"
      },
      "outputs": [
        {
          "output_type": "stream",
          "name": "stdout",
          "text": [
            "Nodes: dict_keys(['A', 'B', 'C', 'D']), Edges: {'A': ['B'], 'B': ['C'], 'D': ['C']}, Tables: {'A': {'Prior': (0.9, 0.1)}, 'B': {'True': (0.8, 0.2), 'False': (0.2, 0.8)}, 'C': {('True', 'True'): (0.95, 0.05), ('True', 'False'): (0.7, 0.3), ('False', 'True'): (0.7, 0.3), ('False', 'False'): (0.1, 0.9)}, 'D': {'Prior': (0.9, 0.1)}}\n"
          ]
        },
        {
          "output_type": "execute_result",
          "data": {
            "text/plain": [
              "True"
            ]
          },
          "metadata": {},
          "execution_count": 47
        }
      ],
      "source": [
        "net.add_node(\"D\")\n",
        "net.add_edge(\"D\", [\"C\"])\n",
        "net.add_prob_table(\"C\", {(\"True\", \"True\") : (0.95, 0.05),\n",
        "                         (\"True\", \"False\") : (0.7, 0.3),\n",
        "                         (\"False\", \"True\") : (0.7, 0.3),\n",
        "                         (\"False\", \"False\") : (0.1, 0.9)})\n",
        "net.add_prob_table(\"D\", {\"Prior\" : (0.9, 0.1)})\n",
        "\n",
        "print(net)\n",
        "net.check_valid()"
      ]
    },
    {
      "cell_type": "markdown",
      "metadata": {
        "id": "DDqcwkojILVl"
      },
      "source": [
        "#### Let's try some single node sampling"
      ]
    },
    {
      "cell_type": "code",
      "execution_count": null,
      "metadata": {
        "colab": {
          "base_uri": "https://localhost:8080/"
        },
        "id": "D6wN6zCCILVl",
        "outputId": "2d63288c-4a25-49fc-cda2-74ba538f1ea6"
      },
      "outputs": [
        {
          "output_type": "stream",
          "name": "stdout",
          "text": [
            "(0.9, 0.1)\n",
            "True\n",
            "True\n",
            "True\n",
            "True\n",
            "False\n",
            "True\n",
            "False\n",
            "True\n",
            "True\n",
            "True\n",
            "True\n",
            "True\n",
            "True\n",
            "True\n",
            "True\n",
            "True\n",
            "True\n",
            "True\n",
            "True\n",
            "True\n"
          ]
        }
      ],
      "source": [
        "probs = net.get_probabilities(\"A\") # remember, we gave A probabilities of 0.9 for True, 0.1 for False\n",
        "print(probs)\n",
        "for i in range(20):\n",
        "    print(net.sample(probs))"
      ]
    },
    {
      "cell_type": "markdown",
      "metadata": {
        "id": "x_vL4jyaILVl"
      },
      "source": [
        "### Now we try Ancestral Sampling"
      ]
    },
    {
      "cell_type": "code",
      "execution_count": null,
      "metadata": {
        "colab": {
          "base_uri": "https://localhost:8080/"
        },
        "id": "hNivpFanILVm",
        "outputId": "8e6d3603-f2a5-4e19-c053-3daa6d03ef5b"
      },
      "outputs": [
        {
          "output_type": "stream",
          "name": "stdout",
          "text": [
            "Topological sort: ['A', 'D', 'B', 'C']\n",
            "0: {'A': 'True', 'D': 'True', 'B': 'True', 'C': 'False'}\n",
            "1: {'A': 'True', 'D': 'True', 'B': 'True', 'C': 'True'}\n",
            "2: {'A': 'True', 'D': 'True', 'B': 'True', 'C': 'False'}\n",
            "3: {'A': 'True', 'D': 'True', 'B': 'True', 'C': 'True'}\n",
            "4: {'A': 'True', 'D': 'True', 'B': 'True', 'C': 'True'}\n",
            "5: {'A': 'True', 'D': 'True', 'B': 'True', 'C': 'True'}\n",
            "6: {'A': 'True', 'D': 'True', 'B': 'True', 'C': 'True'}\n",
            "7: {'A': 'True', 'D': 'True', 'B': 'False', 'C': 'True'}\n",
            "8: {'A': 'True', 'D': 'True', 'B': 'True', 'C': 'True'}\n",
            "9: {'A': 'False', 'D': 'True', 'B': 'False', 'C': 'True'}\n"
          ]
        }
      ],
      "source": [
        "samples = net.ancestral_sampling(10)\n",
        "for i, sample in enumerate(samples):\n",
        "    print(f\"{i}: {sample}\")"
      ]
    },
    {
      "cell_type": "markdown",
      "metadata": {
        "id": "rDjY9jS2ILVm"
      },
      "source": [
        "# Modeling (some aspects of) my morning routine"
      ]
    },
    {
      "cell_type": "markdown",
      "metadata": {
        "id": "5o4vq7S1ILVm"
      },
      "source": [
        "The network will represent the following structure:"
      ]
    },
    {
      "cell_type": "markdown",
      "source": [
        "![Bayes (1).png](data:image/png;base64,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)![]https://drive.google.com/uc?export=view&id=1ohR33DM3o0Zn0IFJm1toh-21XPSebtXA"
      ],
      "metadata": {
        "id": "tun1WoeeJH_R"
      }
    },
    {
      "cell_type": "markdown",
      "metadata": {
        "id": "F4wBUUeQILVm"
      },
      "source": [
        "These are the typical variables that influence an average morning of mine, in a day with no lectures.\n",
        "\n",
        "Of course, as \"ancestor\" nodes we have all those random variables that can influence my mood (Bad day start), which is the intermediate concept that will influence what activity I will perform during that morning.\n",
        "\n",
        "## Some quick explanation\n",
        "\n",
        "#### Exams incoming -> Gig incoming -> Play guitar\n",
        "I play guitar in a band. I am typically less prone to have incoming gigs in exams period, since I give more priority to university.\n",
        "So when I have gigs incoming I will practice more often, when I have exams I will probably dedicate more morning time to study.\n",
        "\n",
        "#### Bad day start -> Play guitar\n",
        "I enjoy playing guitar much more when I am in a good mood, therefore the probability of me playing is higher when \"Bad day start\" is False.\n",
        "\n",
        "Same applies for Gym; I would likely do it in the afternoon instead.\n",
        "\n",
        "#### Bad day start -> Scroll phone\n",
        "I am more prone to get on the phone and waste time scrolling through social media when I feel groggy / am in a bad mood.\n",
        "\n",
        "#### Sunny weather -> Bad day start\n",
        "I'm more likely to be in a good mood if the weather is sunny\n"
      ]
    },
    {
      "cell_type": "code",
      "execution_count": null,
      "metadata": {
        "id": "wKjYMDaMILVm"
      },
      "outputs": [],
      "source": [
        "daily_net = BayesianNetwork(nodes = {}, edges= {}, ordering= {}, values=[\"True\", \"False\"])\n",
        "daily_net.add_node(\"Noisy neighbors\")\n",
        "daily_net.add_node(\"Exams incoming\")\n",
        "daily_net.add_node(\"Bad day start\")\n",
        "daily_net.add_node(\"Call center call\")\n",
        "daily_net.add_node(\"Slept bad\")\n",
        "daily_net.add_node(\"Gig incoming\")\n",
        "daily_net.add_node(\"Sunny weather\")\n",
        "daily_net.add_node(\"Study\")\n",
        "daily_net.add_node(\"Play guitar\")\n",
        "daily_net.add_node(\"Scroll phone\")\n",
        "daily_net.add_node(\"Gym\")"
      ]
    },
    {
      "cell_type": "code",
      "execution_count": null,
      "metadata": {
        "id": "dD41dTd6ILVm"
      },
      "outputs": [],
      "source": [
        "daily_net.add_edge(\"Exams incoming\", [\"Gig incoming\", \"Study\"])\n",
        "daily_net.add_edge(\"Slept bad\", [\"Bad day start\"])\n",
        "daily_net.add_edge(\"Noisy neighbors\", [\"Bad day start\"])\n",
        "daily_net.add_edge(\"Call center call\", [\"Bad day start\"])\n",
        "daily_net.add_edge(\"Sunny weather\", [\"Bad day start\"])\n",
        "daily_net.add_edge(\"Bad day start\", [\"Play guitar\", \"Scroll phone\", \"Gym\"])\n",
        "daily_net.add_edge(\"Gig incoming\", [\"Play guitar\"])"
      ]
    },
    {
      "cell_type": "code",
      "execution_count": null,
      "metadata": {
        "id": "2M2X9Ix_ILVm"
      },
      "outputs": [],
      "source": [
        "# Determining prior probabilities\n",
        "daily_net.add_prob_table(\"Exams incoming\", {\"Prior\" : (0.1, 0.9)})\n",
        "daily_net.add_prob_table(\"Noisy neighbors\", {\"Prior\" : (0.3, 0.7)})\n",
        "daily_net.add_prob_table(\"Slept bad\", {\"Prior\" : (0.2, 0.8)})\n",
        "daily_net.add_prob_table(\"Call center call\", {\"Prior\" : (0.2, 0.8)})\n",
        "daily_net.add_prob_table(\"Sunny weather\", {\"Prior\" : (0.5, 0.5)})"
      ]
    },
    {
      "cell_type": "code",
      "execution_count": null,
      "metadata": {
        "id": "QhV3EoqMILVm"
      },
      "outputs": [],
      "source": [
        "daily_net.add_prob_table(\"Gig incoming\", {\"True\" : (0.05, 0.95), \"False\" : (0.1, 0.9)}) # P(Gig incoming | Exams incoming)\n",
        "\n",
        "daily_net.add_prob_table(\"Bad day start\", {(\"True\", \"True\", \"True\", \"True\") : (0.95, 0.05), # P(Bad day start | Slept bad, Noisy neighbors, Call center call, Sunny)\n",
        "                                            (\"False\", \"True\", \"True\", \"True\") : (0.9, 0.1),\n",
        "                                            (\"True\", \"False\", \"True\", \"True\") : (0.85, 0.15),\n",
        "                                            (\"True\", \"True\", \"False\", \"True\") : (0.8, 0.2),\n",
        "                                            (\"True\", \"True\", \"True\", \"False\") : (0.99, 0.01),\n",
        "                                            (\"False\", \"False\", \"True\", \"True\") : (0.6, 0.4),\n",
        "                                            (\"True\", \"False\", \"False\", \"True\") : (0.4, 0.6),\n",
        "                                            (\"True\", \"True\", \"False\", \"False\") : (0.6, 0.4),\n",
        "                                            (\"False\", \"True\", \"False\", \"True\") : (0.4, 0.6),\n",
        "                                            (\"True\", \"False\", \"True\", \"False\") : (0.7, 0.3),\n",
        "                                            (\"False\", \"True\", \"True\", \"False\") : (0.9, 0.1),\n",
        "                                            (\"False\", \"False\", \"False\", \"True\") : (0.05, 0.95),\n",
        "                                            (\"True\", \"False\", \"False\", \"False\") : (0.2, 0.8),\n",
        "                                            (\"False\", \"True\", \"False\", \"False\") : (0.3, 0.7),\n",
        "                                            (\"False\", \"False\", \"True\", \"False\") : (0.3, 0.7),\n",
        "                                            (\"False\", \"False\", \"False\", \"False\") : (0.1, 0.9),\n",
        "                                            })\n",
        "\n",
        "daily_net.add_prob_table(\"Study\", {\"True\" : (0.9, 0.1), \"False\" : (0.2, 0.8)}) # P(Study | Exams incoming)\n",
        "\n",
        "daily_net.add_prob_table(\"Play guitar\", {(\"True\", \"True\") : (0.7, 0.3), # P(Play guitar | Gig incoming, Bad day start)\n",
        "                                          (\"True\", \"False\") : (0.9, 0.1),\n",
        "                                          (\"False\", \"True\") : (0.2, 0.8),\n",
        "                                          (\"False\", \"False\") : (0.6, 0.4)})\n",
        "daily_net.add_prob_table(\"Scroll phone\", {\"True\" : (0.7, 0.3), \"False\" : (0.4, 0.6)}) # P(Scroll phone | Bad day start)\n",
        "\n",
        "daily_net.add_prob_table(\"Gym\", {(\"True\") : (0.3, 0.7), # P(Gym | Bad day start)\n",
        "                                 (\"False\") : (0.6, 0.4)})"
      ]
    },
    {
      "cell_type": "code",
      "execution_count": null,
      "metadata": {
        "id": "CsDV0ACDILVm"
      },
      "outputs": [],
      "source": [
        "# define ordering of parents for conditioned nodes wrt probability tables. Very dirty, should be done in a better way\n",
        "\n",
        "daily_net.add_ordering({\"Bad day start\" : (\"Slept bad\", \"Noisy neighbors\", \"Call center call\", \"Sunny weather\"),\n",
        "                        \"Play guitar\" : (\"Gig incoming\", \"Bad day start\")})"
      ]
    },
    {
      "cell_type": "markdown",
      "metadata": {
        "id": "UtQ1q632ILVn"
      },
      "source": [
        "## Let's run some Ancestral Sampling on this one"
      ]
    },
    {
      "cell_type": "code",
      "execution_count": null,
      "metadata": {
        "colab": {
          "base_uri": "https://localhost:8080/"
        },
        "id": "JM7xpgzwILVn",
        "outputId": "6d907367-5f52-4391-eb6f-c5ac84d108c9"
      },
      "outputs": [
        {
          "output_type": "stream",
          "name": "stdout",
          "text": [
            "Topological sort: ['Noisy neighbors', 'Exams incoming', 'Call center call', 'Slept bad', 'Sunny weather', 'Gig incoming', 'Study', 'Bad day start', 'Play guitar', 'Scroll phone', 'Gym']\n",
            "0: {'Noisy neighbors': 'False', 'Exams incoming': 'False', 'Call center call': 'False', 'Slept bad': 'False', 'Sunny weather': 'True', 'Gig incoming': 'False', 'Study': 'False', 'Bad day start': 'False', 'Play guitar': 'True', 'Scroll phone': 'False', 'Gym': 'True'}\n",
            "1: {'Noisy neighbors': 'True', 'Exams incoming': 'True', 'Call center call': 'False', 'Slept bad': 'False', 'Sunny weather': 'True', 'Gig incoming': 'False', 'Study': 'True', 'Bad day start': 'False', 'Play guitar': 'True', 'Scroll phone': 'True', 'Gym': 'True'}\n",
            "2: {'Noisy neighbors': 'False', 'Exams incoming': 'False', 'Call center call': 'False', 'Slept bad': 'True', 'Sunny weather': 'False', 'Gig incoming': 'False', 'Study': 'False', 'Bad day start': 'True', 'Play guitar': 'False', 'Scroll phone': 'True', 'Gym': 'False'}\n",
            "3: {'Noisy neighbors': 'True', 'Exams incoming': 'False', 'Call center call': 'False', 'Slept bad': 'False', 'Sunny weather': 'False', 'Gig incoming': 'False', 'Study': 'True', 'Bad day start': 'False', 'Play guitar': 'False', 'Scroll phone': 'False', 'Gym': 'True'}\n",
            "4: {'Noisy neighbors': 'True', 'Exams incoming': 'True', 'Call center call': 'False', 'Slept bad': 'False', 'Sunny weather': 'True', 'Gig incoming': 'False', 'Study': 'True', 'Bad day start': 'True', 'Play guitar': 'False', 'Scroll phone': 'False', 'Gym': 'False'}\n",
            "5: {'Noisy neighbors': 'True', 'Exams incoming': 'False', 'Call center call': 'True', 'Slept bad': 'False', 'Sunny weather': 'False', 'Gig incoming': 'False', 'Study': 'False', 'Bad day start': 'True', 'Play guitar': 'False', 'Scroll phone': 'True', 'Gym': 'False'}\n",
            "6: {'Noisy neighbors': 'False', 'Exams incoming': 'False', 'Call center call': 'False', 'Slept bad': 'True', 'Sunny weather': 'True', 'Gig incoming': 'False', 'Study': 'False', 'Bad day start': 'False', 'Play guitar': 'True', 'Scroll phone': 'False', 'Gym': 'True'}\n",
            "7: {'Noisy neighbors': 'False', 'Exams incoming': 'False', 'Call center call': 'False', 'Slept bad': 'False', 'Sunny weather': 'False', 'Gig incoming': 'False', 'Study': 'False', 'Bad day start': 'False', 'Play guitar': 'True', 'Scroll phone': 'False', 'Gym': 'False'}\n",
            "8: {'Noisy neighbors': 'False', 'Exams incoming': 'False', 'Call center call': 'False', 'Slept bad': 'False', 'Sunny weather': 'False', 'Gig incoming': 'False', 'Study': 'True', 'Bad day start': 'False', 'Play guitar': 'True', 'Scroll phone': 'True', 'Gym': 'False'}\n",
            "9: {'Noisy neighbors': 'False', 'Exams incoming': 'True', 'Call center call': 'False', 'Slept bad': 'False', 'Sunny weather': 'True', 'Gig incoming': 'False', 'Study': 'True', 'Bad day start': 'False', 'Play guitar': 'False', 'Scroll phone': 'False', 'Gym': 'True'}\n",
            "10: {'Noisy neighbors': 'False', 'Exams incoming': 'False', 'Call center call': 'False', 'Slept bad': 'False', 'Sunny weather': 'True', 'Gig incoming': 'True', 'Study': 'False', 'Bad day start': 'False', 'Play guitar': 'True', 'Scroll phone': 'True', 'Gym': 'False'}\n",
            "11: {'Noisy neighbors': 'True', 'Exams incoming': 'False', 'Call center call': 'True', 'Slept bad': 'False', 'Sunny weather': 'False', 'Gig incoming': 'False', 'Study': 'True', 'Bad day start': 'True', 'Play guitar': 'False', 'Scroll phone': 'False', 'Gym': 'False'}\n",
            "12: {'Noisy neighbors': 'False', 'Exams incoming': 'False', 'Call center call': 'False', 'Slept bad': 'False', 'Sunny weather': 'True', 'Gig incoming': 'False', 'Study': 'False', 'Bad day start': 'False', 'Play guitar': 'False', 'Scroll phone': 'False', 'Gym': 'False'}\n",
            "13: {'Noisy neighbors': 'False', 'Exams incoming': 'False', 'Call center call': 'False', 'Slept bad': 'False', 'Sunny weather': 'False', 'Gig incoming': 'False', 'Study': 'False', 'Bad day start': 'False', 'Play guitar': 'False', 'Scroll phone': 'False', 'Gym': 'False'}\n",
            "14: {'Noisy neighbors': 'False', 'Exams incoming': 'False', 'Call center call': 'False', 'Slept bad': 'False', 'Sunny weather': 'True', 'Gig incoming': 'False', 'Study': 'False', 'Bad day start': 'False', 'Play guitar': 'True', 'Scroll phone': 'False', 'Gym': 'True'}\n",
            "15: {'Noisy neighbors': 'False', 'Exams incoming': 'True', 'Call center call': 'False', 'Slept bad': 'False', 'Sunny weather': 'False', 'Gig incoming': 'False', 'Study': 'True', 'Bad day start': 'False', 'Play guitar': 'True', 'Scroll phone': 'True', 'Gym': 'False'}\n",
            "16: {'Noisy neighbors': 'True', 'Exams incoming': 'False', 'Call center call': 'False', 'Slept bad': 'False', 'Sunny weather': 'True', 'Gig incoming': 'True', 'Study': 'False', 'Bad day start': 'False', 'Play guitar': 'True', 'Scroll phone': 'False', 'Gym': 'False'}\n",
            "17: {'Noisy neighbors': 'False', 'Exams incoming': 'False', 'Call center call': 'False', 'Slept bad': 'False', 'Sunny weather': 'False', 'Gig incoming': 'False', 'Study': 'False', 'Bad day start': 'True', 'Play guitar': 'False', 'Scroll phone': 'True', 'Gym': 'True'}\n",
            "18: {'Noisy neighbors': 'False', 'Exams incoming': 'False', 'Call center call': 'False', 'Slept bad': 'False', 'Sunny weather': 'True', 'Gig incoming': 'False', 'Study': 'False', 'Bad day start': 'False', 'Play guitar': 'True', 'Scroll phone': 'False', 'Gym': 'True'}\n",
            "19: {'Noisy neighbors': 'True', 'Exams incoming': 'False', 'Call center call': 'False', 'Slept bad': 'False', 'Sunny weather': 'False', 'Gig incoming': 'False', 'Study': 'False', 'Bad day start': 'False', 'Play guitar': 'True', 'Scroll phone': 'False', 'Gym': 'True'}\n",
            "20: {'Noisy neighbors': 'True', 'Exams incoming': 'False', 'Call center call': 'False', 'Slept bad': 'True', 'Sunny weather': 'True', 'Gig incoming': 'False', 'Study': 'True', 'Bad day start': 'True', 'Play guitar': 'False', 'Scroll phone': 'True', 'Gym': 'False'}\n",
            "21: {'Noisy neighbors': 'False', 'Exams incoming': 'False', 'Call center call': 'False', 'Slept bad': 'False', 'Sunny weather': 'False', 'Gig incoming': 'False', 'Study': 'False', 'Bad day start': 'False', 'Play guitar': 'True', 'Scroll phone': 'False', 'Gym': 'True'}\n",
            "22: {'Noisy neighbors': 'False', 'Exams incoming': 'False', 'Call center call': 'True', 'Slept bad': 'False', 'Sunny weather': 'False', 'Gig incoming': 'False', 'Study': 'False', 'Bad day start': 'True', 'Play guitar': 'False', 'Scroll phone': 'True', 'Gym': 'False'}\n",
            "23: {'Noisy neighbors': 'True', 'Exams incoming': 'False', 'Call center call': 'True', 'Slept bad': 'False', 'Sunny weather': 'True', 'Gig incoming': 'False', 'Study': 'True', 'Bad day start': 'True', 'Play guitar': 'False', 'Scroll phone': 'True', 'Gym': 'False'}\n",
            "24: {'Noisy neighbors': 'True', 'Exams incoming': 'True', 'Call center call': 'False', 'Slept bad': 'False', 'Sunny weather': 'True', 'Gig incoming': 'False', 'Study': 'True', 'Bad day start': 'False', 'Play guitar': 'False', 'Scroll phone': 'False', 'Gym': 'True'}\n",
            "25: {'Noisy neighbors': 'True', 'Exams incoming': 'False', 'Call center call': 'False', 'Slept bad': 'False', 'Sunny weather': 'True', 'Gig incoming': 'True', 'Study': 'False', 'Bad day start': 'False', 'Play guitar': 'True', 'Scroll phone': 'False', 'Gym': 'True'}\n",
            "26: {'Noisy neighbors': 'True', 'Exams incoming': 'False', 'Call center call': 'False', 'Slept bad': 'False', 'Sunny weather': 'True', 'Gig incoming': 'False', 'Study': 'False', 'Bad day start': 'False', 'Play guitar': 'False', 'Scroll phone': 'False', 'Gym': 'True'}\n",
            "27: {'Noisy neighbors': 'False', 'Exams incoming': 'True', 'Call center call': 'False', 'Slept bad': 'False', 'Sunny weather': 'False', 'Gig incoming': 'False', 'Study': 'True', 'Bad day start': 'False', 'Play guitar': 'True', 'Scroll phone': 'False', 'Gym': 'True'}\n",
            "28: {'Noisy neighbors': 'False', 'Exams incoming': 'False', 'Call center call': 'False', 'Slept bad': 'False', 'Sunny weather': 'False', 'Gig incoming': 'False', 'Study': 'False', 'Bad day start': 'False', 'Play guitar': 'False', 'Scroll phone': 'True', 'Gym': 'True'}\n",
            "29: {'Noisy neighbors': 'False', 'Exams incoming': 'False', 'Call center call': 'False', 'Slept bad': 'True', 'Sunny weather': 'True', 'Gig incoming': 'False', 'Study': 'False', 'Bad day start': 'False', 'Play guitar': 'False', 'Scroll phone': 'False', 'Gym': 'True'}\n",
            "30: {'Noisy neighbors': 'True', 'Exams incoming': 'False', 'Call center call': 'False', 'Slept bad': 'False', 'Sunny weather': 'True', 'Gig incoming': 'False', 'Study': 'False', 'Bad day start': 'True', 'Play guitar': 'False', 'Scroll phone': 'False', 'Gym': 'False'}\n",
            "31: {'Noisy neighbors': 'True', 'Exams incoming': 'False', 'Call center call': 'False', 'Slept bad': 'False', 'Sunny weather': 'True', 'Gig incoming': 'False', 'Study': 'False', 'Bad day start': 'False', 'Play guitar': 'False', 'Scroll phone': 'True', 'Gym': 'True'}\n",
            "32: {'Noisy neighbors': 'False', 'Exams incoming': 'False', 'Call center call': 'True', 'Slept bad': 'False', 'Sunny weather': 'False', 'Gig incoming': 'True', 'Study': 'False', 'Bad day start': 'True', 'Play guitar': 'True', 'Scroll phone': 'False', 'Gym': 'True'}\n",
            "33: {'Noisy neighbors': 'True', 'Exams incoming': 'False', 'Call center call': 'False', 'Slept bad': 'False', 'Sunny weather': 'False', 'Gig incoming': 'False', 'Study': 'False', 'Bad day start': 'False', 'Play guitar': 'True', 'Scroll phone': 'False', 'Gym': 'True'}\n",
            "34: {'Noisy neighbors': 'False', 'Exams incoming': 'False', 'Call center call': 'False', 'Slept bad': 'False', 'Sunny weather': 'False', 'Gig incoming': 'False', 'Study': 'False', 'Bad day start': 'False', 'Play guitar': 'True', 'Scroll phone': 'False', 'Gym': 'False'}\n",
            "35: {'Noisy neighbors': 'False', 'Exams incoming': 'False', 'Call center call': 'True', 'Slept bad': 'False', 'Sunny weather': 'False', 'Gig incoming': 'True', 'Study': 'True', 'Bad day start': 'True', 'Play guitar': 'True', 'Scroll phone': 'True', 'Gym': 'True'}\n",
            "36: {'Noisy neighbors': 'False', 'Exams incoming': 'False', 'Call center call': 'False', 'Slept bad': 'False', 'Sunny weather': 'False', 'Gig incoming': 'False', 'Study': 'False', 'Bad day start': 'False', 'Play guitar': 'True', 'Scroll phone': 'False', 'Gym': 'True'}\n",
            "37: {'Noisy neighbors': 'True', 'Exams incoming': 'False', 'Call center call': 'True', 'Slept bad': 'False', 'Sunny weather': 'True', 'Gig incoming': 'False', 'Study': 'False', 'Bad day start': 'True', 'Play guitar': 'True', 'Scroll phone': 'False', 'Gym': 'False'}\n",
            "38: {'Noisy neighbors': 'False', 'Exams incoming': 'False', 'Call center call': 'False', 'Slept bad': 'False', 'Sunny weather': 'False', 'Gig incoming': 'False', 'Study': 'False', 'Bad day start': 'False', 'Play guitar': 'False', 'Scroll phone': 'True', 'Gym': 'True'}\n",
            "39: {'Noisy neighbors': 'False', 'Exams incoming': 'False', 'Call center call': 'True', 'Slept bad': 'False', 'Sunny weather': 'False', 'Gig incoming': 'False', 'Study': 'False', 'Bad day start': 'False', 'Play guitar': 'True', 'Scroll phone': 'True', 'Gym': 'True'}\n",
            "40: {'Noisy neighbors': 'False', 'Exams incoming': 'False', 'Call center call': 'False', 'Slept bad': 'False', 'Sunny weather': 'False', 'Gig incoming': 'False', 'Study': 'False', 'Bad day start': 'False', 'Play guitar': 'True', 'Scroll phone': 'True', 'Gym': 'False'}\n",
            "41: {'Noisy neighbors': 'False', 'Exams incoming': 'True', 'Call center call': 'False', 'Slept bad': 'False', 'Sunny weather': 'True', 'Gig incoming': 'False', 'Study': 'True', 'Bad day start': 'False', 'Play guitar': 'True', 'Scroll phone': 'False', 'Gym': 'False'}\n",
            "42: {'Noisy neighbors': 'True', 'Exams incoming': 'False', 'Call center call': 'False', 'Slept bad': 'False', 'Sunny weather': 'False', 'Gig incoming': 'False', 'Study': 'False', 'Bad day start': 'False', 'Play guitar': 'True', 'Scroll phone': 'False', 'Gym': 'True'}\n",
            "43: {'Noisy neighbors': 'False', 'Exams incoming': 'False', 'Call center call': 'False', 'Slept bad': 'False', 'Sunny weather': 'False', 'Gig incoming': 'False', 'Study': 'True', 'Bad day start': 'False', 'Play guitar': 'True', 'Scroll phone': 'False', 'Gym': 'True'}\n",
            "44: {'Noisy neighbors': 'False', 'Exams incoming': 'False', 'Call center call': 'True', 'Slept bad': 'False', 'Sunny weather': 'True', 'Gig incoming': 'False', 'Study': 'False', 'Bad day start': 'False', 'Play guitar': 'False', 'Scroll phone': 'False', 'Gym': 'False'}\n",
            "45: {'Noisy neighbors': 'False', 'Exams incoming': 'False', 'Call center call': 'False', 'Slept bad': 'True', 'Sunny weather': 'True', 'Gig incoming': 'False', 'Study': 'False', 'Bad day start': 'True', 'Play guitar': 'True', 'Scroll phone': 'True', 'Gym': 'True'}\n",
            "46: {'Noisy neighbors': 'True', 'Exams incoming': 'False', 'Call center call': 'False', 'Slept bad': 'False', 'Sunny weather': 'True', 'Gig incoming': 'False', 'Study': 'False', 'Bad day start': 'False', 'Play guitar': 'True', 'Scroll phone': 'True', 'Gym': 'False'}\n",
            "47: {'Noisy neighbors': 'False', 'Exams incoming': 'False', 'Call center call': 'False', 'Slept bad': 'False', 'Sunny weather': 'False', 'Gig incoming': 'False', 'Study': 'True', 'Bad day start': 'False', 'Play guitar': 'False', 'Scroll phone': 'False', 'Gym': 'False'}\n",
            "48: {'Noisy neighbors': 'False', 'Exams incoming': 'False', 'Call center call': 'True', 'Slept bad': 'False', 'Sunny weather': 'True', 'Gig incoming': 'False', 'Study': 'False', 'Bad day start': 'False', 'Play guitar': 'True', 'Scroll phone': 'False', 'Gym': 'True'}\n",
            "49: {'Noisy neighbors': 'False', 'Exams incoming': 'False', 'Call center call': 'False', 'Slept bad': 'False', 'Sunny weather': 'False', 'Gig incoming': 'False', 'Study': 'False', 'Bad day start': 'False', 'Play guitar': 'False', 'Scroll phone': 'True', 'Gym': 'True'}\n",
            "50: {'Noisy neighbors': 'False', 'Exams incoming': 'False', 'Call center call': 'False', 'Slept bad': 'False', 'Sunny weather': 'True', 'Gig incoming': 'True', 'Study': 'False', 'Bad day start': 'False', 'Play guitar': 'True', 'Scroll phone': 'False', 'Gym': 'True'}\n",
            "51: {'Noisy neighbors': 'True', 'Exams incoming': 'True', 'Call center call': 'False', 'Slept bad': 'False', 'Sunny weather': 'False', 'Gig incoming': 'False', 'Study': 'True', 'Bad day start': 'False', 'Play guitar': 'False', 'Scroll phone': 'False', 'Gym': 'False'}\n",
            "52: {'Noisy neighbors': 'False', 'Exams incoming': 'False', 'Call center call': 'False', 'Slept bad': 'False', 'Sunny weather': 'True', 'Gig incoming': 'False', 'Study': 'False', 'Bad day start': 'False', 'Play guitar': 'False', 'Scroll phone': 'False', 'Gym': 'True'}\n",
            "53: {'Noisy neighbors': 'False', 'Exams incoming': 'False', 'Call center call': 'False', 'Slept bad': 'False', 'Sunny weather': 'True', 'Gig incoming': 'False', 'Study': 'True', 'Bad day start': 'False', 'Play guitar': 'True', 'Scroll phone': 'False', 'Gym': 'True'}\n",
            "54: {'Noisy neighbors': 'False', 'Exams incoming': 'False', 'Call center call': 'False', 'Slept bad': 'False', 'Sunny weather': 'False', 'Gig incoming': 'False', 'Study': 'False', 'Bad day start': 'False', 'Play guitar': 'True', 'Scroll phone': 'True', 'Gym': 'False'}\n",
            "55: {'Noisy neighbors': 'True', 'Exams incoming': 'False', 'Call center call': 'False', 'Slept bad': 'False', 'Sunny weather': 'True', 'Gig incoming': 'False', 'Study': 'False', 'Bad day start': 'True', 'Play guitar': 'False', 'Scroll phone': 'True', 'Gym': 'False'}\n",
            "56: {'Noisy neighbors': 'False', 'Exams incoming': 'False', 'Call center call': 'False', 'Slept bad': 'True', 'Sunny weather': 'False', 'Gig incoming': 'False', 'Study': 'False', 'Bad day start': 'False', 'Play guitar': 'False', 'Scroll phone': 'False', 'Gym': 'True'}\n",
            "57: {'Noisy neighbors': 'False', 'Exams incoming': 'False', 'Call center call': 'False', 'Slept bad': 'False', 'Sunny weather': 'False', 'Gig incoming': 'False', 'Study': 'True', 'Bad day start': 'False', 'Play guitar': 'False', 'Scroll phone': 'False', 'Gym': 'True'}\n",
            "58: {'Noisy neighbors': 'True', 'Exams incoming': 'True', 'Call center call': 'False', 'Slept bad': 'False', 'Sunny weather': 'False', 'Gig incoming': 'False', 'Study': 'True', 'Bad day start': 'False', 'Play guitar': 'True', 'Scroll phone': 'False', 'Gym': 'False'}\n",
            "59: {'Noisy neighbors': 'True', 'Exams incoming': 'False', 'Call center call': 'False', 'Slept bad': 'False', 'Sunny weather': 'False', 'Gig incoming': 'False', 'Study': 'False', 'Bad day start': 'True', 'Play guitar': 'False', 'Scroll phone': 'True', 'Gym': 'False'}\n",
            "60: {'Noisy neighbors': 'False', 'Exams incoming': 'True', 'Call center call': 'False', 'Slept bad': 'False', 'Sunny weather': 'False', 'Gig incoming': 'False', 'Study': 'True', 'Bad day start': 'False', 'Play guitar': 'False', 'Scroll phone': 'True', 'Gym': 'False'}\n",
            "61: {'Noisy neighbors': 'False', 'Exams incoming': 'False', 'Call center call': 'False', 'Slept bad': 'False', 'Sunny weather': 'False', 'Gig incoming': 'False', 'Study': 'False', 'Bad day start': 'False', 'Play guitar': 'True', 'Scroll phone': 'False', 'Gym': 'True'}\n",
            "62: {'Noisy neighbors': 'False', 'Exams incoming': 'True', 'Call center call': 'False', 'Slept bad': 'False', 'Sunny weather': 'True', 'Gig incoming': 'False', 'Study': 'True', 'Bad day start': 'False', 'Play guitar': 'False', 'Scroll phone': 'True', 'Gym': 'True'}\n",
            "63: {'Noisy neighbors': 'False', 'Exams incoming': 'False', 'Call center call': 'False', 'Slept bad': 'False', 'Sunny weather': 'False', 'Gig incoming': 'False', 'Study': 'False', 'Bad day start': 'False', 'Play guitar': 'False', 'Scroll phone': 'False', 'Gym': 'False'}\n",
            "64: {'Noisy neighbors': 'False', 'Exams incoming': 'False', 'Call center call': 'False', 'Slept bad': 'False', 'Sunny weather': 'True', 'Gig incoming': 'False', 'Study': 'False', 'Bad day start': 'False', 'Play guitar': 'True', 'Scroll phone': 'True', 'Gym': 'True'}\n",
            "65: {'Noisy neighbors': 'True', 'Exams incoming': 'False', 'Call center call': 'False', 'Slept bad': 'False', 'Sunny weather': 'True', 'Gig incoming': 'False', 'Study': 'False', 'Bad day start': 'True', 'Play guitar': 'False', 'Scroll phone': 'True', 'Gym': 'False'}\n",
            "66: {'Noisy neighbors': 'True', 'Exams incoming': 'False', 'Call center call': 'False', 'Slept bad': 'False', 'Sunny weather': 'True', 'Gig incoming': 'False', 'Study': 'False', 'Bad day start': 'False', 'Play guitar': 'False', 'Scroll phone': 'True', 'Gym': 'True'}\n",
            "67: {'Noisy neighbors': 'False', 'Exams incoming': 'False', 'Call center call': 'False', 'Slept bad': 'False', 'Sunny weather': 'True', 'Gig incoming': 'False', 'Study': 'False', 'Bad day start': 'False', 'Play guitar': 'True', 'Scroll phone': 'False', 'Gym': 'True'}\n",
            "68: {'Noisy neighbors': 'True', 'Exams incoming': 'False', 'Call center call': 'False', 'Slept bad': 'False', 'Sunny weather': 'True', 'Gig incoming': 'False', 'Study': 'False', 'Bad day start': 'False', 'Play guitar': 'False', 'Scroll phone': 'True', 'Gym': 'True'}\n",
            "69: {'Noisy neighbors': 'True', 'Exams incoming': 'False', 'Call center call': 'False', 'Slept bad': 'False', 'Sunny weather': 'True', 'Gig incoming': 'True', 'Study': 'False', 'Bad day start': 'False', 'Play guitar': 'True', 'Scroll phone': 'False', 'Gym': 'True'}\n",
            "70: {'Noisy neighbors': 'True', 'Exams incoming': 'False', 'Call center call': 'True', 'Slept bad': 'False', 'Sunny weather': 'False', 'Gig incoming': 'False', 'Study': 'False', 'Bad day start': 'True', 'Play guitar': 'False', 'Scroll phone': 'True', 'Gym': 'True'}\n",
            "71: {'Noisy neighbors': 'True', 'Exams incoming': 'False', 'Call center call': 'False', 'Slept bad': 'True', 'Sunny weather': 'False', 'Gig incoming': 'False', 'Study': 'False', 'Bad day start': 'True', 'Play guitar': 'True', 'Scroll phone': 'False', 'Gym': 'False'}\n",
            "72: {'Noisy neighbors': 'False', 'Exams incoming': 'False', 'Call center call': 'True', 'Slept bad': 'False', 'Sunny weather': 'False', 'Gig incoming': 'False', 'Study': 'False', 'Bad day start': 'False', 'Play guitar': 'False', 'Scroll phone': 'False', 'Gym': 'False'}\n",
            "73: {'Noisy neighbors': 'True', 'Exams incoming': 'False', 'Call center call': 'False', 'Slept bad': 'False', 'Sunny weather': 'True', 'Gig incoming': 'True', 'Study': 'False', 'Bad day start': 'True', 'Play guitar': 'True', 'Scroll phone': 'False', 'Gym': 'False'}\n",
            "74: {'Noisy neighbors': 'False', 'Exams incoming': 'False', 'Call center call': 'False', 'Slept bad': 'False', 'Sunny weather': 'True', 'Gig incoming': 'False', 'Study': 'False', 'Bad day start': 'False', 'Play guitar': 'False', 'Scroll phone': 'False', 'Gym': 'False'}\n",
            "75: {'Noisy neighbors': 'False', 'Exams incoming': 'False', 'Call center call': 'False', 'Slept bad': 'False', 'Sunny weather': 'False', 'Gig incoming': 'False', 'Study': 'False', 'Bad day start': 'False', 'Play guitar': 'True', 'Scroll phone': 'True', 'Gym': 'False'}\n",
            "76: {'Noisy neighbors': 'False', 'Exams incoming': 'True', 'Call center call': 'False', 'Slept bad': 'False', 'Sunny weather': 'False', 'Gig incoming': 'False', 'Study': 'False', 'Bad day start': 'False', 'Play guitar': 'True', 'Scroll phone': 'False', 'Gym': 'True'}\n",
            "77: {'Noisy neighbors': 'False', 'Exams incoming': 'False', 'Call center call': 'False', 'Slept bad': 'True', 'Sunny weather': 'True', 'Gig incoming': 'True', 'Study': 'False', 'Bad day start': 'False', 'Play guitar': 'True', 'Scroll phone': 'False', 'Gym': 'True'}\n",
            "78: {'Noisy neighbors': 'False', 'Exams incoming': 'False', 'Call center call': 'False', 'Slept bad': 'False', 'Sunny weather': 'False', 'Gig incoming': 'False', 'Study': 'True', 'Bad day start': 'False', 'Play guitar': 'False', 'Scroll phone': 'True', 'Gym': 'True'}\n",
            "79: {'Noisy neighbors': 'False', 'Exams incoming': 'False', 'Call center call': 'True', 'Slept bad': 'False', 'Sunny weather': 'False', 'Gig incoming': 'False', 'Study': 'False', 'Bad day start': 'False', 'Play guitar': 'True', 'Scroll phone': 'False', 'Gym': 'True'}\n",
            "80: {'Noisy neighbors': 'False', 'Exams incoming': 'False', 'Call center call': 'False', 'Slept bad': 'False', 'Sunny weather': 'True', 'Gig incoming': 'True', 'Study': 'False', 'Bad day start': 'False', 'Play guitar': 'True', 'Scroll phone': 'False', 'Gym': 'True'}\n",
            "81: {'Noisy neighbors': 'False', 'Exams incoming': 'True', 'Call center call': 'True', 'Slept bad': 'False', 'Sunny weather': 'False', 'Gig incoming': 'False', 'Study': 'True', 'Bad day start': 'True', 'Play guitar': 'False', 'Scroll phone': 'True', 'Gym': 'False'}\n",
            "82: {'Noisy neighbors': 'False', 'Exams incoming': 'False', 'Call center call': 'False', 'Slept bad': 'False', 'Sunny weather': 'False', 'Gig incoming': 'False', 'Study': 'False', 'Bad day start': 'False', 'Play guitar': 'True', 'Scroll phone': 'False', 'Gym': 'False'}\n",
            "83: {'Noisy neighbors': 'False', 'Exams incoming': 'False', 'Call center call': 'False', 'Slept bad': 'False', 'Sunny weather': 'True', 'Gig incoming': 'False', 'Study': 'False', 'Bad day start': 'False', 'Play guitar': 'True', 'Scroll phone': 'False', 'Gym': 'False'}\n",
            "84: {'Noisy neighbors': 'False', 'Exams incoming': 'False', 'Call center call': 'True', 'Slept bad': 'False', 'Sunny weather': 'False', 'Gig incoming': 'False', 'Study': 'True', 'Bad day start': 'True', 'Play guitar': 'False', 'Scroll phone': 'False', 'Gym': 'False'}\n",
            "85: {'Noisy neighbors': 'False', 'Exams incoming': 'False', 'Call center call': 'False', 'Slept bad': 'False', 'Sunny weather': 'False', 'Gig incoming': 'False', 'Study': 'False', 'Bad day start': 'False', 'Play guitar': 'True', 'Scroll phone': 'False', 'Gym': 'True'}\n",
            "86: {'Noisy neighbors': 'False', 'Exams incoming': 'False', 'Call center call': 'True', 'Slept bad': 'False', 'Sunny weather': 'False', 'Gig incoming': 'False', 'Study': 'True', 'Bad day start': 'False', 'Play guitar': 'False', 'Scroll phone': 'True', 'Gym': 'False'}\n",
            "87: {'Noisy neighbors': 'True', 'Exams incoming': 'False', 'Call center call': 'False', 'Slept bad': 'True', 'Sunny weather': 'False', 'Gig incoming': 'False', 'Study': 'False', 'Bad day start': 'True', 'Play guitar': 'True', 'Scroll phone': 'False', 'Gym': 'False'}\n",
            "88: {'Noisy neighbors': 'False', 'Exams incoming': 'False', 'Call center call': 'True', 'Slept bad': 'False', 'Sunny weather': 'True', 'Gig incoming': 'False', 'Study': 'False', 'Bad day start': 'True', 'Play guitar': 'True', 'Scroll phone': 'False', 'Gym': 'False'}\n",
            "89: {'Noisy neighbors': 'True', 'Exams incoming': 'False', 'Call center call': 'False', 'Slept bad': 'False', 'Sunny weather': 'True', 'Gig incoming': 'False', 'Study': 'False', 'Bad day start': 'False', 'Play guitar': 'True', 'Scroll phone': 'True', 'Gym': 'True'}\n",
            "90: {'Noisy neighbors': 'False', 'Exams incoming': 'True', 'Call center call': 'False', 'Slept bad': 'False', 'Sunny weather': 'False', 'Gig incoming': 'False', 'Study': 'True', 'Bad day start': 'False', 'Play guitar': 'True', 'Scroll phone': 'False', 'Gym': 'True'}\n",
            "91: {'Noisy neighbors': 'False', 'Exams incoming': 'False', 'Call center call': 'False', 'Slept bad': 'False', 'Sunny weather': 'False', 'Gig incoming': 'False', 'Study': 'False', 'Bad day start': 'True', 'Play guitar': 'True', 'Scroll phone': 'True', 'Gym': 'False'}\n",
            "92: {'Noisy neighbors': 'True', 'Exams incoming': 'True', 'Call center call': 'False', 'Slept bad': 'False', 'Sunny weather': 'True', 'Gig incoming': 'False', 'Study': 'False', 'Bad day start': 'True', 'Play guitar': 'False', 'Scroll phone': 'True', 'Gym': 'False'}\n",
            "93: {'Noisy neighbors': 'True', 'Exams incoming': 'False', 'Call center call': 'True', 'Slept bad': 'False', 'Sunny weather': 'False', 'Gig incoming': 'False', 'Study': 'False', 'Bad day start': 'True', 'Play guitar': 'False', 'Scroll phone': 'False', 'Gym': 'True'}\n",
            "94: {'Noisy neighbors': 'False', 'Exams incoming': 'False', 'Call center call': 'False', 'Slept bad': 'False', 'Sunny weather': 'True', 'Gig incoming': 'False', 'Study': 'False', 'Bad day start': 'False', 'Play guitar': 'True', 'Scroll phone': 'False', 'Gym': 'True'}\n",
            "95: {'Noisy neighbors': 'False', 'Exams incoming': 'False', 'Call center call': 'False', 'Slept bad': 'False', 'Sunny weather': 'False', 'Gig incoming': 'False', 'Study': 'True', 'Bad day start': 'False', 'Play guitar': 'True', 'Scroll phone': 'False', 'Gym': 'False'}\n",
            "96: {'Noisy neighbors': 'False', 'Exams incoming': 'False', 'Call center call': 'True', 'Slept bad': 'True', 'Sunny weather': 'True', 'Gig incoming': 'True', 'Study': 'False', 'Bad day start': 'False', 'Play guitar': 'True', 'Scroll phone': 'True', 'Gym': 'True'}\n",
            "97: {'Noisy neighbors': 'True', 'Exams incoming': 'False', 'Call center call': 'False', 'Slept bad': 'False', 'Sunny weather': 'True', 'Gig incoming': 'False', 'Study': 'False', 'Bad day start': 'True', 'Play guitar': 'True', 'Scroll phone': 'True', 'Gym': 'False'}\n",
            "98: {'Noisy neighbors': 'True', 'Exams incoming': 'True', 'Call center call': 'False', 'Slept bad': 'False', 'Sunny weather': 'True', 'Gig incoming': 'False', 'Study': 'False', 'Bad day start': 'False', 'Play guitar': 'True', 'Scroll phone': 'False', 'Gym': 'False'}\n",
            "99: {'Noisy neighbors': 'True', 'Exams incoming': 'False', 'Call center call': 'False', 'Slept bad': 'False', 'Sunny weather': 'True', 'Gig incoming': 'False', 'Study': 'False', 'Bad day start': 'False', 'Play guitar': 'False', 'Scroll phone': 'True', 'Gym': 'True'}\n"
          ]
        }
      ],
      "source": [
        "samples = daily_net.ancestral_sampling(100)\n",
        "for i, sample in enumerate(samples):\n",
        "    print(f\"{i}: {sample}\")"
      ]
    },
    {
      "cell_type": "markdown",
      "metadata": {
        "id": "iGEpVNwPILVn"
      },
      "source": [
        "## Calculating obtained occurrences for each node\n",
        "\n",
        "Let's write a function that calculates the percentages of each node being observed over the samples"
      ]
    },
    {
      "cell_type": "code",
      "execution_count": null,
      "metadata": {
        "colab": {
          "base_uri": "https://localhost:8080/"
        },
        "id": "-kXLr46AILVn",
        "outputId": "c8c935b6-56c4-4c1d-f5bb-f59e4844be82"
      },
      "outputs": [
        {
          "output_type": "stream",
          "name": "stdout",
          "text": [
            "{'Noisy neighbors': 0.36, 'Exams incoming': 0.16, 'Bad day start': 0.27, 'Call center call': 0.19, 'Slept bad': 0.1, 'Gig incoming': 0.11, 'Sunny weather': 0.48, 'Study': 0.27, 'Play guitar': 0.56, 'Scroll phone': 0.39, 'Gym': 0.53} \n",
            "\n"
          ]
        }
      ],
      "source": [
        "print(f\"{daily_net.get_occurrences(samples)} \\n\")"
      ]
    },
    {
      "cell_type": "markdown",
      "metadata": {
        "id": "_wXcqSl6ILVn"
      },
      "source": [
        "### Repeating with a higher number of samples\n",
        "Giving a quick look at the sampled probabilities, they reflect the expected probabilities more, given the higher number of samples"
      ]
    },
    {
      "cell_type": "code",
      "execution_count": null,
      "metadata": {
        "colab": {
          "base_uri": "https://localhost:8080/"
        },
        "id": "oBBhUblMILVn",
        "outputId": "5a8c3b5b-d8b0-4d40-9194-6d8e46671391"
      },
      "outputs": [
        {
          "output_type": "stream",
          "name": "stdout",
          "text": [
            "Topological sort: ['Noisy neighbors', 'Exams incoming', 'Call center call', 'Slept bad', 'Sunny weather', 'Gig incoming', 'Study', 'Bad day start', 'Play guitar', 'Scroll phone', 'Gym']\n",
            "{'Noisy neighbors': 0.286, 'Exams incoming': 0.095, 'Bad day start': 0.31, 'Call center call': 0.205, 'Slept bad': 0.196, 'Gig incoming': 0.109, 'Sunny weather': 0.505, 'Study': 0.273, 'Play guitar': 0.536, 'Scroll phone': 0.473, 'Gym': 0.495} \n",
            "\n"
          ]
        }
      ],
      "source": [
        "samples = daily_net.ancestral_sampling(1000)\n",
        "print(f\"{daily_net.get_occurrences(samples)} \\n\")"
      ]
    },
    {
      "cell_type": "markdown",
      "metadata": {
        "id": "iigX9nGZILVn"
      },
      "source": [
        "# Final considerations\n",
        "\n"
      ]
    },
    {
      "cell_type": "markdown",
      "metadata": {
        "id": "c-aILRPoILVn"
      },
      "source": [
        "The developing of a Bayesian Network by scratch has helped a lot in fully understanding the concepts behind it. Ancestral Sampling can be used to estimate the full joint probability distribution described by the structure, or to generate synthethic training data for learning models. It's easy to implement and computationally affordable. As a downside, the \"reliability\" of a Probabilistic Model is deeply reflected by its structure and parameters. Also, as we know, a Bayesian Network cannot model relationships with cycles, so we have to keep that in mind.\n",
        "\n",
        "## Possible analysis improvements\n",
        "\n",
        "To further enhance the possibilities offered by this kind of structure, it would be useful to add more Bayesian Network algorithms.\n",
        "for example, the ability to retrieve the probability of a node being observed, given another observed node. (e.g. \"What is the probability of me spending the morning scrolling the phone by knowing that I got waken up by a call center?\"). Perhaps with a user-friendly interface that allows the user to create and manipulate the graph, inserting values and seeing the results in real time.\n",
        "\n",
        "Other examples are marginalization, inference, or joint probability.\n",
        "In the last case, we could maybe define an epsilon for error tolerance and see how many Ancestral Sampling iterations are needed to get the expected joint distribution.\n",
        "\n",
        "Of course, using parameters learned by data would be much more representative of the real world.\n",
        "\n",
        "It would also be fun to experiment with more complex structures, or multinomial distributions."
      ]
    }
  ],
  "metadata": {
    "kernelspec": {
      "display_name": "ispr",
      "language": "python",
      "name": "python3"
    },
    "language_info": {
      "codemirror_mode": {
        "name": "ipython",
        "version": 3
      },
      "file_extension": ".py",
      "mimetype": "text/x-python",
      "name": "python",
      "nbconvert_exporter": "python",
      "pygments_lexer": "ipython3",
      "version": "3.10.12"
    },
    "colab": {
      "provenance": []
    }
  },
  "nbformat": 4,
  "nbformat_minor": 0
}
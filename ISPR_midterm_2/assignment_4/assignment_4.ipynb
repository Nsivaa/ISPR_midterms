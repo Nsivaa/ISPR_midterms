{
 "cells": [
  {
   "cell_type": "markdown",
   "metadata": {},
   "source": [
    "# Alberto Dicembre, Assignment #4"
   ]
  },
  {
   "cell_type": "code",
   "execution_count": 1,
   "metadata": {},
   "outputs": [],
   "source": [
    "from bayesian_network import BayesianNetwork \n",
    "import numpy as np"
   ]
  },
  {
   "cell_type": "markdown",
   "metadata": {},
   "source": [
    "## Testing the Network"
   ]
  },
  {
   "cell_type": "code",
   "execution_count": 2,
   "metadata": {},
   "outputs": [],
   "source": [
    "net = BayesianNetwork(values=[\"True\", \"False\"]) \n",
    "net.add_node(\"A\")\n",
    "net.add_node(\"B\")\n",
    "net.add_node(\"C\")\n"
   ]
  },
  {
   "cell_type": "code",
   "execution_count": 3,
   "metadata": {},
   "outputs": [
    {
     "name": "stdout",
     "output_type": "stream",
     "text": [
      "Nodes: dict_keys(['A', 'B', 'C']), Edges: {}, Tables: {'A': {'Prior': [0.5, 0.5]}, 'B': {'Prior': [0.5, 0.5]}, 'C': {'Prior': [0.5, 0.5]}}\n"
     ]
    },
    {
     "data": {
      "text/plain": [
       "True"
      ]
     },
     "execution_count": 3,
     "metadata": {},
     "output_type": "execute_result"
    }
   ],
   "source": [
    "print(net)\n",
    "net.check_valid()"
   ]
  },
  {
   "cell_type": "code",
   "execution_count": 4,
   "metadata": {},
   "outputs": [
    {
     "name": "stdout",
     "output_type": "stream",
     "text": [
      "Nodes: dict_keys(['A', 'B', 'C']), Edges: {'A': ['B'], 'B': ['C']}, Tables: {'A': {'Prior': [0.5, 0.5]}, 'B': {'Prior': [0.5, 0.5]}, 'C': {'Prior': [0.5, 0.5]}}\n"
     ]
    }
   ],
   "source": [
    "net.add_edge(\"A\", [\"B\"])\n",
    "net.add_edge(\"B\", [\"C\"])\n",
    "print(net)\n"
   ]
  },
  {
   "cell_type": "code",
   "execution_count": 5,
   "metadata": {},
   "outputs": [
    {
     "name": "stdout",
     "output_type": "stream",
     "text": [
      "Node B probability table doesn't match parents' number of values\n",
      "Node C probability table doesn't match parents' number of values\n"
     ]
    },
    {
     "data": {
      "text/plain": [
       "False"
      ]
     },
     "execution_count": 5,
     "metadata": {},
     "output_type": "execute_result"
    }
   ],
   "source": [
    "net.check_valid()"
   ]
  },
  {
   "cell_type": "markdown",
   "metadata": {},
   "source": [
    "#### Checking Topological Sort"
   ]
  },
  {
   "cell_type": "code",
   "execution_count": 11,
   "metadata": {},
   "outputs": [
    {
     "name": "stdout",
     "output_type": "stream",
     "text": [
      "['D', 'A', 'B', 'C']\n"
     ]
    }
   ],
   "source": [
    "print(net.topo_sort())"
   ]
  },
  {
   "cell_type": "code",
   "execution_count": 6,
   "metadata": {},
   "outputs": [],
   "source": [
    "net.add_prob_table(\"A\", {\"Prior\" : [0.9, 0.1]})\n",
    "net.add_prob_table(\"B\", {\"True\" : [0.8, 0.2], \"False\" : [0.2, 0.8]})"
   ]
  },
  {
   "cell_type": "markdown",
   "metadata": {},
   "source": [
    "#### Trying to add a probability table for a node not in the network"
   ]
  },
  {
   "cell_type": "code",
   "execution_count": 7,
   "metadata": {},
   "outputs": [
    {
     "name": "stdout",
     "output_type": "stream",
     "text": [
      "Node not in network\n"
     ]
    }
   ],
   "source": [
    "net.add_prob_table(\"D\", {\"Prior\" : [0.9, 0.1]})"
   ]
  },
  {
   "cell_type": "markdown",
   "metadata": {},
   "source": [
    "### Now we create a valid network"
   ]
  },
  {
   "cell_type": "code",
   "execution_count": 8,
   "metadata": {},
   "outputs": [
    {
     "name": "stdout",
     "output_type": "stream",
     "text": [
      "Nodes: dict_keys(['A', 'B', 'C', 'D']), Edges: {'A': ['B'], 'B': ['C'], 'D': ['C']}, Tables: {'A': {'Prior': [0.9, 0.1]}, 'B': {'True': [0.8, 0.2], 'False': [0.2, 0.8]}, 'C': {('True', 'True'): [0.95, 0.05], ('True', 'False'): [0.7, 0.3], ('False', 'True'): [0.7, 0.3], ('False', 'False'): [0.1, 0.9]}, 'D': {'Prior': [0.9, 0.1]}}\n"
     ]
    },
    {
     "data": {
      "text/plain": [
       "True"
      ]
     },
     "execution_count": 8,
     "metadata": {},
     "output_type": "execute_result"
    }
   ],
   "source": [
    "net.add_node(\"D\")\n",
    "net.add_edge(\"D\", [\"C\"])\n",
    "net.add_prob_table(\"C\", {(\"True\", \"True\") : [0.95, 0.05],\n",
    "                          (\"True\", \"False\") : [0.7, 0.3],\n",
    "                            (\"False\", \"True\") : [0.7, 0.3],\n",
    "                            (\"False\", \"False\") : [0.1, 0.9]})\n",
    "net.add_prob_table(\"D\", {\"Prior\" : [0.9, 0.1]})\n",
    "                          \n",
    "print(net)\n",
    "net.check_valid()"
   ]
  },
  {
   "cell_type": "markdown",
   "metadata": {},
   "source": [
    "#### Let's try some single node sampling"
   ]
  },
  {
   "cell_type": "code",
   "execution_count": 9,
   "metadata": {},
   "outputs": [
    {
     "name": "stdout",
     "output_type": "stream",
     "text": [
      "[0.9, 0.1]\n",
      "False\n",
      "True\n",
      "True\n",
      "True\n",
      "True\n",
      "True\n",
      "True\n",
      "True\n",
      "False\n",
      "True\n",
      "True\n",
      "True\n",
      "True\n",
      "True\n",
      "True\n",
      "True\n",
      "True\n",
      "False\n",
      "True\n",
      "False\n"
     ]
    }
   ],
   "source": [
    "probs = net.get_probabilities(\"A\") # remember, we gave A probabilities of 0.9 for True, 0.1 for False\n",
    "print(probs)\n",
    "for i in range(20):\n",
    "    print(net.sample(probs))"
   ]
  },
  {
   "cell_type": "markdown",
   "metadata": {},
   "source": [
    "### Now we try Ancestral Sampling"
   ]
  },
  {
   "cell_type": "code",
   "execution_count": 10,
   "metadata": {},
   "outputs": [
    {
     "name": "stdout",
     "output_type": "stream",
     "text": [
      "Topological sort: ['D', 'A', 'B', 'C']\n"
     ]
    },
    {
     "ename": "TypeError",
     "evalue": "unhashable type: 'list'",
     "output_type": "error",
     "traceback": [
      "\u001b[0;31m---------------------------------------------------------------------------\u001b[0m",
      "\u001b[0;31mTypeError\u001b[0m                                 Traceback (most recent call last)",
      "Cell \u001b[0;32mIn[10], line 1\u001b[0m\n\u001b[0;32m----> 1\u001b[0m \u001b[38;5;28mprint\u001b[39m(\u001b[43mnet\u001b[49m\u001b[38;5;241;43m.\u001b[39;49m\u001b[43mancestral_sampling\u001b[49m\u001b[43m(\u001b[49m\u001b[38;5;241;43m10\u001b[39;49m\u001b[43m)\u001b[49m)\n",
      "File \u001b[0;32m~/ispr/ISPR_midterms/ISPR_midterm_2/assignment_4/bayesian_network.py:144\u001b[0m, in \u001b[0;36mBayesianNetwork.ancestral_sampling\u001b[0;34m(self, n)\u001b[0m\n\u001b[1;32m    142\u001b[0m \u001b[38;5;28;01melse\u001b[39;00m: \u001b[38;5;66;03m# if node has parents, its probability is conditioned on the values of the parents according to the table\u001b[39;00m\n\u001b[1;32m    143\u001b[0m     parent_values \u001b[38;5;241m=\u001b[39m [state[parent] \u001b[38;5;28;01mfor\u001b[39;00m parent \u001b[38;5;129;01min\u001b[39;00m parents]\n\u001b[0;32m--> 144\u001b[0m     prob \u001b[38;5;241m=\u001b[39m \u001b[38;5;28;43mself\u001b[39;49m\u001b[38;5;241;43m.\u001b[39;49m\u001b[43mget_probabilities\u001b[49m\u001b[43m(\u001b[49m\u001b[43mnode\u001b[49m\u001b[43m,\u001b[49m\u001b[43m \u001b[49m\u001b[43mparent_values\u001b[49m\u001b[43m)\u001b[49m\n\u001b[1;32m    146\u001b[0m     state\u001b[38;5;241m.\u001b[39mupdate({node : \u001b[38;5;28mself\u001b[39m\u001b[38;5;241m.\u001b[39msample(prob[\u001b[38;5;28mtuple\u001b[39m(parent_values)], values\u001b[38;5;241m=\u001b[39m\u001b[38;5;28mself\u001b[39m\u001b[38;5;241m.\u001b[39mvalues)})\n",
      "File \u001b[0;32m~/ispr/ISPR_midterms/ISPR_midterm_2/assignment_4/bayesian_network.py:42\u001b[0m, in \u001b[0;36mBayesianNetwork.get_probabilities\u001b[0;34m(self, node, values)\u001b[0m\n\u001b[1;32m     40\u001b[0m     \u001b[38;5;28;01mreturn\u001b[39;00m res[\u001b[38;5;124m\"\u001b[39m\u001b[38;5;124mPrior\u001b[39m\u001b[38;5;124m\"\u001b[39m]\n\u001b[1;32m     41\u001b[0m \u001b[38;5;28;01melse\u001b[39;00m:\n\u001b[0;32m---> 42\u001b[0m     \u001b[38;5;28;01mreturn\u001b[39;00m \u001b[43mres\u001b[49m\u001b[43m[\u001b[49m\u001b[43mvalues\u001b[49m\u001b[43m]\u001b[49m\n",
      "\u001b[0;31mTypeError\u001b[0m: unhashable type: 'list'"
     ]
    }
   ],
   "source": [
    "print(net.ancestral_sampling(10))"
   ]
  }
 ],
 "metadata": {
  "kernelspec": {
   "display_name": "ispr",
   "language": "python",
   "name": "python3"
  },
  "language_info": {
   "codemirror_mode": {
    "name": "ipython",
    "version": 3
   },
   "file_extension": ".py",
   "mimetype": "text/x-python",
   "name": "python",
   "nbconvert_exporter": "python",
   "pygments_lexer": "ipython3",
   "version": "3.10.12"
  }
 },
 "nbformat": 4,
 "nbformat_minor": 2
}

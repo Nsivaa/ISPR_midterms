{
 "cells": [
  {
   "cell_type": "markdown",
   "metadata": {},
   "source": [
    "# Alberto Dicembre, Assignment #4"
   ]
  },
  {
   "cell_type": "markdown",
   "metadata": {},
   "source": [
    "This is my (very) dirty but working implementation of a Bayesian Network. I decided to model my typical morning, after some testing of the functionalities. All variables have a binomial distribution (values \"True\" or \"False\"). Then I performed some Ancestral Sampling and took a look at the results."
   ]
  },
  {
   "cell_type": "code",
   "execution_count": 1,
   "metadata": {},
   "outputs": [],
   "source": [
    "from bayesian_network import BayesianNetwork "
   ]
  },
  {
   "cell_type": "markdown",
   "metadata": {},
   "source": [
    "## Testing the Network"
   ]
  },
  {
   "cell_type": "code",
   "execution_count": 2,
   "metadata": {},
   "outputs": [],
   "source": [
    "net = BayesianNetwork(values=[\"True\", \"False\"]) \n",
    "net.add_node(\"A\")\n",
    "net.add_node(\"B\")\n",
    "net.add_node(\"C\")"
   ]
  },
  {
   "cell_type": "code",
   "execution_count": 3,
   "metadata": {},
   "outputs": [
    {
     "name": "stdout",
     "output_type": "stream",
     "text": [
      "Nodes: dict_keys(['A', 'B', 'C']), Edges: {}, Tables: {'A': {'Prior': (0.5, 0.5)}, 'B': {'Prior': (0.5, 0.5)}, 'C': {'Prior': (0.5, 0.5)}}\n"
     ]
    },
    {
     "data": {
      "text/plain": [
       "True"
      ]
     },
     "execution_count": 3,
     "metadata": {},
     "output_type": "execute_result"
    }
   ],
   "source": [
    "print(net)\n",
    "net.check_valid()"
   ]
  },
  {
   "cell_type": "code",
   "execution_count": 4,
   "metadata": {},
   "outputs": [
    {
     "name": "stdout",
     "output_type": "stream",
     "text": [
      "Nodes: dict_keys(['A', 'B', 'C']), Edges: {'A': ['B'], 'B': ['C']}, Tables: {'A': {'Prior': (0.5, 0.5)}, 'B': {'Prior': (0.5, 0.5)}, 'C': {'Prior': (0.5, 0.5)}}\n"
     ]
    }
   ],
   "source": [
    "net.add_edge(\"A\", [\"B\"])\n",
    "net.add_edge(\"B\", [\"C\"])\n",
    "print(net)"
   ]
  },
  {
   "cell_type": "code",
   "execution_count": 5,
   "metadata": {},
   "outputs": [
    {
     "name": "stdout",
     "output_type": "stream",
     "text": [
      "Node B probability table doesn't match parents' number of values\n",
      "Node C probability table doesn't match parents' number of values\n"
     ]
    },
    {
     "data": {
      "text/plain": [
       "False"
      ]
     },
     "execution_count": 5,
     "metadata": {},
     "output_type": "execute_result"
    }
   ],
   "source": [
    "net.check_valid()"
   ]
  },
  {
   "cell_type": "markdown",
   "metadata": {},
   "source": [
    "#### Checking Topological Sort"
   ]
  },
  {
   "cell_type": "code",
   "execution_count": 6,
   "metadata": {},
   "outputs": [
    {
     "name": "stdout",
     "output_type": "stream",
     "text": [
      "['A', 'B', 'C']\n"
     ]
    }
   ],
   "source": [
    "print(net.topo_sort())"
   ]
  },
  {
   "cell_type": "code",
   "execution_count": 7,
   "metadata": {},
   "outputs": [],
   "source": [
    "net.add_prob_table(\"A\", {\"Prior\" : (0.9, 0.1)})\n",
    "net.add_prob_table(\"B\", {\"True\" : (0.8, 0.2), \"False\" : (0.2, 0.8)})"
   ]
  },
  {
   "cell_type": "markdown",
   "metadata": {},
   "source": [
    "#### Trying to add a probability table for a node not in the network"
   ]
  },
  {
   "cell_type": "code",
   "execution_count": 8,
   "metadata": {},
   "outputs": [
    {
     "name": "stdout",
     "output_type": "stream",
     "text": [
      "Node not in network\n"
     ]
    }
   ],
   "source": [
    "net.add_prob_table(\"D\", {\"Prior\" : (0.9, 0.1)})"
   ]
  },
  {
   "cell_type": "markdown",
   "metadata": {},
   "source": [
    "### Now we create a valid network"
   ]
  },
  {
   "cell_type": "code",
   "execution_count": 9,
   "metadata": {},
   "outputs": [
    {
     "name": "stdout",
     "output_type": "stream",
     "text": [
      "Nodes: dict_keys(['A', 'B', 'C', 'D']), Edges: {'A': ['B'], 'B': ['C'], 'D': ['C']}, Tables: {'A': {'Prior': (0.9, 0.1)}, 'B': {'True': (0.8, 0.2), 'False': (0.2, 0.8)}, 'C': {('True', 'True'): (0.95, 0.05), ('True', 'False'): (0.7, 0.3), ('False', 'True'): (0.7, 0.3), ('False', 'False'): (0.1, 0.9)}, 'D': {'Prior': (0.9, 0.1)}}\n"
     ]
    },
    {
     "data": {
      "text/plain": [
       "True"
      ]
     },
     "execution_count": 9,
     "metadata": {},
     "output_type": "execute_result"
    }
   ],
   "source": [
    "net.add_node(\"D\")\n",
    "net.add_edge(\"D\", [\"C\"])\n",
    "net.add_prob_table(\"C\", {(\"True\", \"True\") : (0.95, 0.05),\n",
    "                         (\"True\", \"False\") : (0.7, 0.3),\n",
    "                         (\"False\", \"True\") : (0.7, 0.3),\n",
    "                         (\"False\", \"False\") : (0.1, 0.9)})\n",
    "net.add_prob_table(\"D\", {\"Prior\" : (0.9, 0.1)})\n",
    "                          \n",
    "print(net)\n",
    "net.check_valid()"
   ]
  },
  {
   "cell_type": "markdown",
   "metadata": {},
   "source": [
    "#### Let's try some single node sampling"
   ]
  },
  {
   "cell_type": "code",
   "execution_count": 10,
   "metadata": {},
   "outputs": [
    {
     "name": "stdout",
     "output_type": "stream",
     "text": [
      "(0.9, 0.1)\n",
      "False\n",
      "True\n",
      "True\n",
      "True\n",
      "True\n",
      "True\n",
      "True\n",
      "True\n",
      "True\n",
      "True\n",
      "True\n",
      "True\n",
      "False\n",
      "True\n",
      "True\n",
      "True\n",
      "False\n",
      "True\n",
      "True\n",
      "True\n"
     ]
    }
   ],
   "source": [
    "probs = net.get_probabilities(\"A\") # remember, we gave A probabilities of 0.9 for True, 0.1 for False\n",
    "print(probs)\n",
    "for i in range(20):\n",
    "    print(net.sample(probs))"
   ]
  },
  {
   "cell_type": "markdown",
   "metadata": {},
   "source": [
    "### Now we try Ancestral Sampling"
   ]
  },
  {
   "cell_type": "code",
   "execution_count": 11,
   "metadata": {},
   "outputs": [
    {
     "name": "stdout",
     "output_type": "stream",
     "text": [
      "Topological sort: ['A', 'D', 'B', 'C']\n",
      "0: {'A': 'False', 'D': 'True', 'B': 'False', 'C': 'True'}\n",
      "1: {'A': 'True', 'D': 'True', 'B': 'True', 'C': 'True'}\n",
      "2: {'A': 'True', 'D': 'True', 'B': 'True', 'C': 'False'}\n",
      "3: {'A': 'True', 'D': 'True', 'B': 'True', 'C': 'False'}\n",
      "4: {'A': 'True', 'D': 'True', 'B': 'True', 'C': 'True'}\n",
      "5: {'A': 'True', 'D': 'True', 'B': 'True', 'C': 'True'}\n",
      "6: {'A': 'True', 'D': 'True', 'B': 'True', 'C': 'True'}\n",
      "7: {'A': 'True', 'D': 'False', 'B': 'True', 'C': 'False'}\n",
      "8: {'A': 'True', 'D': 'True', 'B': 'True', 'C': 'True'}\n",
      "9: {'A': 'True', 'D': 'True', 'B': 'True', 'C': 'True'}\n"
     ]
    }
   ],
   "source": [
    "samples = net.ancestral_sampling(10)\n",
    "for i, sample in enumerate(samples):\n",
    "    print(f\"{i}: {sample}\")"
   ]
  },
  {
   "cell_type": "markdown",
   "metadata": {},
   "source": [
    "# Modeling (some aspects of) my morning routine "
   ]
  },
  {
   "cell_type": "markdown",
   "metadata": {},
   "source": [
    "The network will represent the following structure:"
   ]
  },
  {
   "cell_type": "markdown",
   "metadata": {},
   "source": [
    "These are the typical variables that influence an average morning of mine, in a day with no lectures.\n",
    "\n",
    "Of course, as \"ancestor\" nodes we have all those random variables that can influence my mood (Bad day start), which is the intermediate concept that will influence what activity I will perform during that morning.\n",
    "\n",
    "## Some quick explanation\n",
    "\n",
    "#### Exams incoming -> Gig incoming -> Play guitar\n",
    "I play guitar in a band. I am typically less prone to have incoming gigs in exams period, since I give more priority to university. \n",
    "So when I have gigs incoming I will practice more often, when I have exams I will probably study instead.\n",
    "\n",
    "#### Bad day start -> Play guitar\n",
    "I enjoy playing guitar much more when I am in a good mood, therefore the probability of me playing is higher when \"Bad day start\" is False.\n",
    "\n",
    "Same applies for Gym; I would likely do it in the afternoon instead.\n",
    "\n",
    "#### Bad day start -> Scroll phone\n",
    "I am more prone to get on the phone and waste time scrolling through social media when I feel groggy / am in a bad mood. \n",
    "\n",
    "#### Sunny weather -> Bad day start\n",
    "I'm more likely to be in a good mood if the weather is sunny\n"
   ]
  },
  {
   "cell_type": "code",
   "execution_count": 12,
   "metadata": {},
   "outputs": [],
   "source": [
    "daily_net = BayesianNetwork(nodes = {}, edges= {}, ordering= {}, values=[\"True\", \"False\"])\n",
    "daily_net.add_node(\"Noisy neighbors\")\n",
    "daily_net.add_node(\"Exams incoming\")\n",
    "daily_net.add_node(\"Bad day start\")\n",
    "daily_net.add_node(\"Call center call\")\n",
    "daily_net.add_node(\"Slept bad\")\n",
    "daily_net.add_node(\"Gig incoming\")\n",
    "daily_net.add_node(\"Sunny weather\")\n",
    "daily_net.add_node(\"Study\")\n",
    "daily_net.add_node(\"Play guitar\")\n",
    "daily_net.add_node(\"Scroll phone\")\n",
    "daily_net.add_node(\"Gym\")"
   ]
  },
  {
   "cell_type": "code",
   "execution_count": 13,
   "metadata": {},
   "outputs": [],
   "source": [
    "daily_net.add_edge(\"Exams incoming\", [\"Gig incoming\", \"Study\"])\n",
    "daily_net.add_edge(\"Slept bad\", [\"Bad day start\"])\n",
    "daily_net.add_edge(\"Noisy neighbors\", [\"Bad day start\"])\n",
    "daily_net.add_edge(\"Call center call\", [\"Bad day start\"])\n",
    "daily_net.add_edge(\"Sunny weather\", [\"Bad day start\"])\n",
    "daily_net.add_edge(\"Bad day start\", [\"Play guitar\", \"Scroll phone\", \"Gym\"])\n",
    "daily_net.add_edge(\"Gig incoming\", [\"Play guitar\"])"
   ]
  },
  {
   "cell_type": "code",
   "execution_count": 14,
   "metadata": {},
   "outputs": [],
   "source": [
    "# Determining prior probabilities\n",
    "daily_net.add_prob_table(\"Exams incoming\", {\"Prior\" : (0.1, 0.9)})\n",
    "daily_net.add_prob_table(\"Noisy neighbors\", {\"Prior\" : (0.3, 0.7)})\n",
    "daily_net.add_prob_table(\"Slept bad\", {\"Prior\" : (0.2, 0.8)})\n",
    "daily_net.add_prob_table(\"Call center call\", {\"Prior\" : (0.2, 0.8)})\n",
    "daily_net.add_prob_table(\"Sunny weather\", {\"Prior\" : (0.5, 0.5)})"
   ]
  },
  {
   "cell_type": "code",
   "execution_count": 15,
   "metadata": {},
   "outputs": [],
   "source": [
    "daily_net.add_prob_table(\"Gig incoming\", {\"True\" : (0.05, 0.95), \"False\" : (0.1, 0.9)}) # P(Gig incoming | Exams incoming)\n",
    "\n",
    "daily_net.add_prob_table(\"Bad day start\", {(\"True\", \"True\", \"True\", \"True\") : (0.95, 0.05), # P(Bad day start | Slept bad, Noisy neighbors, Call center call, Sunny)\n",
    "                                            (\"False\", \"True\", \"True\", \"True\") : (0.9, 0.1),\n",
    "                                            (\"True\", \"False\", \"True\", \"True\") : (0.85, 0.15),\n",
    "                                            (\"True\", \"True\", \"False\", \"True\") : (0.8, 0.2),\n",
    "                                            (\"True\", \"True\", \"True\", \"False\") : (0.99, 0.01),\n",
    "                                            (\"False\", \"False\", \"True\", \"True\") : (0.6, 0.4),\n",
    "                                            (\"True\", \"False\", \"False\", \"True\") : (0.4, 0.6),\n",
    "                                            (\"True\", \"True\", \"False\", \"False\") : (0.6, 0.4),\n",
    "                                            (\"False\", \"True\", \"False\", \"True\") : (0.4, 0.6),\n",
    "                                            (\"True\", \"False\", \"True\", \"False\") : (0.7, 0.3),\n",
    "                                            (\"False\", \"True\", \"True\", \"False\") : (0.9, 0.1),\n",
    "                                            (\"False\", \"False\", \"False\", \"True\") : (0.05, 0.95),\n",
    "                                            (\"True\", \"False\", \"False\", \"False\") : (0.2, 0.8),\n",
    "                                            (\"False\", \"True\", \"False\", \"False\") : (0.3, 0.7),\n",
    "                                            (\"False\", \"False\", \"True\", \"False\") : (0.3, 0.7),\n",
    "                                            (\"False\", \"False\", \"False\", \"False\") : (0.1, 0.9),    \n",
    "                                            }) \n",
    "\n",
    "daily_net.add_prob_table(\"Study\", {\"True\" : (0.9, 0.1), \"False\" : (0.2, 0.8)}) # P(Study | Exams incoming)\n",
    "\n",
    "daily_net.add_prob_table(\"Play guitar\", {(\"True\", \"True\") : (0.7, 0.3), # P(Play guitar | Gig incoming, Bad day start)\n",
    "                                          (\"True\", \"False\") : (0.9, 0.1),\n",
    "                                          (\"False\", \"True\") : (0.2, 0.8),\n",
    "                                          (\"False\", \"False\") : (0.6, 0.4)}) \n",
    "daily_net.add_prob_table(\"Scroll phone\", {\"True\" : (0.7, 0.3), \"False\" : (0.4, 0.6)}) # P(Scroll phone | Bad day start)\n",
    "\n",
    "daily_net.add_prob_table(\"Gym\", {(\"True\") : (0.3, 0.7), # P(Gym | Bad day start\n",
    "                                 (\"False\") : (0.6, 0.4)})"
   ]
  },
  {
   "cell_type": "code",
   "execution_count": 16,
   "metadata": {},
   "outputs": [],
   "source": [
    "# define ordering of parents for conditioned nodes wrt probability tables. Very dirty, should be done in a better way\n",
    "\n",
    "daily_net.add_ordering({\"Bad day start\" : (\"Slept bad\", \"Noisy neighbors\", \"Call center call\", \"Sunny weather\"),\n",
    "                        \"Play guitar\" : (\"Gig incoming\", \"Bad day start\")})"
   ]
  },
  {
   "cell_type": "code",
   "execution_count": 17,
   "metadata": {},
   "outputs": [
    {
     "name": "stdout",
     "output_type": "stream",
     "text": [
      "Topological sort: ['Noisy neighbors', 'Exams incoming', 'Call center call', 'Slept bad', 'Sunny weather', 'Gig incoming', 'Study', 'Bad day start', 'Play guitar', 'Scroll phone', 'Gym']\n",
      "0: {'Noisy neighbors': 'False', 'Exams incoming': 'False', 'Call center call': 'False', 'Slept bad': 'False', 'Sunny weather': 'False', 'Gig incoming': 'False', 'Study': 'False', 'Bad day start': 'False', 'Play guitar': 'True', 'Scroll phone': 'False', 'Gym': 'False'}\n",
      "1: {'Noisy neighbors': 'True', 'Exams incoming': 'True', 'Call center call': 'True', 'Slept bad': 'False', 'Sunny weather': 'True', 'Gig incoming': 'False', 'Study': 'True', 'Bad day start': 'True', 'Play guitar': 'False', 'Scroll phone': 'False', 'Gym': 'False'}\n",
      "2: {'Noisy neighbors': 'False', 'Exams incoming': 'False', 'Call center call': 'False', 'Slept bad': 'True', 'Sunny weather': 'False', 'Gig incoming': 'False', 'Study': 'False', 'Bad day start': 'False', 'Play guitar': 'True', 'Scroll phone': 'False', 'Gym': 'True'}\n",
      "3: {'Noisy neighbors': 'False', 'Exams incoming': 'False', 'Call center call': 'False', 'Slept bad': 'True', 'Sunny weather': 'False', 'Gig incoming': 'False', 'Study': 'False', 'Bad day start': 'True', 'Play guitar': 'True', 'Scroll phone': 'True', 'Gym': 'True'}\n",
      "4: {'Noisy neighbors': 'False', 'Exams incoming': 'False', 'Call center call': 'True', 'Slept bad': 'False', 'Sunny weather': 'True', 'Gig incoming': 'True', 'Study': 'False', 'Bad day start': 'False', 'Play guitar': 'True', 'Scroll phone': 'False', 'Gym': 'True'}\n",
      "5: {'Noisy neighbors': 'False', 'Exams incoming': 'False', 'Call center call': 'False', 'Slept bad': 'False', 'Sunny weather': 'True', 'Gig incoming': 'False', 'Study': 'False', 'Bad day start': 'False', 'Play guitar': 'False', 'Scroll phone': 'False', 'Gym': 'True'}\n",
      "6: {'Noisy neighbors': 'False', 'Exams incoming': 'False', 'Call center call': 'False', 'Slept bad': 'True', 'Sunny weather': 'False', 'Gig incoming': 'False', 'Study': 'False', 'Bad day start': 'False', 'Play guitar': 'True', 'Scroll phone': 'True', 'Gym': 'True'}\n",
      "7: {'Noisy neighbors': 'False', 'Exams incoming': 'False', 'Call center call': 'False', 'Slept bad': 'False', 'Sunny weather': 'False', 'Gig incoming': 'False', 'Study': 'False', 'Bad day start': 'False', 'Play guitar': 'True', 'Scroll phone': 'False', 'Gym': 'True'}\n",
      "8: {'Noisy neighbors': 'True', 'Exams incoming': 'False', 'Call center call': 'False', 'Slept bad': 'False', 'Sunny weather': 'True', 'Gig incoming': 'False', 'Study': 'False', 'Bad day start': 'False', 'Play guitar': 'True', 'Scroll phone': 'True', 'Gym': 'False'}\n",
      "9: {'Noisy neighbors': 'False', 'Exams incoming': 'True', 'Call center call': 'False', 'Slept bad': 'False', 'Sunny weather': 'True', 'Gig incoming': 'False', 'Study': 'True', 'Bad day start': 'False', 'Play guitar': 'True', 'Scroll phone': 'False', 'Gym': 'True'}\n",
      "10: {'Noisy neighbors': 'False', 'Exams incoming': 'False', 'Call center call': 'False', 'Slept bad': 'True', 'Sunny weather': 'True', 'Gig incoming': 'False', 'Study': 'False', 'Bad day start': 'False', 'Play guitar': 'True', 'Scroll phone': 'True', 'Gym': 'False'}\n",
      "11: {'Noisy neighbors': 'False', 'Exams incoming': 'False', 'Call center call': 'False', 'Slept bad': 'False', 'Sunny weather': 'False', 'Gig incoming': 'False', 'Study': 'False', 'Bad day start': 'False', 'Play guitar': 'True', 'Scroll phone': 'True', 'Gym': 'True'}\n",
      "12: {'Noisy neighbors': 'False', 'Exams incoming': 'False', 'Call center call': 'False', 'Slept bad': 'False', 'Sunny weather': 'True', 'Gig incoming': 'False', 'Study': 'False', 'Bad day start': 'False', 'Play guitar': 'True', 'Scroll phone': 'True', 'Gym': 'False'}\n",
      "13: {'Noisy neighbors': 'False', 'Exams incoming': 'False', 'Call center call': 'False', 'Slept bad': 'False', 'Sunny weather': 'True', 'Gig incoming': 'False', 'Study': 'False', 'Bad day start': 'False', 'Play guitar': 'True', 'Scroll phone': 'True', 'Gym': 'True'}\n",
      "14: {'Noisy neighbors': 'False', 'Exams incoming': 'False', 'Call center call': 'False', 'Slept bad': 'False', 'Sunny weather': 'True', 'Gig incoming': 'False', 'Study': 'False', 'Bad day start': 'False', 'Play guitar': 'True', 'Scroll phone': 'False', 'Gym': 'False'}\n",
      "15: {'Noisy neighbors': 'False', 'Exams incoming': 'False', 'Call center call': 'False', 'Slept bad': 'True', 'Sunny weather': 'True', 'Gig incoming': 'False', 'Study': 'False', 'Bad day start': 'False', 'Play guitar': 'True', 'Scroll phone': 'False', 'Gym': 'True'}\n",
      "16: {'Noisy neighbors': 'False', 'Exams incoming': 'False', 'Call center call': 'True', 'Slept bad': 'False', 'Sunny weather': 'True', 'Gig incoming': 'False', 'Study': 'False', 'Bad day start': 'True', 'Play guitar': 'False', 'Scroll phone': 'True', 'Gym': 'False'}\n",
      "17: {'Noisy neighbors': 'False', 'Exams incoming': 'False', 'Call center call': 'True', 'Slept bad': 'False', 'Sunny weather': 'False', 'Gig incoming': 'False', 'Study': 'True', 'Bad day start': 'False', 'Play guitar': 'False', 'Scroll phone': 'False', 'Gym': 'True'}\n",
      "18: {'Noisy neighbors': 'True', 'Exams incoming': 'False', 'Call center call': 'False', 'Slept bad': 'False', 'Sunny weather': 'True', 'Gig incoming': 'True', 'Study': 'False', 'Bad day start': 'False', 'Play guitar': 'True', 'Scroll phone': 'False', 'Gym': 'False'}\n",
      "19: {'Noisy neighbors': 'False', 'Exams incoming': 'False', 'Call center call': 'False', 'Slept bad': 'True', 'Sunny weather': 'True', 'Gig incoming': 'False', 'Study': 'False', 'Bad day start': 'False', 'Play guitar': 'False', 'Scroll phone': 'True', 'Gym': 'False'}\n",
      "20: {'Noisy neighbors': 'True', 'Exams incoming': 'False', 'Call center call': 'False', 'Slept bad': 'False', 'Sunny weather': 'False', 'Gig incoming': 'False', 'Study': 'False', 'Bad day start': 'False', 'Play guitar': 'True', 'Scroll phone': 'True', 'Gym': 'True'}\n",
      "21: {'Noisy neighbors': 'False', 'Exams incoming': 'False', 'Call center call': 'False', 'Slept bad': 'True', 'Sunny weather': 'True', 'Gig incoming': 'False', 'Study': 'True', 'Bad day start': 'False', 'Play guitar': 'True', 'Scroll phone': 'True', 'Gym': 'True'}\n",
      "22: {'Noisy neighbors': 'True', 'Exams incoming': 'False', 'Call center call': 'False', 'Slept bad': 'False', 'Sunny weather': 'True', 'Gig incoming': 'False', 'Study': 'False', 'Bad day start': 'True', 'Play guitar': 'False', 'Scroll phone': 'True', 'Gym': 'False'}\n",
      "23: {'Noisy neighbors': 'True', 'Exams incoming': 'False', 'Call center call': 'False', 'Slept bad': 'False', 'Sunny weather': 'False', 'Gig incoming': 'True', 'Study': 'True', 'Bad day start': 'False', 'Play guitar': 'True', 'Scroll phone': 'False', 'Gym': 'True'}\n",
      "24: {'Noisy neighbors': 'True', 'Exams incoming': 'False', 'Call center call': 'False', 'Slept bad': 'True', 'Sunny weather': 'False', 'Gig incoming': 'False', 'Study': 'False', 'Bad day start': 'False', 'Play guitar': 'True', 'Scroll phone': 'True', 'Gym': 'True'}\n",
      "25: {'Noisy neighbors': 'False', 'Exams incoming': 'False', 'Call center call': 'False', 'Slept bad': 'False', 'Sunny weather': 'False', 'Gig incoming': 'False', 'Study': 'False', 'Bad day start': 'True', 'Play guitar': 'False', 'Scroll phone': 'True', 'Gym': 'False'}\n",
      "26: {'Noisy neighbors': 'False', 'Exams incoming': 'False', 'Call center call': 'False', 'Slept bad': 'True', 'Sunny weather': 'True', 'Gig incoming': 'False', 'Study': 'False', 'Bad day start': 'False', 'Play guitar': 'False', 'Scroll phone': 'True', 'Gym': 'True'}\n",
      "27: {'Noisy neighbors': 'False', 'Exams incoming': 'False', 'Call center call': 'False', 'Slept bad': 'False', 'Sunny weather': 'True', 'Gig incoming': 'False', 'Study': 'True', 'Bad day start': 'False', 'Play guitar': 'True', 'Scroll phone': 'False', 'Gym': 'True'}\n",
      "28: {'Noisy neighbors': 'False', 'Exams incoming': 'False', 'Call center call': 'False', 'Slept bad': 'False', 'Sunny weather': 'True', 'Gig incoming': 'False', 'Study': 'True', 'Bad day start': 'False', 'Play guitar': 'True', 'Scroll phone': 'False', 'Gym': 'True'}\n",
      "29: {'Noisy neighbors': 'True', 'Exams incoming': 'False', 'Call center call': 'False', 'Slept bad': 'False', 'Sunny weather': 'True', 'Gig incoming': 'False', 'Study': 'False', 'Bad day start': 'True', 'Play guitar': 'False', 'Scroll phone': 'True', 'Gym': 'False'}\n",
      "30: {'Noisy neighbors': 'True', 'Exams incoming': 'False', 'Call center call': 'True', 'Slept bad': 'False', 'Sunny weather': 'False', 'Gig incoming': 'False', 'Study': 'True', 'Bad day start': 'True', 'Play guitar': 'True', 'Scroll phone': 'True', 'Gym': 'False'}\n",
      "31: {'Noisy neighbors': 'False', 'Exams incoming': 'False', 'Call center call': 'False', 'Slept bad': 'False', 'Sunny weather': 'False', 'Gig incoming': 'False', 'Study': 'False', 'Bad day start': 'False', 'Play guitar': 'True', 'Scroll phone': 'False', 'Gym': 'True'}\n",
      "32: {'Noisy neighbors': 'False', 'Exams incoming': 'False', 'Call center call': 'False', 'Slept bad': 'True', 'Sunny weather': 'False', 'Gig incoming': 'True', 'Study': 'False', 'Bad day start': 'True', 'Play guitar': 'True', 'Scroll phone': 'True', 'Gym': 'False'}\n",
      "33: {'Noisy neighbors': 'False', 'Exams incoming': 'False', 'Call center call': 'False', 'Slept bad': 'False', 'Sunny weather': 'True', 'Gig incoming': 'False', 'Study': 'True', 'Bad day start': 'False', 'Play guitar': 'False', 'Scroll phone': 'False', 'Gym': 'False'}\n",
      "34: {'Noisy neighbors': 'False', 'Exams incoming': 'False', 'Call center call': 'False', 'Slept bad': 'False', 'Sunny weather': 'True', 'Gig incoming': 'False', 'Study': 'False', 'Bad day start': 'False', 'Play guitar': 'True', 'Scroll phone': 'False', 'Gym': 'False'}\n",
      "35: {'Noisy neighbors': 'False', 'Exams incoming': 'False', 'Call center call': 'False', 'Slept bad': 'True', 'Sunny weather': 'False', 'Gig incoming': 'False', 'Study': 'False', 'Bad day start': 'True', 'Play guitar': 'True', 'Scroll phone': 'True', 'Gym': 'False'}\n",
      "36: {'Noisy neighbors': 'False', 'Exams incoming': 'False', 'Call center call': 'True', 'Slept bad': 'False', 'Sunny weather': 'True', 'Gig incoming': 'False', 'Study': 'False', 'Bad day start': 'True', 'Play guitar': 'False', 'Scroll phone': 'True', 'Gym': 'False'}\n",
      "37: {'Noisy neighbors': 'False', 'Exams incoming': 'False', 'Call center call': 'True', 'Slept bad': 'False', 'Sunny weather': 'True', 'Gig incoming': 'False', 'Study': 'True', 'Bad day start': 'True', 'Play guitar': 'False', 'Scroll phone': 'True', 'Gym': 'False'}\n",
      "38: {'Noisy neighbors': 'False', 'Exams incoming': 'True', 'Call center call': 'False', 'Slept bad': 'False', 'Sunny weather': 'False', 'Gig incoming': 'False', 'Study': 'True', 'Bad day start': 'False', 'Play guitar': 'True', 'Scroll phone': 'True', 'Gym': 'False'}\n",
      "39: {'Noisy neighbors': 'True', 'Exams incoming': 'False', 'Call center call': 'True', 'Slept bad': 'False', 'Sunny weather': 'False', 'Gig incoming': 'False', 'Study': 'False', 'Bad day start': 'False', 'Play guitar': 'True', 'Scroll phone': 'False', 'Gym': 'False'}\n",
      "40: {'Noisy neighbors': 'False', 'Exams incoming': 'True', 'Call center call': 'False', 'Slept bad': 'False', 'Sunny weather': 'False', 'Gig incoming': 'False', 'Study': 'False', 'Bad day start': 'False', 'Play guitar': 'True', 'Scroll phone': 'False', 'Gym': 'True'}\n",
      "41: {'Noisy neighbors': 'False', 'Exams incoming': 'False', 'Call center call': 'False', 'Slept bad': 'False', 'Sunny weather': 'False', 'Gig incoming': 'False', 'Study': 'False', 'Bad day start': 'False', 'Play guitar': 'True', 'Scroll phone': 'True', 'Gym': 'True'}\n",
      "42: {'Noisy neighbors': 'False', 'Exams incoming': 'False', 'Call center call': 'False', 'Slept bad': 'False', 'Sunny weather': 'False', 'Gig incoming': 'False', 'Study': 'True', 'Bad day start': 'False', 'Play guitar': 'False', 'Scroll phone': 'True', 'Gym': 'True'}\n",
      "43: {'Noisy neighbors': 'True', 'Exams incoming': 'False', 'Call center call': 'False', 'Slept bad': 'False', 'Sunny weather': 'False', 'Gig incoming': 'False', 'Study': 'True', 'Bad day start': 'False', 'Play guitar': 'False', 'Scroll phone': 'True', 'Gym': 'False'}\n",
      "44: {'Noisy neighbors': 'False', 'Exams incoming': 'False', 'Call center call': 'True', 'Slept bad': 'False', 'Sunny weather': 'False', 'Gig incoming': 'False', 'Study': 'False', 'Bad day start': 'False', 'Play guitar': 'True', 'Scroll phone': 'False', 'Gym': 'False'}\n",
      "45: {'Noisy neighbors': 'False', 'Exams incoming': 'False', 'Call center call': 'False', 'Slept bad': 'False', 'Sunny weather': 'True', 'Gig incoming': 'False', 'Study': 'False', 'Bad day start': 'False', 'Play guitar': 'True', 'Scroll phone': 'False', 'Gym': 'False'}\n",
      "46: {'Noisy neighbors': 'False', 'Exams incoming': 'False', 'Call center call': 'False', 'Slept bad': 'False', 'Sunny weather': 'False', 'Gig incoming': 'False', 'Study': 'True', 'Bad day start': 'False', 'Play guitar': 'False', 'Scroll phone': 'False', 'Gym': 'False'}\n",
      "47: {'Noisy neighbors': 'True', 'Exams incoming': 'False', 'Call center call': 'False', 'Slept bad': 'False', 'Sunny weather': 'True', 'Gig incoming': 'False', 'Study': 'True', 'Bad day start': 'False', 'Play guitar': 'False', 'Scroll phone': 'False', 'Gym': 'True'}\n",
      "48: {'Noisy neighbors': 'False', 'Exams incoming': 'False', 'Call center call': 'False', 'Slept bad': 'False', 'Sunny weather': 'True', 'Gig incoming': 'False', 'Study': 'False', 'Bad day start': 'False', 'Play guitar': 'False', 'Scroll phone': 'False', 'Gym': 'False'}\n",
      "49: {'Noisy neighbors': 'False', 'Exams incoming': 'False', 'Call center call': 'False', 'Slept bad': 'False', 'Sunny weather': 'False', 'Gig incoming': 'False', 'Study': 'False', 'Bad day start': 'False', 'Play guitar': 'False', 'Scroll phone': 'True', 'Gym': 'True'}\n",
      "50: {'Noisy neighbors': 'True', 'Exams incoming': 'True', 'Call center call': 'False', 'Slept bad': 'False', 'Sunny weather': 'True', 'Gig incoming': 'False', 'Study': 'True', 'Bad day start': 'False', 'Play guitar': 'True', 'Scroll phone': 'False', 'Gym': 'True'}\n",
      "51: {'Noisy neighbors': 'False', 'Exams incoming': 'False', 'Call center call': 'True', 'Slept bad': 'False', 'Sunny weather': 'True', 'Gig incoming': 'False', 'Study': 'False', 'Bad day start': 'False', 'Play guitar': 'True', 'Scroll phone': 'False', 'Gym': 'False'}\n",
      "52: {'Noisy neighbors': 'True', 'Exams incoming': 'False', 'Call center call': 'False', 'Slept bad': 'True', 'Sunny weather': 'False', 'Gig incoming': 'False', 'Study': 'False', 'Bad day start': 'True', 'Play guitar': 'False', 'Scroll phone': 'True', 'Gym': 'False'}\n",
      "53: {'Noisy neighbors': 'True', 'Exams incoming': 'True', 'Call center call': 'False', 'Slept bad': 'False', 'Sunny weather': 'False', 'Gig incoming': 'False', 'Study': 'True', 'Bad day start': 'False', 'Play guitar': 'False', 'Scroll phone': 'False', 'Gym': 'True'}\n",
      "54: {'Noisy neighbors': 'False', 'Exams incoming': 'False', 'Call center call': 'True', 'Slept bad': 'False', 'Sunny weather': 'True', 'Gig incoming': 'False', 'Study': 'True', 'Bad day start': 'True', 'Play guitar': 'True', 'Scroll phone': 'True', 'Gym': 'False'}\n",
      "55: {'Noisy neighbors': 'True', 'Exams incoming': 'False', 'Call center call': 'False', 'Slept bad': 'False', 'Sunny weather': 'False', 'Gig incoming': 'False', 'Study': 'False', 'Bad day start': 'False', 'Play guitar': 'False', 'Scroll phone': 'False', 'Gym': 'False'}\n",
      "56: {'Noisy neighbors': 'False', 'Exams incoming': 'False', 'Call center call': 'True', 'Slept bad': 'False', 'Sunny weather': 'False', 'Gig incoming': 'False', 'Study': 'False', 'Bad day start': 'True', 'Play guitar': 'True', 'Scroll phone': 'False', 'Gym': 'False'}\n",
      "57: {'Noisy neighbors': 'True', 'Exams incoming': 'False', 'Call center call': 'False', 'Slept bad': 'False', 'Sunny weather': 'False', 'Gig incoming': 'False', 'Study': 'False', 'Bad day start': 'False', 'Play guitar': 'False', 'Scroll phone': 'False', 'Gym': 'False'}\n",
      "58: {'Noisy neighbors': 'False', 'Exams incoming': 'False', 'Call center call': 'False', 'Slept bad': 'False', 'Sunny weather': 'False', 'Gig incoming': 'False', 'Study': 'False', 'Bad day start': 'True', 'Play guitar': 'False', 'Scroll phone': 'True', 'Gym': 'False'}\n",
      "59: {'Noisy neighbors': 'True', 'Exams incoming': 'False', 'Call center call': 'False', 'Slept bad': 'True', 'Sunny weather': 'False', 'Gig incoming': 'False', 'Study': 'False', 'Bad day start': 'True', 'Play guitar': 'False', 'Scroll phone': 'True', 'Gym': 'False'}\n",
      "60: {'Noisy neighbors': 'False', 'Exams incoming': 'False', 'Call center call': 'False', 'Slept bad': 'False', 'Sunny weather': 'True', 'Gig incoming': 'False', 'Study': 'False', 'Bad day start': 'False', 'Play guitar': 'True', 'Scroll phone': 'False', 'Gym': 'False'}\n",
      "61: {'Noisy neighbors': 'False', 'Exams incoming': 'False', 'Call center call': 'False', 'Slept bad': 'False', 'Sunny weather': 'False', 'Gig incoming': 'False', 'Study': 'False', 'Bad day start': 'False', 'Play guitar': 'True', 'Scroll phone': 'True', 'Gym': 'False'}\n",
      "62: {'Noisy neighbors': 'False', 'Exams incoming': 'False', 'Call center call': 'False', 'Slept bad': 'False', 'Sunny weather': 'False', 'Gig incoming': 'False', 'Study': 'False', 'Bad day start': 'False', 'Play guitar': 'True', 'Scroll phone': 'False', 'Gym': 'True'}\n",
      "63: {'Noisy neighbors': 'True', 'Exams incoming': 'False', 'Call center call': 'False', 'Slept bad': 'False', 'Sunny weather': 'True', 'Gig incoming': 'True', 'Study': 'False', 'Bad day start': 'False', 'Play guitar': 'True', 'Scroll phone': 'False', 'Gym': 'True'}\n",
      "64: {'Noisy neighbors': 'False', 'Exams incoming': 'False', 'Call center call': 'False', 'Slept bad': 'False', 'Sunny weather': 'True', 'Gig incoming': 'False', 'Study': 'False', 'Bad day start': 'False', 'Play guitar': 'False', 'Scroll phone': 'True', 'Gym': 'False'}\n",
      "65: {'Noisy neighbors': 'False', 'Exams incoming': 'False', 'Call center call': 'False', 'Slept bad': 'False', 'Sunny weather': 'True', 'Gig incoming': 'False', 'Study': 'True', 'Bad day start': 'False', 'Play guitar': 'False', 'Scroll phone': 'False', 'Gym': 'False'}\n",
      "66: {'Noisy neighbors': 'False', 'Exams incoming': 'False', 'Call center call': 'False', 'Slept bad': 'False', 'Sunny weather': 'True', 'Gig incoming': 'False', 'Study': 'False', 'Bad day start': 'False', 'Play guitar': 'True', 'Scroll phone': 'True', 'Gym': 'True'}\n",
      "67: {'Noisy neighbors': 'False', 'Exams incoming': 'False', 'Call center call': 'False', 'Slept bad': 'False', 'Sunny weather': 'False', 'Gig incoming': 'False', 'Study': 'False', 'Bad day start': 'False', 'Play guitar': 'False', 'Scroll phone': 'False', 'Gym': 'True'}\n",
      "68: {'Noisy neighbors': 'False', 'Exams incoming': 'False', 'Call center call': 'False', 'Slept bad': 'False', 'Sunny weather': 'True', 'Gig incoming': 'False', 'Study': 'False', 'Bad day start': 'False', 'Play guitar': 'False', 'Scroll phone': 'True', 'Gym': 'True'}\n",
      "69: {'Noisy neighbors': 'False', 'Exams incoming': 'True', 'Call center call': 'True', 'Slept bad': 'True', 'Sunny weather': 'False', 'Gig incoming': 'False', 'Study': 'True', 'Bad day start': 'True', 'Play guitar': 'False', 'Scroll phone': 'False', 'Gym': 'False'}\n",
      "70: {'Noisy neighbors': 'True', 'Exams incoming': 'False', 'Call center call': 'False', 'Slept bad': 'False', 'Sunny weather': 'False', 'Gig incoming': 'False', 'Study': 'False', 'Bad day start': 'False', 'Play guitar': 'True', 'Scroll phone': 'True', 'Gym': 'True'}\n",
      "71: {'Noisy neighbors': 'False', 'Exams incoming': 'False', 'Call center call': 'False', 'Slept bad': 'False', 'Sunny weather': 'False', 'Gig incoming': 'False', 'Study': 'False', 'Bad day start': 'False', 'Play guitar': 'False', 'Scroll phone': 'True', 'Gym': 'True'}\n",
      "72: {'Noisy neighbors': 'False', 'Exams incoming': 'False', 'Call center call': 'False', 'Slept bad': 'False', 'Sunny weather': 'True', 'Gig incoming': 'False', 'Study': 'False', 'Bad day start': 'False', 'Play guitar': 'True', 'Scroll phone': 'False', 'Gym': 'False'}\n",
      "73: {'Noisy neighbors': 'True', 'Exams incoming': 'False', 'Call center call': 'False', 'Slept bad': 'False', 'Sunny weather': 'True', 'Gig incoming': 'True', 'Study': 'False', 'Bad day start': 'False', 'Play guitar': 'True', 'Scroll phone': 'False', 'Gym': 'True'}\n",
      "74: {'Noisy neighbors': 'False', 'Exams incoming': 'False', 'Call center call': 'False', 'Slept bad': 'False', 'Sunny weather': 'False', 'Gig incoming': 'False', 'Study': 'False', 'Bad day start': 'False', 'Play guitar': 'True', 'Scroll phone': 'True', 'Gym': 'False'}\n",
      "75: {'Noisy neighbors': 'True', 'Exams incoming': 'False', 'Call center call': 'False', 'Slept bad': 'False', 'Sunny weather': 'True', 'Gig incoming': 'False', 'Study': 'False', 'Bad day start': 'False', 'Play guitar': 'True', 'Scroll phone': 'False', 'Gym': 'False'}\n",
      "76: {'Noisy neighbors': 'False', 'Exams incoming': 'False', 'Call center call': 'False', 'Slept bad': 'True', 'Sunny weather': 'False', 'Gig incoming': 'False', 'Study': 'False', 'Bad day start': 'False', 'Play guitar': 'True', 'Scroll phone': 'True', 'Gym': 'True'}\n",
      "77: {'Noisy neighbors': 'False', 'Exams incoming': 'False', 'Call center call': 'False', 'Slept bad': 'False', 'Sunny weather': 'False', 'Gig incoming': 'False', 'Study': 'False', 'Bad day start': 'False', 'Play guitar': 'False', 'Scroll phone': 'False', 'Gym': 'True'}\n",
      "78: {'Noisy neighbors': 'False', 'Exams incoming': 'False', 'Call center call': 'False', 'Slept bad': 'True', 'Sunny weather': 'False', 'Gig incoming': 'False', 'Study': 'False', 'Bad day start': 'False', 'Play guitar': 'True', 'Scroll phone': 'False', 'Gym': 'True'}\n",
      "79: {'Noisy neighbors': 'False', 'Exams incoming': 'False', 'Call center call': 'True', 'Slept bad': 'False', 'Sunny weather': 'True', 'Gig incoming': 'False', 'Study': 'False', 'Bad day start': 'True', 'Play guitar': 'False', 'Scroll phone': 'True', 'Gym': 'False'}\n",
      "80: {'Noisy neighbors': 'False', 'Exams incoming': 'False', 'Call center call': 'False', 'Slept bad': 'False', 'Sunny weather': 'False', 'Gig incoming': 'False', 'Study': 'False', 'Bad day start': 'False', 'Play guitar': 'True', 'Scroll phone': 'True', 'Gym': 'True'}\n",
      "81: {'Noisy neighbors': 'True', 'Exams incoming': 'True', 'Call center call': 'False', 'Slept bad': 'False', 'Sunny weather': 'False', 'Gig incoming': 'False', 'Study': 'True', 'Bad day start': 'False', 'Play guitar': 'True', 'Scroll phone': 'False', 'Gym': 'True'}\n",
      "82: {'Noisy neighbors': 'True', 'Exams incoming': 'False', 'Call center call': 'False', 'Slept bad': 'False', 'Sunny weather': 'True', 'Gig incoming': 'False', 'Study': 'False', 'Bad day start': 'True', 'Play guitar': 'True', 'Scroll phone': 'False', 'Gym': 'False'}\n",
      "83: {'Noisy neighbors': 'False', 'Exams incoming': 'False', 'Call center call': 'False', 'Slept bad': 'False', 'Sunny weather': 'True', 'Gig incoming': 'False', 'Study': 'False', 'Bad day start': 'False', 'Play guitar': 'True', 'Scroll phone': 'False', 'Gym': 'False'}\n",
      "84: {'Noisy neighbors': 'False', 'Exams incoming': 'False', 'Call center call': 'False', 'Slept bad': 'False', 'Sunny weather': 'False', 'Gig incoming': 'False', 'Study': 'False', 'Bad day start': 'False', 'Play guitar': 'False', 'Scroll phone': 'True', 'Gym': 'False'}\n",
      "85: {'Noisy neighbors': 'True', 'Exams incoming': 'False', 'Call center call': 'False', 'Slept bad': 'False', 'Sunny weather': 'True', 'Gig incoming': 'False', 'Study': 'False', 'Bad day start': 'False', 'Play guitar': 'False', 'Scroll phone': 'False', 'Gym': 'False'}\n",
      "86: {'Noisy neighbors': 'True', 'Exams incoming': 'False', 'Call center call': 'False', 'Slept bad': 'False', 'Sunny weather': 'False', 'Gig incoming': 'False', 'Study': 'False', 'Bad day start': 'False', 'Play guitar': 'True', 'Scroll phone': 'False', 'Gym': 'False'}\n",
      "87: {'Noisy neighbors': 'False', 'Exams incoming': 'False', 'Call center call': 'False', 'Slept bad': 'False', 'Sunny weather': 'True', 'Gig incoming': 'False', 'Study': 'True', 'Bad day start': 'False', 'Play guitar': 'False', 'Scroll phone': 'False', 'Gym': 'True'}\n",
      "88: {'Noisy neighbors': 'False', 'Exams incoming': 'False', 'Call center call': 'False', 'Slept bad': 'False', 'Sunny weather': 'False', 'Gig incoming': 'False', 'Study': 'True', 'Bad day start': 'False', 'Play guitar': 'True', 'Scroll phone': 'False', 'Gym': 'False'}\n",
      "89: {'Noisy neighbors': 'False', 'Exams incoming': 'False', 'Call center call': 'False', 'Slept bad': 'False', 'Sunny weather': 'True', 'Gig incoming': 'False', 'Study': 'False', 'Bad day start': 'False', 'Play guitar': 'False', 'Scroll phone': 'True', 'Gym': 'True'}\n",
      "90: {'Noisy neighbors': 'False', 'Exams incoming': 'False', 'Call center call': 'True', 'Slept bad': 'True', 'Sunny weather': 'True', 'Gig incoming': 'False', 'Study': 'False', 'Bad day start': 'True', 'Play guitar': 'False', 'Scroll phone': 'False', 'Gym': 'False'}\n",
      "91: {'Noisy neighbors': 'False', 'Exams incoming': 'False', 'Call center call': 'False', 'Slept bad': 'False', 'Sunny weather': 'False', 'Gig incoming': 'False', 'Study': 'False', 'Bad day start': 'False', 'Play guitar': 'True', 'Scroll phone': 'True', 'Gym': 'True'}\n",
      "92: {'Noisy neighbors': 'False', 'Exams incoming': 'False', 'Call center call': 'True', 'Slept bad': 'False', 'Sunny weather': 'True', 'Gig incoming': 'True', 'Study': 'False', 'Bad day start': 'False', 'Play guitar': 'True', 'Scroll phone': 'False', 'Gym': 'True'}\n",
      "93: {'Noisy neighbors': 'True', 'Exams incoming': 'False', 'Call center call': 'False', 'Slept bad': 'False', 'Sunny weather': 'False', 'Gig incoming': 'False', 'Study': 'False', 'Bad day start': 'False', 'Play guitar': 'True', 'Scroll phone': 'True', 'Gym': 'False'}\n",
      "94: {'Noisy neighbors': 'False', 'Exams incoming': 'False', 'Call center call': 'False', 'Slept bad': 'False', 'Sunny weather': 'True', 'Gig incoming': 'False', 'Study': 'True', 'Bad day start': 'False', 'Play guitar': 'True', 'Scroll phone': 'True', 'Gym': 'True'}\n",
      "95: {'Noisy neighbors': 'False', 'Exams incoming': 'False', 'Call center call': 'False', 'Slept bad': 'False', 'Sunny weather': 'True', 'Gig incoming': 'False', 'Study': 'True', 'Bad day start': 'False', 'Play guitar': 'True', 'Scroll phone': 'True', 'Gym': 'True'}\n",
      "96: {'Noisy neighbors': 'False', 'Exams incoming': 'False', 'Call center call': 'True', 'Slept bad': 'False', 'Sunny weather': 'False', 'Gig incoming': 'False', 'Study': 'True', 'Bad day start': 'False', 'Play guitar': 'False', 'Scroll phone': 'True', 'Gym': 'False'}\n",
      "97: {'Noisy neighbors': 'False', 'Exams incoming': 'False', 'Call center call': 'True', 'Slept bad': 'False', 'Sunny weather': 'True', 'Gig incoming': 'False', 'Study': 'False', 'Bad day start': 'True', 'Play guitar': 'False', 'Scroll phone': 'False', 'Gym': 'False'}\n",
      "98: {'Noisy neighbors': 'False', 'Exams incoming': 'False', 'Call center call': 'False', 'Slept bad': 'False', 'Sunny weather': 'True', 'Gig incoming': 'False', 'Study': 'True', 'Bad day start': 'False', 'Play guitar': 'False', 'Scroll phone': 'True', 'Gym': 'False'}\n",
      "99: {'Noisy neighbors': 'False', 'Exams incoming': 'True', 'Call center call': 'True', 'Slept bad': 'False', 'Sunny weather': 'False', 'Gig incoming': 'False', 'Study': 'True', 'Bad day start': 'False', 'Play guitar': 'True', 'Scroll phone': 'True', 'Gym': 'True'}\n"
     ]
    }
   ],
   "source": [
    "samples = daily_net.ancestral_sampling(100)\n",
    "for i, sample in enumerate(samples):\n",
    "    print(f\"{i}: {sample}\")"
   ]
  },
  {
   "cell_type": "markdown",
   "metadata": {},
   "source": [
    "### Calculating obtained occurrences for each node\n",
    "\n",
    "Let's write a function that calculates the percentages of each observation having value \"True\" over the samples"
   ]
  },
  {
   "cell_type": "code",
   "execution_count": 18,
   "metadata": {},
   "outputs": [
    {
     "name": "stdout",
     "output_type": "stream",
     "text": [
      "{'Noisy neighbors': 0.27, 'Exams incoming': 0.09, 'Bad day start': 0.21, 'Call center call': 0.19, 'Slept bad': 0.17, 'Gig incoming': 0.07, 'Sunny weather': 0.5, 'Study': 0.28, 'Play guitar': 0.6, 'Scroll phone': 0.49, 'Gym': 0.46} \n",
      "\n"
     ]
    }
   ],
   "source": [
    "print(f\"{daily_net.get_occurrences(samples)} \\n\")"
   ]
  },
  {
   "cell_type": "markdown",
   "metadata": {},
   "source": [
    "Now let's compare these values with the expected conditional probabilities (or priors). \n",
    "We can define an eps and see how many Ancestral Sampling iterations are needed to get the expected distribution. \n"
   ]
  },
  {
   "cell_type": "code",
   "execution_count": 23,
   "metadata": {},
   "outputs": [
    {
     "name": "stdout",
     "output_type": "stream",
     "text": [
      "Topological sort: ['Noisy neighbors', 'Exams incoming', 'Call center call', 'Slept bad', 'Sunny weather', 'Gig incoming', 'Study', 'Bad day start', 'Play guitar', 'Scroll phone', 'Gym']\n"
     ]
    },
    {
     "ename": "KeyboardInterrupt",
     "evalue": "",
     "output_type": "error",
     "traceback": [
      "\u001b[0;31m---------------------------------------------------------------------------\u001b[0m",
      "\u001b[0;31mKeyboardInterrupt\u001b[0m                         Traceback (most recent call last)",
      "Cell \u001b[0;32mIn[23], line 1\u001b[0m\n\u001b[0;32m----> 1\u001b[0m iterations \u001b[38;5;241m=\u001b[39m \u001b[43mdaily_net\u001b[49m\u001b[38;5;241;43m.\u001b[39;49m\u001b[43mexpected_probabilities\u001b[49m\u001b[43m(\u001b[49m\u001b[43m)\u001b[49m\n",
      "File \u001b[0;32m~/ispr/ISPR_midterms/ISPR_midterm_2/assignment_4/bayesian_network.py:212\u001b[0m, in \u001b[0;36mBayesianNetwork.expected_probabilities\u001b[0;34m(self, eps, n)\u001b[0m\n\u001b[1;32m    210\u001b[0m \u001b[38;5;28;01mwhile\u001b[39;00m \u001b[38;5;129;01mnot\u001b[39;00m converged:\n\u001b[1;32m    211\u001b[0m     samples \u001b[38;5;241m=\u001b[39m \u001b[38;5;28mself\u001b[39m\u001b[38;5;241m.\u001b[39mancestral_sampling(n)\n\u001b[0;32m--> 212\u001b[0m     true_dist \u001b[38;5;241m=\u001b[39m \u001b[38;5;28;43mself\u001b[39;49m\u001b[38;5;241;43m.\u001b[39;49m\u001b[43mget_distribution\u001b[49m\u001b[43m(\u001b[49m\u001b[43msorted_nodes\u001b[49m\u001b[43m)\u001b[49m\n\u001b[1;32m    213\u001b[0m     \u001b[38;5;28;01mif\u001b[39;00m \u001b[38;5;28mself\u001b[39m\u001b[38;5;241m.\u001b[39mcheck_convergence(true_dist, samples, eps):\n\u001b[1;32m    214\u001b[0m         converged \u001b[38;5;241m=\u001b[39m \u001b[38;5;28;01mTrue\u001b[39;00m\n",
      "File \u001b[0;32m~/ispr/ISPR_midterms/ISPR_midterm_2/assignment_4/bayesian_network.py:184\u001b[0m, in \u001b[0;36mget_distribution\u001b[0;34m(self, sorted_nodes)\u001b[0m\n\u001b[1;32m    182\u001b[0m \u001b[38;5;28;01mexcept\u001b[39;00m \u001b[38;5;167;01mKeyError\u001b[39;00m:\n\u001b[1;32m    183\u001b[0m     parents \u001b[38;5;241m=\u001b[39m \u001b[38;5;28mself\u001b[39m\u001b[38;5;241m.\u001b[39mget_parents(node)\n\u001b[0;32m--> 184\u001b[0m \u001b[38;5;28;01mif\u001b[39;00m \u001b[38;5;28mlen\u001b[39m(parents) \u001b[38;5;241m==\u001b[39m \u001b[38;5;241m0\u001b[39m:\n\u001b[1;32m    185\u001b[0m     prob \u001b[38;5;241m=\u001b[39m \u001b[38;5;28mself\u001b[39m\u001b[38;5;241m.\u001b[39mget_probabilities(node)\n\u001b[1;32m    186\u001b[0m     true_dist\u001b[38;5;241m.\u001b[39mupdate({node : prob})\n",
      "File \u001b[0;32m~/ispr/ISPR_midterms/ISPR_midterm_2/assignment_4/bayesian_network.py:184\u001b[0m, in \u001b[0;36mget_distribution\u001b[0;34m(self, sorted_nodes)\u001b[0m\n\u001b[1;32m    182\u001b[0m \u001b[38;5;28;01mexcept\u001b[39;00m \u001b[38;5;167;01mKeyError\u001b[39;00m:\n\u001b[1;32m    183\u001b[0m     parents \u001b[38;5;241m=\u001b[39m \u001b[38;5;28mself\u001b[39m\u001b[38;5;241m.\u001b[39mget_parents(node)\n\u001b[0;32m--> 184\u001b[0m \u001b[38;5;28;01mif\u001b[39;00m \u001b[38;5;28mlen\u001b[39m(parents) \u001b[38;5;241m==\u001b[39m \u001b[38;5;241m0\u001b[39m:\n\u001b[1;32m    185\u001b[0m     prob \u001b[38;5;241m=\u001b[39m \u001b[38;5;28mself\u001b[39m\u001b[38;5;241m.\u001b[39mget_probabilities(node)\n\u001b[1;32m    186\u001b[0m     true_dist\u001b[38;5;241m.\u001b[39mupdate({node : prob})\n",
      "File \u001b[0;32m_pydevd_bundle/pydevd_cython.pyx:1600\u001b[0m, in \u001b[0;36m_pydevd_bundle.pydevd_cython.trace_dispatch\u001b[0;34m()\u001b[0m\n",
      "File \u001b[0;32m_pydevd_bundle/pydevd_cython.pyx:1457\u001b[0m, in \u001b[0;36m_pydevd_bundle.pydevd_cython.SafeCallWrapper.__call__\u001b[0;34m()\u001b[0m\n",
      "File \u001b[0;32m_pydevd_bundle/pydevd_cython.pyx:1834\u001b[0m, in \u001b[0;36m_pydevd_bundle.pydevd_cython.ThreadTracer.__call__\u001b[0;34m()\u001b[0m\n",
      "File \u001b[0;32m_pydevd_bundle/pydevd_cython.pyx:1395\u001b[0m, in \u001b[0;36m_pydevd_bundle.pydevd_cython.PyDBFrame.trace_dispatch\u001b[0;34m()\u001b[0m\n",
      "File \u001b[0;32m_pydevd_bundle/pydevd_cython.pyx:1344\u001b[0m, in \u001b[0;36m_pydevd_bundle.pydevd_cython.PyDBFrame.trace_dispatch\u001b[0;34m()\u001b[0m\n",
      "File \u001b[0;32m_pydevd_bundle/pydevd_cython.pyx:312\u001b[0m, in \u001b[0;36m_pydevd_bundle.pydevd_cython.PyDBFrame.do_wait_suspend\u001b[0;34m()\u001b[0m\n",
      "File \u001b[0;32m~/ispr/lib/python3.10/site-packages/debugpy/_vendored/pydevd/pydevd.py:2070\u001b[0m, in \u001b[0;36mPyDB.do_wait_suspend\u001b[0;34m(self, thread, frame, event, arg, exception_type)\u001b[0m\n\u001b[1;32m   2067\u001b[0m             from_this_thread\u001b[38;5;241m.\u001b[39mappend(frame_custom_thread_id)\n\u001b[1;32m   2069\u001b[0m     \u001b[38;5;28;01mwith\u001b[39;00m \u001b[38;5;28mself\u001b[39m\u001b[38;5;241m.\u001b[39m_threads_suspended_single_notification\u001b[38;5;241m.\u001b[39mnotify_thread_suspended(thread_id, thread, stop_reason):\n\u001b[0;32m-> 2070\u001b[0m         keep_suspended \u001b[38;5;241m=\u001b[39m \u001b[38;5;28;43mself\u001b[39;49m\u001b[38;5;241;43m.\u001b[39;49m\u001b[43m_do_wait_suspend\u001b[49m\u001b[43m(\u001b[49m\u001b[43mthread\u001b[49m\u001b[43m,\u001b[49m\u001b[43m \u001b[49m\u001b[43mframe\u001b[49m\u001b[43m,\u001b[49m\u001b[43m \u001b[49m\u001b[43mevent\u001b[49m\u001b[43m,\u001b[49m\u001b[43m \u001b[49m\u001b[43marg\u001b[49m\u001b[43m,\u001b[49m\u001b[43m \u001b[49m\u001b[43msuspend_type\u001b[49m\u001b[43m,\u001b[49m\u001b[43m \u001b[49m\u001b[43mfrom_this_thread\u001b[49m\u001b[43m,\u001b[49m\u001b[43m \u001b[49m\u001b[43mframes_tracker\u001b[49m\u001b[43m)\u001b[49m\n\u001b[1;32m   2072\u001b[0m frames_list \u001b[38;5;241m=\u001b[39m \u001b[38;5;28;01mNone\u001b[39;00m\n\u001b[1;32m   2074\u001b[0m \u001b[38;5;28;01mif\u001b[39;00m keep_suspended:\n\u001b[1;32m   2075\u001b[0m     \u001b[38;5;66;03m# This means that we should pause again after a set next statement.\u001b[39;00m\n",
      "File \u001b[0;32m~/ispr/lib/python3.10/site-packages/debugpy/_vendored/pydevd/pydevd.py:2106\u001b[0m, in \u001b[0;36mPyDB._do_wait_suspend\u001b[0;34m(self, thread, frame, event, arg, suspend_type, from_this_thread, frames_tracker)\u001b[0m\n\u001b[1;32m   2103\u001b[0m         \u001b[38;5;28mself\u001b[39m\u001b[38;5;241m.\u001b[39m_call_input_hook()\n\u001b[1;32m   2105\u001b[0m     \u001b[38;5;28mself\u001b[39m\u001b[38;5;241m.\u001b[39mprocess_internal_commands()\n\u001b[0;32m-> 2106\u001b[0m     \u001b[43mtime\u001b[49m\u001b[38;5;241;43m.\u001b[39;49m\u001b[43msleep\u001b[49m\u001b[43m(\u001b[49m\u001b[38;5;241;43m0.01\u001b[39;49m\u001b[43m)\u001b[49m\n\u001b[1;32m   2108\u001b[0m \u001b[38;5;28mself\u001b[39m\u001b[38;5;241m.\u001b[39mcancel_async_evaluation(get_current_thread_id(thread), \u001b[38;5;28mstr\u001b[39m(\u001b[38;5;28mid\u001b[39m(frame)))\n\u001b[1;32m   2110\u001b[0m \u001b[38;5;66;03m# process any stepping instructions\u001b[39;00m\n",
      "\u001b[0;31mKeyboardInterrupt\u001b[0m: "
     ]
    }
   ],
   "source": [
    "iterations = daily_net.expected_probabilities()"
   ]
  },
  {
   "cell_type": "markdown",
   "metadata": {},
   "source": [
    "# Final considerations\n",
    "\n"
   ]
  },
  {
   "cell_type": "markdown",
   "metadata": {},
   "source": [
    "## Possible analyis improvements\n",
    "\n",
    "To further enhance the possibilities offered by this kind of structure, it would be useful to have the ability to retrieve the probability of a conditioned observation given a conditioning one. (e.g. \"What is the probability of me spending the morning Scrolling the phone by knowing that I got waken up by a call center?\");\n"
   ]
  }
 ],
 "metadata": {
  "kernelspec": {
   "display_name": "ispr",
   "language": "python",
   "name": "python3"
  },
  "language_info": {
   "codemirror_mode": {
    "name": "ipython",
    "version": 3
   },
   "file_extension": ".py",
   "mimetype": "text/x-python",
   "name": "python",
   "nbconvert_exporter": "python",
   "pygments_lexer": "ipython3",
   "version": "3.10.12"
  }
 },
 "nbformat": 4,
 "nbformat_minor": 2
}
